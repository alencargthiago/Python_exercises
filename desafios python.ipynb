{
 "cells": [
  {
   "cell_type": "markdown",
   "metadata": {},
   "source": [
    "\n",
    "**DESAFIO 1:** Você precisa de uma função que irá receber um array de inteiros, nums, de comprimento n que abrange de 0 a n com um número faltando. Escreva uma função missing_number que retorna o número faltando no array.\n",
    "\n",
    "Input:\n",
    "nums = [1,2,3,4,5,6,8] \n",
    "\n",
    "missing_number(nums)\n",
    "\n",
    "Output: \n",
    "\n",
    "7​\n",
    "\n"
   ]
  },
  {
   "cell_type": "markdown",
   "metadata": {},
   "source": [
    "### RACIOCÍNIO LÓGICO ###\n",
    "**array** é um conjunto de dados do mesmo tipo, podendo ser números, strings, boleanos etc... que são acessados atráves do índice. Isso é, cada elemento dessa array vai ter uma posição de 0 a n.\n",
    "\n",
    "por exemplo:\n",
    "\n",
    "Array = [1,2,4,5,6]\n",
    "> array[0] retornaria '1', o primeiro dado na posição 0.\n",
    "\n",
    "Para definir uma função que recebe uma array de números inteiros poderíamos pensar da seguinte forma:\n"
   ]
  },
  {
   "cell_type": "code",
   "execution_count": 3,
   "metadata": {},
   "outputs": [
    {
     "name": "stdout",
     "output_type": "stream",
     "text": [
      "[1, 2, 3, 4, 5, 6]\n"
     ]
    }
   ],
   "source": [
    "def numeros_inteiros(nums):\n",
    "    return nums\n",
    "\n",
    "array= [1, 2, 3, 4, 5, 6]\n",
    "resultado = numeros_inteiros(array)\n",
    "print(resultado)"
   ]
  },
  {
   "cell_type": "markdown",
   "metadata": {},
   "source": [
    "Primeiro de tudo, para resolver essa questão, quando temos uma sequência de números inteiros consecutivos, podemos utilizar a propriedade da soma de uma progressão aritmética que diz:\n",
    "\n",
    "$$\n",
    "S = \\frac{n(n+1)}{2}\n",
    "$$\n",
    "\n",
    "Onde n é o último número da sequência. Então, considerando uma array de 1 a 10.\n",
    "\n",
    "$$\n",
    "\\text{Soma Esperada} = \\frac{10(10+1)}{2}= \\frac{10*11}{2}=\\frac{110}{2}=55\n",
    "$$\n",
    "\n",
    "Considerando que o múmero 10 foi omitido, então temos:\n",
    "$$\n",
    "\\text{Soma Real} = \\frac{9(9+1)}{2}= \\frac{9*10}{2}=\\frac{90}{2}=45\n",
    "$$\n",
    "\n",
    "Isso implica que basta fazer a subtração da Soma esperada pela Soma real para descobrirmos o número que foi omitido na sequência de 0 a 10, no nosso caso o número 10.\n",
    "\n",
    "$$\n",
    "\\text{Soma real} - \\text{Soma esperada} = 55 - 45 = 10\n",
    "$$"
   ]
  },
  {
   "cell_type": "markdown",
   "metadata": {},
   "source": [
    "Vamos aplicar esse conceito que aprendemos até agora para definir uma função que retorna o valor do número omitido de uma lista de 0 a 10, no qual já conhecemos o número omitido\n"
   ]
  },
  {
   "cell_type": "code",
   "execution_count": 6,
   "metadata": {},
   "outputs": [
    {
     "name": "stdout",
     "output_type": "stream",
     "text": [
      "O número ausente é 10\n"
     ]
    }
   ],
   "source": [
    "def missing_number(nums):\n",
    "    n= len(nums)+1 #len retorna o numero de objetos, somar + 1 ira retornar todos os elementos, inclusive o ausente\n",
    "    soma_esperada = n*(n+1)//2 #aplicando nossa formula\n",
    "    soma_real= sum(nums) #somara todos os itens fornecidos\n",
    "    return soma_esperada - soma_real\n",
    "#criando uma array de 0 a 10\n",
    "nums=[1,2,3,4,5,6,7,8,9]\n",
    "\n",
    "#exibindo resultado\n",
    "\n",
    "numero_ausente= missing_number(nums)\n",
    "print(f'O número ausente é {numero_ausente}')"
   ]
  },
  {
   "cell_type": "markdown",
   "metadata": {},
   "source": [
    "### RESOLUÇÃO ### "
   ]
  },
  {
   "cell_type": "code",
   "execution_count": 9,
   "metadata": {},
   "outputs": [
    {
     "name": "stdout",
     "output_type": "stream",
     "text": [
      "O numero ausente é o 2?\n"
     ]
    }
   ],
   "source": [
    "def missing_number(nums):\n",
    "    n= len(nums)+1 #len retorna o numero de objetos, somar + 1 ira retornar todos os elementos, inclusive o ausente\n",
    "    soma_esperada = n*(n+1)//2 #aplicando nossa formula\n",
    "    soma_real= sum(nums) #somara todos os itens fornecidos\n",
    "    return soma_esperada - soma_real\n",
    "\n",
    "#solicitando ao usuario um input de array no qual ele pule um numero aleatorio\n",
    "\n",
    "\n",
    "nums= list(map(int,input(\"Digita uma sequencia de numero de 1 a N separado por virgula e pule um numero qualquer\").split(',')))\n",
    "#list converte o objeto map em uma lista\n",
    "#função map(int, input) aplicada int a cada elemento da lista\n",
    "#exibindo resultado\n",
    "#split ela subdivide a string sempre que encontra uma virgula\n",
    "\n",
    "\n",
    "numero_ausente= missing_number(nums)\n",
    "\n",
    "print(f'O numero ausente é o {numero_ausente}?')"
   ]
  },
  {
   "cell_type": "code",
   "execution_count": null,
   "metadata": {},
   "outputs": [],
   "source": []
  }
 ],
 "metadata": {
  "kernelspec": {
   "display_name": "Python 3",
   "language": "python",
   "name": "python3"
  },
  "language_info": {
   "codemirror_mode": {
    "name": "ipython",
    "version": 3
   },
   "file_extension": ".py",
   "mimetype": "text/x-python",
   "name": "python",
   "nbconvert_exporter": "python",
   "pygments_lexer": "ipython3",
   "version": "3.12.3"
  }
 },
 "nbformat": 4,
 "nbformat_minor": 2
}
