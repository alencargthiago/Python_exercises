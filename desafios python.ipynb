{
 "cells": [
  {
   "cell_type": "markdown",
   "metadata": {},
   "source": [
    "\n",
    "### DESAFIO 1 ###\n",
    " Você precisa de uma função que irá receber um array de inteiros, nums, de comprimento n que abrange de 0 a n com um número faltando. Escreva uma função missing_number que retorna o número faltando no array.\n",
    "\n",
    "Input:\n",
    "nums = [1,2,3,4,5,6,8] \n",
    "\n",
    "missing_number(nums)\n",
    "\n",
    "Output: \n",
    "\n",
    "7​\n",
    "\n"
   ]
  },
  {
   "cell_type": "markdown",
   "metadata": {},
   "source": [
    "### RACIOCÍNIO LÓGICO ###\n",
    "**array** é um conjunto de dados do mesmo tipo, podendo ser números, strings, boleanos etc... que são acessados atráves do índice. Isso é, cada elemento dessa array vai ter uma posição de 0 a n.\n",
    "\n",
    "por exemplo:\n",
    "\n",
    "Array = [1,2,4,5,6]\n",
    "> array[0] retornaria '1', o primeiro dado na posição 0.\n",
    "\n",
    "Para definir uma função que recebe uma array de números inteiros poderíamos pensar da seguinte forma:\n"
   ]
  },
  {
   "cell_type": "code",
   "execution_count": 1,
   "metadata": {},
   "outputs": [
    {
     "name": "stdout",
     "output_type": "stream",
     "text": [
      "[1, 2, 3, 4, 5, 6]\n"
     ]
    }
   ],
   "source": [
    "def numeros_inteiros(nums):\n",
    "    return nums\n",
    "\n",
    "array= [1, 2, 3, 4, 5, 6]\n",
    "resultado = numeros_inteiros(array)\n",
    "print(resultado)"
   ]
  },
  {
   "cell_type": "markdown",
   "metadata": {},
   "source": [
    "Primeiro de tudo, para resolver essa questão, quando temos uma sequência de números inteiros consecutivos, podemos utilizar a propriedade da soma de uma progressão aritmética que diz:\n",
    "\n",
    "$$\n",
    "S = \\frac{n(n+1)}{2}\n",
    "$$\n",
    "\n",
    "Onde n é o último número da sequência. Então, considerando uma array de 1 a 10.\n",
    "\n",
    "$$\n",
    "\\text{Soma Esperada} = \\frac{10(10+1)}{2}= \\frac{10*11}{2}=\\frac{110}{2}=55\n",
    "$$\n",
    "\n",
    "Considerando que o múmero 10 foi omitido, então temos:\n",
    "$$\n",
    "\\text{Soma Real} = \\frac{9(9+1)}{2}= \\frac{9*10}{2}=\\frac{90}{2}=45\n",
    "$$\n",
    "\n",
    "Isso implica que basta fazer a subtração da Soma esperada pela Soma real para descobrirmos o número que foi omitido na sequência de 0 a 10, no nosso caso o número 10.\n",
    "\n",
    "$$\n",
    "\\text{Soma real} - \\text{Soma esperada} = 55 - 45 = 10\n",
    "$$"
   ]
  },
  {
   "cell_type": "markdown",
   "metadata": {},
   "source": [
    "Vamos aplicar esse conceito que aprendemos até agora para definir uma função que retorna o valor do número omitido de uma lista de 0 a 10, no qual já conhecemos o número omitido\n"
   ]
  },
  {
   "cell_type": "code",
   "execution_count": 2,
   "metadata": {},
   "outputs": [
    {
     "name": "stdout",
     "output_type": "stream",
     "text": [
      "O número ausente é 10\n"
     ]
    }
   ],
   "source": [
    "def missing_number(nums):\n",
    "    n= len(nums)+1 #len retorna o numero de objetos, somar + 1 ira retornar todos os elementos, inclusive o ausente\n",
    "    soma_esperada = n*(n+1)//2 #aplicando nossa formula\n",
    "    soma_real= sum(nums) #somara todos os itens fornecidos\n",
    "    return soma_esperada - soma_real\n",
    "#criando uma array de 0 a 10\n",
    "nums=[1,2,3,4,5,6,7,8,9]\n",
    "\n",
    "#exibindo resultado\n",
    "\n",
    "numero_ausente= missing_number(nums)\n",
    "print(f'O número ausente é {numero_ausente}')"
   ]
  },
  {
   "cell_type": "markdown",
   "metadata": {},
   "source": [
    "### RESOLUÇÃO ### "
   ]
  },
  {
   "cell_type": "code",
   "execution_count": 7,
   "metadata": {},
   "outputs": [
    {
     "name": "stdout",
     "output_type": "stream",
     "text": [
      "O numero ausente é o 7?\n"
     ]
    }
   ],
   "source": [
    "def missing_number(nums):\n",
    "    n= len(nums)+1 #len retorna o numero de objetos, somar + 1 ira retornar todos os elementos, inclusive o ausente\n",
    "    soma_esperada = n*(n+1)//2 #aplicando nossa formula\n",
    "    soma_real= sum(nums) #somara todos os itens fornecidos\n",
    "    return soma_esperada - soma_real\n",
    "\n",
    "#solicitando ao usuario um input de array no qual ele pule um numero aleatorio\n",
    "\n",
    "\n",
    "nums= list(map(int,input(\"Digita uma sequencia de numero de 1 a N separado por virgula e pule um numero qualquer\").split(',')))\n",
    "#list converte o objeto map em uma lista\n",
    "#função map(int, input) aplicada int a cada elemento da lista\n",
    "#exibindo resultado\n",
    "#split ela subdivide a string sempre que encontra uma virgula\n",
    "\n",
    "\n",
    "numero_ausente= missing_number(nums)\n",
    "\n",
    "print(f'O numero ausente é o {numero_ausente}?')"
   ]
  },
  {
   "cell_type": "markdown",
   "metadata": {},
   "source": [
    "### DESAFIO 2 ### \n",
    "Crie uma função chamada maior_diferenca que recebe uma lista de números como parâmetro e retorna a diferença entre o maior e o menor número na lista. \n",
    "\n",
    "Para facilitar, vamos assumir que nenhum número é menor ou maior que -100 e 100.\n",
    "\n",
    "Input:\n",
    "\n",
    "lista = [5, 10, 20, 15, 30]\n",
    "\n",
    "maior_diference(lista)\n",
    "\n",
    "Output:\n",
    "\n",
    "25"
   ]
  },
  {
   "cell_type": "code",
   "execution_count": 10,
   "metadata": {},
   "outputs": [
    {
     "name": "stdout",
     "output_type": "stream",
     "text": [
      "A diferença entre o maior e o menor número é 9\n"
     ]
    }
   ],
   "source": [
    "# Definindo função\n",
    "\n",
    "def maior_diferencia(lista):\n",
    "    maior_numero= max(lista)\n",
    "    menor_numero= min(lista)\n",
    "    diferenca= maior_numero - menor_numero\n",
    "    return diferenca\n",
    "\n",
    "#Solicitando ao usuário inúmeros números\n",
    "\n",
    "lista= list(map(int, input('Digite números quaisquer separados por vírgula').split(',')))\n",
    "\n",
    "#exibindo resultado\n",
    "\n",
    "\n",
    "resultado= maior_diferencia(lista)\n",
    "print(f'A diferença entre o maior e o menor número é {resultado}')"
   ]
  },
  {
   "cell_type": "markdown",
   "metadata": {},
   "source": [
    "### DESAFIO 3: ###\n",
    "​A partir de um dicionário contendo o status de conexão de indivíduos, determinar quantas pessoas estão com o status online.\n",
    "\n",
    "Veja o exemplo de dicionário abaixo:\n",
    "\n",
    "statuses = { \"Alice\": \"online\", \"Bob\": \"offline\", \"Eve\": \"online\", }\n",
    "\n",
    "Com base nesse exemplo, o total de indivíduos com o status online é 2.\n",
    "\n",
    "Desenvolva uma função chamada online_count. Essa função deve aceitar um único parâmetro: um dicionário onde as chaves são nomes representados por strings e os valores são as strings \"online\" ou \"offline\", conforme ilustrado anteriormente.\n",
    "\n",
    "A função deve devolver a quantidade de pessoas que se encontram online."
   ]
  },
  {
   "cell_type": "code",
   "execution_count": 14,
   "metadata": {},
   "outputs": [
    {
     "name": "stdout",
     "output_type": "stream",
     "text": [
      " O total de usuários online é de 3\n"
     ]
    }
   ],
   "source": [
    "# definindo dicionários de usuários\n",
    "\n",
    "users = {'Ana':'online', 'Bianca':'offline', 'Caio':'online', 'David':'offline','Emilia':'online','Fred':'offline'}\n",
    "\n",
    "#definindo função que conta usuários online\n",
    "\n",
    "def online_count(users):\n",
    "    count= 0\n",
    "    for status in users.values():\n",
    "        if status == \"online\":\n",
    "            count +=1\n",
    "    return count\n",
    "\n",
    "#exibindo resultados\n",
    "\n",
    "total_online= online_count(users)\n",
    "print(f' O total de usuários online é de {total_online}')\n"
   ]
  },
  {
   "cell_type": "markdown",
   "metadata": {},
   "source": [
    "### Desafio Hard ###\n",
    "\n",
    "Bom, é hora de você testar seus conhecimentos em lógica, pois isso será exigido tanto no dia a dia, quanto nos processos seletivos. Tente resolver o desafio abaixo:\n",
    "\n",
    "Você recebeu uma lista de números inteiros em ordem crescente. A lista é uma string e representa os números das páginas de um livro qualquer. Escreva uma função chamada ultima_pagina que retorne a última página da string. Se houver algum número fora de ordem, você deve retornar o último número escrito em ordem. Veja 3 exemplos abaixo com 3 entradas diferentes para o programa e o que ele deve retornar:\n",
    "\n",
    "input = '12345'\n",
    "\n",
    "Output esperado: 5\n",
    "\n",
    "input = '12345678910111213'\n",
    "\n",
    "Output esperado: 13\n",
    "\n",
    "input = '1235678'\n",
    "\n",
    "Output esperado: 3\n",
    "\n",
    "Veja, se o programa receber '12345', como os números das páginas estão todos em ordem, você vai simplesmente retornar o último. Já no caso de '12345678910111213', a última página é a 13. Aqui, você já tem uma complicação adicional que é a casa decimal, logo, não adianta apenas colocar para retornar o último elemento da string, você precisa pensar nessa questão. Por fim, temos um exemplo em que o número da página começa numa sequência correta, mas fica incorreta a partir do 4º elemento. Logo, neste último caso, o programa retorna o 3º elemento. Consegue pensar numa solução?\n"
   ]
  },
  {
   "cell_type": "code",
   "execution_count": 6,
   "metadata": {},
   "outputs": [
    {
     "name": "stdout",
     "output_type": "stream",
     "text": [
      "A última página da sequência é a 89.\n"
     ]
    }
   ],
   "source": [
    "#definindo a função\n",
    "def last_page(list_page):\n",
    "    list_page.sort() #ordena a lista em ordem crescente\n",
    "    return list_page[-1] #retorna o ultimo elemento\n",
    "\n",
    "#entrada das listas\n",
    "list_page= list( map( int, input ('Quais suas pag favoritas?').split(',')))\n",
    "# Chamando a função e exibindo o resultado\n",
    "ultima_pagina = last_page(lista_pages)\n",
    "print(f'A última página da sequência é a {ultima_pagina}.')\n"
   ]
  },
  {
   "cell_type": "code",
   "execution_count": 7,
   "metadata": {},
   "outputs": [
    {
     "name": "stdout",
     "output_type": "stream",
     "text": [
      "Input: '12345', Output esperado: 5\n",
      "Input: '12345678910111213', Output esperado: 9\n",
      "Input: '1235678', Output esperado: 8\n"
     ]
    }
   ],
   "source": [
    "def ultima_pagina(input_string):\n",
    "    last_page = input_string[0]  # Inicializamos com o primeiro número da string\n",
    "    for i in range(1, len(input_string)):\n",
    "        if input_string[i] < input_string[i-1]:\n",
    "            break  # Se encontrarmos um número fora de ordem, paramos a iteração\n",
    "        last_page = input_string[i]  # Atualizamos a última página em ordem\n",
    "    return int(last_page)\n",
    "\n",
    "# Testando com os exemplos fornecidos\n",
    "inputs = ['12345', '12345678910111213', '1235678']\n",
    "for input_string in inputs:\n",
    "    print(f\"Input: '{input_string}', Output esperado: {ultima_pagina(input_string)}\")\n"
   ]
  }
 ],
 "metadata": {
  "kernelspec": {
   "display_name": "Python 3",
   "language": "python",
   "name": "python3"
  },
  "language_info": {
   "codemirror_mode": {
    "name": "ipython",
    "version": 3
   },
   "file_extension": ".py",
   "mimetype": "text/x-python",
   "name": "python",
   "nbconvert_exporter": "python",
   "pygments_lexer": "ipython3",
   "version": "3.12.3"
  }
 },
 "nbformat": 4,
 "nbformat_minor": 2
}
