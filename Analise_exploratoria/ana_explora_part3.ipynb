{
 "cells": [
  {
   "cell_type": "markdown",
   "metadata": {},
   "source": [
    "No nosso último papo, paramos a análise exploratória na seção de análise univariada. Nossa análise já está ganhando um corpo razoável, podemos começar a responder algumas perguntas e nos aprofundar em alguns campos específicos. Vamos começar olhando para os bairros, pois teremos muitas coisas para ver ali!\n",
    "\n",
    "Aliás, antes de começar, todo o material que está sendo apresentado, incluindo as imagens utilizadas, estão no arquivo em anexo!\n",
    "\n",
    "Começando pelo básico, precisamos saber quantos bairros possuem aquele dataset e quais parecem mais relevantes, no que diz respeito a quantidade de aparições (i.e., número de imóveis na localização):"
   ]
  },
  {
   "cell_type": "code",
   "execution_count": 2,
   "metadata": {},
   "outputs": [
    {
     "data": {
      "text/html": [
       "<div>\n",
       "<style scoped>\n",
       "    .dataframe tbody tr th:only-of-type {\n",
       "        vertical-align: middle;\n",
       "    }\n",
       "\n",
       "    .dataframe tbody tr th {\n",
       "        vertical-align: top;\n",
       "    }\n",
       "\n",
       "    .dataframe thead th {\n",
       "        text-align: right;\n",
       "    }\n",
       "</style>\n",
       "<table border=\"1\" class=\"dataframe\">\n",
       "  <thead>\n",
       "    <tr style=\"text-align: right;\">\n",
       "      <th></th>\n",
       "      <th>address</th>\n",
       "      <th>district</th>\n",
       "      <th>area</th>\n",
       "      <th>bedrooms</th>\n",
       "      <th>garage</th>\n",
       "      <th>type</th>\n",
       "      <th>rent</th>\n",
       "      <th>total</th>\n",
       "    </tr>\n",
       "  </thead>\n",
       "  <tbody>\n",
       "    <tr>\n",
       "      <th>0</th>\n",
       "      <td>Rua Herval</td>\n",
       "      <td>Belenzinho</td>\n",
       "      <td>21</td>\n",
       "      <td>1</td>\n",
       "      <td>0</td>\n",
       "      <td>Studio e kitnet</td>\n",
       "      <td>2400</td>\n",
       "      <td>2939</td>\n",
       "    </tr>\n",
       "    <tr>\n",
       "      <th>1</th>\n",
       "      <td>Avenida São Miguel</td>\n",
       "      <td>Vila Marieta</td>\n",
       "      <td>15</td>\n",
       "      <td>1</td>\n",
       "      <td>1</td>\n",
       "      <td>Studio e kitnet</td>\n",
       "      <td>1030</td>\n",
       "      <td>1345</td>\n",
       "    </tr>\n",
       "    <tr>\n",
       "      <th>2</th>\n",
       "      <td>Rua Oscar Freire</td>\n",
       "      <td>Pinheiros</td>\n",
       "      <td>18</td>\n",
       "      <td>1</td>\n",
       "      <td>0</td>\n",
       "      <td>Apartamento</td>\n",
       "      <td>4000</td>\n",
       "      <td>4661</td>\n",
       "    </tr>\n",
       "    <tr>\n",
       "      <th>3</th>\n",
       "      <td>Rua Júlio Sayago</td>\n",
       "      <td>Vila Ré</td>\n",
       "      <td>56</td>\n",
       "      <td>2</td>\n",
       "      <td>2</td>\n",
       "      <td>Casa em condomínio</td>\n",
       "      <td>1750</td>\n",
       "      <td>1954</td>\n",
       "    </tr>\n",
       "    <tr>\n",
       "      <th>4</th>\n",
       "      <td>Rua Barata Ribeiro</td>\n",
       "      <td>Bela Vista</td>\n",
       "      <td>19</td>\n",
       "      <td>1</td>\n",
       "      <td>0</td>\n",
       "      <td>Studio e kitnet</td>\n",
       "      <td>4000</td>\n",
       "      <td>4654</td>\n",
       "    </tr>\n",
       "  </tbody>\n",
       "</table>\n",
       "</div>"
      ],
      "text/plain": [
       "              address      district  area  bedrooms  garage  \\\n",
       "0          Rua Herval    Belenzinho    21         1       0   \n",
       "1  Avenida São Miguel  Vila Marieta    15         1       1   \n",
       "2    Rua Oscar Freire     Pinheiros    18         1       0   \n",
       "3    Rua Júlio Sayago       Vila Ré    56         2       2   \n",
       "4  Rua Barata Ribeiro    Bela Vista    19         1       0   \n",
       "\n",
       "                 type  rent  total  \n",
       "0     Studio e kitnet  2400   2939  \n",
       "1     Studio e kitnet  1030   1345  \n",
       "2         Apartamento  4000   4661  \n",
       "3  Casa em condomínio  1750   1954  \n",
       "4     Studio e kitnet  4000   4654  "
      ]
     },
     "execution_count": 2,
     "metadata": {},
     "output_type": "execute_result"
    }
   ],
   "source": [
    "# Bibliotecas para tratar dados\n",
    "import pandas as pd\n",
    "import numpy as np\n",
    "\n",
    "# Bibliotecas para EDA\n",
    "import matplotlib.pyplot as plt\n",
    "import seaborn as sns\n",
    "import plotly.express as px\n",
    "import plotly.graph_objects as go\n",
    "\n",
    "# Configurar para não exibir Warnings\n",
    "import warnings\n",
    "\n",
    "warnings.filterwarnings('ignore')\n",
    "\n",
    "# Configurar o estilo de gráfico do ggplot\n",
    "plt.style.use('ggplot')\n",
    "\n",
    "# Configurar para exibir até 15 linhas de um Dataframe do Pandas\n",
    "pd.set_option ('display.max_rows', 15)\n",
    "\n",
    "# Configurar para exibir todas as colunas de um Dataframe do Pandas\n",
    "pd.set_option('display.max_columns', None)\n",
    "\n",
    "# Configurar quebras e espaçamentos automáticas com nb_black\n",
    "#%load_ext nb_black # essapoora deu errado, só desative.\n",
    "\n",
    "aptos = pd.read_csv('Data.csv')\n",
    "aptos.head()"
   ]
  },
  {
   "cell_type": "code",
   "execution_count": 3,
   "metadata": {},
   "outputs": [
    {
     "name": "stdout",
     "output_type": "stream",
     "text": [
      "Temos 1199 bairros na amostra\n"
     ]
    }
   ],
   "source": [
    "print(f'Temos {aptos.district.nunique()} bairros na amostra')"
   ]
  },
  {
   "cell_type": "markdown",
   "metadata": {},
   "source": [
    "Bairros com maior número de imóveis?"
   ]
  },
  {
   "cell_type": "code",
   "execution_count": 5,
   "metadata": {},
   "outputs": [
    {
     "name": "stdout",
     "output_type": "stream",
     "text": [
      "Os 10 distritos com mais imóveis\n",
      "          Distrito  Contagem\n",
      "0       Bela Vista       352\n",
      "1     Vila Mariana       232\n",
      "2  Jardim Paulista       220\n",
      "3           Centro       178\n",
      "4        Pinheiros       159\n",
      "5       Consolação       157\n",
      "6          Santana       152\n",
      "7            Mooca       147\n",
      "8      Santo Amaro       146\n",
      "9             Brás       141\n"
     ]
    }
   ],
   "source": [
    "top_distritos =  aptos.groupby(\"district\").size().sort_values(ascending= False).reset_index( name='contagem')[:10]\n",
    "top_distritos.columns = ['Distrito', 'Contagem']\n",
    "print('Os 10 distritos com mais imóveis')\n",
    "print(top_distritos)"
   ]
  },
  {
   "cell_type": "markdown",
   "metadata": {},
   "source": [
    "Veja que ainda estamos com análises univariadas. Agora, que tal avançarmos? Vamos à pergunta óbvia: quais os bairros que poderiam ser taxados de \"bairros de ricos\"? Ou, mais formalmente, quais bairros possuem imóveis mais caros, o que significaria também que estamos falando das classes mais altas da população?\n",
    "\n",
    "Veja no print abaixo que eu encerro o tema de cima com um comentário sobre os bairros que mais aparecem no dataset e inicio o próximo tema. A gente evita comentar absolutamente tudo, mas é interessante ir conduzindo o leitor em nosso storytelling:"
   ]
  },
  {
   "cell_type": "markdown",
   "metadata": {},
   "source": [
    "E quanto ao preço de aluguel?"
   ]
  },
  {
   "cell_type": "code",
   "execution_count": 7,
   "metadata": {},
   "outputs": [
    {
     "name": "stdout",
     "output_type": "stream",
     "text": [
      " Top 10 Distritos com maior média de Aluguel\n",
      "                            Distrito Média de Aluguel\n",
      "0                       Jardim Tango      R 15,000.00\n",
      "1        Alphaville Residencial Dois      R 15,000.00\n",
      "2        Alphaville Residencial Plus      R 15,000.00\n",
      "3     Residencial Cinco (alphaville)      R 13,600.00\n",
      "4          Alphaville Residencial Um      R 13,500.00\n",
      "5                      Cidade Jardim      R 13,000.00\n",
      "6                           Pacaembu      R 12,054.00\n",
      "7                      Chácara Meyer      R 12,000.00\n",
      "8         Centro Empresarial Tamboré      R 11,833.33\n",
      "9  Jardim Vitoria Regia (zona Oeste)      R 11,820.00\n"
     ]
    }
   ],
   "source": [
    "top_distritos_rent= aptos.groupby(\"district\")['rent'].mean().sort_values(ascending= False)[:10].reset_index()\n",
    "top_distritos_rent.columns = [' Distrito', 'Média de Aluguel']\n",
    "\n",
    "top_distritos_rent['Média de Aluguel'] =  top_distritos_rent['Média de Aluguel']\\\n",
    ".apply(lambda x: \"R {:,.2f}\".format(x))\n",
    "\n",
    "print(\" Top 10 Distritos com maior média de Aluguel\")\n",
    "print(top_distritos_rent)"
   ]
  },
  {
   "cell_type": "markdown",
   "metadata": {},
   "source": [
    "1. Separando por partes, veja que partimos de aptos.groupby(\"district\"), onde a função groupby() agrupa os dados pela coluna district. Ou seja, ao invés de termos as linhas para cada imóvel, temos agora um novo layout em que cada linha seria um distrito. O output, no entanto, é um objeto groupby - e não um dataframe, como estamos acostumados a ver. Este objeto pode (e costuma) ser usado para calcular estatísticas para cada grupo distinto - no nosso caso, podemos extrair as métricas por distrito.\n",
    "\n",
    "2. Na sequência, temos ['rent'].mean(), onde estamos justamente aplicando uma estatística descritiva, a média, para cada distrito. Claro que precisamos pontuar alguma métrica para ter sua média calculada, e, no caso, pegamos o aluguel (rent). É uma sintaxe bem simples!"
   ]
  },
  {
   "cell_type": "markdown",
   "metadata": {},
   "source": [
    "ATENÇÃO: Se você quiser agrupar por mais de uma categoria, lembre-se de usar colchetes para pontuar as classes que serão agrupados e duplo para as variáveis que terão a estatística calculada:\n",
    "\n",
    "aptos.groupby(['district', 'type'])[['rent', 'total']].mean()"
   ]
  },
  {
   "cell_type": "markdown",
   "metadata": {},
   "source": [
    "3. Para ordenar, do maior ao menor aluguel, usamos .sort_values(ascending=False). É importante especificar que a ordem é decrescente, para isso, usamos ascending=False.\n",
    "\n",
    "4. O '[:10]' é apenas um fatiamento que seleciona apenas os 10 primeiros valores, ou seja, as 10 maiores médias de aluguel.\n",
    "\n",
    "5. Por fim, resetamos o índice da Series, pois isso vai transformá-la num DataFrame. Fazemos isso com .reset_index().\n",
    "6. Depois disso, apenas renomeamos as colunas, alteramos o formato da coluna \"Média de Aluguel\" para usar \"R$\" e finalizamos exibindo o resultado."
   ]
  },
  {
   "cell_type": "markdown",
   "metadata": {},
   "source": [
    "Sem grandes surpresas para quem conhece São Paulo, temos Alphaville em primeiro lugar. Entretanto, algo me incomodou aqui, que foi ter uma lista resultante com vários \"Alphavilles\" nela, tirando outros bairros que poderia ser interessante de ter no resultado. Este é o tipo de coisa que a gente espera que a pessoa que faça a análise questione, entende? É esperado que desperte uma curiosidade nela, questionamentos do tipo \"o que será que tem além de Alphaville\" ou \"se ignorar Alphaville, como fica esse ranking\". E foi isso que fizemos:"
   ]
  },
  {
   "cell_type": "markdown",
   "metadata": {},
   "source": [
    "* **como seria o top 10 sem o Alphavile**"
   ]
  },
  {
   "cell_type": "code",
   "execution_count": 13,
   "metadata": {},
   "outputs": [
    {
     "name": "stdout",
     "output_type": "stream",
     "text": [
      " Top 10 Distritos com maior média de aluguel (sem Alphaville)\n",
      "                              Distrito  média de Aluguel Média de Aluguel\n",
      "475                       Jardim Tango      15000.000000     R$ 15,000.00\n",
      "101                      Cidade Jardim      13000.000000     R$ 13,000.00\n",
      "577                           Pacaembu      12054.000000     R$ 12,054.00\n",
      "82                       Chácara Meyer      12000.000000     R$ 12,000.00\n",
      "70          Centro Empresarial Tamboré      11833.333333     R$ 11,833.33\n",
      "505  Jardim Vitoria Regia (zona Oeste)      11820.000000     R$ 11,820.00\n",
      "533                 Jardim dos Estados      11583.333333     R$ 11,583.33\n",
      "248                    Jardim Cordeiro      11250.000000     R$ 11,250.00\n",
      "85               Chácara Santo Antônio      10650.000000     R$ 10,650.00\n",
      "83                Chácara Monte Alegre      10205.000000     R$ 10,205.00\n"
     ]
    }
   ],
   "source": [
    "distritos_rent = aptos.groupby('district')['rent'].mean().reset_index()\n",
    "\n",
    "distritos_rent = distritos_rent[~distritos_rent['district'].str.lower().str.contains('alphaville')]\n",
    "\n",
    "top_distritos_rent = distritos_rent.sort_values('rent', ascending = False)[:10]\n",
    "\n",
    "top_distritos_rent.columns = [\"Distrito\", \"média de Aluguel\"]\n",
    "\n",
    "top_distritos_rent[\"Média de Aluguel\"] = top_distritos_rent [\"média de Aluguel\"]\\\n",
    ".apply(lambda x: \"R$ {:,.2f}\".format(x))\n",
    "\n",
    "print(\" Top 10 Distritos com maior média de aluguel (sem Alphaville)\")\n",
    "print(top_distritos_rent)"
   ]
  },
  {
   "cell_type": "markdown",
   "metadata": {},
   "source": [
    "Veja que temos muito mais informação agora! Isso melhorou muito a análise e ainda deixamos claro ao gestor que estiver avaliando nosso portfólio que a gente consegue manipular os dados em Pandas sem grandes dificuldades. Como o código já é intuitivo o suficiente, com nomes adequados e sem grandes malabarismos, dispensa comentários explicando a sintaxe. Podemos adicionar ainda uma visualização, mesmo que seja redundante:"
   ]
  },
  {
   "cell_type": "markdown",
   "metadata": {},
   "source": [
    "* **representando por um gráfico de barras**'"
   ]
  },
  {
   "cell_type": "code",
   "execution_count": 18,
   "metadata": {},
   "outputs": [],
   "source": [
    "distritos_rent = aptos.groupby(\"district\")[\"rent\"].mean().reset_index()\n",
    "\n",
    "distritos_rent =  distritos_rent[~distritos_rent['district'].str.lower().str.contains(\"alphaville\")]\n",
    "\n",
    "top_distritos_rent =  distritos_rent.sort_values(\"rent\", ascending = False)[:10]\n",
    "\n",
    "top_distritos_rent.columns = [\" Distrito\", \"Média de Aluguel\"]\n",
    "\n",
    "\n"
   ]
  }
 ],
 "metadata": {
  "kernelspec": {
   "display_name": "base",
   "language": "python",
   "name": "python3"
  },
  "language_info": {
   "codemirror_mode": {
    "name": "ipython",
    "version": 3
   },
   "file_extension": ".py",
   "mimetype": "text/x-python",
   "name": "python",
   "nbconvert_exporter": "python",
   "pygments_lexer": "ipython3",
   "version": "3.10.9"
  }
 },
 "nbformat": 4,
 "nbformat_minor": 2
}
