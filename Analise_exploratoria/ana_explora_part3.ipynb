{
 "cells": [
  {
   "cell_type": "markdown",
   "metadata": {},
   "source": [
    "No nosso último papo, paramos a análise exploratória na seção de análise univariada. Nossa análise já está ganhando um corpo razoável, podemos começar a responder algumas perguntas e nos aprofundar em alguns campos específicos. Vamos começar olhando para os bairros, pois teremos muitas coisas para ver ali!\n",
    "\n",
    "Aliás, antes de começar, todo o material que está sendo apresentado, incluindo as imagens utilizadas, estão no arquivo em anexo!\n",
    "\n",
    "Começando pelo básico, precisamos saber quantos bairros possuem aquele dataset e quais parecem mais relevantes, no que diz respeito a quantidade de aparições (i.e., número de imóveis na localização):"
   ]
  },
  {
   "cell_type": "code",
   "execution_count": 2,
   "metadata": {},
   "outputs": [
    {
     "data": {
      "text/html": [
       "<div>\n",
       "<style scoped>\n",
       "    .dataframe tbody tr th:only-of-type {\n",
       "        vertical-align: middle;\n",
       "    }\n",
       "\n",
       "    .dataframe tbody tr th {\n",
       "        vertical-align: top;\n",
       "    }\n",
       "\n",
       "    .dataframe thead th {\n",
       "        text-align: right;\n",
       "    }\n",
       "</style>\n",
       "<table border=\"1\" class=\"dataframe\">\n",
       "  <thead>\n",
       "    <tr style=\"text-align: right;\">\n",
       "      <th></th>\n",
       "      <th>address</th>\n",
       "      <th>district</th>\n",
       "      <th>area</th>\n",
       "      <th>bedrooms</th>\n",
       "      <th>garage</th>\n",
       "      <th>type</th>\n",
       "      <th>rent</th>\n",
       "      <th>total</th>\n",
       "    </tr>\n",
       "  </thead>\n",
       "  <tbody>\n",
       "    <tr>\n",
       "      <th>0</th>\n",
       "      <td>Rua Herval</td>\n",
       "      <td>Belenzinho</td>\n",
       "      <td>21</td>\n",
       "      <td>1</td>\n",
       "      <td>0</td>\n",
       "      <td>Studio e kitnet</td>\n",
       "      <td>2400</td>\n",
       "      <td>2939</td>\n",
       "    </tr>\n",
       "    <tr>\n",
       "      <th>1</th>\n",
       "      <td>Avenida São Miguel</td>\n",
       "      <td>Vila Marieta</td>\n",
       "      <td>15</td>\n",
       "      <td>1</td>\n",
       "      <td>1</td>\n",
       "      <td>Studio e kitnet</td>\n",
       "      <td>1030</td>\n",
       "      <td>1345</td>\n",
       "    </tr>\n",
       "    <tr>\n",
       "      <th>2</th>\n",
       "      <td>Rua Oscar Freire</td>\n",
       "      <td>Pinheiros</td>\n",
       "      <td>18</td>\n",
       "      <td>1</td>\n",
       "      <td>0</td>\n",
       "      <td>Apartamento</td>\n",
       "      <td>4000</td>\n",
       "      <td>4661</td>\n",
       "    </tr>\n",
       "    <tr>\n",
       "      <th>3</th>\n",
       "      <td>Rua Júlio Sayago</td>\n",
       "      <td>Vila Ré</td>\n",
       "      <td>56</td>\n",
       "      <td>2</td>\n",
       "      <td>2</td>\n",
       "      <td>Casa em condomínio</td>\n",
       "      <td>1750</td>\n",
       "      <td>1954</td>\n",
       "    </tr>\n",
       "    <tr>\n",
       "      <th>4</th>\n",
       "      <td>Rua Barata Ribeiro</td>\n",
       "      <td>Bela Vista</td>\n",
       "      <td>19</td>\n",
       "      <td>1</td>\n",
       "      <td>0</td>\n",
       "      <td>Studio e kitnet</td>\n",
       "      <td>4000</td>\n",
       "      <td>4654</td>\n",
       "    </tr>\n",
       "  </tbody>\n",
       "</table>\n",
       "</div>"
      ],
      "text/plain": [
       "              address      district  area  bedrooms  garage  \\\n",
       "0          Rua Herval    Belenzinho    21         1       0   \n",
       "1  Avenida São Miguel  Vila Marieta    15         1       1   \n",
       "2    Rua Oscar Freire     Pinheiros    18         1       0   \n",
       "3    Rua Júlio Sayago       Vila Ré    56         2       2   \n",
       "4  Rua Barata Ribeiro    Bela Vista    19         1       0   \n",
       "\n",
       "                 type  rent  total  \n",
       "0     Studio e kitnet  2400   2939  \n",
       "1     Studio e kitnet  1030   1345  \n",
       "2         Apartamento  4000   4661  \n",
       "3  Casa em condomínio  1750   1954  \n",
       "4     Studio e kitnet  4000   4654  "
      ]
     },
     "execution_count": 2,
     "metadata": {},
     "output_type": "execute_result"
    }
   ],
   "source": [
    "# Bibliotecas para tratar dados\n",
    "import pandas as pd\n",
    "import numpy as np\n",
    "\n",
    "# Bibliotecas para EDA\n",
    "import matplotlib.pyplot as plt\n",
    "import seaborn as sns\n",
    "import plotly.express as px\n",
    "import plotly.graph_objects as go\n",
    "\n",
    "# Configurar para não exibir Warnings\n",
    "import warnings\n",
    "\n",
    "warnings.filterwarnings('ignore')\n",
    "\n",
    "# Configurar o estilo de gráfico do ggplot\n",
    "plt.style.use('ggplot')\n",
    "\n",
    "# Configurar para exibir até 15 linhas de um Dataframe do Pandas\n",
    "pd.set_option ('display.max_rows', 15)\n",
    "\n",
    "# Configurar para exibir todas as colunas de um Dataframe do Pandas\n",
    "pd.set_option('display.max_columns', None)\n",
    "\n",
    "# Configurar quebras e espaçamentos automáticas com nb_black\n",
    "#%load_ext nb_black # essapoora deu errado, só desative.\n",
    "\n",
    "aptos = pd.read_csv('Data.csv')\n",
    "aptos.head()"
   ]
  },
  {
   "cell_type": "code",
   "execution_count": 3,
   "metadata": {},
   "outputs": [
    {
     "name": "stdout",
     "output_type": "stream",
     "text": [
      "Temos 1199 bairros na amostra\n"
     ]
    }
   ],
   "source": [
    "print(f'Temos {aptos.district.nunique()} bairros na amostra')"
   ]
  },
  {
   "cell_type": "markdown",
   "metadata": {},
   "source": [
    "Bairros com maior número de imóveis?"
   ]
  },
  {
   "cell_type": "code",
   "execution_count": 4,
   "metadata": {},
   "outputs": [
    {
     "name": "stdout",
     "output_type": "stream",
     "text": [
      "Os 10 distritos com mais imóveis\n",
      "          Distrito  Contagem\n",
      "0       Bela Vista       352\n",
      "1     Vila Mariana       232\n",
      "2  Jardim Paulista       220\n",
      "3           Centro       178\n",
      "4        Pinheiros       159\n",
      "5       Consolação       157\n",
      "6          Santana       152\n",
      "7            Mooca       147\n",
      "8      Santo Amaro       146\n",
      "9             Brás       141\n"
     ]
    }
   ],
   "source": [
    "top_distritos =  aptos.groupby(\"district\").size().sort_values(ascending= False).reset_index( name='contagem')[:10]\n",
    "top_distritos.columns = ['Distrito', 'Contagem']\n",
    "print('Os 10 distritos com mais imóveis')\n",
    "print(top_distritos)"
   ]
  },
  {
   "cell_type": "markdown",
   "metadata": {},
   "source": [
    "Veja que ainda estamos com análises univariadas. Agora, que tal avançarmos? Vamos à pergunta óbvia: quais os bairros que poderiam ser taxados de \"bairros de ricos\"? Ou, mais formalmente, quais bairros possuem imóveis mais caros, o que significaria também que estamos falando das classes mais altas da população?\n",
    "\n",
    "Veja no print abaixo que eu encerro o tema de cima com um comentário sobre os bairros que mais aparecem no dataset e inicio o próximo tema. A gente evita comentar absolutamente tudo, mas é interessante ir conduzindo o leitor em nosso storytelling:"
   ]
  },
  {
   "cell_type": "markdown",
   "metadata": {},
   "source": [
    "E quanto ao preço de aluguel?"
   ]
  },
  {
   "cell_type": "code",
   "execution_count": 5,
   "metadata": {},
   "outputs": [
    {
     "name": "stdout",
     "output_type": "stream",
     "text": [
      " Top 10 Distritos com maior média de Aluguel\n",
      "                            Distrito Média de Aluguel\n",
      "0                       Jardim Tango      R 15,000.00\n",
      "1        Alphaville Residencial Dois      R 15,000.00\n",
      "2        Alphaville Residencial Plus      R 15,000.00\n",
      "3     Residencial Cinco (alphaville)      R 13,600.00\n",
      "4          Alphaville Residencial Um      R 13,500.00\n",
      "5                      Cidade Jardim      R 13,000.00\n",
      "6                           Pacaembu      R 12,054.00\n",
      "7                      Chácara Meyer      R 12,000.00\n",
      "8         Centro Empresarial Tamboré      R 11,833.33\n",
      "9  Jardim Vitoria Regia (zona Oeste)      R 11,820.00\n"
     ]
    }
   ],
   "source": [
    "top_distritos_rent= aptos.groupby(\"district\")['rent'].mean().sort_values(ascending= False)[:10].reset_index()\n",
    "top_distritos_rent.columns = [' Distrito', 'Média de Aluguel']\n",
    "\n",
    "top_distritos_rent['Média de Aluguel'] =  top_distritos_rent['Média de Aluguel']\\\n",
    ".apply(lambda x: \"R {:,.2f}\".format(x))\n",
    "\n",
    "print(\" Top 10 Distritos com maior média de Aluguel\")\n",
    "print(top_distritos_rent)"
   ]
  },
  {
   "cell_type": "markdown",
   "metadata": {},
   "source": [
    "1. Separando por partes, veja que partimos de aptos.groupby(\"district\"), onde a função groupby() agrupa os dados pela coluna district. Ou seja, ao invés de termos as linhas para cada imóvel, temos agora um novo layout em que cada linha seria um distrito. O output, no entanto, é um objeto groupby - e não um dataframe, como estamos acostumados a ver. Este objeto pode (e costuma) ser usado para calcular estatísticas para cada grupo distinto - no nosso caso, podemos extrair as métricas por distrito.\n",
    "\n",
    "2. Na sequência, temos ['rent'].mean(), onde estamos justamente aplicando uma estatística descritiva, a média, para cada distrito. Claro que precisamos pontuar alguma métrica para ter sua média calculada, e, no caso, pegamos o aluguel (rent). É uma sintaxe bem simples!"
   ]
  },
  {
   "cell_type": "markdown",
   "metadata": {},
   "source": [
    "ATENÇÃO: Se você quiser agrupar por mais de uma categoria, lembre-se de usar colchetes para pontuar as classes que serão agrupados e duplo para as variáveis que terão a estatística calculada:\n",
    "\n",
    "aptos.groupby(['district', 'type'])[['rent', 'total']].mean()"
   ]
  },
  {
   "cell_type": "markdown",
   "metadata": {},
   "source": [
    "3. Para ordenar, do maior ao menor aluguel, usamos .sort_values(ascending=False). É importante especificar que a ordem é decrescente, para isso, usamos ascending=False.\n",
    "\n",
    "4. O '[:10]' é apenas um fatiamento que seleciona apenas os 10 primeiros valores, ou seja, as 10 maiores médias de aluguel.\n",
    "\n",
    "5. Por fim, resetamos o índice da Series, pois isso vai transformá-la num DataFrame. Fazemos isso com .reset_index().\n",
    "6. Depois disso, apenas renomeamos as colunas, alteramos o formato da coluna \"Média de Aluguel\" para usar \"R$\" e finalizamos exibindo o resultado."
   ]
  },
  {
   "cell_type": "markdown",
   "metadata": {},
   "source": [
    "Sem grandes surpresas para quem conhece São Paulo, temos Alphaville em primeiro lugar. Entretanto, algo me incomodou aqui, que foi ter uma lista resultante com vários \"Alphavilles\" nela, tirando outros bairros que poderia ser interessante de ter no resultado. Este é o tipo de coisa que a gente espera que a pessoa que faça a análise questione, entende? É esperado que desperte uma curiosidade nela, questionamentos do tipo \"o que será que tem além de Alphaville\" ou \"se ignorar Alphaville, como fica esse ranking\". E foi isso que fizemos:"
   ]
  },
  {
   "cell_type": "markdown",
   "metadata": {},
   "source": [
    "* **como seria o top 10 sem o Alphavile**"
   ]
  },
  {
   "cell_type": "code",
   "execution_count": 6,
   "metadata": {},
   "outputs": [
    {
     "name": "stdout",
     "output_type": "stream",
     "text": [
      " Top 10 Distritos com maior média de aluguel (sem Alphaville)\n",
      "                              Distrito  média de Aluguel Média de Aluguel\n",
      "475                       Jardim Tango      15000.000000     R$ 15,000.00\n",
      "101                      Cidade Jardim      13000.000000     R$ 13,000.00\n",
      "577                           Pacaembu      12054.000000     R$ 12,054.00\n",
      "82                       Chácara Meyer      12000.000000     R$ 12,000.00\n",
      "70          Centro Empresarial Tamboré      11833.333333     R$ 11,833.33\n",
      "505  Jardim Vitoria Regia (zona Oeste)      11820.000000     R$ 11,820.00\n",
      "533                 Jardim dos Estados      11583.333333     R$ 11,583.33\n",
      "248                    Jardim Cordeiro      11250.000000     R$ 11,250.00\n",
      "85               Chácara Santo Antônio      10650.000000     R$ 10,650.00\n",
      "83                Chácara Monte Alegre      10205.000000     R$ 10,205.00\n"
     ]
    }
   ],
   "source": [
    "distritos_rent = aptos.groupby('district')['rent'].mean().reset_index()\n",
    "\n",
    "distritos_rent = distritos_rent[~distritos_rent['district'].str.lower().str.contains('alphaville')]\n",
    "\n",
    "top_distritos_rent = distritos_rent.sort_values('rent', ascending = False)[:10]\n",
    "\n",
    "top_distritos_rent.columns = [\"Distrito\", \"média de Aluguel\"]\n",
    "\n",
    "top_distritos_rent[\"Média de Aluguel\"] = top_distritos_rent [\"média de Aluguel\"]\\\n",
    ".apply(lambda x: \"R$ {:,.2f}\".format(x))\n",
    "\n",
    "print(\" Top 10 Distritos com maior média de aluguel (sem Alphaville)\")\n",
    "print(top_distritos_rent)"
   ]
  },
  {
   "cell_type": "markdown",
   "metadata": {},
   "source": [
    "Veja que temos muito mais informação agora! Isso melhorou muito a análise e ainda deixamos claro ao gestor que estiver avaliando nosso portfólio que a gente consegue manipular os dados em Pandas sem grandes dificuldades. Como o código já é intuitivo o suficiente, com nomes adequados e sem grandes malabarismos, dispensa comentários explicando a sintaxe. Podemos adicionar ainda uma visualização, mesmo que seja redundante:"
   ]
  },
  {
   "cell_type": "markdown",
   "metadata": {},
   "source": [
    "* **representando por um gráfico de barras**'"
   ]
  },
  {
   "cell_type": "code",
   "execution_count": 7,
   "metadata": {},
   "outputs": [
    {
     "data": {
      "application/vnd.plotly.v1+json": {
       "config": {
        "plotlyServerURL": "https://plot.ly"
       },
       "data": [
        {
         "alignmentgroup": "True",
         "hovertemplate": "Média de Aluguel (R$)=%{marker.color}<br>Distrito=%{y}<extra></extra>",
         "legendgroup": "",
         "marker": {
          "color": [
           15000,
           13000,
           12054,
           12000,
           11833.333333333334,
           11820,
           11583.333333333334,
           11250,
           10650,
           10205
          ],
          "coloraxis": "coloraxis",
          "pattern": {
           "shape": ""
          }
         },
         "name": "",
         "offsetgroup": "",
         "orientation": "h",
         "showlegend": false,
         "textposition": "auto",
         "type": "bar",
         "x": [
          15000,
          13000,
          12054,
          12000,
          11833.333333333334,
          11820,
          11583.333333333334,
          11250,
          10650,
          10205
         ],
         "xaxis": "x",
         "y": [
          "Jardim Tango",
          "Cidade Jardim",
          "Pacaembu",
          "Chácara Meyer",
          "Centro Empresarial Tamboré",
          "Jardim Vitoria Regia (zona Oeste)",
          "Jardim dos Estados",
          "Jardim Cordeiro",
          "Chácara Santo Antônio",
          "Chácara Monte Alegre"
         ],
         "yaxis": "y"
        }
       ],
       "layout": {
        "barmode": "relative",
        "coloraxis": {
         "colorbar": {
          "title": {
           "text": "Média de Aluguel (R$)"
          }
         },
         "colorscale": [
          [
           0,
           "#0d0887"
          ],
          [
           0.1111111111111111,
           "#46039f"
          ],
          [
           0.2222222222222222,
           "#7201a8"
          ],
          [
           0.3333333333333333,
           "#9c179e"
          ],
          [
           0.4444444444444444,
           "#bd3786"
          ],
          [
           0.5555555555555556,
           "#d8576b"
          ],
          [
           0.6666666666666666,
           "#ed7953"
          ],
          [
           0.7777777777777778,
           "#fb9f3a"
          ],
          [
           0.8888888888888888,
           "#fdca26"
          ],
          [
           1,
           "#f0f921"
          ]
         ]
        },
        "legend": {
         "tracegroupgap": 0
        },
        "template": {
         "data": {
          "bar": [
           {
            "error_x": {
             "color": "#2a3f5f"
            },
            "error_y": {
             "color": "#2a3f5f"
            },
            "marker": {
             "line": {
              "color": "#E5ECF6",
              "width": 0.5
             },
             "pattern": {
              "fillmode": "overlay",
              "size": 10,
              "solidity": 0.2
             }
            },
            "type": "bar"
           }
          ],
          "barpolar": [
           {
            "marker": {
             "line": {
              "color": "#E5ECF6",
              "width": 0.5
             },
             "pattern": {
              "fillmode": "overlay",
              "size": 10,
              "solidity": 0.2
             }
            },
            "type": "barpolar"
           }
          ],
          "carpet": [
           {
            "aaxis": {
             "endlinecolor": "#2a3f5f",
             "gridcolor": "white",
             "linecolor": "white",
             "minorgridcolor": "white",
             "startlinecolor": "#2a3f5f"
            },
            "baxis": {
             "endlinecolor": "#2a3f5f",
             "gridcolor": "white",
             "linecolor": "white",
             "minorgridcolor": "white",
             "startlinecolor": "#2a3f5f"
            },
            "type": "carpet"
           }
          ],
          "choropleth": [
           {
            "colorbar": {
             "outlinewidth": 0,
             "ticks": ""
            },
            "type": "choropleth"
           }
          ],
          "contour": [
           {
            "colorbar": {
             "outlinewidth": 0,
             "ticks": ""
            },
            "colorscale": [
             [
              0,
              "#0d0887"
             ],
             [
              0.1111111111111111,
              "#46039f"
             ],
             [
              0.2222222222222222,
              "#7201a8"
             ],
             [
              0.3333333333333333,
              "#9c179e"
             ],
             [
              0.4444444444444444,
              "#bd3786"
             ],
             [
              0.5555555555555556,
              "#d8576b"
             ],
             [
              0.6666666666666666,
              "#ed7953"
             ],
             [
              0.7777777777777778,
              "#fb9f3a"
             ],
             [
              0.8888888888888888,
              "#fdca26"
             ],
             [
              1,
              "#f0f921"
             ]
            ],
            "type": "contour"
           }
          ],
          "contourcarpet": [
           {
            "colorbar": {
             "outlinewidth": 0,
             "ticks": ""
            },
            "type": "contourcarpet"
           }
          ],
          "heatmap": [
           {
            "colorbar": {
             "outlinewidth": 0,
             "ticks": ""
            },
            "colorscale": [
             [
              0,
              "#0d0887"
             ],
             [
              0.1111111111111111,
              "#46039f"
             ],
             [
              0.2222222222222222,
              "#7201a8"
             ],
             [
              0.3333333333333333,
              "#9c179e"
             ],
             [
              0.4444444444444444,
              "#bd3786"
             ],
             [
              0.5555555555555556,
              "#d8576b"
             ],
             [
              0.6666666666666666,
              "#ed7953"
             ],
             [
              0.7777777777777778,
              "#fb9f3a"
             ],
             [
              0.8888888888888888,
              "#fdca26"
             ],
             [
              1,
              "#f0f921"
             ]
            ],
            "type": "heatmap"
           }
          ],
          "heatmapgl": [
           {
            "colorbar": {
             "outlinewidth": 0,
             "ticks": ""
            },
            "colorscale": [
             [
              0,
              "#0d0887"
             ],
             [
              0.1111111111111111,
              "#46039f"
             ],
             [
              0.2222222222222222,
              "#7201a8"
             ],
             [
              0.3333333333333333,
              "#9c179e"
             ],
             [
              0.4444444444444444,
              "#bd3786"
             ],
             [
              0.5555555555555556,
              "#d8576b"
             ],
             [
              0.6666666666666666,
              "#ed7953"
             ],
             [
              0.7777777777777778,
              "#fb9f3a"
             ],
             [
              0.8888888888888888,
              "#fdca26"
             ],
             [
              1,
              "#f0f921"
             ]
            ],
            "type": "heatmapgl"
           }
          ],
          "histogram": [
           {
            "marker": {
             "pattern": {
              "fillmode": "overlay",
              "size": 10,
              "solidity": 0.2
             }
            },
            "type": "histogram"
           }
          ],
          "histogram2d": [
           {
            "colorbar": {
             "outlinewidth": 0,
             "ticks": ""
            },
            "colorscale": [
             [
              0,
              "#0d0887"
             ],
             [
              0.1111111111111111,
              "#46039f"
             ],
             [
              0.2222222222222222,
              "#7201a8"
             ],
             [
              0.3333333333333333,
              "#9c179e"
             ],
             [
              0.4444444444444444,
              "#bd3786"
             ],
             [
              0.5555555555555556,
              "#d8576b"
             ],
             [
              0.6666666666666666,
              "#ed7953"
             ],
             [
              0.7777777777777778,
              "#fb9f3a"
             ],
             [
              0.8888888888888888,
              "#fdca26"
             ],
             [
              1,
              "#f0f921"
             ]
            ],
            "type": "histogram2d"
           }
          ],
          "histogram2dcontour": [
           {
            "colorbar": {
             "outlinewidth": 0,
             "ticks": ""
            },
            "colorscale": [
             [
              0,
              "#0d0887"
             ],
             [
              0.1111111111111111,
              "#46039f"
             ],
             [
              0.2222222222222222,
              "#7201a8"
             ],
             [
              0.3333333333333333,
              "#9c179e"
             ],
             [
              0.4444444444444444,
              "#bd3786"
             ],
             [
              0.5555555555555556,
              "#d8576b"
             ],
             [
              0.6666666666666666,
              "#ed7953"
             ],
             [
              0.7777777777777778,
              "#fb9f3a"
             ],
             [
              0.8888888888888888,
              "#fdca26"
             ],
             [
              1,
              "#f0f921"
             ]
            ],
            "type": "histogram2dcontour"
           }
          ],
          "mesh3d": [
           {
            "colorbar": {
             "outlinewidth": 0,
             "ticks": ""
            },
            "type": "mesh3d"
           }
          ],
          "parcoords": [
           {
            "line": {
             "colorbar": {
              "outlinewidth": 0,
              "ticks": ""
             }
            },
            "type": "parcoords"
           }
          ],
          "pie": [
           {
            "automargin": true,
            "type": "pie"
           }
          ],
          "scatter": [
           {
            "fillpattern": {
             "fillmode": "overlay",
             "size": 10,
             "solidity": 0.2
            },
            "type": "scatter"
           }
          ],
          "scatter3d": [
           {
            "line": {
             "colorbar": {
              "outlinewidth": 0,
              "ticks": ""
             }
            },
            "marker": {
             "colorbar": {
              "outlinewidth": 0,
              "ticks": ""
             }
            },
            "type": "scatter3d"
           }
          ],
          "scattercarpet": [
           {
            "marker": {
             "colorbar": {
              "outlinewidth": 0,
              "ticks": ""
             }
            },
            "type": "scattercarpet"
           }
          ],
          "scattergeo": [
           {
            "marker": {
             "colorbar": {
              "outlinewidth": 0,
              "ticks": ""
             }
            },
            "type": "scattergeo"
           }
          ],
          "scattergl": [
           {
            "marker": {
             "colorbar": {
              "outlinewidth": 0,
              "ticks": ""
             }
            },
            "type": "scattergl"
           }
          ],
          "scattermapbox": [
           {
            "marker": {
             "colorbar": {
              "outlinewidth": 0,
              "ticks": ""
             }
            },
            "type": "scattermapbox"
           }
          ],
          "scatterpolar": [
           {
            "marker": {
             "colorbar": {
              "outlinewidth": 0,
              "ticks": ""
             }
            },
            "type": "scatterpolar"
           }
          ],
          "scatterpolargl": [
           {
            "marker": {
             "colorbar": {
              "outlinewidth": 0,
              "ticks": ""
             }
            },
            "type": "scatterpolargl"
           }
          ],
          "scatterternary": [
           {
            "marker": {
             "colorbar": {
              "outlinewidth": 0,
              "ticks": ""
             }
            },
            "type": "scatterternary"
           }
          ],
          "surface": [
           {
            "colorbar": {
             "outlinewidth": 0,
             "ticks": ""
            },
            "colorscale": [
             [
              0,
              "#0d0887"
             ],
             [
              0.1111111111111111,
              "#46039f"
             ],
             [
              0.2222222222222222,
              "#7201a8"
             ],
             [
              0.3333333333333333,
              "#9c179e"
             ],
             [
              0.4444444444444444,
              "#bd3786"
             ],
             [
              0.5555555555555556,
              "#d8576b"
             ],
             [
              0.6666666666666666,
              "#ed7953"
             ],
             [
              0.7777777777777778,
              "#fb9f3a"
             ],
             [
              0.8888888888888888,
              "#fdca26"
             ],
             [
              1,
              "#f0f921"
             ]
            ],
            "type": "surface"
           }
          ],
          "table": [
           {
            "cells": {
             "fill": {
              "color": "#EBF0F8"
             },
             "line": {
              "color": "white"
             }
            },
            "header": {
             "fill": {
              "color": "#C8D4E3"
             },
             "line": {
              "color": "white"
             }
            },
            "type": "table"
           }
          ]
         },
         "layout": {
          "annotationdefaults": {
           "arrowcolor": "#2a3f5f",
           "arrowhead": 0,
           "arrowwidth": 1
          },
          "autotypenumbers": "strict",
          "coloraxis": {
           "colorbar": {
            "outlinewidth": 0,
            "ticks": ""
           }
          },
          "colorscale": {
           "diverging": [
            [
             0,
             "#8e0152"
            ],
            [
             0.1,
             "#c51b7d"
            ],
            [
             0.2,
             "#de77ae"
            ],
            [
             0.3,
             "#f1b6da"
            ],
            [
             0.4,
             "#fde0ef"
            ],
            [
             0.5,
             "#f7f7f7"
            ],
            [
             0.6,
             "#e6f5d0"
            ],
            [
             0.7,
             "#b8e186"
            ],
            [
             0.8,
             "#7fbc41"
            ],
            [
             0.9,
             "#4d9221"
            ],
            [
             1,
             "#276419"
            ]
           ],
           "sequential": [
            [
             0,
             "#0d0887"
            ],
            [
             0.1111111111111111,
             "#46039f"
            ],
            [
             0.2222222222222222,
             "#7201a8"
            ],
            [
             0.3333333333333333,
             "#9c179e"
            ],
            [
             0.4444444444444444,
             "#bd3786"
            ],
            [
             0.5555555555555556,
             "#d8576b"
            ],
            [
             0.6666666666666666,
             "#ed7953"
            ],
            [
             0.7777777777777778,
             "#fb9f3a"
            ],
            [
             0.8888888888888888,
             "#fdca26"
            ],
            [
             1,
             "#f0f921"
            ]
           ],
           "sequentialminus": [
            [
             0,
             "#0d0887"
            ],
            [
             0.1111111111111111,
             "#46039f"
            ],
            [
             0.2222222222222222,
             "#7201a8"
            ],
            [
             0.3333333333333333,
             "#9c179e"
            ],
            [
             0.4444444444444444,
             "#bd3786"
            ],
            [
             0.5555555555555556,
             "#d8576b"
            ],
            [
             0.6666666666666666,
             "#ed7953"
            ],
            [
             0.7777777777777778,
             "#fb9f3a"
            ],
            [
             0.8888888888888888,
             "#fdca26"
            ],
            [
             1,
             "#f0f921"
            ]
           ]
          },
          "colorway": [
           "#636efa",
           "#EF553B",
           "#00cc96",
           "#ab63fa",
           "#FFA15A",
           "#19d3f3",
           "#FF6692",
           "#B6E880",
           "#FF97FF",
           "#FECB52"
          ],
          "font": {
           "color": "#2a3f5f"
          },
          "geo": {
           "bgcolor": "white",
           "lakecolor": "white",
           "landcolor": "#E5ECF6",
           "showlakes": true,
           "showland": true,
           "subunitcolor": "white"
          },
          "hoverlabel": {
           "align": "left"
          },
          "hovermode": "closest",
          "mapbox": {
           "style": "light"
          },
          "paper_bgcolor": "white",
          "plot_bgcolor": "#E5ECF6",
          "polar": {
           "angularaxis": {
            "gridcolor": "white",
            "linecolor": "white",
            "ticks": ""
           },
           "bgcolor": "#E5ECF6",
           "radialaxis": {
            "gridcolor": "white",
            "linecolor": "white",
            "ticks": ""
           }
          },
          "scene": {
           "xaxis": {
            "backgroundcolor": "#E5ECF6",
            "gridcolor": "white",
            "gridwidth": 2,
            "linecolor": "white",
            "showbackground": true,
            "ticks": "",
            "zerolinecolor": "white"
           },
           "yaxis": {
            "backgroundcolor": "#E5ECF6",
            "gridcolor": "white",
            "gridwidth": 2,
            "linecolor": "white",
            "showbackground": true,
            "ticks": "",
            "zerolinecolor": "white"
           },
           "zaxis": {
            "backgroundcolor": "#E5ECF6",
            "gridcolor": "white",
            "gridwidth": 2,
            "linecolor": "white",
            "showbackground": true,
            "ticks": "",
            "zerolinecolor": "white"
           }
          },
          "shapedefaults": {
           "line": {
            "color": "#2a3f5f"
           }
          },
          "ternary": {
           "aaxis": {
            "gridcolor": "white",
            "linecolor": "white",
            "ticks": ""
           },
           "baxis": {
            "gridcolor": "white",
            "linecolor": "white",
            "ticks": ""
           },
           "bgcolor": "#E5ECF6",
           "caxis": {
            "gridcolor": "white",
            "linecolor": "white",
            "ticks": ""
           }
          },
          "title": {
           "x": 0.05
          },
          "xaxis": {
           "automargin": true,
           "gridcolor": "white",
           "linecolor": "white",
           "ticks": "",
           "title": {
            "standoff": 15
           },
           "zerolinecolor": "white",
           "zerolinewidth": 2
          },
          "yaxis": {
           "automargin": true,
           "gridcolor": "white",
           "linecolor": "white",
           "ticks": "",
           "title": {
            "standoff": 15
           },
           "zerolinecolor": "white",
           "zerolinewidth": 2
          }
         }
        },
        "title": {
         "text": "Top 10 distritos com maior média de Aluguel (sem Alphaville)"
        },
        "xaxis": {
         "anchor": "y",
         "domain": [
          0,
          1
         ],
         "title": {
          "text": "Média de Aluguel (R$)"
         }
        },
        "yaxis": {
         "anchor": "x",
         "autorange": "reversed",
         "domain": [
          0,
          1
         ],
         "title": {
          "text": "Distrito"
         }
        }
       }
      }
     },
     "metadata": {},
     "output_type": "display_data"
    }
   ],
   "source": [
    "distritos_rent = aptos.groupby(\"district\")[\"rent\"].mean().reset_index()\n",
    "\n",
    "distritos_rent =  distritos_rent[~distritos_rent['district'].str.lower().str.contains(\"alphaville\")]\n",
    "\n",
    "top_distritos_rent =  distritos_rent.sort_values(\"rent\", ascending = False)[:10]\n",
    "\n",
    "top_distritos_rent.columns = [\"Distrito\", \"Média de Aluguel\"]\n",
    "\n",
    "fig = px.bar(top_distritos_rent,\n",
    "             y= 'Distrito',\n",
    "             x= 'Média de Aluguel',\n",
    "             orientation='h',\n",
    "             title='Top 10 distritos com maior média de Aluguel (sem Alphaville)',\n",
    "             labels= {'Média de Aluguel':'Média de Aluguel (R$)', 'Distrito': 'Distrito'},\n",
    "             color = 'Média de Aluguel')\n",
    "\n",
    "fig.update_yaxes(autorange ='reversed')\n",
    "\n",
    "fig.show()\n",
    "\n",
    "\n"
   ]
  },
  {
   "cell_type": "markdown",
   "metadata": {},
   "source": [
    "DESAFIO: Que tal você gerar mais agrupamentos antes mesmo de seguir com nosso portfólio? Teste o quanto você entendeu até agora! Ou ainda, faça filtros que possam ser de seu interesse, você poderia, por exemplo, olhar dados do bairro em que você mora! O importante é se manter praticando e garantir que entendeu tudo!"
   ]
  },
  {
   "cell_type": "markdown",
   "metadata": {},
   "source": [
    "Nossa análise está ficando bastante interessante, trazendo informações relevantes sobre os imóveis de São Paulo. Como a gente é bastante proativo, não vamos ficar refém somente do que consta no dataset, bora buscar informações fora dele. Vou comentar um pouco sobre o que sabemos desses bairros, trazendo algumas informações das zonas de São Paulo, ver o que podemos inferir a partir dos dados vistos até agora. Antes, vamos gerar uma descritiva dos aluguéis, pois esses números vão ajudar a entender um pouco mais deste\n",
    "\n",
    "top 10:"
   ]
  },
  {
   "cell_type": "code",
   "execution_count": 8,
   "metadata": {},
   "outputs": [
    {
     "data": {
      "text/html": [
       "<div>\n",
       "<style scoped>\n",
       "    .dataframe tbody tr th:only-of-type {\n",
       "        vertical-align: middle;\n",
       "    }\n",
       "\n",
       "    .dataframe tbody tr th {\n",
       "        vertical-align: top;\n",
       "    }\n",
       "\n",
       "    .dataframe thead th {\n",
       "        text-align: right;\n",
       "    }\n",
       "</style>\n",
       "<table border=\"1\" class=\"dataframe\">\n",
       "  <thead>\n",
       "    <tr style=\"text-align: right;\">\n",
       "      <th></th>\n",
       "      <th>Média de Aluguel</th>\n",
       "    </tr>\n",
       "  </thead>\n",
       "  <tbody>\n",
       "    <tr>\n",
       "      <th>count</th>\n",
       "      <td>10.000000</td>\n",
       "    </tr>\n",
       "    <tr>\n",
       "      <th>mean</th>\n",
       "      <td>11939.566667</td>\n",
       "    </tr>\n",
       "    <tr>\n",
       "      <th>std</th>\n",
       "      <td>1325.275988</td>\n",
       "    </tr>\n",
       "    <tr>\n",
       "      <th>min</th>\n",
       "      <td>10205.000000</td>\n",
       "    </tr>\n",
       "    <tr>\n",
       "      <th>25%</th>\n",
       "      <td>11333.333333</td>\n",
       "    </tr>\n",
       "    <tr>\n",
       "      <th>50%</th>\n",
       "      <td>11826.666667</td>\n",
       "    </tr>\n",
       "    <tr>\n",
       "      <th>75%</th>\n",
       "      <td>12040.500000</td>\n",
       "    </tr>\n",
       "    <tr>\n",
       "      <th>max</th>\n",
       "      <td>15000.000000</td>\n",
       "    </tr>\n",
       "  </tbody>\n",
       "</table>\n",
       "</div>"
      ],
      "text/plain": [
       "       Média de Aluguel\n",
       "count         10.000000\n",
       "mean       11939.566667\n",
       "std         1325.275988\n",
       "min        10205.000000\n",
       "25%        11333.333333\n",
       "50%        11826.666667\n",
       "75%        12040.500000\n",
       "max        15000.000000"
      ]
     },
     "execution_count": 8,
     "metadata": {},
     "output_type": "execute_result"
    }
   ],
   "source": [
    "top_distritos_rent.describe()"
   ]
  },
  {
   "cell_type": "code",
   "execution_count": 9,
   "metadata": {},
   "outputs": [
    {
     "data": {
      "text/html": [
       "<img src=\"https://api-club-file.cb.hotmart.com/public/v5/files/189fab30-df17-4ba5-8a6d-f2216b6f9bd1\"/>"
      ],
      "text/plain": [
       "<IPython.core.display.Image object>"
      ]
     },
     "execution_count": 9,
     "metadata": {},
     "output_type": "execute_result"
    }
   ],
   "source": [
    "from IPython.display import Image\n",
    "Image( url = 'https://api-club-file.cb.hotmart.com/public/v5/files/189fab30-df17-4ba5-8a6d-f2216b6f9bd1')"
   ]
  },
  {
   "cell_type": "markdown",
   "metadata": {},
   "source": [
    "Seu portfólio só será chamativo se você não resumir seus materiais a apresentar os dados, mas também fazer considerações. Neste momento, você tem meio que uma janela de oportunidade, um local para mostrar ao leitor - seja ele um colega de profissão, ou um gestor que está recrutando para sua equipe - o que você é capaz de gerar de valor, o quanto você consegue inferir dos dados e até correr atrás de mais informações para tirar algum insight interessante. Lembre-se sempre que seu portfólio é a oportunidade de você demonstrar também seus conhecimentos gerais e sua proatividade, então não precisa limitar os comentários ao que está no dataset."
   ]
  },
  {
   "cell_type": "markdown",
   "metadata": {},
   "source": [
    "Antes de explorarmos mais dos top 10, é de se imaginar que o leitor deste estudo também queira entender o top 10 dos bairros com aluguéis mais baratos. Afinal, é legal saber o que tem no top 10 mais caros, mas isso é mais interessante quando temos um comparativo (perfil dos baratos x perfil dos caros). Sendo assim, nada mais óbvio do que também gerar o top 10 dos mais baratos:"
   ]
  },
  {
   "cell_type": "markdown",
   "metadata": {},
   "source": [
    "* **Top 10 mais baratos**"
   ]
  },
  {
   "cell_type": "code",
   "execution_count": 10,
   "metadata": {},
   "outputs": [
    {
     "data": {
      "application/vnd.plotly.v1+json": {
       "config": {
        "plotlyServerURL": "https://plot.ly"
       },
       "data": [
        {
         "alignmentgroup": "True",
         "hovertemplate": "Média de Aluguel=%{marker.color}<br>Distrito=%{y}<extra></extra>",
         "legendgroup": "",
         "marker": {
          "color": [
           759,
           750,
           740,
           710,
           700.5,
           660,
           630,
           629,
           600,
           500
          ],
          "coloraxis": "coloraxis",
          "pattern": {
           "shape": ""
          }
         },
         "name": "",
         "offsetgroup": "",
         "orientation": "h",
         "showlegend": false,
         "textposition": "auto",
         "type": "bar",
         "x": [
          759,
          750,
          740,
          710,
          700.5,
          660,
          630,
          629,
          600,
          500
         ],
         "xaxis": "x",
         "y": [
          "Jardim Vergueiro",
          "Sítio do Piqueri",
          "Vila São Luís",
          "Vila Ramos",
          "Vila Cardoso Franco",
          "Vila Lais",
          "Jardim Maraba",
          "Jardim Frei Galvão",
          "Jardim Inga",
          "Jardim Jaçanã"
         ],
         "yaxis": "y"
        }
       ],
       "layout": {
        "barmode": "relative",
        "coloraxis": {
         "colorbar": {
          "title": {
           "text": "Média de Aluguel"
          }
         },
         "colorscale": [
          [
           0,
           "#0d0887"
          ],
          [
           0.1111111111111111,
           "#46039f"
          ],
          [
           0.2222222222222222,
           "#7201a8"
          ],
          [
           0.3333333333333333,
           "#9c179e"
          ],
          [
           0.4444444444444444,
           "#bd3786"
          ],
          [
           0.5555555555555556,
           "#d8576b"
          ],
          [
           0.6666666666666666,
           "#ed7953"
          ],
          [
           0.7777777777777778,
           "#fb9f3a"
          ],
          [
           0.8888888888888888,
           "#fdca26"
          ],
          [
           1,
           "#f0f921"
          ]
         ]
        },
        "legend": {
         "tracegroupgap": 0
        },
        "template": {
         "data": {
          "bar": [
           {
            "error_x": {
             "color": "#2a3f5f"
            },
            "error_y": {
             "color": "#2a3f5f"
            },
            "marker": {
             "line": {
              "color": "#E5ECF6",
              "width": 0.5
             },
             "pattern": {
              "fillmode": "overlay",
              "size": 10,
              "solidity": 0.2
             }
            },
            "type": "bar"
           }
          ],
          "barpolar": [
           {
            "marker": {
             "line": {
              "color": "#E5ECF6",
              "width": 0.5
             },
             "pattern": {
              "fillmode": "overlay",
              "size": 10,
              "solidity": 0.2
             }
            },
            "type": "barpolar"
           }
          ],
          "carpet": [
           {
            "aaxis": {
             "endlinecolor": "#2a3f5f",
             "gridcolor": "white",
             "linecolor": "white",
             "minorgridcolor": "white",
             "startlinecolor": "#2a3f5f"
            },
            "baxis": {
             "endlinecolor": "#2a3f5f",
             "gridcolor": "white",
             "linecolor": "white",
             "minorgridcolor": "white",
             "startlinecolor": "#2a3f5f"
            },
            "type": "carpet"
           }
          ],
          "choropleth": [
           {
            "colorbar": {
             "outlinewidth": 0,
             "ticks": ""
            },
            "type": "choropleth"
           }
          ],
          "contour": [
           {
            "colorbar": {
             "outlinewidth": 0,
             "ticks": ""
            },
            "colorscale": [
             [
              0,
              "#0d0887"
             ],
             [
              0.1111111111111111,
              "#46039f"
             ],
             [
              0.2222222222222222,
              "#7201a8"
             ],
             [
              0.3333333333333333,
              "#9c179e"
             ],
             [
              0.4444444444444444,
              "#bd3786"
             ],
             [
              0.5555555555555556,
              "#d8576b"
             ],
             [
              0.6666666666666666,
              "#ed7953"
             ],
             [
              0.7777777777777778,
              "#fb9f3a"
             ],
             [
              0.8888888888888888,
              "#fdca26"
             ],
             [
              1,
              "#f0f921"
             ]
            ],
            "type": "contour"
           }
          ],
          "contourcarpet": [
           {
            "colorbar": {
             "outlinewidth": 0,
             "ticks": ""
            },
            "type": "contourcarpet"
           }
          ],
          "heatmap": [
           {
            "colorbar": {
             "outlinewidth": 0,
             "ticks": ""
            },
            "colorscale": [
             [
              0,
              "#0d0887"
             ],
             [
              0.1111111111111111,
              "#46039f"
             ],
             [
              0.2222222222222222,
              "#7201a8"
             ],
             [
              0.3333333333333333,
              "#9c179e"
             ],
             [
              0.4444444444444444,
              "#bd3786"
             ],
             [
              0.5555555555555556,
              "#d8576b"
             ],
             [
              0.6666666666666666,
              "#ed7953"
             ],
             [
              0.7777777777777778,
              "#fb9f3a"
             ],
             [
              0.8888888888888888,
              "#fdca26"
             ],
             [
              1,
              "#f0f921"
             ]
            ],
            "type": "heatmap"
           }
          ],
          "heatmapgl": [
           {
            "colorbar": {
             "outlinewidth": 0,
             "ticks": ""
            },
            "colorscale": [
             [
              0,
              "#0d0887"
             ],
             [
              0.1111111111111111,
              "#46039f"
             ],
             [
              0.2222222222222222,
              "#7201a8"
             ],
             [
              0.3333333333333333,
              "#9c179e"
             ],
             [
              0.4444444444444444,
              "#bd3786"
             ],
             [
              0.5555555555555556,
              "#d8576b"
             ],
             [
              0.6666666666666666,
              "#ed7953"
             ],
             [
              0.7777777777777778,
              "#fb9f3a"
             ],
             [
              0.8888888888888888,
              "#fdca26"
             ],
             [
              1,
              "#f0f921"
             ]
            ],
            "type": "heatmapgl"
           }
          ],
          "histogram": [
           {
            "marker": {
             "pattern": {
              "fillmode": "overlay",
              "size": 10,
              "solidity": 0.2
             }
            },
            "type": "histogram"
           }
          ],
          "histogram2d": [
           {
            "colorbar": {
             "outlinewidth": 0,
             "ticks": ""
            },
            "colorscale": [
             [
              0,
              "#0d0887"
             ],
             [
              0.1111111111111111,
              "#46039f"
             ],
             [
              0.2222222222222222,
              "#7201a8"
             ],
             [
              0.3333333333333333,
              "#9c179e"
             ],
             [
              0.4444444444444444,
              "#bd3786"
             ],
             [
              0.5555555555555556,
              "#d8576b"
             ],
             [
              0.6666666666666666,
              "#ed7953"
             ],
             [
              0.7777777777777778,
              "#fb9f3a"
             ],
             [
              0.8888888888888888,
              "#fdca26"
             ],
             [
              1,
              "#f0f921"
             ]
            ],
            "type": "histogram2d"
           }
          ],
          "histogram2dcontour": [
           {
            "colorbar": {
             "outlinewidth": 0,
             "ticks": ""
            },
            "colorscale": [
             [
              0,
              "#0d0887"
             ],
             [
              0.1111111111111111,
              "#46039f"
             ],
             [
              0.2222222222222222,
              "#7201a8"
             ],
             [
              0.3333333333333333,
              "#9c179e"
             ],
             [
              0.4444444444444444,
              "#bd3786"
             ],
             [
              0.5555555555555556,
              "#d8576b"
             ],
             [
              0.6666666666666666,
              "#ed7953"
             ],
             [
              0.7777777777777778,
              "#fb9f3a"
             ],
             [
              0.8888888888888888,
              "#fdca26"
             ],
             [
              1,
              "#f0f921"
             ]
            ],
            "type": "histogram2dcontour"
           }
          ],
          "mesh3d": [
           {
            "colorbar": {
             "outlinewidth": 0,
             "ticks": ""
            },
            "type": "mesh3d"
           }
          ],
          "parcoords": [
           {
            "line": {
             "colorbar": {
              "outlinewidth": 0,
              "ticks": ""
             }
            },
            "type": "parcoords"
           }
          ],
          "pie": [
           {
            "automargin": true,
            "type": "pie"
           }
          ],
          "scatter": [
           {
            "fillpattern": {
             "fillmode": "overlay",
             "size": 10,
             "solidity": 0.2
            },
            "type": "scatter"
           }
          ],
          "scatter3d": [
           {
            "line": {
             "colorbar": {
              "outlinewidth": 0,
              "ticks": ""
             }
            },
            "marker": {
             "colorbar": {
              "outlinewidth": 0,
              "ticks": ""
             }
            },
            "type": "scatter3d"
           }
          ],
          "scattercarpet": [
           {
            "marker": {
             "colorbar": {
              "outlinewidth": 0,
              "ticks": ""
             }
            },
            "type": "scattercarpet"
           }
          ],
          "scattergeo": [
           {
            "marker": {
             "colorbar": {
              "outlinewidth": 0,
              "ticks": ""
             }
            },
            "type": "scattergeo"
           }
          ],
          "scattergl": [
           {
            "marker": {
             "colorbar": {
              "outlinewidth": 0,
              "ticks": ""
             }
            },
            "type": "scattergl"
           }
          ],
          "scattermapbox": [
           {
            "marker": {
             "colorbar": {
              "outlinewidth": 0,
              "ticks": ""
             }
            },
            "type": "scattermapbox"
           }
          ],
          "scatterpolar": [
           {
            "marker": {
             "colorbar": {
              "outlinewidth": 0,
              "ticks": ""
             }
            },
            "type": "scatterpolar"
           }
          ],
          "scatterpolargl": [
           {
            "marker": {
             "colorbar": {
              "outlinewidth": 0,
              "ticks": ""
             }
            },
            "type": "scatterpolargl"
           }
          ],
          "scatterternary": [
           {
            "marker": {
             "colorbar": {
              "outlinewidth": 0,
              "ticks": ""
             }
            },
            "type": "scatterternary"
           }
          ],
          "surface": [
           {
            "colorbar": {
             "outlinewidth": 0,
             "ticks": ""
            },
            "colorscale": [
             [
              0,
              "#0d0887"
             ],
             [
              0.1111111111111111,
              "#46039f"
             ],
             [
              0.2222222222222222,
              "#7201a8"
             ],
             [
              0.3333333333333333,
              "#9c179e"
             ],
             [
              0.4444444444444444,
              "#bd3786"
             ],
             [
              0.5555555555555556,
              "#d8576b"
             ],
             [
              0.6666666666666666,
              "#ed7953"
             ],
             [
              0.7777777777777778,
              "#fb9f3a"
             ],
             [
              0.8888888888888888,
              "#fdca26"
             ],
             [
              1,
              "#f0f921"
             ]
            ],
            "type": "surface"
           }
          ],
          "table": [
           {
            "cells": {
             "fill": {
              "color": "#EBF0F8"
             },
             "line": {
              "color": "white"
             }
            },
            "header": {
             "fill": {
              "color": "#C8D4E3"
             },
             "line": {
              "color": "white"
             }
            },
            "type": "table"
           }
          ]
         },
         "layout": {
          "annotationdefaults": {
           "arrowcolor": "#2a3f5f",
           "arrowhead": 0,
           "arrowwidth": 1
          },
          "autotypenumbers": "strict",
          "coloraxis": {
           "colorbar": {
            "outlinewidth": 0,
            "ticks": ""
           }
          },
          "colorscale": {
           "diverging": [
            [
             0,
             "#8e0152"
            ],
            [
             0.1,
             "#c51b7d"
            ],
            [
             0.2,
             "#de77ae"
            ],
            [
             0.3,
             "#f1b6da"
            ],
            [
             0.4,
             "#fde0ef"
            ],
            [
             0.5,
             "#f7f7f7"
            ],
            [
             0.6,
             "#e6f5d0"
            ],
            [
             0.7,
             "#b8e186"
            ],
            [
             0.8,
             "#7fbc41"
            ],
            [
             0.9,
             "#4d9221"
            ],
            [
             1,
             "#276419"
            ]
           ],
           "sequential": [
            [
             0,
             "#0d0887"
            ],
            [
             0.1111111111111111,
             "#46039f"
            ],
            [
             0.2222222222222222,
             "#7201a8"
            ],
            [
             0.3333333333333333,
             "#9c179e"
            ],
            [
             0.4444444444444444,
             "#bd3786"
            ],
            [
             0.5555555555555556,
             "#d8576b"
            ],
            [
             0.6666666666666666,
             "#ed7953"
            ],
            [
             0.7777777777777778,
             "#fb9f3a"
            ],
            [
             0.8888888888888888,
             "#fdca26"
            ],
            [
             1,
             "#f0f921"
            ]
           ],
           "sequentialminus": [
            [
             0,
             "#0d0887"
            ],
            [
             0.1111111111111111,
             "#46039f"
            ],
            [
             0.2222222222222222,
             "#7201a8"
            ],
            [
             0.3333333333333333,
             "#9c179e"
            ],
            [
             0.4444444444444444,
             "#bd3786"
            ],
            [
             0.5555555555555556,
             "#d8576b"
            ],
            [
             0.6666666666666666,
             "#ed7953"
            ],
            [
             0.7777777777777778,
             "#fb9f3a"
            ],
            [
             0.8888888888888888,
             "#fdca26"
            ],
            [
             1,
             "#f0f921"
            ]
           ]
          },
          "colorway": [
           "#636efa",
           "#EF553B",
           "#00cc96",
           "#ab63fa",
           "#FFA15A",
           "#19d3f3",
           "#FF6692",
           "#B6E880",
           "#FF97FF",
           "#FECB52"
          ],
          "font": {
           "color": "#2a3f5f"
          },
          "geo": {
           "bgcolor": "white",
           "lakecolor": "white",
           "landcolor": "#E5ECF6",
           "showlakes": true,
           "showland": true,
           "subunitcolor": "white"
          },
          "hoverlabel": {
           "align": "left"
          },
          "hovermode": "closest",
          "mapbox": {
           "style": "light"
          },
          "paper_bgcolor": "white",
          "plot_bgcolor": "#E5ECF6",
          "polar": {
           "angularaxis": {
            "gridcolor": "white",
            "linecolor": "white",
            "ticks": ""
           },
           "bgcolor": "#E5ECF6",
           "radialaxis": {
            "gridcolor": "white",
            "linecolor": "white",
            "ticks": ""
           }
          },
          "scene": {
           "xaxis": {
            "backgroundcolor": "#E5ECF6",
            "gridcolor": "white",
            "gridwidth": 2,
            "linecolor": "white",
            "showbackground": true,
            "ticks": "",
            "zerolinecolor": "white"
           },
           "yaxis": {
            "backgroundcolor": "#E5ECF6",
            "gridcolor": "white",
            "gridwidth": 2,
            "linecolor": "white",
            "showbackground": true,
            "ticks": "",
            "zerolinecolor": "white"
           },
           "zaxis": {
            "backgroundcolor": "#E5ECF6",
            "gridcolor": "white",
            "gridwidth": 2,
            "linecolor": "white",
            "showbackground": true,
            "ticks": "",
            "zerolinecolor": "white"
           }
          },
          "shapedefaults": {
           "line": {
            "color": "#2a3f5f"
           }
          },
          "ternary": {
           "aaxis": {
            "gridcolor": "white",
            "linecolor": "white",
            "ticks": ""
           },
           "baxis": {
            "gridcolor": "white",
            "linecolor": "white",
            "ticks": ""
           },
           "bgcolor": "#E5ECF6",
           "caxis": {
            "gridcolor": "white",
            "linecolor": "white",
            "ticks": ""
           }
          },
          "title": {
           "x": 0.05
          },
          "xaxis": {
           "automargin": true,
           "gridcolor": "white",
           "linecolor": "white",
           "ticks": "",
           "title": {
            "standoff": 15
           },
           "zerolinecolor": "white",
           "zerolinewidth": 2
          },
          "yaxis": {
           "automargin": true,
           "gridcolor": "white",
           "linecolor": "white",
           "ticks": "",
           "title": {
            "standoff": 15
           },
           "zerolinecolor": "white",
           "zerolinewidth": 2
          }
         }
        },
        "title": {
         "text": " Top 10 Distritos com menor média de aluguel"
        },
        "xaxis": {
         "anchor": "y",
         "domain": [
          0,
          1
         ],
         "title": {
          "text": "Média de Aluguel"
         }
        },
        "yaxis": {
         "anchor": "x",
         "autorange": "reversed",
         "domain": [
          0,
          1
         ],
         "title": {
          "text": "Distrito"
         }
        }
       }
      }
     },
     "metadata": {},
     "output_type": "display_data"
    }
   ],
   "source": [
    "bottom_distritos_rent = distritos_rent.sort_values('rent', ascending = True)[:10]\n",
    "\n",
    "bottom_distritos_rent = bottom_distritos_rent.sort_values('rent', ascending = False)\n",
    "\n",
    "bottom_distritos_rent.columns = ['Distrito','Média de Aluguel']\n",
    "\n",
    "fig = px.bar(bottom_distritos_rent,\n",
    "             y=\"Distrito\",\n",
    "             x=\"Média de Aluguel\",\n",
    "             orientation=\"h\",\n",
    "             title=\" Top 10 Distritos com menor média de aluguel\",\n",
    "             labels= {\"Média de aluguel\":\"Média de Aluguel (R$)\",\"Distrito\":\"Distrito\"},\n",
    "             color=\"Média de Aluguel\"\n",
    "             )\n",
    "fig.update_yaxes(autorange=\"reversed\")\n",
    "\n",
    "fig.show()"
   ]
  },
  {
   "cell_type": "markdown",
   "metadata": {},
   "source": [
    "Talvez o mapa de cores pudesse mudar um pouco, já que vínhamos usando cores suaves nos outros gráficos. Mas deixemos isso para um outro momento, por enquanto, vamos dar sequência à nossa análise!\n",
    "\n",
    "Assim como fizemos para os bairros mais ricos, vale a pena espremerum pouco as informações dos bairros mais pobres:"
   ]
  },
  {
   "cell_type": "code",
   "execution_count": 11,
   "metadata": {},
   "outputs": [
    {
     "data": {
      "text/html": [
       "<div>\n",
       "<style scoped>\n",
       "    .dataframe tbody tr th:only-of-type {\n",
       "        vertical-align: middle;\n",
       "    }\n",
       "\n",
       "    .dataframe tbody tr th {\n",
       "        vertical-align: top;\n",
       "    }\n",
       "\n",
       "    .dataframe thead th {\n",
       "        text-align: right;\n",
       "    }\n",
       "</style>\n",
       "<table border=\"1\" class=\"dataframe\">\n",
       "  <thead>\n",
       "    <tr style=\"text-align: right;\">\n",
       "      <th></th>\n",
       "      <th>Média de Aluguel</th>\n",
       "    </tr>\n",
       "  </thead>\n",
       "  <tbody>\n",
       "    <tr>\n",
       "      <th>count</th>\n",
       "      <td>10.000000</td>\n",
       "    </tr>\n",
       "    <tr>\n",
       "      <th>mean</th>\n",
       "      <td>667.850000</td>\n",
       "    </tr>\n",
       "    <tr>\n",
       "      <th>std</th>\n",
       "      <td>80.888143</td>\n",
       "    </tr>\n",
       "    <tr>\n",
       "      <th>min</th>\n",
       "      <td>500.000000</td>\n",
       "    </tr>\n",
       "    <tr>\n",
       "      <th>25%</th>\n",
       "      <td>629.250000</td>\n",
       "    </tr>\n",
       "    <tr>\n",
       "      <th>50%</th>\n",
       "      <td>680.250000</td>\n",
       "    </tr>\n",
       "    <tr>\n",
       "      <th>75%</th>\n",
       "      <td>732.500000</td>\n",
       "    </tr>\n",
       "    <tr>\n",
       "      <th>max</th>\n",
       "      <td>759.000000</td>\n",
       "    </tr>\n",
       "  </tbody>\n",
       "</table>\n",
       "</div>"
      ],
      "text/plain": [
       "       Média de Aluguel\n",
       "count         10.000000\n",
       "mean         667.850000\n",
       "std           80.888143\n",
       "min          500.000000\n",
       "25%          629.250000\n",
       "50%          680.250000\n",
       "75%          732.500000\n",
       "max          759.000000"
      ]
     },
     "execution_count": 11,
     "metadata": {},
     "output_type": "execute_result"
    }
   ],
   "source": [
    "bottom_distritos_rent.describe()"
   ]
  },
  {
   "cell_type": "code",
   "execution_count": 12,
   "metadata": {},
   "outputs": [
    {
     "data": {
      "text/html": [
       "<img src=\"https://api-club-file.cb.hotmart.com/public/v5/files/031115d1-ccf9-453a-99ef-eb022c4f0880\"/>"
      ],
      "text/plain": [
       "<IPython.core.display.Image object>"
      ]
     },
     "execution_count": 12,
     "metadata": {},
     "output_type": "execute_result"
    }
   ],
   "source": [
    "from IPython.display import Image\n",
    "Image(url=\"https://api-club-file.cb.hotmart.com/public/v5/files/031115d1-ccf9-453a-99ef-eb022c4f0880\")"
   ]
  },
  {
   "cell_type": "markdown",
   "metadata": {},
   "source": [
    "Até o momento, o que a análise mais tem evidenciado é o tamanho da desigualdade dentro da cidade de São Paulo, uma desigualdade existente até dentro dos subgrupos. Agora, seria interessante destrinchar melhor como essa desigualdade ocorre, olhando para os detalhes dos imóveis. Entretanto, um top 10 me parece uma amostra muito pequena para uma análise robusta. Vamos utilizar pelo menos um n = 50:"
   ]
  },
  {
   "cell_type": "markdown",
   "metadata": {},
   "source": [
    "Comparação dos top 50 bairros mais ricos com os 50 bairros mais pobres para analizar a desigualdade social"
   ]
  },
  {
   "cell_type": "code",
   "execution_count": 13,
   "metadata": {},
   "outputs": [
    {
     "data": {
      "text/html": [
       "<div>\n",
       "<style scoped>\n",
       "    .dataframe tbody tr th:only-of-type {\n",
       "        vertical-align: middle;\n",
       "    }\n",
       "\n",
       "    .dataframe tbody tr th {\n",
       "        vertical-align: top;\n",
       "    }\n",
       "\n",
       "    .dataframe thead th {\n",
       "        text-align: right;\n",
       "    }\n",
       "</style>\n",
       "<table border=\"1\" class=\"dataframe\">\n",
       "  <thead>\n",
       "    <tr style=\"text-align: right;\">\n",
       "      <th></th>\n",
       "      <th>address</th>\n",
       "      <th>district</th>\n",
       "      <th>area</th>\n",
       "      <th>bedrooms</th>\n",
       "      <th>garage</th>\n",
       "      <th>type</th>\n",
       "      <th>rent</th>\n",
       "      <th>total</th>\n",
       "    </tr>\n",
       "  </thead>\n",
       "  <tbody>\n",
       "    <tr>\n",
       "      <th>105</th>\n",
       "      <td>Rua Oscar Freire</td>\n",
       "      <td>Cerqueira César</td>\n",
       "      <td>55</td>\n",
       "      <td>2</td>\n",
       "      <td>0</td>\n",
       "      <td>Apartamento</td>\n",
       "      <td>3950</td>\n",
       "      <td>5097</td>\n",
       "    </tr>\n",
       "    <tr>\n",
       "      <th>179</th>\n",
       "      <td>Rua Padre Lebret</td>\n",
       "      <td>Jardim Leonor</td>\n",
       "      <td>87</td>\n",
       "      <td>1</td>\n",
       "      <td>2</td>\n",
       "      <td>Apartamento</td>\n",
       "      <td>4500</td>\n",
       "      <td>6010</td>\n",
       "    </tr>\n",
       "    <tr>\n",
       "      <th>200</th>\n",
       "      <td>Rua Camargo Aranha</td>\n",
       "      <td>Pacaembu</td>\n",
       "      <td>350</td>\n",
       "      <td>4</td>\n",
       "      <td>2</td>\n",
       "      <td>Casa</td>\n",
       "      <td>10400</td>\n",
       "      <td>11660</td>\n",
       "    </tr>\n",
       "    <tr>\n",
       "      <th>249</th>\n",
       "      <td>Rua Pamplona</td>\n",
       "      <td>Cerqueira César</td>\n",
       "      <td>49</td>\n",
       "      <td>1</td>\n",
       "      <td>1</td>\n",
       "      <td>Apartamento</td>\n",
       "      <td>3000</td>\n",
       "      <td>3967</td>\n",
       "    </tr>\n",
       "    <tr>\n",
       "      <th>278</th>\n",
       "      <td>Rua Augusta</td>\n",
       "      <td>Cerqueira César</td>\n",
       "      <td>35</td>\n",
       "      <td>1</td>\n",
       "      <td>1</td>\n",
       "      <td>Apartamento</td>\n",
       "      <td>2800</td>\n",
       "      <td>3661</td>\n",
       "    </tr>\n",
       "  </tbody>\n",
       "</table>\n",
       "</div>"
      ],
      "text/plain": [
       "                address         district  area  bedrooms  garage         type  \\\n",
       "105    Rua Oscar Freire  Cerqueira César    55         2       0  Apartamento   \n",
       "179    Rua Padre Lebret    Jardim Leonor    87         1       2  Apartamento   \n",
       "200  Rua Camargo Aranha         Pacaembu   350         4       2         Casa   \n",
       "249        Rua Pamplona  Cerqueira César    49         1       1  Apartamento   \n",
       "278         Rua Augusta  Cerqueira César    35         1       1  Apartamento   \n",
       "\n",
       "      rent  total  \n",
       "105   3950   5097  \n",
       "179   4500   6010  \n",
       "200  10400  11660  \n",
       "249   3000   3967  \n",
       "278   2800   3661  "
      ]
     },
     "metadata": {},
     "output_type": "display_data"
    },
    {
     "data": {
      "text/html": [
       "<div>\n",
       "<style scoped>\n",
       "    .dataframe tbody tr th:only-of-type {\n",
       "        vertical-align: middle;\n",
       "    }\n",
       "\n",
       "    .dataframe tbody tr th {\n",
       "        vertical-align: top;\n",
       "    }\n",
       "\n",
       "    .dataframe thead th {\n",
       "        text-align: right;\n",
       "    }\n",
       "</style>\n",
       "<table border=\"1\" class=\"dataframe\">\n",
       "  <thead>\n",
       "    <tr style=\"text-align: right;\">\n",
       "      <th></th>\n",
       "      <th>address</th>\n",
       "      <th>district</th>\n",
       "      <th>area</th>\n",
       "      <th>bedrooms</th>\n",
       "      <th>garage</th>\n",
       "      <th>type</th>\n",
       "      <th>rent</th>\n",
       "      <th>total</th>\n",
       "    </tr>\n",
       "  </thead>\n",
       "  <tbody>\n",
       "    <tr>\n",
       "      <th>219</th>\n",
       "      <td>Rua Adele Zarzur</td>\n",
       "      <td>Jardim São José (zona Norte)</td>\n",
       "      <td>50</td>\n",
       "      <td>1</td>\n",
       "      <td>0</td>\n",
       "      <td>Casa</td>\n",
       "      <td>850</td>\n",
       "      <td>887</td>\n",
       "    </tr>\n",
       "    <tr>\n",
       "      <th>489</th>\n",
       "      <td>Rua das Águias Reais</td>\n",
       "      <td>Vila Cardoso Franco</td>\n",
       "      <td>50</td>\n",
       "      <td>2</td>\n",
       "      <td>1</td>\n",
       "      <td>Apartamento</td>\n",
       "      <td>791</td>\n",
       "      <td>1212</td>\n",
       "    </tr>\n",
       "    <tr>\n",
       "      <th>538</th>\n",
       "      <td>Rua Celeste Fernandes Dalphorno</td>\n",
       "      <td>Jardim Rosana</td>\n",
       "      <td>40</td>\n",
       "      <td>1</td>\n",
       "      <td>0</td>\n",
       "      <td>Casa</td>\n",
       "      <td>800</td>\n",
       "      <td>949</td>\n",
       "    </tr>\n",
       "    <tr>\n",
       "      <th>639</th>\n",
       "      <td>Rua Ulisses Paschoal</td>\n",
       "      <td>Jardim Lourdes (zona Sul)</td>\n",
       "      <td>15</td>\n",
       "      <td>1</td>\n",
       "      <td>0</td>\n",
       "      <td>Studio e kitnet</td>\n",
       "      <td>882</td>\n",
       "      <td>1009</td>\n",
       "    </tr>\n",
       "    <tr>\n",
       "      <th>1005</th>\n",
       "      <td>Rua Amorim Castro</td>\n",
       "      <td>Vila São Luís</td>\n",
       "      <td>15</td>\n",
       "      <td>1</td>\n",
       "      <td>0</td>\n",
       "      <td>Studio e kitnet</td>\n",
       "      <td>740</td>\n",
       "      <td>1196</td>\n",
       "    </tr>\n",
       "  </tbody>\n",
       "</table>\n",
       "</div>"
      ],
      "text/plain": [
       "                              address                      district  area  \\\n",
       "219                  Rua Adele Zarzur  Jardim São José (zona Norte)    50   \n",
       "489              Rua das Águias Reais           Vila Cardoso Franco    50   \n",
       "538   Rua Celeste Fernandes Dalphorno                 Jardim Rosana    40   \n",
       "639              Rua Ulisses Paschoal     Jardim Lourdes (zona Sul)    15   \n",
       "1005                Rua Amorim Castro                 Vila São Luís    15   \n",
       "\n",
       "      bedrooms  garage             type  rent  total  \n",
       "219          1       0             Casa   850    887  \n",
       "489          2       1      Apartamento   791   1212  \n",
       "538          1       0             Casa   800    949  \n",
       "639          1       0  Studio e kitnet   882   1009  \n",
       "1005         1       0  Studio e kitnet   740   1196  "
      ]
     },
     "metadata": {},
     "output_type": "display_data"
    },
    {
     "data": {
      "text/plain": [
       "(None, None)"
      ]
     },
     "execution_count": 13,
     "metadata": {},
     "output_type": "execute_result"
    }
   ],
   "source": [
    "# 50 bairros mais caros (excluindo Alphaville)\n",
    "top_distritos_rent = distritos_rent.sort_values(\"rent\", ascending = False)[:50]\n",
    "\n",
    "top_distritos_rent.columns = [\"Distrito\",\"Média de Aluguel\"]\n",
    "\n",
    "top_aptos = aptos[aptos[\"district\"].isin(top_distritos_rent[\"Distrito\"])]\n",
    "\n",
    "# 50 BAIRROS MAIS BARATOS\n",
    "bottom_distritos_rent = distritos_rent.sort_values(\"rent\", ascending=True)[:50]\n",
    "bottom_distritos_rent.columns = [\"Distrito\",\"Média de Aluguel\"]\n",
    "bottom_aptos = aptos [aptos[\"district\"].isin(bottom_distritos_rent[\"Distrito\"])]\n",
    "\n",
    "display(top_aptos.head()), display(bottom_aptos.head())"
   ]
  },
  {
   "cell_type": "markdown",
   "metadata": {},
   "source": [
    "Pronto, agora podemos comparar os imóveis! Primeiro, vamos checar o quão distantes são os valores de aluguel: checar como os aluguéis destes bairros estão distantes :"
   ]
  },
  {
   "cell_type": "code",
   "execution_count": 14,
   "metadata": {},
   "outputs": [
    {
     "data": {
      "application/vnd.plotly.v1+json": {
       "config": {
        "plotlyServerURL": "https://plot.ly"
       },
       "data": [
        {
         "boxpoints": "outliers",
         "marker": {
          "color": "lightblue"
         },
         "name": "Upper",
         "type": "box",
         "x": [
          "Upper",
          "Upper",
          "Upper",
          "Upper",
          "Upper",
          "Upper",
          "Upper",
          "Upper",
          "Upper",
          "Upper",
          "Upper",
          "Upper",
          "Upper",
          "Upper",
          "Upper",
          "Upper",
          "Upper",
          "Upper",
          "Upper",
          "Upper",
          "Upper",
          "Upper",
          "Upper",
          "Upper",
          "Upper",
          "Upper",
          "Upper",
          "Upper",
          "Upper",
          "Upper",
          "Upper",
          "Upper",
          "Upper",
          "Upper",
          "Upper",
          "Upper",
          "Upper",
          "Upper",
          "Upper",
          "Upper",
          "Upper",
          "Upper",
          "Upper",
          "Upper",
          "Upper",
          "Upper",
          "Upper",
          "Upper",
          "Upper",
          "Upper",
          "Upper",
          "Upper",
          "Upper",
          "Upper",
          "Upper",
          "Upper",
          "Upper",
          "Upper",
          "Upper",
          "Upper",
          "Upper",
          "Upper",
          "Upper",
          "Upper",
          "Upper",
          "Upper",
          "Upper",
          "Upper",
          "Upper",
          "Upper",
          "Upper",
          "Upper",
          "Upper",
          "Upper",
          "Upper",
          "Upper",
          "Upper",
          "Upper",
          "Upper",
          "Upper",
          "Upper",
          "Upper",
          "Upper",
          "Upper",
          "Upper",
          "Upper",
          "Upper",
          "Upper",
          "Upper",
          "Upper",
          "Upper",
          "Upper",
          "Upper",
          "Upper",
          "Upper",
          "Upper",
          "Upper",
          "Upper",
          "Upper",
          "Upper",
          "Upper",
          "Upper",
          "Upper",
          "Upper",
          "Upper",
          "Upper",
          "Upper",
          "Upper",
          "Upper",
          "Upper",
          "Upper",
          "Upper",
          "Upper",
          "Upper",
          "Upper",
          "Upper",
          "Upper",
          "Upper",
          "Upper",
          "Upper",
          "Upper",
          "Upper",
          "Upper",
          "Upper",
          "Upper",
          "Upper",
          "Upper",
          "Upper",
          "Upper",
          "Upper",
          "Upper",
          "Upper",
          "Upper",
          "Upper",
          "Upper",
          "Upper",
          "Upper",
          "Upper",
          "Upper",
          "Upper",
          "Upper",
          "Upper",
          "Upper",
          "Upper",
          "Upper",
          "Upper",
          "Upper",
          "Upper",
          "Upper",
          "Upper",
          "Upper",
          "Upper",
          "Upper",
          "Upper",
          "Upper",
          "Upper",
          "Upper",
          "Upper",
          "Upper",
          "Upper",
          "Upper",
          "Upper",
          "Upper",
          "Upper",
          "Upper",
          "Upper",
          "Upper",
          "Upper",
          "Upper",
          "Upper",
          "Upper",
          "Upper",
          "Upper",
          "Upper",
          "Upper",
          "Upper",
          "Upper",
          "Upper",
          "Upper",
          "Upper",
          "Upper",
          "Upper",
          "Upper",
          "Upper",
          "Upper",
          "Upper",
          "Upper",
          "Upper",
          "Upper",
          "Upper",
          "Upper",
          "Upper",
          "Upper",
          "Upper",
          "Upper",
          "Upper",
          "Upper",
          "Upper",
          "Upper",
          "Upper",
          "Upper",
          "Upper",
          "Upper",
          "Upper",
          "Upper",
          "Upper",
          "Upper",
          "Upper",
          "Upper",
          "Upper",
          "Upper",
          "Upper",
          "Upper",
          "Upper",
          "Upper",
          "Upper",
          "Upper",
          "Upper",
          "Upper",
          "Upper",
          "Upper",
          "Upper",
          "Upper",
          "Upper",
          "Upper",
          "Upper",
          "Upper",
          "Upper",
          "Upper",
          "Upper",
          "Upper",
          "Upper",
          "Upper",
          "Upper",
          "Upper",
          "Upper",
          "Upper",
          "Upper",
          "Upper",
          "Upper",
          "Upper",
          "Upper",
          "Upper",
          "Upper",
          "Upper",
          "Upper",
          "Upper",
          "Upper",
          "Upper",
          "Upper",
          "Upper",
          "Upper",
          "Upper",
          "Upper",
          "Upper",
          "Upper",
          "Upper",
          "Upper",
          "Upper",
          "Upper",
          "Upper",
          "Upper",
          "Upper",
          "Upper",
          "Upper",
          "Upper",
          "Upper",
          "Upper",
          "Upper",
          "Upper",
          "Upper",
          "Upper",
          "Upper",
          "Upper",
          "Upper",
          "Upper",
          "Upper",
          "Upper",
          "Upper",
          "Upper",
          "Upper",
          "Upper",
          "Upper",
          "Upper",
          "Upper",
          "Upper",
          "Upper",
          "Upper",
          "Upper",
          "Upper",
          "Upper",
          "Upper",
          "Upper",
          "Upper",
          "Upper",
          "Upper",
          "Upper",
          "Upper",
          "Upper",
          "Upper",
          "Upper",
          "Upper",
          "Upper",
          "Upper",
          "Upper",
          "Upper",
          "Upper",
          "Upper",
          "Upper",
          "Upper",
          "Upper",
          "Upper",
          "Upper",
          "Upper",
          "Upper",
          "Upper",
          "Upper",
          "Upper",
          "Upper",
          "Upper",
          "Upper",
          "Upper",
          "Upper",
          "Upper",
          "Upper",
          "Upper",
          "Upper",
          "Upper",
          "Upper",
          "Upper",
          "Upper",
          "Upper",
          "Upper",
          "Upper",
          "Upper",
          "Upper",
          "Upper",
          "Upper",
          "Upper",
          "Upper",
          "Upper",
          "Upper",
          "Upper",
          "Upper",
          "Upper",
          "Upper",
          "Upper",
          "Upper",
          "Upper",
          "Upper",
          "Upper",
          "Upper",
          "Upper",
          "Upper",
          "Upper",
          "Upper",
          "Upper",
          "Upper",
          "Upper",
          "Upper",
          "Upper",
          "Upper",
          "Upper",
          "Upper",
          "Upper",
          "Upper",
          "Upper",
          "Upper",
          "Upper",
          "Upper",
          "Upper",
          "Upper",
          "Upper",
          "Upper",
          "Upper",
          "Upper",
          "Upper",
          "Upper",
          "Upper",
          "Upper",
          "Upper",
          "Upper",
          "Upper",
          "Upper",
          "Upper",
          "Upper",
          "Upper",
          "Upper",
          "Upper",
          "Upper",
          "Upper",
          "Upper",
          "Upper",
          "Upper",
          "Upper",
          "Upper",
          "Upper",
          "Upper",
          "Upper",
          "Upper",
          "Upper",
          "Upper",
          "Upper",
          "Upper",
          "Upper",
          "Upper",
          "Upper",
          "Upper",
          "Upper"
         ],
         "y": [
          3950,
          4500,
          10400,
          3000,
          2800,
          3950,
          4500,
          5970,
          6000,
          1600,
          1879,
          2500,
          4240,
          2550,
          4500,
          4600,
          8500,
          2050,
          10000,
          13000,
          1700,
          15000,
          3650,
          5600,
          5900,
          8790,
          1693,
          4400,
          2350,
          2800,
          6000,
          2000,
          1500,
          2500,
          3200,
          4300,
          13000,
          5750,
          4000,
          4500,
          4000,
          3300,
          3230,
          4000,
          5000,
          4200,
          7400,
          10000,
          4950,
          4200,
          2060,
          8500,
          5500,
          3000,
          3900,
          15000,
          7000,
          9200,
          8240,
          3600,
          3306,
          2263,
          3280,
          9000,
          4140,
          3300,
          3800,
          6475,
          1800,
          4850,
          4300,
          4500,
          4600,
          15000,
          2620,
          12000,
          3993,
          4250,
          5250,
          7500,
          2500,
          11000,
          15000,
          4000,
          4600,
          4500,
          2800,
          2660,
          8000,
          7800,
          8000,
          15000,
          5500,
          4550,
          2450,
          4300,
          3500,
          4100,
          7800,
          3524,
          3800,
          4980,
          2400,
          8910,
          3200,
          4900,
          9000,
          11000,
          3800,
          3600,
          7270,
          6000,
          7000,
          5043,
          4900,
          8000,
          3800,
          2800,
          9000,
          2100,
          5100,
          7500,
          8000,
          7500,
          11250,
          4880,
          5070,
          9000,
          9800,
          10900,
          10000,
          5000,
          14530,
          9000,
          9000,
          13000,
          8250,
          10000,
          9500,
          9000,
          2040,
          15000,
          13480,
          7500,
          12300,
          12000,
          7356,
          8500,
          8000,
          12000,
          11250,
          6750,
          2800,
          8500,
          3400,
          15000,
          6120,
          6200,
          9000,
          14110,
          2030,
          9700,
          3800,
          10130,
          11630,
          8500,
          4100,
          8000,
          7000,
          6000,
          15000,
          10000,
          12000,
          8000,
          5890,
          8500,
          15000,
          11250,
          10000,
          12000,
          11250,
          4500,
          15000,
          11250,
          6500,
          11250,
          13500,
          4200,
          2194,
          6241,
          15000,
          15000,
          5000,
          11900,
          13000,
          15000,
          14000,
          15000,
          8500,
          5000,
          7000,
          13000,
          7100,
          5000,
          2500,
          12000,
          15000,
          12000,
          5030,
          15000,
          8572,
          11000,
          10000,
          8000,
          9790,
          7000,
          6000,
          8000,
          9380,
          8750,
          7000,
          6755,
          8100,
          5000,
          6000,
          8000,
          12000,
          8000,
          5000,
          11250,
          9700,
          10000,
          10000,
          5500,
          12000,
          15000,
          10500,
          5800,
          8000,
          3500,
          15000,
          7000,
          9000,
          7500,
          11500,
          8000,
          5500,
          7000,
          15000,
          6800,
          11630,
          10170,
          5000,
          4390,
          8000,
          9520,
          11200,
          9000,
          5330,
          5500,
          13260,
          11360,
          10170,
          11130,
          11760,
          10840,
          12330,
          9403,
          15000,
          8500,
          9100,
          12000,
          7500,
          15000,
          8500,
          4650,
          5500,
          12000,
          2790,
          3000,
          1350,
          2750,
          5300,
          11500,
          6380,
          13300,
          7500,
          3800,
          10800,
          13250,
          11520,
          10320,
          5510,
          6040,
          11260,
          6000,
          2300,
          4100,
          3000,
          1232,
          7880,
          15000,
          6500,
          4600,
          5500,
          4820,
          5950,
          8000,
          10130,
          9000,
          8350,
          6300,
          4905,
          11000,
          4200,
          4320,
          3800,
          12500,
          4000,
          3800,
          3184,
          9135,
          6000,
          6400,
          6350,
          6500,
          12000,
          8000,
          7720,
          3200,
          3375,
          4200,
          8000,
          12500,
          6700,
          2381,
          7500,
          8000,
          9000,
          7170,
          12000,
          6000,
          7150,
          9000,
          8000,
          6500,
          7000,
          14000,
          15000,
          7700,
          2450,
          13500,
          5200,
          3300,
          2900,
          13500,
          4450,
          3000,
          3300,
          6800,
          4000,
          13500,
          5000,
          3600,
          3250,
          14000,
          5100,
          11750,
          14000,
          7000,
          5000,
          7000,
          6650,
          9000,
          7500,
          12000,
          8750,
          3700,
          10000,
          6870,
          15000,
          5800,
          2950,
          8500,
          11630,
          6300,
          5500,
          2900,
          6600,
          4700,
          3500,
          5700,
          5300,
          6300,
          12000,
          10000,
          3000,
          15000,
          14000,
          15000,
          11820,
          12000,
          5630,
          6800,
          15000,
          5000,
          11250,
          9500,
          9000
         ]
        },
        {
         "boxpoints": "outliers",
         "marker": {
          "color": "thistle"
         },
         "name": "Lower",
         "type": "box",
         "x": [
          "Lower",
          "Lower",
          "Lower",
          "Lower",
          "Lower",
          "Lower",
          "Lower",
          "Lower",
          "Lower",
          "Lower",
          "Lower",
          "Lower",
          "Lower",
          "Lower",
          "Lower",
          "Lower",
          "Lower",
          "Lower",
          "Lower",
          "Lower",
          "Lower",
          "Lower",
          "Lower",
          "Lower",
          "Lower",
          "Lower",
          "Lower",
          "Lower",
          "Lower",
          "Lower",
          "Lower",
          "Lower",
          "Lower",
          "Lower",
          "Lower",
          "Lower",
          "Lower",
          "Lower",
          "Lower",
          "Lower",
          "Lower",
          "Lower",
          "Lower",
          "Lower",
          "Lower",
          "Lower",
          "Lower",
          "Lower",
          "Lower",
          "Lower",
          "Lower",
          "Lower",
          "Lower",
          "Lower",
          "Lower",
          "Lower",
          "Lower",
          "Lower",
          "Lower",
          "Lower",
          "Lower",
          "Lower",
          "Lower",
          "Lower",
          "Lower",
          "Lower",
          "Lower",
          "Lower",
          "Lower",
          "Lower",
          "Lower",
          "Lower",
          "Lower",
          "Lower",
          "Lower"
         ],
         "y": [
          850,
          791,
          800,
          882,
          740,
          980,
          660,
          790,
          813,
          835,
          1000,
          950,
          950,
          950,
          900,
          950,
          750,
          900,
          699,
          870,
          650,
          965,
          850,
          567,
          1035,
          690,
          770,
          950,
          940,
          885,
          1100,
          740,
          840,
          610,
          866,
          810,
          980,
          850,
          779,
          900,
          500,
          850,
          950,
          750,
          900,
          841,
          900,
          1000,
          1100,
          850,
          552,
          600,
          874,
          813,
          1282,
          900,
          930,
          950,
          759,
          629,
          770,
          860,
          805,
          900,
          900,
          871,
          870,
          1000,
          1120,
          770,
          700,
          950,
          800,
          700,
          630
         ]
        }
       ],
       "layout": {
        "showlegend": true,
        "template": {
         "data": {
          "bar": [
           {
            "error_x": {
             "color": "#2a3f5f"
            },
            "error_y": {
             "color": "#2a3f5f"
            },
            "marker": {
             "line": {
              "color": "#E5ECF6",
              "width": 0.5
             },
             "pattern": {
              "fillmode": "overlay",
              "size": 10,
              "solidity": 0.2
             }
            },
            "type": "bar"
           }
          ],
          "barpolar": [
           {
            "marker": {
             "line": {
              "color": "#E5ECF6",
              "width": 0.5
             },
             "pattern": {
              "fillmode": "overlay",
              "size": 10,
              "solidity": 0.2
             }
            },
            "type": "barpolar"
           }
          ],
          "carpet": [
           {
            "aaxis": {
             "endlinecolor": "#2a3f5f",
             "gridcolor": "white",
             "linecolor": "white",
             "minorgridcolor": "white",
             "startlinecolor": "#2a3f5f"
            },
            "baxis": {
             "endlinecolor": "#2a3f5f",
             "gridcolor": "white",
             "linecolor": "white",
             "minorgridcolor": "white",
             "startlinecolor": "#2a3f5f"
            },
            "type": "carpet"
           }
          ],
          "choropleth": [
           {
            "colorbar": {
             "outlinewidth": 0,
             "ticks": ""
            },
            "type": "choropleth"
           }
          ],
          "contour": [
           {
            "colorbar": {
             "outlinewidth": 0,
             "ticks": ""
            },
            "colorscale": [
             [
              0,
              "#0d0887"
             ],
             [
              0.1111111111111111,
              "#46039f"
             ],
             [
              0.2222222222222222,
              "#7201a8"
             ],
             [
              0.3333333333333333,
              "#9c179e"
             ],
             [
              0.4444444444444444,
              "#bd3786"
             ],
             [
              0.5555555555555556,
              "#d8576b"
             ],
             [
              0.6666666666666666,
              "#ed7953"
             ],
             [
              0.7777777777777778,
              "#fb9f3a"
             ],
             [
              0.8888888888888888,
              "#fdca26"
             ],
             [
              1,
              "#f0f921"
             ]
            ],
            "type": "contour"
           }
          ],
          "contourcarpet": [
           {
            "colorbar": {
             "outlinewidth": 0,
             "ticks": ""
            },
            "type": "contourcarpet"
           }
          ],
          "heatmap": [
           {
            "colorbar": {
             "outlinewidth": 0,
             "ticks": ""
            },
            "colorscale": [
             [
              0,
              "#0d0887"
             ],
             [
              0.1111111111111111,
              "#46039f"
             ],
             [
              0.2222222222222222,
              "#7201a8"
             ],
             [
              0.3333333333333333,
              "#9c179e"
             ],
             [
              0.4444444444444444,
              "#bd3786"
             ],
             [
              0.5555555555555556,
              "#d8576b"
             ],
             [
              0.6666666666666666,
              "#ed7953"
             ],
             [
              0.7777777777777778,
              "#fb9f3a"
             ],
             [
              0.8888888888888888,
              "#fdca26"
             ],
             [
              1,
              "#f0f921"
             ]
            ],
            "type": "heatmap"
           }
          ],
          "heatmapgl": [
           {
            "colorbar": {
             "outlinewidth": 0,
             "ticks": ""
            },
            "colorscale": [
             [
              0,
              "#0d0887"
             ],
             [
              0.1111111111111111,
              "#46039f"
             ],
             [
              0.2222222222222222,
              "#7201a8"
             ],
             [
              0.3333333333333333,
              "#9c179e"
             ],
             [
              0.4444444444444444,
              "#bd3786"
             ],
             [
              0.5555555555555556,
              "#d8576b"
             ],
             [
              0.6666666666666666,
              "#ed7953"
             ],
             [
              0.7777777777777778,
              "#fb9f3a"
             ],
             [
              0.8888888888888888,
              "#fdca26"
             ],
             [
              1,
              "#f0f921"
             ]
            ],
            "type": "heatmapgl"
           }
          ],
          "histogram": [
           {
            "marker": {
             "pattern": {
              "fillmode": "overlay",
              "size": 10,
              "solidity": 0.2
             }
            },
            "type": "histogram"
           }
          ],
          "histogram2d": [
           {
            "colorbar": {
             "outlinewidth": 0,
             "ticks": ""
            },
            "colorscale": [
             [
              0,
              "#0d0887"
             ],
             [
              0.1111111111111111,
              "#46039f"
             ],
             [
              0.2222222222222222,
              "#7201a8"
             ],
             [
              0.3333333333333333,
              "#9c179e"
             ],
             [
              0.4444444444444444,
              "#bd3786"
             ],
             [
              0.5555555555555556,
              "#d8576b"
             ],
             [
              0.6666666666666666,
              "#ed7953"
             ],
             [
              0.7777777777777778,
              "#fb9f3a"
             ],
             [
              0.8888888888888888,
              "#fdca26"
             ],
             [
              1,
              "#f0f921"
             ]
            ],
            "type": "histogram2d"
           }
          ],
          "histogram2dcontour": [
           {
            "colorbar": {
             "outlinewidth": 0,
             "ticks": ""
            },
            "colorscale": [
             [
              0,
              "#0d0887"
             ],
             [
              0.1111111111111111,
              "#46039f"
             ],
             [
              0.2222222222222222,
              "#7201a8"
             ],
             [
              0.3333333333333333,
              "#9c179e"
             ],
             [
              0.4444444444444444,
              "#bd3786"
             ],
             [
              0.5555555555555556,
              "#d8576b"
             ],
             [
              0.6666666666666666,
              "#ed7953"
             ],
             [
              0.7777777777777778,
              "#fb9f3a"
             ],
             [
              0.8888888888888888,
              "#fdca26"
             ],
             [
              1,
              "#f0f921"
             ]
            ],
            "type": "histogram2dcontour"
           }
          ],
          "mesh3d": [
           {
            "colorbar": {
             "outlinewidth": 0,
             "ticks": ""
            },
            "type": "mesh3d"
           }
          ],
          "parcoords": [
           {
            "line": {
             "colorbar": {
              "outlinewidth": 0,
              "ticks": ""
             }
            },
            "type": "parcoords"
           }
          ],
          "pie": [
           {
            "automargin": true,
            "type": "pie"
           }
          ],
          "scatter": [
           {
            "fillpattern": {
             "fillmode": "overlay",
             "size": 10,
             "solidity": 0.2
            },
            "type": "scatter"
           }
          ],
          "scatter3d": [
           {
            "line": {
             "colorbar": {
              "outlinewidth": 0,
              "ticks": ""
             }
            },
            "marker": {
             "colorbar": {
              "outlinewidth": 0,
              "ticks": ""
             }
            },
            "type": "scatter3d"
           }
          ],
          "scattercarpet": [
           {
            "marker": {
             "colorbar": {
              "outlinewidth": 0,
              "ticks": ""
             }
            },
            "type": "scattercarpet"
           }
          ],
          "scattergeo": [
           {
            "marker": {
             "colorbar": {
              "outlinewidth": 0,
              "ticks": ""
             }
            },
            "type": "scattergeo"
           }
          ],
          "scattergl": [
           {
            "marker": {
             "colorbar": {
              "outlinewidth": 0,
              "ticks": ""
             }
            },
            "type": "scattergl"
           }
          ],
          "scattermapbox": [
           {
            "marker": {
             "colorbar": {
              "outlinewidth": 0,
              "ticks": ""
             }
            },
            "type": "scattermapbox"
           }
          ],
          "scatterpolar": [
           {
            "marker": {
             "colorbar": {
              "outlinewidth": 0,
              "ticks": ""
             }
            },
            "type": "scatterpolar"
           }
          ],
          "scatterpolargl": [
           {
            "marker": {
             "colorbar": {
              "outlinewidth": 0,
              "ticks": ""
             }
            },
            "type": "scatterpolargl"
           }
          ],
          "scatterternary": [
           {
            "marker": {
             "colorbar": {
              "outlinewidth": 0,
              "ticks": ""
             }
            },
            "type": "scatterternary"
           }
          ],
          "surface": [
           {
            "colorbar": {
             "outlinewidth": 0,
             "ticks": ""
            },
            "colorscale": [
             [
              0,
              "#0d0887"
             ],
             [
              0.1111111111111111,
              "#46039f"
             ],
             [
              0.2222222222222222,
              "#7201a8"
             ],
             [
              0.3333333333333333,
              "#9c179e"
             ],
             [
              0.4444444444444444,
              "#bd3786"
             ],
             [
              0.5555555555555556,
              "#d8576b"
             ],
             [
              0.6666666666666666,
              "#ed7953"
             ],
             [
              0.7777777777777778,
              "#fb9f3a"
             ],
             [
              0.8888888888888888,
              "#fdca26"
             ],
             [
              1,
              "#f0f921"
             ]
            ],
            "type": "surface"
           }
          ],
          "table": [
           {
            "cells": {
             "fill": {
              "color": "#EBF0F8"
             },
             "line": {
              "color": "white"
             }
            },
            "header": {
             "fill": {
              "color": "#C8D4E3"
             },
             "line": {
              "color": "white"
             }
            },
            "type": "table"
           }
          ]
         },
         "layout": {
          "annotationdefaults": {
           "arrowcolor": "#2a3f5f",
           "arrowhead": 0,
           "arrowwidth": 1
          },
          "autotypenumbers": "strict",
          "coloraxis": {
           "colorbar": {
            "outlinewidth": 0,
            "ticks": ""
           }
          },
          "colorscale": {
           "diverging": [
            [
             0,
             "#8e0152"
            ],
            [
             0.1,
             "#c51b7d"
            ],
            [
             0.2,
             "#de77ae"
            ],
            [
             0.3,
             "#f1b6da"
            ],
            [
             0.4,
             "#fde0ef"
            ],
            [
             0.5,
             "#f7f7f7"
            ],
            [
             0.6,
             "#e6f5d0"
            ],
            [
             0.7,
             "#b8e186"
            ],
            [
             0.8,
             "#7fbc41"
            ],
            [
             0.9,
             "#4d9221"
            ],
            [
             1,
             "#276419"
            ]
           ],
           "sequential": [
            [
             0,
             "#0d0887"
            ],
            [
             0.1111111111111111,
             "#46039f"
            ],
            [
             0.2222222222222222,
             "#7201a8"
            ],
            [
             0.3333333333333333,
             "#9c179e"
            ],
            [
             0.4444444444444444,
             "#bd3786"
            ],
            [
             0.5555555555555556,
             "#d8576b"
            ],
            [
             0.6666666666666666,
             "#ed7953"
            ],
            [
             0.7777777777777778,
             "#fb9f3a"
            ],
            [
             0.8888888888888888,
             "#fdca26"
            ],
            [
             1,
             "#f0f921"
            ]
           ],
           "sequentialminus": [
            [
             0,
             "#0d0887"
            ],
            [
             0.1111111111111111,
             "#46039f"
            ],
            [
             0.2222222222222222,
             "#7201a8"
            ],
            [
             0.3333333333333333,
             "#9c179e"
            ],
            [
             0.4444444444444444,
             "#bd3786"
            ],
            [
             0.5555555555555556,
             "#d8576b"
            ],
            [
             0.6666666666666666,
             "#ed7953"
            ],
            [
             0.7777777777777778,
             "#fb9f3a"
            ],
            [
             0.8888888888888888,
             "#fdca26"
            ],
            [
             1,
             "#f0f921"
            ]
           ]
          },
          "colorway": [
           "#636efa",
           "#EF553B",
           "#00cc96",
           "#ab63fa",
           "#FFA15A",
           "#19d3f3",
           "#FF6692",
           "#B6E880",
           "#FF97FF",
           "#FECB52"
          ],
          "font": {
           "color": "#2a3f5f"
          },
          "geo": {
           "bgcolor": "white",
           "lakecolor": "white",
           "landcolor": "#E5ECF6",
           "showlakes": true,
           "showland": true,
           "subunitcolor": "white"
          },
          "hoverlabel": {
           "align": "left"
          },
          "hovermode": "closest",
          "mapbox": {
           "style": "light"
          },
          "paper_bgcolor": "white",
          "plot_bgcolor": "#E5ECF6",
          "polar": {
           "angularaxis": {
            "gridcolor": "white",
            "linecolor": "white",
            "ticks": ""
           },
           "bgcolor": "#E5ECF6",
           "radialaxis": {
            "gridcolor": "white",
            "linecolor": "white",
            "ticks": ""
           }
          },
          "scene": {
           "xaxis": {
            "backgroundcolor": "#E5ECF6",
            "gridcolor": "white",
            "gridwidth": 2,
            "linecolor": "white",
            "showbackground": true,
            "ticks": "",
            "zerolinecolor": "white"
           },
           "yaxis": {
            "backgroundcolor": "#E5ECF6",
            "gridcolor": "white",
            "gridwidth": 2,
            "linecolor": "white",
            "showbackground": true,
            "ticks": "",
            "zerolinecolor": "white"
           },
           "zaxis": {
            "backgroundcolor": "#E5ECF6",
            "gridcolor": "white",
            "gridwidth": 2,
            "linecolor": "white",
            "showbackground": true,
            "ticks": "",
            "zerolinecolor": "white"
           }
          },
          "shapedefaults": {
           "line": {
            "color": "#2a3f5f"
           }
          },
          "ternary": {
           "aaxis": {
            "gridcolor": "white",
            "linecolor": "white",
            "ticks": ""
           },
           "baxis": {
            "gridcolor": "white",
            "linecolor": "white",
            "ticks": ""
           },
           "bgcolor": "#E5ECF6",
           "caxis": {
            "gridcolor": "white",
            "linecolor": "white",
            "ticks": ""
           }
          },
          "title": {
           "x": 0.05
          },
          "xaxis": {
           "automargin": true,
           "gridcolor": "white",
           "linecolor": "white",
           "ticks": "",
           "title": {
            "standoff": 15
           },
           "zerolinecolor": "white",
           "zerolinewidth": 2
          },
          "yaxis": {
           "automargin": true,
           "gridcolor": "white",
           "linecolor": "white",
           "ticks": "",
           "title": {
            "standoff": 15
           },
           "zerolinecolor": "white",
           "zerolinewidth": 2
          }
         }
        },
        "title": {
         "text": "Aluguel dos Imóveis por Classe"
        },
        "xaxis": {
         "title": {
          "text": "Classe"
         }
        },
        "yaxis": {
         "title": {
          "text": "Aluguel"
         }
        }
       }
      }
     },
     "metadata": {},
     "output_type": "display_data"
    }
   ],
   "source": [
    "import plotly.graph_objects as go\n",
    "top_aptos[\"class\"] = \"Upper\"\n",
    "bottom_aptos[\"class\"] = \"Lower\"\n",
    "\n",
    "fig = go.Figure()\n",
    "\n",
    "fig.add_trace (go.Box(\n",
    "    x= top_aptos['class'],\n",
    "    y= top_aptos[\"rent\"],\n",
    "    name=\"Upper\",\n",
    "    boxpoints=\"outliers\",\n",
    "    marker_color = \"lightblue\"\n",
    "))\n",
    "\n",
    "fig.add_trace(go.Box(\n",
    "    x=bottom_aptos[\"class\"],\n",
    "    y= bottom_aptos[\"rent\"],\n",
    "    name=\"Lower\",\n",
    "    boxpoints=\"outliers\",\n",
    "    marker_color = \"thistle\"\n",
    "))\n",
    "\n",
    "fig.update_layout(\n",
    "    xaxis= dict (title =\"Classe\"),\n",
    "    yaxis = dict (title = \"Aluguel\"),\n",
    "    title = \"Aluguel dos Imóveis por Classe\",\n",
    "    showlegend= True\n",
    ")\n",
    "\n",
    "fig.show()"
   ]
  },
  {
   "cell_type": "markdown",
   "metadata": {},
   "source": [
    "* **top_aptos[\"class\"] = \"Upper\"` e bottom_aptos[\"class\"] = \"Lower\"**: Aqui, estamos adicionando uma nova coluna chamada \"class\" aos dataframes top_aptos e bottom_aptos. A ideia é ter uma coluna que separe os imóveis caso a gente juntasse os dataframes. Aliás, a escolha de nome, aptos, não foi muito feliz, já que o dataframe não é composto somente de apartamentos, mas todos os tipos de imóveis. Um pequeno vacilo, mas vamos dando sequência para não perder o foco. Como dizíamos, criamos a coluna \"class\" e ela foi preenchida com os valores \"Upper\" para o dataframe top_aptos e \"Lower\" para o dataframe bottom_aptos.\n",
    "  \n",
    "* **fig = go.Figure():** Criamos uma figura vazia utilizando a função go.Figure(). Essa figura será usada para adicionar os elementos do gráfico do Plotly.\n",
    "  \n",
    "* **fig.add_trace(go.Box(x=top_aptos[\"class\"], y=top_aptos[\"rent\"], name=\"Upper\", boxpoints=\"outliers\")):** Aqui, adicionamos um trace (traço) ao gráfico utilizando a função go.Box(). A ideia é que no Plotly, nessa estratégia escolhida, a gente inicia uma \"figura\" (tipo um quadro em branco) e vamos acrescentando elementos a ela. No caso, o elemento é um boxplot. Neste elemento gráfico, go.Box (o boxplot), configuramos o eixo x como os valores da coluna \"class\" do dataframe top_aptos e o eixo y como os valores da coluna \"rent\" do mesmo dataframe. Definimos o nome do trace como \"Upper\" e configuramos o parâmetro boxpoints como \"outliers\" para exibir apenas os pontos que são considerados outliers.\n",
    "  \n",
    "* **fig.add_trace(go.Box(x=bottom_aptos[\"class\"], y=bottom_aptos[\"rent\"], name=\"Lower\", boxpoints=\"outliers\")):** Similar ao passo anterior, adicionamos outro traço, i.e., outro boxplot, à figura, ao \"quadro em branco\". Desta vez, utilizando os valores do dataframe bottom_aptos. Configuramos o eixo x como a coluna \"class\" do dataframe bottom_aptos e o eixo y como a coluna \"rent\". Definimos o nome do trace como \"Lower\" e configuramos o parâmetro boxpoints como \"outliers\".\n",
    "  \n",
    "* **fig.update_layout(xaxis=dict(title=\"Classe\"), yaxis=dict(title=\"Aluguel\"), title=\"Aluguel dos Imóveis por Classe\", showlegend=True):** Atualizamos o layout do gráfico utilizando a função update_layout(). Configuramos o título dos eixos x e y como \"Classe\" e \"Aluguel\", respectivamente. Definimos o título do gráfico como \"Aluguel dos Imóveis por Classe\" e configuramos o parâmetro showlegend como True para exibir a legenda.\n",
    "  \n",
    "* **fig.show():** Por fim, utilizamos a função show() para exibir o gráfico. É análogo ao plt.show() do Matplotlib."
   ]
  },
  {
   "cell_type": "markdown",
   "metadata": {},
   "source": [
    "Resumindo, o código cria um gráfico de boxplot utilizando o Plotly. Ele adiciona dois boxplots, um para a classe \"Upper\" e outro para a classe \"Lower\". Os valores de aluguel (\"rent\") são exibidos no eixo y, enquanto a classe (\"class\") é exibida no eixo x. Os pontos considerados outliers são exibidos nos gráficos. O gráfico possui títulos nos eixos e um título geral, e também mostra a legenda.\n",
    "\n",
    "Bom, mas mais interessante do que olhar sob a perspectiva de duas variáveis, é olhar sob a de 3: Qual o valor médio do Aluguel por tipo de imóvel, para cada \"classe\" de imóvel (Alta/Upper x Baixa/Bottom)?"
   ]
  },
  {
   "cell_type": "code",
   "execution_count": 15,
   "metadata": {},
   "outputs": [
    {
     "data": {
      "application/vnd.plotly.v1+json": {
       "config": {
        "plotlyServerURL": "https://plot.ly"
       },
       "data": [
        {
         "name": "Top Aptos",
         "type": "bar",
         "x": [
          "Apartamento",
          "Casa",
          "Casa em condomínio",
          "Studio e kitnet"
         ],
         "y": [
          7073.100746268657,
          9425.546391752578,
          9425.29411764706,
          3935.5555555555557
         ]
        },
        {
         "name": "Bottom Aptos",
         "type": "bar",
         "x": [
          "Apartamento",
          "Casa",
          "Casa em condomínio",
          "Studio e kitnet"
         ],
         "y": [
          888.125,
          827.12,
          993.3333333333334,
          811.1666666666666
         ]
        }
       ],
       "layout": {
        "template": {
         "data": {
          "bar": [
           {
            "error_x": {
             "color": "#2a3f5f"
            },
            "error_y": {
             "color": "#2a3f5f"
            },
            "marker": {
             "line": {
              "color": "#E5ECF6",
              "width": 0.5
             },
             "pattern": {
              "fillmode": "overlay",
              "size": 10,
              "solidity": 0.2
             }
            },
            "type": "bar"
           }
          ],
          "barpolar": [
           {
            "marker": {
             "line": {
              "color": "#E5ECF6",
              "width": 0.5
             },
             "pattern": {
              "fillmode": "overlay",
              "size": 10,
              "solidity": 0.2
             }
            },
            "type": "barpolar"
           }
          ],
          "carpet": [
           {
            "aaxis": {
             "endlinecolor": "#2a3f5f",
             "gridcolor": "white",
             "linecolor": "white",
             "minorgridcolor": "white",
             "startlinecolor": "#2a3f5f"
            },
            "baxis": {
             "endlinecolor": "#2a3f5f",
             "gridcolor": "white",
             "linecolor": "white",
             "minorgridcolor": "white",
             "startlinecolor": "#2a3f5f"
            },
            "type": "carpet"
           }
          ],
          "choropleth": [
           {
            "colorbar": {
             "outlinewidth": 0,
             "ticks": ""
            },
            "type": "choropleth"
           }
          ],
          "contour": [
           {
            "colorbar": {
             "outlinewidth": 0,
             "ticks": ""
            },
            "colorscale": [
             [
              0,
              "#0d0887"
             ],
             [
              0.1111111111111111,
              "#46039f"
             ],
             [
              0.2222222222222222,
              "#7201a8"
             ],
             [
              0.3333333333333333,
              "#9c179e"
             ],
             [
              0.4444444444444444,
              "#bd3786"
             ],
             [
              0.5555555555555556,
              "#d8576b"
             ],
             [
              0.6666666666666666,
              "#ed7953"
             ],
             [
              0.7777777777777778,
              "#fb9f3a"
             ],
             [
              0.8888888888888888,
              "#fdca26"
             ],
             [
              1,
              "#f0f921"
             ]
            ],
            "type": "contour"
           }
          ],
          "contourcarpet": [
           {
            "colorbar": {
             "outlinewidth": 0,
             "ticks": ""
            },
            "type": "contourcarpet"
           }
          ],
          "heatmap": [
           {
            "colorbar": {
             "outlinewidth": 0,
             "ticks": ""
            },
            "colorscale": [
             [
              0,
              "#0d0887"
             ],
             [
              0.1111111111111111,
              "#46039f"
             ],
             [
              0.2222222222222222,
              "#7201a8"
             ],
             [
              0.3333333333333333,
              "#9c179e"
             ],
             [
              0.4444444444444444,
              "#bd3786"
             ],
             [
              0.5555555555555556,
              "#d8576b"
             ],
             [
              0.6666666666666666,
              "#ed7953"
             ],
             [
              0.7777777777777778,
              "#fb9f3a"
             ],
             [
              0.8888888888888888,
              "#fdca26"
             ],
             [
              1,
              "#f0f921"
             ]
            ],
            "type": "heatmap"
           }
          ],
          "heatmapgl": [
           {
            "colorbar": {
             "outlinewidth": 0,
             "ticks": ""
            },
            "colorscale": [
             [
              0,
              "#0d0887"
             ],
             [
              0.1111111111111111,
              "#46039f"
             ],
             [
              0.2222222222222222,
              "#7201a8"
             ],
             [
              0.3333333333333333,
              "#9c179e"
             ],
             [
              0.4444444444444444,
              "#bd3786"
             ],
             [
              0.5555555555555556,
              "#d8576b"
             ],
             [
              0.6666666666666666,
              "#ed7953"
             ],
             [
              0.7777777777777778,
              "#fb9f3a"
             ],
             [
              0.8888888888888888,
              "#fdca26"
             ],
             [
              1,
              "#f0f921"
             ]
            ],
            "type": "heatmapgl"
           }
          ],
          "histogram": [
           {
            "marker": {
             "pattern": {
              "fillmode": "overlay",
              "size": 10,
              "solidity": 0.2
             }
            },
            "type": "histogram"
           }
          ],
          "histogram2d": [
           {
            "colorbar": {
             "outlinewidth": 0,
             "ticks": ""
            },
            "colorscale": [
             [
              0,
              "#0d0887"
             ],
             [
              0.1111111111111111,
              "#46039f"
             ],
             [
              0.2222222222222222,
              "#7201a8"
             ],
             [
              0.3333333333333333,
              "#9c179e"
             ],
             [
              0.4444444444444444,
              "#bd3786"
             ],
             [
              0.5555555555555556,
              "#d8576b"
             ],
             [
              0.6666666666666666,
              "#ed7953"
             ],
             [
              0.7777777777777778,
              "#fb9f3a"
             ],
             [
              0.8888888888888888,
              "#fdca26"
             ],
             [
              1,
              "#f0f921"
             ]
            ],
            "type": "histogram2d"
           }
          ],
          "histogram2dcontour": [
           {
            "colorbar": {
             "outlinewidth": 0,
             "ticks": ""
            },
            "colorscale": [
             [
              0,
              "#0d0887"
             ],
             [
              0.1111111111111111,
              "#46039f"
             ],
             [
              0.2222222222222222,
              "#7201a8"
             ],
             [
              0.3333333333333333,
              "#9c179e"
             ],
             [
              0.4444444444444444,
              "#bd3786"
             ],
             [
              0.5555555555555556,
              "#d8576b"
             ],
             [
              0.6666666666666666,
              "#ed7953"
             ],
             [
              0.7777777777777778,
              "#fb9f3a"
             ],
             [
              0.8888888888888888,
              "#fdca26"
             ],
             [
              1,
              "#f0f921"
             ]
            ],
            "type": "histogram2dcontour"
           }
          ],
          "mesh3d": [
           {
            "colorbar": {
             "outlinewidth": 0,
             "ticks": ""
            },
            "type": "mesh3d"
           }
          ],
          "parcoords": [
           {
            "line": {
             "colorbar": {
              "outlinewidth": 0,
              "ticks": ""
             }
            },
            "type": "parcoords"
           }
          ],
          "pie": [
           {
            "automargin": true,
            "type": "pie"
           }
          ],
          "scatter": [
           {
            "fillpattern": {
             "fillmode": "overlay",
             "size": 10,
             "solidity": 0.2
            },
            "type": "scatter"
           }
          ],
          "scatter3d": [
           {
            "line": {
             "colorbar": {
              "outlinewidth": 0,
              "ticks": ""
             }
            },
            "marker": {
             "colorbar": {
              "outlinewidth": 0,
              "ticks": ""
             }
            },
            "type": "scatter3d"
           }
          ],
          "scattercarpet": [
           {
            "marker": {
             "colorbar": {
              "outlinewidth": 0,
              "ticks": ""
             }
            },
            "type": "scattercarpet"
           }
          ],
          "scattergeo": [
           {
            "marker": {
             "colorbar": {
              "outlinewidth": 0,
              "ticks": ""
             }
            },
            "type": "scattergeo"
           }
          ],
          "scattergl": [
           {
            "marker": {
             "colorbar": {
              "outlinewidth": 0,
              "ticks": ""
             }
            },
            "type": "scattergl"
           }
          ],
          "scattermapbox": [
           {
            "marker": {
             "colorbar": {
              "outlinewidth": 0,
              "ticks": ""
             }
            },
            "type": "scattermapbox"
           }
          ],
          "scatterpolar": [
           {
            "marker": {
             "colorbar": {
              "outlinewidth": 0,
              "ticks": ""
             }
            },
            "type": "scatterpolar"
           }
          ],
          "scatterpolargl": [
           {
            "marker": {
             "colorbar": {
              "outlinewidth": 0,
              "ticks": ""
             }
            },
            "type": "scatterpolargl"
           }
          ],
          "scatterternary": [
           {
            "marker": {
             "colorbar": {
              "outlinewidth": 0,
              "ticks": ""
             }
            },
            "type": "scatterternary"
           }
          ],
          "surface": [
           {
            "colorbar": {
             "outlinewidth": 0,
             "ticks": ""
            },
            "colorscale": [
             [
              0,
              "#0d0887"
             ],
             [
              0.1111111111111111,
              "#46039f"
             ],
             [
              0.2222222222222222,
              "#7201a8"
             ],
             [
              0.3333333333333333,
              "#9c179e"
             ],
             [
              0.4444444444444444,
              "#bd3786"
             ],
             [
              0.5555555555555556,
              "#d8576b"
             ],
             [
              0.6666666666666666,
              "#ed7953"
             ],
             [
              0.7777777777777778,
              "#fb9f3a"
             ],
             [
              0.8888888888888888,
              "#fdca26"
             ],
             [
              1,
              "#f0f921"
             ]
            ],
            "type": "surface"
           }
          ],
          "table": [
           {
            "cells": {
             "fill": {
              "color": "#EBF0F8"
             },
             "line": {
              "color": "white"
             }
            },
            "header": {
             "fill": {
              "color": "#C8D4E3"
             },
             "line": {
              "color": "white"
             }
            },
            "type": "table"
           }
          ]
         },
         "layout": {
          "annotationdefaults": {
           "arrowcolor": "#2a3f5f",
           "arrowhead": 0,
           "arrowwidth": 1
          },
          "autotypenumbers": "strict",
          "coloraxis": {
           "colorbar": {
            "outlinewidth": 0,
            "ticks": ""
           }
          },
          "colorscale": {
           "diverging": [
            [
             0,
             "#8e0152"
            ],
            [
             0.1,
             "#c51b7d"
            ],
            [
             0.2,
             "#de77ae"
            ],
            [
             0.3,
             "#f1b6da"
            ],
            [
             0.4,
             "#fde0ef"
            ],
            [
             0.5,
             "#f7f7f7"
            ],
            [
             0.6,
             "#e6f5d0"
            ],
            [
             0.7,
             "#b8e186"
            ],
            [
             0.8,
             "#7fbc41"
            ],
            [
             0.9,
             "#4d9221"
            ],
            [
             1,
             "#276419"
            ]
           ],
           "sequential": [
            [
             0,
             "#0d0887"
            ],
            [
             0.1111111111111111,
             "#46039f"
            ],
            [
             0.2222222222222222,
             "#7201a8"
            ],
            [
             0.3333333333333333,
             "#9c179e"
            ],
            [
             0.4444444444444444,
             "#bd3786"
            ],
            [
             0.5555555555555556,
             "#d8576b"
            ],
            [
             0.6666666666666666,
             "#ed7953"
            ],
            [
             0.7777777777777778,
             "#fb9f3a"
            ],
            [
             0.8888888888888888,
             "#fdca26"
            ],
            [
             1,
             "#f0f921"
            ]
           ],
           "sequentialminus": [
            [
             0,
             "#0d0887"
            ],
            [
             0.1111111111111111,
             "#46039f"
            ],
            [
             0.2222222222222222,
             "#7201a8"
            ],
            [
             0.3333333333333333,
             "#9c179e"
            ],
            [
             0.4444444444444444,
             "#bd3786"
            ],
            [
             0.5555555555555556,
             "#d8576b"
            ],
            [
             0.6666666666666666,
             "#ed7953"
            ],
            [
             0.7777777777777778,
             "#fb9f3a"
            ],
            [
             0.8888888888888888,
             "#fdca26"
            ],
            [
             1,
             "#f0f921"
            ]
           ]
          },
          "colorway": [
           "#636efa",
           "#EF553B",
           "#00cc96",
           "#ab63fa",
           "#FFA15A",
           "#19d3f3",
           "#FF6692",
           "#B6E880",
           "#FF97FF",
           "#FECB52"
          ],
          "font": {
           "color": "#2a3f5f"
          },
          "geo": {
           "bgcolor": "white",
           "lakecolor": "white",
           "landcolor": "#E5ECF6",
           "showlakes": true,
           "showland": true,
           "subunitcolor": "white"
          },
          "hoverlabel": {
           "align": "left"
          },
          "hovermode": "closest",
          "mapbox": {
           "style": "light"
          },
          "paper_bgcolor": "white",
          "plot_bgcolor": "#E5ECF6",
          "polar": {
           "angularaxis": {
            "gridcolor": "white",
            "linecolor": "white",
            "ticks": ""
           },
           "bgcolor": "#E5ECF6",
           "radialaxis": {
            "gridcolor": "white",
            "linecolor": "white",
            "ticks": ""
           }
          },
          "scene": {
           "xaxis": {
            "backgroundcolor": "#E5ECF6",
            "gridcolor": "white",
            "gridwidth": 2,
            "linecolor": "white",
            "showbackground": true,
            "ticks": "",
            "zerolinecolor": "white"
           },
           "yaxis": {
            "backgroundcolor": "#E5ECF6",
            "gridcolor": "white",
            "gridwidth": 2,
            "linecolor": "white",
            "showbackground": true,
            "ticks": "",
            "zerolinecolor": "white"
           },
           "zaxis": {
            "backgroundcolor": "#E5ECF6",
            "gridcolor": "white",
            "gridwidth": 2,
            "linecolor": "white",
            "showbackground": true,
            "ticks": "",
            "zerolinecolor": "white"
           }
          },
          "shapedefaults": {
           "line": {
            "color": "#2a3f5f"
           }
          },
          "ternary": {
           "aaxis": {
            "gridcolor": "white",
            "linecolor": "white",
            "ticks": ""
           },
           "baxis": {
            "gridcolor": "white",
            "linecolor": "white",
            "ticks": ""
           },
           "bgcolor": "#E5ECF6",
           "caxis": {
            "gridcolor": "white",
            "linecolor": "white",
            "ticks": ""
           }
          },
          "title": {
           "x": 0.05
          },
          "xaxis": {
           "automargin": true,
           "gridcolor": "white",
           "linecolor": "white",
           "ticks": "",
           "title": {
            "standoff": 15
           },
           "zerolinecolor": "white",
           "zerolinewidth": 2
          },
          "yaxis": {
           "automargin": true,
           "gridcolor": "white",
           "linecolor": "white",
           "ticks": "",
           "title": {
            "standoff": 15
           },
           "zerolinecolor": "white",
           "zerolinewidth": 2
          }
         }
        },
        "title": {
         "text": "Média de Aluguel por tipo de Apartmento: Top vs Bottom"
        },
        "xaxis": {
         "title": {
          "text": " Tipo de Apartamento"
         }
        },
        "yaxis": {
         "title": {
          "text": "Média de Aluguel"
         }
        }
       }
      }
     },
     "metadata": {},
     "output_type": "display_data"
    }
   ],
   "source": [
    "rent_by_type_top = top_aptos.groupby(\"type\")[\"rent\"].mean().reset_index()\n",
    "\n",
    "rent_by_type_bottom = bottom_aptos.groupby(\"type\")[\"rent\"].mean().reset_index()\n",
    "\n",
    "fig = go.Figure()\n",
    "\n",
    "fig.add_trace(go.Bar(\n",
    "    x= rent_by_type_top[\"type\"],\n",
    "    y=rent_by_type_top[\"rent\"],\n",
    "    name = \"Top Aptos\"\n",
    "))\n",
    "\n",
    "fig.add_trace(go.Bar(\n",
    "    x= rent_by_type_bottom[\"type\"],\n",
    "    y=rent_by_type_bottom[\"rent\"],\n",
    "    name = \"Bottom Aptos\"\n",
    "))\n",
    "\n",
    "fig.update_layout(\n",
    "    title = \"Média de Aluguel por tipo de Apartmento: Top vs Bottom\",\n",
    "    xaxis_title=\" Tipo de Apartamento\",\n",
    "    yaxis_title=\"Média de Aluguel\"\n",
    ")\n",
    "\n",
    "fig.show()"
   ]
  },
  {
   "cell_type": "markdown",
   "metadata": {},
   "source": [
    "É interessante olhar que a distância do valor do aluguel das casas em condomínio e das casas fora de condomínio dos imóveis nos bairros nobres para os dos bairros de classes sociais mais baixas é parecido, enquanto o valor dos apartamentos se aproxima um pouco mais e dos studios e kitnets ficam mais próximos ainda. Isso parece sinalizar que os tipos de imóvel influenciam muito no preço e possuem um limite para o quão caro podem ficar, enquanto as casas provavelmente podem subir muito mais o valor. Em outras palavras, não há como um studio num bairro nobre atingir valores 10x maiores que os de bairros mais pobres, mas isso não acontece para as casas."
   ]
  },
  {
   "cell_type": "markdown",
   "metadata": {},
   "source": [
    "Os valores de aluguel de studio e kinet para ambos os grupos possui uma distância menor do que de casas. É esperado que o studio seja mais caro apenas pela localização, mas  pelo tamanho ele não consegue expandir, diferente da casa que valoriza no tempo tanta pela localização, quanto por sua estrutura, fazendo o preço subir até 10x mais."
   ]
  },
  {
   "cell_type": "markdown",
   "metadata": {},
   "source": [
    "Vamos analisar a area dos imóveis"
   ]
  },
  {
   "cell_type": "code",
   "execution_count": 16,
   "metadata": {},
   "outputs": [
    {
     "data": {
      "application/vnd.plotly.v1+json": {
       "config": {
        "plotlyServerURL": "https://plot.ly"
       },
       "data": [
        {
         "name": "Top Aptos",
         "type": "bar",
         "x": [
          "Apartamento",
          "Casa",
          "Casa em condomínio",
          "Studio e kitnet"
         ],
         "y": [
          116.8544776119403,
          306.7319587628866,
          238.47058823529412,
          37.51851851851852
         ]
        },
        {
         "name": "Bottom Aptos",
         "type": "bar",
         "x": [
          "Apartamento",
          "Casa",
          "Casa em condomínio",
          "Studio e kitnet"
         ],
         "y": [
          39.3125,
          45.44,
          42.333333333333336,
          23.333333333333332
         ]
        }
       ],
       "layout": {
        "template": {
         "data": {
          "bar": [
           {
            "error_x": {
             "color": "#2a3f5f"
            },
            "error_y": {
             "color": "#2a3f5f"
            },
            "marker": {
             "line": {
              "color": "#E5ECF6",
              "width": 0.5
             },
             "pattern": {
              "fillmode": "overlay",
              "size": 10,
              "solidity": 0.2
             }
            },
            "type": "bar"
           }
          ],
          "barpolar": [
           {
            "marker": {
             "line": {
              "color": "#E5ECF6",
              "width": 0.5
             },
             "pattern": {
              "fillmode": "overlay",
              "size": 10,
              "solidity": 0.2
             }
            },
            "type": "barpolar"
           }
          ],
          "carpet": [
           {
            "aaxis": {
             "endlinecolor": "#2a3f5f",
             "gridcolor": "white",
             "linecolor": "white",
             "minorgridcolor": "white",
             "startlinecolor": "#2a3f5f"
            },
            "baxis": {
             "endlinecolor": "#2a3f5f",
             "gridcolor": "white",
             "linecolor": "white",
             "minorgridcolor": "white",
             "startlinecolor": "#2a3f5f"
            },
            "type": "carpet"
           }
          ],
          "choropleth": [
           {
            "colorbar": {
             "outlinewidth": 0,
             "ticks": ""
            },
            "type": "choropleth"
           }
          ],
          "contour": [
           {
            "colorbar": {
             "outlinewidth": 0,
             "ticks": ""
            },
            "colorscale": [
             [
              0,
              "#0d0887"
             ],
             [
              0.1111111111111111,
              "#46039f"
             ],
             [
              0.2222222222222222,
              "#7201a8"
             ],
             [
              0.3333333333333333,
              "#9c179e"
             ],
             [
              0.4444444444444444,
              "#bd3786"
             ],
             [
              0.5555555555555556,
              "#d8576b"
             ],
             [
              0.6666666666666666,
              "#ed7953"
             ],
             [
              0.7777777777777778,
              "#fb9f3a"
             ],
             [
              0.8888888888888888,
              "#fdca26"
             ],
             [
              1,
              "#f0f921"
             ]
            ],
            "type": "contour"
           }
          ],
          "contourcarpet": [
           {
            "colorbar": {
             "outlinewidth": 0,
             "ticks": ""
            },
            "type": "contourcarpet"
           }
          ],
          "heatmap": [
           {
            "colorbar": {
             "outlinewidth": 0,
             "ticks": ""
            },
            "colorscale": [
             [
              0,
              "#0d0887"
             ],
             [
              0.1111111111111111,
              "#46039f"
             ],
             [
              0.2222222222222222,
              "#7201a8"
             ],
             [
              0.3333333333333333,
              "#9c179e"
             ],
             [
              0.4444444444444444,
              "#bd3786"
             ],
             [
              0.5555555555555556,
              "#d8576b"
             ],
             [
              0.6666666666666666,
              "#ed7953"
             ],
             [
              0.7777777777777778,
              "#fb9f3a"
             ],
             [
              0.8888888888888888,
              "#fdca26"
             ],
             [
              1,
              "#f0f921"
             ]
            ],
            "type": "heatmap"
           }
          ],
          "heatmapgl": [
           {
            "colorbar": {
             "outlinewidth": 0,
             "ticks": ""
            },
            "colorscale": [
             [
              0,
              "#0d0887"
             ],
             [
              0.1111111111111111,
              "#46039f"
             ],
             [
              0.2222222222222222,
              "#7201a8"
             ],
             [
              0.3333333333333333,
              "#9c179e"
             ],
             [
              0.4444444444444444,
              "#bd3786"
             ],
             [
              0.5555555555555556,
              "#d8576b"
             ],
             [
              0.6666666666666666,
              "#ed7953"
             ],
             [
              0.7777777777777778,
              "#fb9f3a"
             ],
             [
              0.8888888888888888,
              "#fdca26"
             ],
             [
              1,
              "#f0f921"
             ]
            ],
            "type": "heatmapgl"
           }
          ],
          "histogram": [
           {
            "marker": {
             "pattern": {
              "fillmode": "overlay",
              "size": 10,
              "solidity": 0.2
             }
            },
            "type": "histogram"
           }
          ],
          "histogram2d": [
           {
            "colorbar": {
             "outlinewidth": 0,
             "ticks": ""
            },
            "colorscale": [
             [
              0,
              "#0d0887"
             ],
             [
              0.1111111111111111,
              "#46039f"
             ],
             [
              0.2222222222222222,
              "#7201a8"
             ],
             [
              0.3333333333333333,
              "#9c179e"
             ],
             [
              0.4444444444444444,
              "#bd3786"
             ],
             [
              0.5555555555555556,
              "#d8576b"
             ],
             [
              0.6666666666666666,
              "#ed7953"
             ],
             [
              0.7777777777777778,
              "#fb9f3a"
             ],
             [
              0.8888888888888888,
              "#fdca26"
             ],
             [
              1,
              "#f0f921"
             ]
            ],
            "type": "histogram2d"
           }
          ],
          "histogram2dcontour": [
           {
            "colorbar": {
             "outlinewidth": 0,
             "ticks": ""
            },
            "colorscale": [
             [
              0,
              "#0d0887"
             ],
             [
              0.1111111111111111,
              "#46039f"
             ],
             [
              0.2222222222222222,
              "#7201a8"
             ],
             [
              0.3333333333333333,
              "#9c179e"
             ],
             [
              0.4444444444444444,
              "#bd3786"
             ],
             [
              0.5555555555555556,
              "#d8576b"
             ],
             [
              0.6666666666666666,
              "#ed7953"
             ],
             [
              0.7777777777777778,
              "#fb9f3a"
             ],
             [
              0.8888888888888888,
              "#fdca26"
             ],
             [
              1,
              "#f0f921"
             ]
            ],
            "type": "histogram2dcontour"
           }
          ],
          "mesh3d": [
           {
            "colorbar": {
             "outlinewidth": 0,
             "ticks": ""
            },
            "type": "mesh3d"
           }
          ],
          "parcoords": [
           {
            "line": {
             "colorbar": {
              "outlinewidth": 0,
              "ticks": ""
             }
            },
            "type": "parcoords"
           }
          ],
          "pie": [
           {
            "automargin": true,
            "type": "pie"
           }
          ],
          "scatter": [
           {
            "fillpattern": {
             "fillmode": "overlay",
             "size": 10,
             "solidity": 0.2
            },
            "type": "scatter"
           }
          ],
          "scatter3d": [
           {
            "line": {
             "colorbar": {
              "outlinewidth": 0,
              "ticks": ""
             }
            },
            "marker": {
             "colorbar": {
              "outlinewidth": 0,
              "ticks": ""
             }
            },
            "type": "scatter3d"
           }
          ],
          "scattercarpet": [
           {
            "marker": {
             "colorbar": {
              "outlinewidth": 0,
              "ticks": ""
             }
            },
            "type": "scattercarpet"
           }
          ],
          "scattergeo": [
           {
            "marker": {
             "colorbar": {
              "outlinewidth": 0,
              "ticks": ""
             }
            },
            "type": "scattergeo"
           }
          ],
          "scattergl": [
           {
            "marker": {
             "colorbar": {
              "outlinewidth": 0,
              "ticks": ""
             }
            },
            "type": "scattergl"
           }
          ],
          "scattermapbox": [
           {
            "marker": {
             "colorbar": {
              "outlinewidth": 0,
              "ticks": ""
             }
            },
            "type": "scattermapbox"
           }
          ],
          "scatterpolar": [
           {
            "marker": {
             "colorbar": {
              "outlinewidth": 0,
              "ticks": ""
             }
            },
            "type": "scatterpolar"
           }
          ],
          "scatterpolargl": [
           {
            "marker": {
             "colorbar": {
              "outlinewidth": 0,
              "ticks": ""
             }
            },
            "type": "scatterpolargl"
           }
          ],
          "scatterternary": [
           {
            "marker": {
             "colorbar": {
              "outlinewidth": 0,
              "ticks": ""
             }
            },
            "type": "scatterternary"
           }
          ],
          "surface": [
           {
            "colorbar": {
             "outlinewidth": 0,
             "ticks": ""
            },
            "colorscale": [
             [
              0,
              "#0d0887"
             ],
             [
              0.1111111111111111,
              "#46039f"
             ],
             [
              0.2222222222222222,
              "#7201a8"
             ],
             [
              0.3333333333333333,
              "#9c179e"
             ],
             [
              0.4444444444444444,
              "#bd3786"
             ],
             [
              0.5555555555555556,
              "#d8576b"
             ],
             [
              0.6666666666666666,
              "#ed7953"
             ],
             [
              0.7777777777777778,
              "#fb9f3a"
             ],
             [
              0.8888888888888888,
              "#fdca26"
             ],
             [
              1,
              "#f0f921"
             ]
            ],
            "type": "surface"
           }
          ],
          "table": [
           {
            "cells": {
             "fill": {
              "color": "#EBF0F8"
             },
             "line": {
              "color": "white"
             }
            },
            "header": {
             "fill": {
              "color": "#C8D4E3"
             },
             "line": {
              "color": "white"
             }
            },
            "type": "table"
           }
          ]
         },
         "layout": {
          "annotationdefaults": {
           "arrowcolor": "#2a3f5f",
           "arrowhead": 0,
           "arrowwidth": 1
          },
          "autotypenumbers": "strict",
          "coloraxis": {
           "colorbar": {
            "outlinewidth": 0,
            "ticks": ""
           }
          },
          "colorscale": {
           "diverging": [
            [
             0,
             "#8e0152"
            ],
            [
             0.1,
             "#c51b7d"
            ],
            [
             0.2,
             "#de77ae"
            ],
            [
             0.3,
             "#f1b6da"
            ],
            [
             0.4,
             "#fde0ef"
            ],
            [
             0.5,
             "#f7f7f7"
            ],
            [
             0.6,
             "#e6f5d0"
            ],
            [
             0.7,
             "#b8e186"
            ],
            [
             0.8,
             "#7fbc41"
            ],
            [
             0.9,
             "#4d9221"
            ],
            [
             1,
             "#276419"
            ]
           ],
           "sequential": [
            [
             0,
             "#0d0887"
            ],
            [
             0.1111111111111111,
             "#46039f"
            ],
            [
             0.2222222222222222,
             "#7201a8"
            ],
            [
             0.3333333333333333,
             "#9c179e"
            ],
            [
             0.4444444444444444,
             "#bd3786"
            ],
            [
             0.5555555555555556,
             "#d8576b"
            ],
            [
             0.6666666666666666,
             "#ed7953"
            ],
            [
             0.7777777777777778,
             "#fb9f3a"
            ],
            [
             0.8888888888888888,
             "#fdca26"
            ],
            [
             1,
             "#f0f921"
            ]
           ],
           "sequentialminus": [
            [
             0,
             "#0d0887"
            ],
            [
             0.1111111111111111,
             "#46039f"
            ],
            [
             0.2222222222222222,
             "#7201a8"
            ],
            [
             0.3333333333333333,
             "#9c179e"
            ],
            [
             0.4444444444444444,
             "#bd3786"
            ],
            [
             0.5555555555555556,
             "#d8576b"
            ],
            [
             0.6666666666666666,
             "#ed7953"
            ],
            [
             0.7777777777777778,
             "#fb9f3a"
            ],
            [
             0.8888888888888888,
             "#fdca26"
            ],
            [
             1,
             "#f0f921"
            ]
           ]
          },
          "colorway": [
           "#636efa",
           "#EF553B",
           "#00cc96",
           "#ab63fa",
           "#FFA15A",
           "#19d3f3",
           "#FF6692",
           "#B6E880",
           "#FF97FF",
           "#FECB52"
          ],
          "font": {
           "color": "#2a3f5f"
          },
          "geo": {
           "bgcolor": "white",
           "lakecolor": "white",
           "landcolor": "#E5ECF6",
           "showlakes": true,
           "showland": true,
           "subunitcolor": "white"
          },
          "hoverlabel": {
           "align": "left"
          },
          "hovermode": "closest",
          "mapbox": {
           "style": "light"
          },
          "paper_bgcolor": "white",
          "plot_bgcolor": "#E5ECF6",
          "polar": {
           "angularaxis": {
            "gridcolor": "white",
            "linecolor": "white",
            "ticks": ""
           },
           "bgcolor": "#E5ECF6",
           "radialaxis": {
            "gridcolor": "white",
            "linecolor": "white",
            "ticks": ""
           }
          },
          "scene": {
           "xaxis": {
            "backgroundcolor": "#E5ECF6",
            "gridcolor": "white",
            "gridwidth": 2,
            "linecolor": "white",
            "showbackground": true,
            "ticks": "",
            "zerolinecolor": "white"
           },
           "yaxis": {
            "backgroundcolor": "#E5ECF6",
            "gridcolor": "white",
            "gridwidth": 2,
            "linecolor": "white",
            "showbackground": true,
            "ticks": "",
            "zerolinecolor": "white"
           },
           "zaxis": {
            "backgroundcolor": "#E5ECF6",
            "gridcolor": "white",
            "gridwidth": 2,
            "linecolor": "white",
            "showbackground": true,
            "ticks": "",
            "zerolinecolor": "white"
           }
          },
          "shapedefaults": {
           "line": {
            "color": "#2a3f5f"
           }
          },
          "ternary": {
           "aaxis": {
            "gridcolor": "white",
            "linecolor": "white",
            "ticks": ""
           },
           "baxis": {
            "gridcolor": "white",
            "linecolor": "white",
            "ticks": ""
           },
           "bgcolor": "#E5ECF6",
           "caxis": {
            "gridcolor": "white",
            "linecolor": "white",
            "ticks": ""
           }
          },
          "title": {
           "x": 0.05
          },
          "xaxis": {
           "automargin": true,
           "gridcolor": "white",
           "linecolor": "white",
           "ticks": "",
           "title": {
            "standoff": 15
           },
           "zerolinecolor": "white",
           "zerolinewidth": 2
          },
          "yaxis": {
           "automargin": true,
           "gridcolor": "white",
           "linecolor": "white",
           "ticks": "",
           "title": {
            "standoff": 15
           },
           "zerolinecolor": "white",
           "zerolinewidth": 2
          }
         }
        },
        "title": {
         "text": "Média da Area por Tipo de Imóvel"
        },
        "xaxis": {
         "title": {
          "text": "Tipo de Imóvel"
         }
        },
        "yaxis": {
         "title": {
          "text": "Area"
         }
        }
       }
      }
     },
     "metadata": {},
     "output_type": "display_data"
    }
   ],
   "source": [
    "rent_by_type_top = top_aptos.groupby(\"type\")[\"area\"].mean().reset_index()\n",
    "rent_by_type_bottom = bottom_aptos.groupby(\"type\")[\"area\"].mean().reset_index()\n",
    "\n",
    "fig = go.Figure()\n",
    "\n",
    "fig.add_trace(go.Bar(\n",
    "    x = rent_by_type_top[\"type\"],\n",
    "    y = rent_by_type_top [\"area\"],\n",
    "    name = \"Top Aptos\"\n",
    "))\n",
    "\n",
    "fig.add_trace(go.Bar(\n",
    "    x = rent_by_type_bottom[\"type\"],\n",
    "    y = rent_by_type_bottom [\"area\"],\n",
    "    name=\"Bottom Aptos\"\n",
    "))\n",
    "\n",
    "fig.update_layout(\n",
    "    title = \"Média da Area por Tipo de Imóvel\",\n",
    "    xaxis_title = \"Tipo de Imóvel\",\n",
    "    yaxis_title = \"Area\"\n",
    ")\n",
    "\n",
    "fig.show()"
   ]
  },
  {
   "cell_type": "markdown",
   "metadata": {},
   "source": [
    "A diferença de área no do tamanho das casas de bairros de diferentes classes sociais é bem maior que a diferenã no tamanho de apartamento e studio e kintet, Isso explica por que no preço ser muito mais agressiva."
   ]
  },
  {
   "cell_type": "markdown",
   "metadata": {},
   "source": [
    "Seguindo com a análise…\n",
    "\n",
    "Conforme mencionamos antes, a diferença nos preços das casas em bairros de diferentes classes sociais é muito maior devido a dois fatores principais. Primeiro, a localização privilegiada, que é um elemento significativo incluído no preço. Segundo, o tamanho das propriedades, que também tem seu impacto, e é bastante relevante. Esses fatores combinados contribuem para uma disparidade mais acentuada nos preços das casas, em comparação com imóveis como apartamentos, estúdios e kitnets. Veja que a gente foi guiando o leitor contando a nossa historinha sobre a diferença dos bairros, que tem sido o foco da análise.\n",
    "\n",
    "Uma dica, se você não tem muita noção das hipóteses, não existe nada de errado em buscar no Google e consultar colegas. Além disso, vale ter em mente que a análise de dados passa por isso, por questionar as hipóteses que estão sendo analisadas. Logo, é interessante lidar com dados que você tem alguma familiaridade. Lembra do diagrama de Venn do cientista de dados, temos estatística, programação e negócio / expertise na área.\n",
    "\n",
    "Seguindo com a análise, ainda poderíamos olhar para muitas variáveis, mas creio que podemos finalizar simplesmente olhando para as características de cada grupo, em relação ao tipo de imóvel, número de quartos e número de vagas na garagem. Começamos pelos quartos:"
   ]
  },
  {
   "cell_type": "code",
   "execution_count": 17,
   "metadata": {},
   "outputs": [
    {
     "data": {
      "application/vnd.plotly.v1+json": {
       "config": {
        "plotlyServerURL": "https://plot.ly"
       },
       "data": [
        {
         "name": "Top Aptos",
         "type": "bar",
         "x": [
          1,
          2,
          3,
          4,
          5,
          6
         ],
         "y": [
          97,
          94,
          125,
          75,
          15,
          3
         ]
        },
        {
         "name": "Bottom Aptos",
         "type": "bar",
         "x": [
          1,
          2
         ],
         "y": [
          65,
          10
         ]
        }
       ],
       "layout": {
        "template": {
         "data": {
          "bar": [
           {
            "error_x": {
             "color": "#2a3f5f"
            },
            "error_y": {
             "color": "#2a3f5f"
            },
            "marker": {
             "line": {
              "color": "#E5ECF6",
              "width": 0.5
             },
             "pattern": {
              "fillmode": "overlay",
              "size": 10,
              "solidity": 0.2
             }
            },
            "type": "bar"
           }
          ],
          "barpolar": [
           {
            "marker": {
             "line": {
              "color": "#E5ECF6",
              "width": 0.5
             },
             "pattern": {
              "fillmode": "overlay",
              "size": 10,
              "solidity": 0.2
             }
            },
            "type": "barpolar"
           }
          ],
          "carpet": [
           {
            "aaxis": {
             "endlinecolor": "#2a3f5f",
             "gridcolor": "white",
             "linecolor": "white",
             "minorgridcolor": "white",
             "startlinecolor": "#2a3f5f"
            },
            "baxis": {
             "endlinecolor": "#2a3f5f",
             "gridcolor": "white",
             "linecolor": "white",
             "minorgridcolor": "white",
             "startlinecolor": "#2a3f5f"
            },
            "type": "carpet"
           }
          ],
          "choropleth": [
           {
            "colorbar": {
             "outlinewidth": 0,
             "ticks": ""
            },
            "type": "choropleth"
           }
          ],
          "contour": [
           {
            "colorbar": {
             "outlinewidth": 0,
             "ticks": ""
            },
            "colorscale": [
             [
              0,
              "#0d0887"
             ],
             [
              0.1111111111111111,
              "#46039f"
             ],
             [
              0.2222222222222222,
              "#7201a8"
             ],
             [
              0.3333333333333333,
              "#9c179e"
             ],
             [
              0.4444444444444444,
              "#bd3786"
             ],
             [
              0.5555555555555556,
              "#d8576b"
             ],
             [
              0.6666666666666666,
              "#ed7953"
             ],
             [
              0.7777777777777778,
              "#fb9f3a"
             ],
             [
              0.8888888888888888,
              "#fdca26"
             ],
             [
              1,
              "#f0f921"
             ]
            ],
            "type": "contour"
           }
          ],
          "contourcarpet": [
           {
            "colorbar": {
             "outlinewidth": 0,
             "ticks": ""
            },
            "type": "contourcarpet"
           }
          ],
          "heatmap": [
           {
            "colorbar": {
             "outlinewidth": 0,
             "ticks": ""
            },
            "colorscale": [
             [
              0,
              "#0d0887"
             ],
             [
              0.1111111111111111,
              "#46039f"
             ],
             [
              0.2222222222222222,
              "#7201a8"
             ],
             [
              0.3333333333333333,
              "#9c179e"
             ],
             [
              0.4444444444444444,
              "#bd3786"
             ],
             [
              0.5555555555555556,
              "#d8576b"
             ],
             [
              0.6666666666666666,
              "#ed7953"
             ],
             [
              0.7777777777777778,
              "#fb9f3a"
             ],
             [
              0.8888888888888888,
              "#fdca26"
             ],
             [
              1,
              "#f0f921"
             ]
            ],
            "type": "heatmap"
           }
          ],
          "heatmapgl": [
           {
            "colorbar": {
             "outlinewidth": 0,
             "ticks": ""
            },
            "colorscale": [
             [
              0,
              "#0d0887"
             ],
             [
              0.1111111111111111,
              "#46039f"
             ],
             [
              0.2222222222222222,
              "#7201a8"
             ],
             [
              0.3333333333333333,
              "#9c179e"
             ],
             [
              0.4444444444444444,
              "#bd3786"
             ],
             [
              0.5555555555555556,
              "#d8576b"
             ],
             [
              0.6666666666666666,
              "#ed7953"
             ],
             [
              0.7777777777777778,
              "#fb9f3a"
             ],
             [
              0.8888888888888888,
              "#fdca26"
             ],
             [
              1,
              "#f0f921"
             ]
            ],
            "type": "heatmapgl"
           }
          ],
          "histogram": [
           {
            "marker": {
             "pattern": {
              "fillmode": "overlay",
              "size": 10,
              "solidity": 0.2
             }
            },
            "type": "histogram"
           }
          ],
          "histogram2d": [
           {
            "colorbar": {
             "outlinewidth": 0,
             "ticks": ""
            },
            "colorscale": [
             [
              0,
              "#0d0887"
             ],
             [
              0.1111111111111111,
              "#46039f"
             ],
             [
              0.2222222222222222,
              "#7201a8"
             ],
             [
              0.3333333333333333,
              "#9c179e"
             ],
             [
              0.4444444444444444,
              "#bd3786"
             ],
             [
              0.5555555555555556,
              "#d8576b"
             ],
             [
              0.6666666666666666,
              "#ed7953"
             ],
             [
              0.7777777777777778,
              "#fb9f3a"
             ],
             [
              0.8888888888888888,
              "#fdca26"
             ],
             [
              1,
              "#f0f921"
             ]
            ],
            "type": "histogram2d"
           }
          ],
          "histogram2dcontour": [
           {
            "colorbar": {
             "outlinewidth": 0,
             "ticks": ""
            },
            "colorscale": [
             [
              0,
              "#0d0887"
             ],
             [
              0.1111111111111111,
              "#46039f"
             ],
             [
              0.2222222222222222,
              "#7201a8"
             ],
             [
              0.3333333333333333,
              "#9c179e"
             ],
             [
              0.4444444444444444,
              "#bd3786"
             ],
             [
              0.5555555555555556,
              "#d8576b"
             ],
             [
              0.6666666666666666,
              "#ed7953"
             ],
             [
              0.7777777777777778,
              "#fb9f3a"
             ],
             [
              0.8888888888888888,
              "#fdca26"
             ],
             [
              1,
              "#f0f921"
             ]
            ],
            "type": "histogram2dcontour"
           }
          ],
          "mesh3d": [
           {
            "colorbar": {
             "outlinewidth": 0,
             "ticks": ""
            },
            "type": "mesh3d"
           }
          ],
          "parcoords": [
           {
            "line": {
             "colorbar": {
              "outlinewidth": 0,
              "ticks": ""
             }
            },
            "type": "parcoords"
           }
          ],
          "pie": [
           {
            "automargin": true,
            "type": "pie"
           }
          ],
          "scatter": [
           {
            "fillpattern": {
             "fillmode": "overlay",
             "size": 10,
             "solidity": 0.2
            },
            "type": "scatter"
           }
          ],
          "scatter3d": [
           {
            "line": {
             "colorbar": {
              "outlinewidth": 0,
              "ticks": ""
             }
            },
            "marker": {
             "colorbar": {
              "outlinewidth": 0,
              "ticks": ""
             }
            },
            "type": "scatter3d"
           }
          ],
          "scattercarpet": [
           {
            "marker": {
             "colorbar": {
              "outlinewidth": 0,
              "ticks": ""
             }
            },
            "type": "scattercarpet"
           }
          ],
          "scattergeo": [
           {
            "marker": {
             "colorbar": {
              "outlinewidth": 0,
              "ticks": ""
             }
            },
            "type": "scattergeo"
           }
          ],
          "scattergl": [
           {
            "marker": {
             "colorbar": {
              "outlinewidth": 0,
              "ticks": ""
             }
            },
            "type": "scattergl"
           }
          ],
          "scattermapbox": [
           {
            "marker": {
             "colorbar": {
              "outlinewidth": 0,
              "ticks": ""
             }
            },
            "type": "scattermapbox"
           }
          ],
          "scatterpolar": [
           {
            "marker": {
             "colorbar": {
              "outlinewidth": 0,
              "ticks": ""
             }
            },
            "type": "scatterpolar"
           }
          ],
          "scatterpolargl": [
           {
            "marker": {
             "colorbar": {
              "outlinewidth": 0,
              "ticks": ""
             }
            },
            "type": "scatterpolargl"
           }
          ],
          "scatterternary": [
           {
            "marker": {
             "colorbar": {
              "outlinewidth": 0,
              "ticks": ""
             }
            },
            "type": "scatterternary"
           }
          ],
          "surface": [
           {
            "colorbar": {
             "outlinewidth": 0,
             "ticks": ""
            },
            "colorscale": [
             [
              0,
              "#0d0887"
             ],
             [
              0.1111111111111111,
              "#46039f"
             ],
             [
              0.2222222222222222,
              "#7201a8"
             ],
             [
              0.3333333333333333,
              "#9c179e"
             ],
             [
              0.4444444444444444,
              "#bd3786"
             ],
             [
              0.5555555555555556,
              "#d8576b"
             ],
             [
              0.6666666666666666,
              "#ed7953"
             ],
             [
              0.7777777777777778,
              "#fb9f3a"
             ],
             [
              0.8888888888888888,
              "#fdca26"
             ],
             [
              1,
              "#f0f921"
             ]
            ],
            "type": "surface"
           }
          ],
          "table": [
           {
            "cells": {
             "fill": {
              "color": "#EBF0F8"
             },
             "line": {
              "color": "white"
             }
            },
            "header": {
             "fill": {
              "color": "#C8D4E3"
             },
             "line": {
              "color": "white"
             }
            },
            "type": "table"
           }
          ]
         },
         "layout": {
          "annotationdefaults": {
           "arrowcolor": "#2a3f5f",
           "arrowhead": 0,
           "arrowwidth": 1
          },
          "autotypenumbers": "strict",
          "coloraxis": {
           "colorbar": {
            "outlinewidth": 0,
            "ticks": ""
           }
          },
          "colorscale": {
           "diverging": [
            [
             0,
             "#8e0152"
            ],
            [
             0.1,
             "#c51b7d"
            ],
            [
             0.2,
             "#de77ae"
            ],
            [
             0.3,
             "#f1b6da"
            ],
            [
             0.4,
             "#fde0ef"
            ],
            [
             0.5,
             "#f7f7f7"
            ],
            [
             0.6,
             "#e6f5d0"
            ],
            [
             0.7,
             "#b8e186"
            ],
            [
             0.8,
             "#7fbc41"
            ],
            [
             0.9,
             "#4d9221"
            ],
            [
             1,
             "#276419"
            ]
           ],
           "sequential": [
            [
             0,
             "#0d0887"
            ],
            [
             0.1111111111111111,
             "#46039f"
            ],
            [
             0.2222222222222222,
             "#7201a8"
            ],
            [
             0.3333333333333333,
             "#9c179e"
            ],
            [
             0.4444444444444444,
             "#bd3786"
            ],
            [
             0.5555555555555556,
             "#d8576b"
            ],
            [
             0.6666666666666666,
             "#ed7953"
            ],
            [
             0.7777777777777778,
             "#fb9f3a"
            ],
            [
             0.8888888888888888,
             "#fdca26"
            ],
            [
             1,
             "#f0f921"
            ]
           ],
           "sequentialminus": [
            [
             0,
             "#0d0887"
            ],
            [
             0.1111111111111111,
             "#46039f"
            ],
            [
             0.2222222222222222,
             "#7201a8"
            ],
            [
             0.3333333333333333,
             "#9c179e"
            ],
            [
             0.4444444444444444,
             "#bd3786"
            ],
            [
             0.5555555555555556,
             "#d8576b"
            ],
            [
             0.6666666666666666,
             "#ed7953"
            ],
            [
             0.7777777777777778,
             "#fb9f3a"
            ],
            [
             0.8888888888888888,
             "#fdca26"
            ],
            [
             1,
             "#f0f921"
            ]
           ]
          },
          "colorway": [
           "#636efa",
           "#EF553B",
           "#00cc96",
           "#ab63fa",
           "#FFA15A",
           "#19d3f3",
           "#FF6692",
           "#B6E880",
           "#FF97FF",
           "#FECB52"
          ],
          "font": {
           "color": "#2a3f5f"
          },
          "geo": {
           "bgcolor": "white",
           "lakecolor": "white",
           "landcolor": "#E5ECF6",
           "showlakes": true,
           "showland": true,
           "subunitcolor": "white"
          },
          "hoverlabel": {
           "align": "left"
          },
          "hovermode": "closest",
          "mapbox": {
           "style": "light"
          },
          "paper_bgcolor": "white",
          "plot_bgcolor": "#E5ECF6",
          "polar": {
           "angularaxis": {
            "gridcolor": "white",
            "linecolor": "white",
            "ticks": ""
           },
           "bgcolor": "#E5ECF6",
           "radialaxis": {
            "gridcolor": "white",
            "linecolor": "white",
            "ticks": ""
           }
          },
          "scene": {
           "xaxis": {
            "backgroundcolor": "#E5ECF6",
            "gridcolor": "white",
            "gridwidth": 2,
            "linecolor": "white",
            "showbackground": true,
            "ticks": "",
            "zerolinecolor": "white"
           },
           "yaxis": {
            "backgroundcolor": "#E5ECF6",
            "gridcolor": "white",
            "gridwidth": 2,
            "linecolor": "white",
            "showbackground": true,
            "ticks": "",
            "zerolinecolor": "white"
           },
           "zaxis": {
            "backgroundcolor": "#E5ECF6",
            "gridcolor": "white",
            "gridwidth": 2,
            "linecolor": "white",
            "showbackground": true,
            "ticks": "",
            "zerolinecolor": "white"
           }
          },
          "shapedefaults": {
           "line": {
            "color": "#2a3f5f"
           }
          },
          "ternary": {
           "aaxis": {
            "gridcolor": "white",
            "linecolor": "white",
            "ticks": ""
           },
           "baxis": {
            "gridcolor": "white",
            "linecolor": "white",
            "ticks": ""
           },
           "bgcolor": "#E5ECF6",
           "caxis": {
            "gridcolor": "white",
            "linecolor": "white",
            "ticks": ""
           }
          },
          "title": {
           "x": 0.05
          },
          "xaxis": {
           "automargin": true,
           "gridcolor": "white",
           "linecolor": "white",
           "ticks": "",
           "title": {
            "standoff": 15
           },
           "zerolinecolor": "white",
           "zerolinewidth": 2
          },
          "yaxis": {
           "automargin": true,
           "gridcolor": "white",
           "linecolor": "white",
           "ticks": "",
           "title": {
            "standoff": 15
           },
           "zerolinecolor": "white",
           "zerolinewidth": 2
          }
         }
        },
        "title": {
         "text": "Quantidade de Imóveis por N° de Quartos"
        },
        "xaxis": {
         "title": {
          "text": "N° de Quartos"
         }
        },
        "yaxis": {
         "title": {
          "text": "Quantidade"
         }
        }
       }
      }
     },
     "metadata": {},
     "output_type": "display_data"
    }
   ],
   "source": [
    "top_aptos_bedrooms = top_aptos[\"bedrooms\"].value_counts().reset_index()\n",
    "top_aptos_bedrooms.columns = [\"N° de Quartos\",\"Quantidade\"]\n",
    "top_aptos_bedrooms = top_aptos_bedrooms.sort_values(by=\"N° de Quartos\", ascending = True)\n",
    "\n",
    "bottom_aptos_bedrooms = bottom_aptos [\"bedrooms\"].value_counts().reset_index()\n",
    "bottom_aptos_bedrooms.columns = [\"N° de Quartos\",\"Quantidade\"]\n",
    "bottom_aptos_bedrooms = bottom_aptos_bedrooms.sort_values(by=\"N° de Quartos\", ascending = True)\n",
    "\n",
    "fig = go.Figure()\n",
    "\n",
    "fig.add_trace(go.Bar(\n",
    "    x = top_aptos_bedrooms[\"N° de Quartos\"],\n",
    "    y = top_aptos_bedrooms [\"Quantidade\"],\n",
    "    name = \"Top Aptos\"\n",
    "))\n",
    "\n",
    "fig.add_trace(go.Bar(\n",
    "    x = bottom_aptos_bedrooms[\"N° de Quartos\"],\n",
    "    y = bottom_aptos_bedrooms [\"Quantidade\"],\n",
    "    name = \"Bottom Aptos\"\n",
    "))\n",
    "\n",
    "fig.update_layout(\n",
    "    title=\"Quantidade de Imóveis por N° de Quartos\",\n",
    "    xaxis_title=\"N° de Quartos\",\n",
    "    yaxis_title=\"Quantidade\"\n",
    ")\n",
    "\n",
    "fig.show()"
   ]
  },
  {
   "cell_type": "markdown",
   "metadata": {},
   "source": [
    "Veja que interessante, nos imóveis nos bairros mais baratos, não temos mais de 3 quartos. Ou seja, todos os imóveis destes locais são bem simples, independente de ser casa ou apartamento. Mais do que isso, a maioria só possui 1 quarto, tendo somente 10 imóveis com 2 quartos (15%).\n",
    "\n",
    "E olhando para as vagas na garagem, temos:"
   ]
  },
  {
   "cell_type": "code",
   "execution_count": 18,
   "metadata": {},
   "outputs": [
    {
     "data": {
      "application/vnd.plotly.v1+json": {
       "config": {
        "plotlyServerURL": "https://plot.ly"
       },
       "data": [
        {
         "name": "Top Aptos",
         "type": "bar",
         "x": [
          0,
          1,
          2,
          3,
          4,
          5,
          6
         ],
         "y": [
          36,
          144,
          119,
          44,
          31,
          17,
          18
         ]
        },
        {
         "name": "Bottom Aptos",
         "type": "bar",
         "x": [
          0,
          1
         ],
         "y": [
          65,
          10
         ]
        }
       ],
       "layout": {
        "template": {
         "data": {
          "bar": [
           {
            "error_x": {
             "color": "#2a3f5f"
            },
            "error_y": {
             "color": "#2a3f5f"
            },
            "marker": {
             "line": {
              "color": "#E5ECF6",
              "width": 0.5
             },
             "pattern": {
              "fillmode": "overlay",
              "size": 10,
              "solidity": 0.2
             }
            },
            "type": "bar"
           }
          ],
          "barpolar": [
           {
            "marker": {
             "line": {
              "color": "#E5ECF6",
              "width": 0.5
             },
             "pattern": {
              "fillmode": "overlay",
              "size": 10,
              "solidity": 0.2
             }
            },
            "type": "barpolar"
           }
          ],
          "carpet": [
           {
            "aaxis": {
             "endlinecolor": "#2a3f5f",
             "gridcolor": "white",
             "linecolor": "white",
             "minorgridcolor": "white",
             "startlinecolor": "#2a3f5f"
            },
            "baxis": {
             "endlinecolor": "#2a3f5f",
             "gridcolor": "white",
             "linecolor": "white",
             "minorgridcolor": "white",
             "startlinecolor": "#2a3f5f"
            },
            "type": "carpet"
           }
          ],
          "choropleth": [
           {
            "colorbar": {
             "outlinewidth": 0,
             "ticks": ""
            },
            "type": "choropleth"
           }
          ],
          "contour": [
           {
            "colorbar": {
             "outlinewidth": 0,
             "ticks": ""
            },
            "colorscale": [
             [
              0,
              "#0d0887"
             ],
             [
              0.1111111111111111,
              "#46039f"
             ],
             [
              0.2222222222222222,
              "#7201a8"
             ],
             [
              0.3333333333333333,
              "#9c179e"
             ],
             [
              0.4444444444444444,
              "#bd3786"
             ],
             [
              0.5555555555555556,
              "#d8576b"
             ],
             [
              0.6666666666666666,
              "#ed7953"
             ],
             [
              0.7777777777777778,
              "#fb9f3a"
             ],
             [
              0.8888888888888888,
              "#fdca26"
             ],
             [
              1,
              "#f0f921"
             ]
            ],
            "type": "contour"
           }
          ],
          "contourcarpet": [
           {
            "colorbar": {
             "outlinewidth": 0,
             "ticks": ""
            },
            "type": "contourcarpet"
           }
          ],
          "heatmap": [
           {
            "colorbar": {
             "outlinewidth": 0,
             "ticks": ""
            },
            "colorscale": [
             [
              0,
              "#0d0887"
             ],
             [
              0.1111111111111111,
              "#46039f"
             ],
             [
              0.2222222222222222,
              "#7201a8"
             ],
             [
              0.3333333333333333,
              "#9c179e"
             ],
             [
              0.4444444444444444,
              "#bd3786"
             ],
             [
              0.5555555555555556,
              "#d8576b"
             ],
             [
              0.6666666666666666,
              "#ed7953"
             ],
             [
              0.7777777777777778,
              "#fb9f3a"
             ],
             [
              0.8888888888888888,
              "#fdca26"
             ],
             [
              1,
              "#f0f921"
             ]
            ],
            "type": "heatmap"
           }
          ],
          "heatmapgl": [
           {
            "colorbar": {
             "outlinewidth": 0,
             "ticks": ""
            },
            "colorscale": [
             [
              0,
              "#0d0887"
             ],
             [
              0.1111111111111111,
              "#46039f"
             ],
             [
              0.2222222222222222,
              "#7201a8"
             ],
             [
              0.3333333333333333,
              "#9c179e"
             ],
             [
              0.4444444444444444,
              "#bd3786"
             ],
             [
              0.5555555555555556,
              "#d8576b"
             ],
             [
              0.6666666666666666,
              "#ed7953"
             ],
             [
              0.7777777777777778,
              "#fb9f3a"
             ],
             [
              0.8888888888888888,
              "#fdca26"
             ],
             [
              1,
              "#f0f921"
             ]
            ],
            "type": "heatmapgl"
           }
          ],
          "histogram": [
           {
            "marker": {
             "pattern": {
              "fillmode": "overlay",
              "size": 10,
              "solidity": 0.2
             }
            },
            "type": "histogram"
           }
          ],
          "histogram2d": [
           {
            "colorbar": {
             "outlinewidth": 0,
             "ticks": ""
            },
            "colorscale": [
             [
              0,
              "#0d0887"
             ],
             [
              0.1111111111111111,
              "#46039f"
             ],
             [
              0.2222222222222222,
              "#7201a8"
             ],
             [
              0.3333333333333333,
              "#9c179e"
             ],
             [
              0.4444444444444444,
              "#bd3786"
             ],
             [
              0.5555555555555556,
              "#d8576b"
             ],
             [
              0.6666666666666666,
              "#ed7953"
             ],
             [
              0.7777777777777778,
              "#fb9f3a"
             ],
             [
              0.8888888888888888,
              "#fdca26"
             ],
             [
              1,
              "#f0f921"
             ]
            ],
            "type": "histogram2d"
           }
          ],
          "histogram2dcontour": [
           {
            "colorbar": {
             "outlinewidth": 0,
             "ticks": ""
            },
            "colorscale": [
             [
              0,
              "#0d0887"
             ],
             [
              0.1111111111111111,
              "#46039f"
             ],
             [
              0.2222222222222222,
              "#7201a8"
             ],
             [
              0.3333333333333333,
              "#9c179e"
             ],
             [
              0.4444444444444444,
              "#bd3786"
             ],
             [
              0.5555555555555556,
              "#d8576b"
             ],
             [
              0.6666666666666666,
              "#ed7953"
             ],
             [
              0.7777777777777778,
              "#fb9f3a"
             ],
             [
              0.8888888888888888,
              "#fdca26"
             ],
             [
              1,
              "#f0f921"
             ]
            ],
            "type": "histogram2dcontour"
           }
          ],
          "mesh3d": [
           {
            "colorbar": {
             "outlinewidth": 0,
             "ticks": ""
            },
            "type": "mesh3d"
           }
          ],
          "parcoords": [
           {
            "line": {
             "colorbar": {
              "outlinewidth": 0,
              "ticks": ""
             }
            },
            "type": "parcoords"
           }
          ],
          "pie": [
           {
            "automargin": true,
            "type": "pie"
           }
          ],
          "scatter": [
           {
            "fillpattern": {
             "fillmode": "overlay",
             "size": 10,
             "solidity": 0.2
            },
            "type": "scatter"
           }
          ],
          "scatter3d": [
           {
            "line": {
             "colorbar": {
              "outlinewidth": 0,
              "ticks": ""
             }
            },
            "marker": {
             "colorbar": {
              "outlinewidth": 0,
              "ticks": ""
             }
            },
            "type": "scatter3d"
           }
          ],
          "scattercarpet": [
           {
            "marker": {
             "colorbar": {
              "outlinewidth": 0,
              "ticks": ""
             }
            },
            "type": "scattercarpet"
           }
          ],
          "scattergeo": [
           {
            "marker": {
             "colorbar": {
              "outlinewidth": 0,
              "ticks": ""
             }
            },
            "type": "scattergeo"
           }
          ],
          "scattergl": [
           {
            "marker": {
             "colorbar": {
              "outlinewidth": 0,
              "ticks": ""
             }
            },
            "type": "scattergl"
           }
          ],
          "scattermapbox": [
           {
            "marker": {
             "colorbar": {
              "outlinewidth": 0,
              "ticks": ""
             }
            },
            "type": "scattermapbox"
           }
          ],
          "scatterpolar": [
           {
            "marker": {
             "colorbar": {
              "outlinewidth": 0,
              "ticks": ""
             }
            },
            "type": "scatterpolar"
           }
          ],
          "scatterpolargl": [
           {
            "marker": {
             "colorbar": {
              "outlinewidth": 0,
              "ticks": ""
             }
            },
            "type": "scatterpolargl"
           }
          ],
          "scatterternary": [
           {
            "marker": {
             "colorbar": {
              "outlinewidth": 0,
              "ticks": ""
             }
            },
            "type": "scatterternary"
           }
          ],
          "surface": [
           {
            "colorbar": {
             "outlinewidth": 0,
             "ticks": ""
            },
            "colorscale": [
             [
              0,
              "#0d0887"
             ],
             [
              0.1111111111111111,
              "#46039f"
             ],
             [
              0.2222222222222222,
              "#7201a8"
             ],
             [
              0.3333333333333333,
              "#9c179e"
             ],
             [
              0.4444444444444444,
              "#bd3786"
             ],
             [
              0.5555555555555556,
              "#d8576b"
             ],
             [
              0.6666666666666666,
              "#ed7953"
             ],
             [
              0.7777777777777778,
              "#fb9f3a"
             ],
             [
              0.8888888888888888,
              "#fdca26"
             ],
             [
              1,
              "#f0f921"
             ]
            ],
            "type": "surface"
           }
          ],
          "table": [
           {
            "cells": {
             "fill": {
              "color": "#EBF0F8"
             },
             "line": {
              "color": "white"
             }
            },
            "header": {
             "fill": {
              "color": "#C8D4E3"
             },
             "line": {
              "color": "white"
             }
            },
            "type": "table"
           }
          ]
         },
         "layout": {
          "annotationdefaults": {
           "arrowcolor": "#2a3f5f",
           "arrowhead": 0,
           "arrowwidth": 1
          },
          "autotypenumbers": "strict",
          "coloraxis": {
           "colorbar": {
            "outlinewidth": 0,
            "ticks": ""
           }
          },
          "colorscale": {
           "diverging": [
            [
             0,
             "#8e0152"
            ],
            [
             0.1,
             "#c51b7d"
            ],
            [
             0.2,
             "#de77ae"
            ],
            [
             0.3,
             "#f1b6da"
            ],
            [
             0.4,
             "#fde0ef"
            ],
            [
             0.5,
             "#f7f7f7"
            ],
            [
             0.6,
             "#e6f5d0"
            ],
            [
             0.7,
             "#b8e186"
            ],
            [
             0.8,
             "#7fbc41"
            ],
            [
             0.9,
             "#4d9221"
            ],
            [
             1,
             "#276419"
            ]
           ],
           "sequential": [
            [
             0,
             "#0d0887"
            ],
            [
             0.1111111111111111,
             "#46039f"
            ],
            [
             0.2222222222222222,
             "#7201a8"
            ],
            [
             0.3333333333333333,
             "#9c179e"
            ],
            [
             0.4444444444444444,
             "#bd3786"
            ],
            [
             0.5555555555555556,
             "#d8576b"
            ],
            [
             0.6666666666666666,
             "#ed7953"
            ],
            [
             0.7777777777777778,
             "#fb9f3a"
            ],
            [
             0.8888888888888888,
             "#fdca26"
            ],
            [
             1,
             "#f0f921"
            ]
           ],
           "sequentialminus": [
            [
             0,
             "#0d0887"
            ],
            [
             0.1111111111111111,
             "#46039f"
            ],
            [
             0.2222222222222222,
             "#7201a8"
            ],
            [
             0.3333333333333333,
             "#9c179e"
            ],
            [
             0.4444444444444444,
             "#bd3786"
            ],
            [
             0.5555555555555556,
             "#d8576b"
            ],
            [
             0.6666666666666666,
             "#ed7953"
            ],
            [
             0.7777777777777778,
             "#fb9f3a"
            ],
            [
             0.8888888888888888,
             "#fdca26"
            ],
            [
             1,
             "#f0f921"
            ]
           ]
          },
          "colorway": [
           "#636efa",
           "#EF553B",
           "#00cc96",
           "#ab63fa",
           "#FFA15A",
           "#19d3f3",
           "#FF6692",
           "#B6E880",
           "#FF97FF",
           "#FECB52"
          ],
          "font": {
           "color": "#2a3f5f"
          },
          "geo": {
           "bgcolor": "white",
           "lakecolor": "white",
           "landcolor": "#E5ECF6",
           "showlakes": true,
           "showland": true,
           "subunitcolor": "white"
          },
          "hoverlabel": {
           "align": "left"
          },
          "hovermode": "closest",
          "mapbox": {
           "style": "light"
          },
          "paper_bgcolor": "white",
          "plot_bgcolor": "#E5ECF6",
          "polar": {
           "angularaxis": {
            "gridcolor": "white",
            "linecolor": "white",
            "ticks": ""
           },
           "bgcolor": "#E5ECF6",
           "radialaxis": {
            "gridcolor": "white",
            "linecolor": "white",
            "ticks": ""
           }
          },
          "scene": {
           "xaxis": {
            "backgroundcolor": "#E5ECF6",
            "gridcolor": "white",
            "gridwidth": 2,
            "linecolor": "white",
            "showbackground": true,
            "ticks": "",
            "zerolinecolor": "white"
           },
           "yaxis": {
            "backgroundcolor": "#E5ECF6",
            "gridcolor": "white",
            "gridwidth": 2,
            "linecolor": "white",
            "showbackground": true,
            "ticks": "",
            "zerolinecolor": "white"
           },
           "zaxis": {
            "backgroundcolor": "#E5ECF6",
            "gridcolor": "white",
            "gridwidth": 2,
            "linecolor": "white",
            "showbackground": true,
            "ticks": "",
            "zerolinecolor": "white"
           }
          },
          "shapedefaults": {
           "line": {
            "color": "#2a3f5f"
           }
          },
          "ternary": {
           "aaxis": {
            "gridcolor": "white",
            "linecolor": "white",
            "ticks": ""
           },
           "baxis": {
            "gridcolor": "white",
            "linecolor": "white",
            "ticks": ""
           },
           "bgcolor": "#E5ECF6",
           "caxis": {
            "gridcolor": "white",
            "linecolor": "white",
            "ticks": ""
           }
          },
          "title": {
           "x": 0.05
          },
          "xaxis": {
           "automargin": true,
           "gridcolor": "white",
           "linecolor": "white",
           "ticks": "",
           "title": {
            "standoff": 15
           },
           "zerolinecolor": "white",
           "zerolinewidth": 2
          },
          "yaxis": {
           "automargin": true,
           "gridcolor": "white",
           "linecolor": "white",
           "ticks": "",
           "title": {
            "standoff": 15
           },
           "zerolinecolor": "white",
           "zerolinewidth": 2
          }
         }
        },
        "title": {
         "text": "Quantidade de Imóveis por N° de Vagas"
        },
        "xaxis": {
         "title": {
          "text": "N° de Vagas"
         }
        },
        "yaxis": {
         "title": {
          "text": "Quantidade"
         }
        }
       }
      }
     },
     "metadata": {},
     "output_type": "display_data"
    }
   ],
   "source": [
    "top_aptos_garage= top_aptos[\"garage\"].value_counts().reset_index()\n",
    "\n",
    "top_aptos_garage.columns = [\"N° de Vagas\",\"Quantidade\"]\n",
    "\n",
    "top_aptos_garage = top_aptos_garage.sort_values(by = \"N° de Vagas\", ascending = True)\n",
    "\n",
    "bottom_aptos_garage= bottom_aptos[\"garage\"].value_counts().reset_index()\n",
    "\n",
    "bottom_aptos_garage.columns = [\"N° de Vagas\",\"Quantidade\"]\n",
    "\n",
    "bottom_aptos_garage = bottom_aptos_garage.sort_values(by = \"N° de Vagas\", ascending = True)\n",
    "\n",
    "fig = go.Figure()\n",
    "\n",
    "fig.add_trace(go.Bar(\n",
    "    x = top_aptos_garage[\"N° de Vagas\"],\n",
    "    y = top_aptos_garage[\"Quantidade\"],\n",
    "    name = \"Top Aptos\"\n",
    "))\n",
    "\n",
    "fig.add_trace(go.Bar(\n",
    "    x = bottom_aptos_garage[\"N° de Vagas\"],\n",
    "    y = bottom_aptos_garage[\"Quantidade\"],\n",
    "    name = \"Bottom Aptos\"\n",
    "))\n",
    "\n",
    "fig.update_layout(\n",
    "    title = \"Quantidade de Imóveis por N° de Vagas\",\n",
    "    xaxis_title = \"N° de Vagas\",\n",
    "    yaxis_title = \"Quantidade\"\n",
    "    )\n",
    "\n",
    "fig.show()"
   ]
  },
  {
   "cell_type": "markdown",
   "metadata": {},
   "source": [
    "* **top_aptos_garage = top_aptos[\"garage\"].value_counts().reset_index():** Nesta linha, estamos criando um novo DataFrame chamado top_aptos_garage. Veja, a gente primeiro faz um value_counts() para pegar quantas observações (no caso, imóveis) temos por cada número de vagas, depois aplicamos o reset_index() para redefinir os índices e transformar o resultado num dataframe de duas colunas, index e garage.\n",
    "\n",
    "\n",
    "* **top_aptos_garage.columns = [\"Nº de Vagas\", \"Quantidade\"]:** Aqui, repetimos o que já fizemos em outras ocasiões, renomeamos as colunas do DataFrame. Quando fazemos .columns, estamos com os nomes de todas as colunas do dataframe. Logo, estamos atribuindo[\"Nº de Vagas\", \"Quantidade\"] como nomes das colunas do dataframe top_aptos_garage. Fizemos isso para deixar mais intuitivo.\n",
    "\n",
    "\n",
    "* **top_aptos_garage = top_aptos_garage.sort_values(by=\"Nº de Vagas\", ascending=True):** Nesta linha, estamos ordenando o DataFrame top_aptos_garage com base na coluna \"Nº de Vagas\", em ordem ascendente.\n",
    "\n",
    "\n",
    "Repetimos os 3 passos iniciais para os imóveis mais baratos, que chamamos de bottom_aptos. Mais uma vez, peço perdão pelo nome, deveria ser bottom_imoveis ou algo do tipo, seria mais adequado rs\n",
    "fig = go.figure(): Iniciamos uma \"figura\" vazia. Como já explicado anteriormente, é como se tivéssemos criado um quadro em branco e chamado ele de fig. Neste quadro, vamos adicionar os gráficos.\n",
    "\n",
    "\n",
    "* **fig.add_trace(go.Bar(x=top_aptos_garage[\"Nº de Vagas\"], y=top_aptos_garage[\"Quantidade\"], name=\"Top Aptos\")):** Nesta linha, adicionamos um trace (basicamente, um desenho) de gráfico de barras ao objeto fig usando fig.add_trace(). Configuramos o eixo x como a coluna \"Nº de Vagas\" do DataFrame top_aptos_garage e o eixo y como a coluna \"Quantidade\" do mesmo DataFrame. Definimos o nome deste gráfico como \"Top Aptos\".\n",
    "\n",
    "\n",
    "* **fig.add_trace(go.Bar(x=bottom_aptos_garage[\"Nº de Vagas\"],y=bottom_aptos_garage[\"Quantidade\"],name=\"Bottom Aptos\")):** Da mesma forma que antes, adicionamos outro trace de gráfico de barras ao objeto fig. Configuramos o eixo x como a coluna \"Nº de Vagas\" do DataFrame bottom_aptos_garage e o eixo y como a coluna \"Quantidade\" do mesmo DataFrame. Definimos o nome deste trace como \"Bottom Aptos\".\n",
    "\n",
    "\n",
    "* **fig.update_layout(title=\"Quantidade de Imóveis por Nº de Vagas\", xaxis_title=\"Nº de Vagas\", yaxis_title=\"Quantidade\"):** Nesta linha, atualizamos o layout do gráfico usando fig.update_layout(). Definimos o título do gráfico como \"Quantidade de Imóveis por Nº de Vagas\" e fornecemos os rótulos dos eixos x e y como \"Nº de Vagas\" e \"Quantidade\", respectivamente.\n",
    "\n",
    "\n",
    "* **fig.show():** Finalizamos exibindo o gráfico.\n",
    "\n",
    "\n",
    "Se você ainda estiver com algma confusão sobre \"add_trace\" e as atualizações de imagens no Plotly, recomendo a leitura deste trecho documentação: https://plotly.com/python/creating-and-updating-figures/#:~:text=modifying%20its%20properties.-,Adding%20Traces,adds%20it%20to%20the%20figure.\n",
    "\n",
    "**Importante:** Não é necessário se manter com a mesma biblioteca por toda a análise exploratória. Eu, particularmente, acredito que melhora um pouco o visual, não causando nenhuma distração desnecessária no leitor. Mas a gente poderia ter criado os mesmos gráficos que criamos acima utilizando o countplot() do Seaborn, que é bem mais direto:"
   ]
  },
  {
   "cell_type": "markdown",
   "metadata": {},
   "source": [
    "Fica como dica, caso você realmente não se adapte ao Plotly. O grande problema, para mim, é que o tempo economizado com a sintaxe do Plotly vai ser utilizado no plt.text() quando você quiser colocar os valores numéricos nos gráficos do Seaborn e Matplotlib, já que não é uma sintaxe tão direta também!\n",
    "\n",
    "Para encerrar nossa análise, vamos explorar as relações entre as variáveis:"
   ]
  },
  {
   "cell_type": "code",
   "execution_count": 21,
   "metadata": {},
   "outputs": [
    {
     "data": {
      "image/png": "[encoded data removed]",
      "text/plain": [
       "<Figure size 1800x1200 with 4 Axes>"
      ]
     },
     "metadata": {},
     "output_type": "display_data"
    }
   ],
   "source": [
    "sns.set_style(\"darkgrid\")\n",
    "\n",
    "fig, axs = plt.subplots( 2, 2, figsize =(18,12))\n",
    "\n",
    "_= sns.regplot(x=\"area\", y=\"rent\", data= aptos, ax=axs[0,0])\n",
    "_= sns.regplot(x=\"bedrooms\",y=\"rent\", data= aptos, ax=axs[0,1])\n",
    "_= sns.regplot(x=\"garage\", y=\"rent\", data= aptos, ax=axs[1,0])\n",
    "_= sns.regplot(x=\"total\",y=\"rent\", data= aptos, ax=axs[1,1])\n",
    "\n",
    "\n",
    "_ = axs[0,0].set_xlabel(\"Área\", fontsize = 14)\n",
    "_ = axs[0,0].set_ylabel(\"Aluguel\", fontsize = 14)\n",
    "_ = axs[0,0].set_xlabel(\"N° de quartos\", fontsize = 14)\n",
    "_ = axs[0,0].set_ylabel(\"Aluguel\", fontsize = 14)\n",
    "_ = axs[0,0].set_xlabel(\"Vagas de Garagem\", fontsize = 14)\n",
    "_ = axs[0,0].set_ylabel(\"Aluguel\", fontsize = 14)\n",
    "_ = axs[0,0].set_xlabel(\"Custo Total\", fontsize = 14)\n",
    "_ = axs[0,0].set_ylabel(\"Aluguel\", fontsize = 14)\n",
    "\n",
    "_ = fig.suptitle(\"Gráfico de Regressão: Features x Aluguel\", fontsize = 22)\n",
    "_= plt.show()\n",
    "\n",
    "\n"
   ]
  },
  {
   "cell_type": "markdown",
   "metadata": {},
   "source": [
    "Não parece haver correlações significativas, além do custo total e aluguel, mas é esperado, pois o aluguel faz parte do custo total. Mas podemos verificar pelo coeficiente de Pearson, através de uma matriz de correlação!"
   ]
  },
  {
   "cell_type": "code",
   "execution_count": 22,
   "metadata": {},
   "outputs": [
    {
     "data": {
      "image/png": "[encoded data removed]",
      "text/plain": [
       "<Figure size 640x480 with 2 Axes>"
      ]
     },
     "metadata": {},
     "output_type": "display_data"
    }
   ],
   "source": [
    "subset_aptos =  aptos[[\"bedrooms\",\"garage\",\"rent\",\"area\",\"total\"]]\n",
    "\n",
    "correlation_matrix = subset_aptos.corr()\n",
    "\n",
    "sns.heatmap(correlation_matrix, annot = True, cmap = \"coolwarm\")\n",
    "\n",
    "plt.show()"
   ]
  },
  {
   "cell_type": "code",
   "execution_count": 26,
   "metadata": {},
   "outputs": [
    {
     "data": {
      "text/html": [
       "<img src=\"https://api-club-file.cb.hotmart.com/public/v5/files/29ed5397-1540-48b8-80fc-703884c7511a\"/>"
      ],
      "text/plain": [
       "<IPython.core.display.Image object>"
      ]
     },
     "execution_count": 26,
     "metadata": {},
     "output_type": "execute_result"
    }
   ],
   "source": [
    "from IPython.display import Image\n",
    "Image (url = \"https://api-club-file.cb.hotmart.com/public/v5/files/29ed5397-1540-48b8-80fc-703884c7511a\")"
   ]
  },
  {
   "cell_type": "markdown",
   "metadata": {},
   "source": [
    "Por fim, podemos olhar para variação do preço por diferentes tipos de imóveis, quartos e vagas de garagem. Todas são colunas númericas, mas podem ser vistas como categóricas, devido ao restrito número de valores únicos que representam:"
   ]
  },
  {
   "cell_type": "code",
   "execution_count": 31,
   "metadata": {},
   "outputs": [
    {
     "data": {
      "image/png": "[encoded data removed]",
      "text/plain": [
       "<Figure size 1600x1400 with 3 Axes>"
      ]
     },
     "metadata": {},
     "output_type": "display_data"
    }
   ],
   "source": [
    "sns.set_style(\"darkgrid\")\n",
    "\n",
    "fig, axs = plt.subplots(3, 1, figsize = (16, 14))\n",
    "\n",
    "_ = sns.boxplot (x = \"type\", y = \"rent\", data = aptos, ax= axs[0])\n",
    "_ = sns.boxplot (x= \"bedrooms\", y = \"rent\", data = aptos, ax= axs[1])\n",
    "_ = sns.boxplot (x=\"garage\", y = \"rent\", data = aptos, ax = axs[2])\n",
    "\n",
    "_ = axs [0].set_xlabel(\"Tipo de Imóvel\", fontsize = 14)\n",
    "_ = axs [0].set_ylabel(\" Aluguel\", fontsize = 14)\n",
    "_ = axs [1].set_xlabel(\" N° de quartos\", fontsize = 14)\n",
    "_ = axs [1].set_ylabel(\" Aluguel\", fontsize = 14)\n",
    "_ = axs [2].set_xlabel(\" Vagas de Garagem\", fontsize = 14)\n",
    "_ = axs [2].set_ylabel(\" Aluguel\", fontsize = 14)\n",
    "\n",
    "_ = fig.suptitle(\"Boxplot: Features x Aluguel\", fontsize = 22)\n",
    "_ = plt.show()"
   ]
  },
  {
   "cell_type": "markdown",
   "metadata": {},
   "source": [
    "O boxplot não nos ajuda muito, devido a alta dispersão dos valores, mas podemos olhar para a média para tentar descobrir algo a mais:"
   ]
  },
  {
   "cell_type": "code",
   "execution_count": 32,
   "metadata": {},
   "outputs": [
    {
     "data": {
      "text/plain": [
       "type\n",
       "Apartamento           3356.902697\n",
       "Casa                  3471.924674\n",
       "Casa em condomínio    3912.551867\n",
       "Studio e kitnet       2127.825489\n",
       "Name: rent, dtype: float64"
      ]
     },
     "execution_count": 32,
     "metadata": {},
     "output_type": "execute_result"
    }
   ],
   "source": [
    "aptos.groupby(\"type\")[\"rent\"].mean()"
   ]
  },
  {
   "cell_type": "markdown",
   "metadata": {},
   "source": [
    "Como esperado, casas em condomínio são as mais caras e os studios /kitnets são os mais baratos"
   ]
  },
  {
   "cell_type": "markdown",
   "metadata": {},
   "source": [
    "E enfim encerramos nossa análise, bem robusta, com gráficos detalhados, insights e até referências externas para ajudar na análise. Para fechar, precisamos de uma conclusão"
   ]
  },
  {
   "cell_type": "code",
   "execution_count": 33,
   "metadata": {},
   "outputs": [
    {
     "data": {
      "text/html": [
       "<img src=\"https://api-club-file.cb.hotmart.com/public/v5/files/53193833-245f-429c-bd33-b539d360365d\"/>"
      ],
      "text/plain": [
       "<IPython.core.display.Image object>"
      ]
     },
     "execution_count": 33,
     "metadata": {},
     "output_type": "execute_result"
    }
   ],
   "source": [
    "from IPython.display import Image\n",
    "Image (url = \"https://api-club-file.cb.hotmart.com/public/v5/files/53193833-245f-429c-bd33-b539d360365d\")"
   ]
  },
  {
   "cell_type": "markdown",
   "metadata": {},
   "source": [
    "Não dá para dizer que é o melhor reporte que eu fiz, ou o mais detalhado, pois havia mais a ser explorado (que você pode dar continuidade, inclusive). Adicionalmente, a gente poderia ganhar alguns pontinhos se tivéssemos utilizado dados de fora do Kaggle, já que a plataforma é considerada por alguns profissionais algo longe da realidade (algo que eu discordo, mas é papo para outro dia). De qualquer forma, eu duvido que algum gestor ficaria insatisfeito se isso estivesse no portfólio de um júnior e não utilizamos nada de novo, tudo aqui está ao alcance de qualquer um no Clube.\n",
    "\n",
    "Nas próximas semanas, voltaremos a falar de modelagem e ainda teremos materiais de estatística. Se você pegar a ideia da análise exploratória e incrementar com o que está por vir, pode ter certeza de que seu portfólio vai ficar muito a frente do que de seus concorrentes!"
   ]
  }
 ],
 "metadata": {
  "kernelspec": {
   "display_name": "base",
   "language": "python",
   "name": "python3"
  },
  "language_info": {
   "codemirror_mode": {
    "name": "ipython",
    "version": 3
   },
   "file_extension": ".py",
   "mimetype": "text/x-python",
   "name": "python",
   "nbconvert_exporter": "python",
   "pygments_lexer": "ipython3",
   "version": "3.10.9"
  }
 },
 "nbformat": 4,
 "nbformat_minor": 2
}
