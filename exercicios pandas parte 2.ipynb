{
 "cells": [
  {
   "cell_type": "markdown",
   "metadata": {},
   "source": [
    "# Exercícios Pandas Parte 2 # "
   ]
  },
  {
   "cell_type": "code",
   "execution_count": 2,
   "metadata": {},
   "outputs": [],
   "source": [
    "import pandas as pd\n",
    "import numpy as np"
   ]
  },
  {
   "cell_type": "markdown",
   "metadata": {},
   "source": [
    "\n",
    "## Exercício 1 ##\n",
    "Olhando apenas para o grupo de divorciados, qual o percentual deles que é empreendedor (entrepreneur)? E estudantes?.</p>\n"
   ]
  },
  {
   "cell_type": "code",
   "execution_count": 3,
   "metadata": {},
   "outputs": [
    {
     "data": {
      "text/html": [
       "<div>\n",
       "<style scoped>\n",
       "    .dataframe tbody tr th:only-of-type {\n",
       "        vertical-align: middle;\n",
       "    }\n",
       "\n",
       "    .dataframe tbody tr th {\n",
       "        vertical-align: top;\n",
       "    }\n",
       "\n",
       "    .dataframe thead th {\n",
       "        text-align: right;\n",
       "    }\n",
       "</style>\n",
       "<table border=\"1\" class=\"dataframe\">\n",
       "  <thead>\n",
       "    <tr style=\"text-align: right;\">\n",
       "      <th></th>\n",
       "      <th>age</th>\n",
       "      <th>job</th>\n",
       "      <th>marital</th>\n",
       "      <th>education</th>\n",
       "      <th>default</th>\n",
       "      <th>balance</th>\n",
       "      <th>housing</th>\n",
       "      <th>loan</th>\n",
       "      <th>contact</th>\n",
       "      <th>day</th>\n",
       "      <th>month</th>\n",
       "      <th>duration</th>\n",
       "      <th>campaign</th>\n",
       "      <th>pdays</th>\n",
       "      <th>previous</th>\n",
       "      <th>poutcome</th>\n",
       "      <th>y</th>\n",
       "    </tr>\n",
       "  </thead>\n",
       "  <tbody>\n",
       "    <tr>\n",
       "      <th>0</th>\n",
       "      <td>58</td>\n",
       "      <td>management</td>\n",
       "      <td>married</td>\n",
       "      <td>tertiary</td>\n",
       "      <td>no</td>\n",
       "      <td>2143</td>\n",
       "      <td>yes</td>\n",
       "      <td>no</td>\n",
       "      <td>unknown</td>\n",
       "      <td>5</td>\n",
       "      <td>may</td>\n",
       "      <td>261</td>\n",
       "      <td>1</td>\n",
       "      <td>-1</td>\n",
       "      <td>0</td>\n",
       "      <td>unknown</td>\n",
       "      <td>no</td>\n",
       "    </tr>\n",
       "    <tr>\n",
       "      <th>1</th>\n",
       "      <td>44</td>\n",
       "      <td>technician</td>\n",
       "      <td>single</td>\n",
       "      <td>secondary</td>\n",
       "      <td>no</td>\n",
       "      <td>29</td>\n",
       "      <td>yes</td>\n",
       "      <td>no</td>\n",
       "      <td>unknown</td>\n",
       "      <td>5</td>\n",
       "      <td>may</td>\n",
       "      <td>151</td>\n",
       "      <td>1</td>\n",
       "      <td>-1</td>\n",
       "      <td>0</td>\n",
       "      <td>unknown</td>\n",
       "      <td>no</td>\n",
       "    </tr>\n",
       "    <tr>\n",
       "      <th>2</th>\n",
       "      <td>33</td>\n",
       "      <td>entrepreneur</td>\n",
       "      <td>married</td>\n",
       "      <td>secondary</td>\n",
       "      <td>no</td>\n",
       "      <td>2</td>\n",
       "      <td>yes</td>\n",
       "      <td>yes</td>\n",
       "      <td>unknown</td>\n",
       "      <td>5</td>\n",
       "      <td>may</td>\n",
       "      <td>76</td>\n",
       "      <td>1</td>\n",
       "      <td>-1</td>\n",
       "      <td>0</td>\n",
       "      <td>unknown</td>\n",
       "      <td>no</td>\n",
       "    </tr>\n",
       "    <tr>\n",
       "      <th>3</th>\n",
       "      <td>47</td>\n",
       "      <td>blue-collar</td>\n",
       "      <td>married</td>\n",
       "      <td>unknown</td>\n",
       "      <td>no</td>\n",
       "      <td>1506</td>\n",
       "      <td>yes</td>\n",
       "      <td>no</td>\n",
       "      <td>unknown</td>\n",
       "      <td>5</td>\n",
       "      <td>may</td>\n",
       "      <td>92</td>\n",
       "      <td>1</td>\n",
       "      <td>-1</td>\n",
       "      <td>0</td>\n",
       "      <td>unknown</td>\n",
       "      <td>no</td>\n",
       "    </tr>\n",
       "    <tr>\n",
       "      <th>4</th>\n",
       "      <td>33</td>\n",
       "      <td>unknown</td>\n",
       "      <td>single</td>\n",
       "      <td>unknown</td>\n",
       "      <td>no</td>\n",
       "      <td>1</td>\n",
       "      <td>no</td>\n",
       "      <td>no</td>\n",
       "      <td>unknown</td>\n",
       "      <td>5</td>\n",
       "      <td>may</td>\n",
       "      <td>198</td>\n",
       "      <td>1</td>\n",
       "      <td>-1</td>\n",
       "      <td>0</td>\n",
       "      <td>unknown</td>\n",
       "      <td>no</td>\n",
       "    </tr>\n",
       "  </tbody>\n",
       "</table>\n",
       "</div>"
      ],
      "text/plain": [
       "   age           job  marital  education default  balance housing loan  \\\n",
       "0   58    management  married   tertiary      no     2143     yes   no   \n",
       "1   44    technician   single  secondary      no       29     yes   no   \n",
       "2   33  entrepreneur  married  secondary      no        2     yes  yes   \n",
       "3   47   blue-collar  married    unknown      no     1506     yes   no   \n",
       "4   33       unknown   single    unknown      no        1      no   no   \n",
       "\n",
       "   contact  day month  duration  campaign  pdays  previous poutcome   y  \n",
       "0  unknown    5   may       261         1     -1         0  unknown  no  \n",
       "1  unknown    5   may       151         1     -1         0  unknown  no  \n",
       "2  unknown    5   may        76         1     -1         0  unknown  no  \n",
       "3  unknown    5   may        92         1     -1         0  unknown  no  \n",
       "4  unknown    5   may       198         1     -1         0  unknown  no  "
      ]
     },
     "execution_count": 3,
     "metadata": {},
     "output_type": "execute_result"
    }
   ],
   "source": [
    "bank_df= pd.read_csv('bank-full.csv', sep=';')\n",
    "bank_df.head()"
   ]
  },
  {
   "cell_type": "markdown",
   "metadata": {},
   "source": [
    "Resolução\n",
    "\n",
    "<p> Primeiro, vou verificar quantos tipos únicos temos de jobs e estados cívis.</p>"
   ]
  },
  {
   "cell_type": "code",
   "execution_count": 4,
   "metadata": {},
   "outputs": [
    {
     "data": {
      "text/plain": [
       "array(['married', 'single', 'divorced'], dtype=object)"
      ]
     },
     "execution_count": 4,
     "metadata": {},
     "output_type": "execute_result"
    }
   ],
   "source": [
    "#verificando tipos únicos\n",
    "bank_df.job.unique()\n",
    "bank_df.marital.unique()"
   ]
  },
  {
   "cell_type": "markdown",
   "metadata": {},
   "source": [
    "<p> Para job temos as seguintes categorias: </p>\n",
    "<ul> management', 'technician', 'entrepreneur', 'blue-collar',\n",
    "       'unknown', 'retired', 'admin.', 'services', 'self-employed',\n",
    "       'unemployed', 'housemaid', 'student </ul>\n",
    "<p> E para marital temos as seguintes categorias:\n",
    "<ul>['married', 'single', 'divorced'] </ul>"
   ]
  },
  {
   "cell_type": "code",
   "execution_count": 5,
   "metadata": {},
   "outputs": [
    {
     "name": "stdout",
     "output_type": "stream",
     "text": [
      "O número de pessoas que são divorciadas e são ou estudante ou empresários é de 185\n",
      " O total dos divorciados é de 5207\n",
      " E o percentual de divorciados que são divorciados e ao mesmo tempo empresários ou estudantes é de 3.55 %\n"
     ]
    }
   ],
   "source": [
    "#filtrando divorciados e estudantes que sao divorciados\n",
    "quantidade= bank_df.query('job in[ \"entrepreneur\", \"student\"] and marital == \"divorced\"')\n",
    "\n",
    "#contando a quantidade de pessoas que são divorciadas e ou estudantes ou empresarios\n",
    "qtd= quantidade.shape[0]\n",
    "\n",
    "#quantidade de divorciados\n",
    "divorciados= bank_df.query('marital == \"divorced\"')\n",
    "qtde_divorciados= divorciados.shape[0]\n",
    "\n",
    "#percentual de divorciados que são estudantes ou empresários\n",
    "percentual= (qtd/qtde_divorciados) *100\n",
    "\n",
    "print(f'O número de pessoas que são divorciadas e são ou estudante ou empresários é de {qtd}')\n",
    "print(f' O total dos divorciados é de {qtde_divorciados}')\n",
    "print(f' E o percentual de divorciados que são divorciados e ao mesmo tempo empresários ou estudantes é de {percentual:.2f} %')\n",
    "\n",
    "#obtendo o percentual"
   ]
  },
  {
   "cell_type": "markdown",
   "metadata": {},
   "source": [
    "Talvez tenha melhor forma de fazer isso, mas seguimos em frente. O importante é continuar.\n",
    "</details>"
   ]
  },
  {
   "cell_type": "markdown",
   "metadata": {},
   "source": []
  },
  {
   "cell_type": "markdown",
   "metadata": {},
   "source": [
    "## Exercício 2 ##\n",
    " O seu chefe decidiu criar duas categorias, Premium e Gold, para focar nos clientes mais promissores. Para a categoria Premium, entrarão os que possuem saldo (balance) nos top 10%. Ou seja, o grupo acima do percentil 90. Já o grupo Gold, ficarão os que possuem saldo nos top 20%, mas abaixo do grupo Premium. Ou seja, do p80 até o último do p90. Verifique quantos clientes possuem no grupo Premium e no Gold."
   ]
  },
  {
   "cell_type": "markdown",
   "metadata": {},
   "source": [
    "Primeiramente, iremos calcular o percentil de 90% e 80% do balance:\n",
    "\n",
    "grupo premium: 10 % com mais balance, percentil de 90% \n",
    "grupo gold: percentil de 80% até 90%\n",
    "\n",
    "categoria defina pelo balance"
   ]
  },
  {
   "cell_type": "code",
   "execution_count": 6,
   "metadata": {},
   "outputs": [
    {
     "name": "stdout",
     "output_type": "stream",
     "text": [
      "       age           job   marital  education default  balance housing loan  \\\n",
      "0       58    management   married   tertiary      no     2143     yes   no   \n",
      "1       44    technician    single  secondary      no       29     yes   no   \n",
      "2       33  entrepreneur   married  secondary      no        2     yes  yes   \n",
      "3       47   blue-collar   married    unknown      no     1506     yes   no   \n",
      "4       33       unknown    single    unknown      no        1      no   no   \n",
      "...    ...           ...       ...        ...     ...      ...     ...  ...   \n",
      "45206   51    technician   married   tertiary      no      825      no   no   \n",
      "45207   71       retired  divorced    primary      no     1729      no   no   \n",
      "45208   72       retired   married  secondary      no     5715      no   no   \n",
      "45209   57   blue-collar   married  secondary      no      668      no   no   \n",
      "45210   37  entrepreneur   married  secondary      no     2971      no   no   \n",
      "\n",
      "         contact  day month  duration  campaign  pdays  previous poutcome  \\\n",
      "0        unknown    5   may       261         1     -1         0  unknown   \n",
      "1        unknown    5   may       151         1     -1         0  unknown   \n",
      "2        unknown    5   may        76         1     -1         0  unknown   \n",
      "3        unknown    5   may        92         1     -1         0  unknown   \n",
      "4        unknown    5   may       198         1     -1         0  unknown   \n",
      "...          ...  ...   ...       ...       ...    ...       ...      ...   \n",
      "45206   cellular   17   nov       977         3     -1         0  unknown   \n",
      "45207   cellular   17   nov       456         2     -1         0  unknown   \n",
      "45208   cellular   17   nov      1127         5    184         3  success   \n",
      "45209  telephone   17   nov       508         4     -1         0  unknown   \n",
      "45210   cellular   17   nov       361         2    188        11    other   \n",
      "\n",
      "         y categoria  \n",
      "0       no   premium  \n",
      "1       no      gold  \n",
      "2       no      gold  \n",
      "3       no      gold  \n",
      "4       no      gold  \n",
      "...    ...       ...  \n",
      "45206  yes      gold  \n",
      "45207  yes      gold  \n",
      "45208  yes   top 10%  \n",
      "45209   no      gold  \n",
      "45210   no   premium  \n",
      "\n",
      "[45211 rows x 18 columns]\n",
      "O número de clientes na categoria Gold : 36169\n",
      "O número de clientes na categoria Premium: 4521\n"
     ]
    }
   ],
   "source": [
    "# definindo percentil de 80%\n",
    "percent_80= bank_df['balance'].quantile(0.80)\n",
    "\n",
    "#definindo percentil de 90%\n",
    "percent_90= bank_df['balance'].quantile(0.90)\n",
    "\n",
    "percent_80\n",
    "percent_90\n",
    "\n",
    "#definindo intervalos para o cut\n",
    "\n",
    "bins= [bank_df['balance'].min(), percent_80, percent_90, bank_df['balance'].max()]\n",
    "labels=['gold', 'premium', 'top 10%']\n",
    "\n",
    "#categorizando os dados\n",
    "\n",
    "bank_df['categoria']=pd.cut(bank_df['balance'], bins=bins, labels=labels, include_lowest= True)\n",
    "\n",
    "#contando quantos clientes estão em cada grupo\n",
    "contagem= bank_df['categoria'].value_counts()\n",
    "\n",
    "print(bank_df)\n",
    "print(f\"O número de clientes na categoria Gold : {contagem.get('gold',0)}\")\n",
    "print(f\"O número de clientes na categoria Premium: {contagem.get('premium',0)}\")"
   ]
  },
  {
   "cell_type": "markdown",
   "metadata": {},
   "source": [
    "Versão 2\n",
    "Primeiro, vamos calcular também o percentil de 90 e 80\n"
   ]
  },
  {
   "cell_type": "code",
   "execution_count": 7,
   "metadata": {},
   "outputs": [
    {
     "name": "stdout",
     "output_type": "stream",
     "text": [
      "Outros     36162\n",
      "Gold        4525\n",
      "Premium     4524\n",
      "Name: CATEGORIA, dtype: int64\n"
     ]
    }
   ],
   "source": [
    "#Calculando o percentil de 90 e 80\n",
    "\n",
    "percentiu_90= np.percentile(bank_df['balance'],90)\n",
    "percentiu_80= np.percentile(bank_df['balance'],80)\n",
    "\n",
    "#Criando coluna para categoria Premium\n",
    "\n",
    "bank_df['CATEGORIA']= np.where(bank_df['balance'] >= percentiu_90, 'Premium',\n",
    "                               np.where(bank_df['balance']>= percentiu_80, 'Gold', 'Outros'))\n",
    "\n",
    "#np Where cria novas tabelas com base nas condições\n",
    "\n",
    "#Contando os Clientes em cada categoria\n",
    "\n",
    "contagem_categoria= bank_df['CATEGORIA'].value_counts()\n",
    "print(contagem_categoria)"
   ]
  },
  {
   "cell_type": "markdown",
   "metadata": {},
   "source": [
    "A primeira solução é mais flexível e a segunda é mais fácil e intuitiva."
   ]
  },
  {
   "cell_type": "markdown",
   "metadata": {},
   "source": [
    "## Exercício 3 ##"
   ]
  },
  {
   "cell_type": "markdown",
   "metadata": {},
   "source": [
    "3) Seu chefe também quer saber se existe diferença nos percentuais vistos no exercício (1) para o grupo Premium. Verifique como a tabela cruzada da população se diferencia do grupo Premium. Existe diferença? Qual sua hipótese para que exista essa diferença?"
   ]
  },
  {
   "cell_type": "code",
   "execution_count": 8,
   "metadata": {},
   "outputs": [
    {
     "name": "stdout",
     "output_type": "stream",
     "text": [
      "marital        divorced   married    single\n",
      "job                                        \n",
      "admin.         0.145040  0.520789  0.334171\n",
      "blue-collar    0.077065  0.715988  0.206946\n",
      "entrepreneur   0.120377  0.719570  0.160054\n",
      "housemaid      0.148387  0.735484  0.116129\n",
      "management     0.117467  0.570945  0.311588\n",
      "retired        0.187721  0.764576  0.047703\n",
      "self-employed  0.088664  0.628879  0.282457\n",
      "services       0.132162  0.579442  0.288397\n",
      "student        0.006397  0.057569  0.936034\n",
      "technician     0.121759  0.533368  0.344873\n",
      "unemployed     0.131236  0.561013  0.307751\n",
      "unknown        0.059028  0.704861  0.236111\n",
      "marital        divorced   married    single\n",
      "job                                        \n",
      "admin.         0.100478  0.612440  0.287081\n",
      "blue-collar    0.056604  0.723720  0.219677\n",
      "entrepreneur   0.083916  0.825175  0.090909\n",
      "housemaid      0.171642  0.701493  0.126866\n",
      "management     0.104361  0.598131  0.297508\n",
      "retired        0.160237  0.818991  0.020772\n",
      "self-employed  0.134409  0.618280  0.247312\n",
      "services       0.112957  0.647841  0.239203\n",
      "student        0.000000  0.043956  0.956044\n",
      "technician     0.072238  0.586402  0.341360\n",
      "unemployed     0.118056  0.583333  0.298611\n",
      "unknown        0.078947  0.736842  0.184211\n"
     ]
    }
   ],
   "source": [
    "#Selecionando apenas os premium na coluna de categoria\n",
    "premium_df = bank_df[bank_df['CATEGORIA'] == 'Premium']\n",
    "premium_df\n",
    "\n",
    "#Tabela cruzada para população total\n",
    "crosstab_total= pd.crosstab(bank_df['job'], bank_df['marital'], normalize= 'index')\n",
    "\n",
    "#tabela cruzada de job apenas para categoria premium\n",
    "crosstab_premium= pd.crosstab(premium_df['job'], premium_df['marital'], normalize= 'index')\n",
    "\n",
    "#comparando percentuais\n",
    "print(crosstab_total)\n",
    "print(crosstab_premium)"
   ]
  },
  {
   "cell_type": "markdown",
   "metadata": {},
   "source": [
    "A diferença encontrada foi de que entre o grupo de premiuns, o percentual de empresários e que são casados, são bem superiores ao restante da população. Há também mais empresários casados do que solteiros. Acredito que isso seja esperado, por talvez serem homens com mais idade, já vivendo o matrimônio."
   ]
  },
  {
   "cell_type": "markdown",
   "metadata": {},
   "source": [
    "### exercício 4 ###\n",
    "\n",
    "4) Para a apresentação final, você decide criar uma tabela com os 10 clientes que possuem maior saldo (balance). Como a tabela é grande demais, você resolve apresentar apenas as informações relevantes: age, job, marital, education, default, loan, duration. Além disso, você decide destacar clientes que foram mais e menos atenciosos, pois são os que parecem ter maior e menor potencial, respectivamente. Para isso, destaque na tabela, de amarelo, o cliente de maior duration. Destaque, de vermelho, o que tem menor duration.\n"
   ]
  },
  {
   "cell_type": "code",
   "execution_count": 9,
   "metadata": {},
   "outputs": [
    {
     "name": "stdout",
     "output_type": "stream",
     "text": [
      "       balance  age           job   marital  education default loan  duration\n",
      "39989   102127   51    management    single   tertiary      no   no        90\n",
      "26227    98417   59    management   married   tertiary      no   no       145\n",
      "42558    81204   84       retired   married  secondary      no   no       679\n",
      "43393    81204   84       retired   married  secondary      no   no       390\n",
      "41693    71188   60       retired   married    primary      no   no       205\n",
      "19785    66721   56    management  divorced   tertiary      no   no       442\n",
      "21192    66653   52   blue-collar   married    primary      no   no       109\n",
      "19420    64343   59        admin.   married    unknown      no   no        45\n",
      "41374    59649   32  entrepreneur    single   tertiary      no   no        69\n",
      "12926    58932   56   blue-collar   married  secondary      no   no       339\n"
     ]
    },
    {
     "data": {
      "text/html": [
       "<style type=\"text/css\">\n",
       "#T_10086_row2_col7 {\n",
       "  background-color: yellow;\n",
       "}\n",
       "#T_10086_row7_col7 {\n",
       "  background-color: red;\n",
       "}\n",
       "</style>\n",
       "<table id=\"T_10086\">\n",
       "  <thead>\n",
       "    <tr>\n",
       "      <th class=\"blank level0\" >&nbsp;</th>\n",
       "      <th id=\"T_10086_level0_col0\" class=\"col_heading level0 col0\" >balance</th>\n",
       "      <th id=\"T_10086_level0_col1\" class=\"col_heading level0 col1\" >age</th>\n",
       "      <th id=\"T_10086_level0_col2\" class=\"col_heading level0 col2\" >job</th>\n",
       "      <th id=\"T_10086_level0_col3\" class=\"col_heading level0 col3\" >marital</th>\n",
       "      <th id=\"T_10086_level0_col4\" class=\"col_heading level0 col4\" >education</th>\n",
       "      <th id=\"T_10086_level0_col5\" class=\"col_heading level0 col5\" >default</th>\n",
       "      <th id=\"T_10086_level0_col6\" class=\"col_heading level0 col6\" >loan</th>\n",
       "      <th id=\"T_10086_level0_col7\" class=\"col_heading level0 col7\" >duration</th>\n",
       "    </tr>\n",
       "  </thead>\n",
       "  <tbody>\n",
       "    <tr>\n",
       "      <th id=\"T_10086_level0_row0\" class=\"row_heading level0 row0\" >39989</th>\n",
       "      <td id=\"T_10086_row0_col0\" class=\"data row0 col0\" >102127</td>\n",
       "      <td id=\"T_10086_row0_col1\" class=\"data row0 col1\" >51</td>\n",
       "      <td id=\"T_10086_row0_col2\" class=\"data row0 col2\" >management</td>\n",
       "      <td id=\"T_10086_row0_col3\" class=\"data row0 col3\" >single</td>\n",
       "      <td id=\"T_10086_row0_col4\" class=\"data row0 col4\" >tertiary</td>\n",
       "      <td id=\"T_10086_row0_col5\" class=\"data row0 col5\" >no</td>\n",
       "      <td id=\"T_10086_row0_col6\" class=\"data row0 col6\" >no</td>\n",
       "      <td id=\"T_10086_row0_col7\" class=\"data row0 col7\" >90</td>\n",
       "    </tr>\n",
       "    <tr>\n",
       "      <th id=\"T_10086_level0_row1\" class=\"row_heading level0 row1\" >26227</th>\n",
       "      <td id=\"T_10086_row1_col0\" class=\"data row1 col0\" >98417</td>\n",
       "      <td id=\"T_10086_row1_col1\" class=\"data row1 col1\" >59</td>\n",
       "      <td id=\"T_10086_row1_col2\" class=\"data row1 col2\" >management</td>\n",
       "      <td id=\"T_10086_row1_col3\" class=\"data row1 col3\" >married</td>\n",
       "      <td id=\"T_10086_row1_col4\" class=\"data row1 col4\" >tertiary</td>\n",
       "      <td id=\"T_10086_row1_col5\" class=\"data row1 col5\" >no</td>\n",
       "      <td id=\"T_10086_row1_col6\" class=\"data row1 col6\" >no</td>\n",
       "      <td id=\"T_10086_row1_col7\" class=\"data row1 col7\" >145</td>\n",
       "    </tr>\n",
       "    <tr>\n",
       "      <th id=\"T_10086_level0_row2\" class=\"row_heading level0 row2\" >42558</th>\n",
       "      <td id=\"T_10086_row2_col0\" class=\"data row2 col0\" >81204</td>\n",
       "      <td id=\"T_10086_row2_col1\" class=\"data row2 col1\" >84</td>\n",
       "      <td id=\"T_10086_row2_col2\" class=\"data row2 col2\" >retired</td>\n",
       "      <td id=\"T_10086_row2_col3\" class=\"data row2 col3\" >married</td>\n",
       "      <td id=\"T_10086_row2_col4\" class=\"data row2 col4\" >secondary</td>\n",
       "      <td id=\"T_10086_row2_col5\" class=\"data row2 col5\" >no</td>\n",
       "      <td id=\"T_10086_row2_col6\" class=\"data row2 col6\" >no</td>\n",
       "      <td id=\"T_10086_row2_col7\" class=\"data row2 col7\" >679</td>\n",
       "    </tr>\n",
       "    <tr>\n",
       "      <th id=\"T_10086_level0_row3\" class=\"row_heading level0 row3\" >43393</th>\n",
       "      <td id=\"T_10086_row3_col0\" class=\"data row3 col0\" >81204</td>\n",
       "      <td id=\"T_10086_row3_col1\" class=\"data row3 col1\" >84</td>\n",
       "      <td id=\"T_10086_row3_col2\" class=\"data row3 col2\" >retired</td>\n",
       "      <td id=\"T_10086_row3_col3\" class=\"data row3 col3\" >married</td>\n",
       "      <td id=\"T_10086_row3_col4\" class=\"data row3 col4\" >secondary</td>\n",
       "      <td id=\"T_10086_row3_col5\" class=\"data row3 col5\" >no</td>\n",
       "      <td id=\"T_10086_row3_col6\" class=\"data row3 col6\" >no</td>\n",
       "      <td id=\"T_10086_row3_col7\" class=\"data row3 col7\" >390</td>\n",
       "    </tr>\n",
       "    <tr>\n",
       "      <th id=\"T_10086_level0_row4\" class=\"row_heading level0 row4\" >41693</th>\n",
       "      <td id=\"T_10086_row4_col0\" class=\"data row4 col0\" >71188</td>\n",
       "      <td id=\"T_10086_row4_col1\" class=\"data row4 col1\" >60</td>\n",
       "      <td id=\"T_10086_row4_col2\" class=\"data row4 col2\" >retired</td>\n",
       "      <td id=\"T_10086_row4_col3\" class=\"data row4 col3\" >married</td>\n",
       "      <td id=\"T_10086_row4_col4\" class=\"data row4 col4\" >primary</td>\n",
       "      <td id=\"T_10086_row4_col5\" class=\"data row4 col5\" >no</td>\n",
       "      <td id=\"T_10086_row4_col6\" class=\"data row4 col6\" >no</td>\n",
       "      <td id=\"T_10086_row4_col7\" class=\"data row4 col7\" >205</td>\n",
       "    </tr>\n",
       "    <tr>\n",
       "      <th id=\"T_10086_level0_row5\" class=\"row_heading level0 row5\" >19785</th>\n",
       "      <td id=\"T_10086_row5_col0\" class=\"data row5 col0\" >66721</td>\n",
       "      <td id=\"T_10086_row5_col1\" class=\"data row5 col1\" >56</td>\n",
       "      <td id=\"T_10086_row5_col2\" class=\"data row5 col2\" >management</td>\n",
       "      <td id=\"T_10086_row5_col3\" class=\"data row5 col3\" >divorced</td>\n",
       "      <td id=\"T_10086_row5_col4\" class=\"data row5 col4\" >tertiary</td>\n",
       "      <td id=\"T_10086_row5_col5\" class=\"data row5 col5\" >no</td>\n",
       "      <td id=\"T_10086_row5_col6\" class=\"data row5 col6\" >no</td>\n",
       "      <td id=\"T_10086_row5_col7\" class=\"data row5 col7\" >442</td>\n",
       "    </tr>\n",
       "    <tr>\n",
       "      <th id=\"T_10086_level0_row6\" class=\"row_heading level0 row6\" >21192</th>\n",
       "      <td id=\"T_10086_row6_col0\" class=\"data row6 col0\" >66653</td>\n",
       "      <td id=\"T_10086_row6_col1\" class=\"data row6 col1\" >52</td>\n",
       "      <td id=\"T_10086_row6_col2\" class=\"data row6 col2\" >blue-collar</td>\n",
       "      <td id=\"T_10086_row6_col3\" class=\"data row6 col3\" >married</td>\n",
       "      <td id=\"T_10086_row6_col4\" class=\"data row6 col4\" >primary</td>\n",
       "      <td id=\"T_10086_row6_col5\" class=\"data row6 col5\" >no</td>\n",
       "      <td id=\"T_10086_row6_col6\" class=\"data row6 col6\" >no</td>\n",
       "      <td id=\"T_10086_row6_col7\" class=\"data row6 col7\" >109</td>\n",
       "    </tr>\n",
       "    <tr>\n",
       "      <th id=\"T_10086_level0_row7\" class=\"row_heading level0 row7\" >19420</th>\n",
       "      <td id=\"T_10086_row7_col0\" class=\"data row7 col0\" >64343</td>\n",
       "      <td id=\"T_10086_row7_col1\" class=\"data row7 col1\" >59</td>\n",
       "      <td id=\"T_10086_row7_col2\" class=\"data row7 col2\" >admin.</td>\n",
       "      <td id=\"T_10086_row7_col3\" class=\"data row7 col3\" >married</td>\n",
       "      <td id=\"T_10086_row7_col4\" class=\"data row7 col4\" >unknown</td>\n",
       "      <td id=\"T_10086_row7_col5\" class=\"data row7 col5\" >no</td>\n",
       "      <td id=\"T_10086_row7_col6\" class=\"data row7 col6\" >no</td>\n",
       "      <td id=\"T_10086_row7_col7\" class=\"data row7 col7\" >45</td>\n",
       "    </tr>\n",
       "    <tr>\n",
       "      <th id=\"T_10086_level0_row8\" class=\"row_heading level0 row8\" >41374</th>\n",
       "      <td id=\"T_10086_row8_col0\" class=\"data row8 col0\" >59649</td>\n",
       "      <td id=\"T_10086_row8_col1\" class=\"data row8 col1\" >32</td>\n",
       "      <td id=\"T_10086_row8_col2\" class=\"data row8 col2\" >entrepreneur</td>\n",
       "      <td id=\"T_10086_row8_col3\" class=\"data row8 col3\" >single</td>\n",
       "      <td id=\"T_10086_row8_col4\" class=\"data row8 col4\" >tertiary</td>\n",
       "      <td id=\"T_10086_row8_col5\" class=\"data row8 col5\" >no</td>\n",
       "      <td id=\"T_10086_row8_col6\" class=\"data row8 col6\" >no</td>\n",
       "      <td id=\"T_10086_row8_col7\" class=\"data row8 col7\" >69</td>\n",
       "    </tr>\n",
       "    <tr>\n",
       "      <th id=\"T_10086_level0_row9\" class=\"row_heading level0 row9\" >12926</th>\n",
       "      <td id=\"T_10086_row9_col0\" class=\"data row9 col0\" >58932</td>\n",
       "      <td id=\"T_10086_row9_col1\" class=\"data row9 col1\" >56</td>\n",
       "      <td id=\"T_10086_row9_col2\" class=\"data row9 col2\" >blue-collar</td>\n",
       "      <td id=\"T_10086_row9_col3\" class=\"data row9 col3\" >married</td>\n",
       "      <td id=\"T_10086_row9_col4\" class=\"data row9 col4\" >secondary</td>\n",
       "      <td id=\"T_10086_row9_col5\" class=\"data row9 col5\" >no</td>\n",
       "      <td id=\"T_10086_row9_col6\" class=\"data row9 col6\" >no</td>\n",
       "      <td id=\"T_10086_row9_col7\" class=\"data row9 col7\" >339</td>\n",
       "    </tr>\n",
       "  </tbody>\n",
       "</table>\n"
      ],
      "text/plain": [
       "<pandas.io.formats.style.Styler at 0x16309b0cc40>"
      ]
     },
     "execution_count": 9,
     "metadata": {},
     "output_type": "execute_result"
    }
   ],
   "source": [
    "#selecionando as tabelas que quero do dataframe\n",
    "select_tab= ['balance','age', 'job', 'marital', 'education', 'default', 'loan', 'duration']\n",
    "\n",
    "#criando um dataframe filtrado\n",
    "filtered_bankdf= bank_df[select_tab]\n",
    "\n",
    "#selecionando os top 10 com maiorees balances\n",
    "top_10balance= filtered_bankdf.nlargest(10, 'balance')\n",
    "print(top_10balance)\n",
    "\n",
    "# Função para aplicar cores aos valores máximos e mínimos na coluna 'duration'\n",
    "def highlight_max_min(data):\n",
    "    styles = pd.DataFrame('', index=data.index, columns=data.columns)\n",
    "    max_val = data['duration'].max()\n",
    "    min_val = data['duration'].min()\n",
    "    \n",
    "    # Aplicando o estilo\n",
    "    styles['duration'] = ['background-color: yellow' if v == max_val else 'background-color: red' if v == min_val else '' for v in data['duration']]\n",
    "    \n",
    "    return styles\n",
    "\n",
    "# Aplicando a função ao DataFrame\n",
    "styled_df = top_10balance.style.apply(highlight_max_min, axis=None)\n",
    "\n",
    "# Exibindo o DataFrame estilizado\n",
    "styled_df"
   ]
  },
  {
   "cell_type": "markdown",
   "metadata": {},
   "source": [
    "### Exercício 5 ###"
   ]
  },
  {
   "cell_type": "markdown",
   "metadata": {},
   "source": [
    "\n",
    "5) Na sua opinião e de parte da diretoria, há 3 fatores que determinam se a pessoa vai aceitar a proposta do seu banco (y): o saldo (balance), se ela já deixou de pagar um empréstimo (default) e se ela tem um empréstimo pessoal (loan). Para avaliar essas 3 características junto com o aceite (y), você precisará criar uma tabela dinâmica, cujo valor observado seja a média do saldo. Avalie se existe diferença no saldo de quem aceita a proposta e tem empréstimo vs quem não aceita e não tem empréstimo, e o mesmo para o default. Em outras palavras, crie uma tabela dinâmica cruzando loan e default, mas também segmentando por aceite ou não da proposta. O saldo de quem aceita e tem empréstimo é maior ou menor do que o de quem não aceita? Por qual motivo você acha que isso acontece? Crie a sua hipótese para justificar o resultado achado!\n",
    "\n",
    "Dica: Crie uma tabela dinâmica cujo índice seja a coluna y e default (ou loan), o campo columns seja loan (ou default) e os valores sejam a média do saldo (balance)."
   ]
  },
  {
   "cell_type": "markdown",
   "metadata": {},
   "source": [
    "Y: vai aceitar a proposta do banco\n",
    "balance: saldo\n",
    "default: se ela deixoude pagar um emprestimo\n",
    "loan: se ela tem um emprestimo pessoal.\n",
    "\n",
    "média do balance. Tem diferença no saldo de quem aceita a proposta vs quem não aceita e não tem emprestimo?\n"
   ]
  },
  {
   "cell_type": "code",
   "execution_count": 10,
   "metadata": {},
   "outputs": [
    {
     "name": "stdout",
     "output_type": "stream",
     "text": [
      "loan                  no         yes\n",
      "y   default                         \n",
      "no  no       1435.673581  807.983318\n",
      "    yes      -124.737945 -172.958042\n",
      "yes no       1912.359060  912.245203\n",
      "    yes       -82.108108  -10.666667\n"
     ]
    }
   ],
   "source": [
    "# selecionando as variáveis e criando um filtro pro dataset\n",
    "variaveis = ['balance', 'y', 'default', 'loan']\n",
    "filtro_vav= bank_df[variaveis]\n",
    "\n",
    "#tabela dinâmica\n",
    "pivot_table = bank_df.pivot_table(\n",
    "    index=['y', 'default'], #linhas da tabela: aceitou a proposta e deixou de pagar emprestimo\n",
    "    columns='loan', #colunas da tabela: possui algum empréstimo pessoal?\n",
    "    values='balance', #valor do saldo\n",
    "    aggfunc= 'mean' #função agregada: média\n",
    ")\n",
    "print(pivot_table)"
   ]
  },
  {
   "cell_type": "markdown",
   "metadata": {},
   "source": [
    "### Análise dos Resultados ###\n",
    "\n",
    "**Interpretação da Tabela:**\n",
    "\n",
    "A coluna \"yes\" ou \"no\" indica se as pessoas possuem empréstimo ou não. Os valores representam a média do saldo.\n",
    "\n",
    "As linhas refletem a combinação de duas variáveis: y (aceitou a proposta) e default (já deixou de pagar um empréstimo).\n",
    "\n",
    "* **Grupo 1:** Pessoas que não aceitaram a proposta e não têm dívidas. O saldo é maior para quem não possui empréstimo.\n",
    "* **Grupo 2:** Pessoas que não aceitaram a proposta e têm dívidas. O saldo é negativo para ambos os grupos (com e sem empréstimo).\n",
    "* **Grupo 3:** Pessoas que aceitaram a proposta e não têm dívidas. O maior saldo é observado neste grupo, especialmente para quem não possui empréstimo.\n",
    "* **Grupo 4:** Pessoas que aceitaram a proposta e têm dívidas. O saldo negativo é maior para quem não possui empréstimo.\n",
    "\n",
    "**Respondendo à pergunta chave:**\n",
    "\n",
    "O saldo de quem aceita e tem empréstimo (912.245203) é menor do que o de quem não aceita e não tem empréstimo (1435.673581).\n",
    "\n",
    "**Hipótese:**\n",
    "\n",
    "Pessoas com saldos altos e sem dívidas podem ser mais avessas a riscos e preferem manter suas economias em vez de contrair novos empréstimos. Por outro lado, pessoas com saldos menores e histórico de dívidas podem buscar novas linhas de crédito para consolidar dívidas ou financiar projetos.\n",
    "\n",
    "**Observações:**\n",
    "\n",
    "* **Saldo de quem aceita e não tem empréstimo:** O alto valor (1912.359060) indica que este grupo possui um bom perfil financeiro e pode ser um alvo interessante para o banco.\n",
    "* **Saldos negativos:** Sugerem que essas pessoas podem estar com dificuldades financeiras.\n",
    "\n",
    "**Próximos passos:**\n",
    "\n",
    "* **Análise gráfica:** Visualizar os dados em gráficos pode facilitar a compreensão.\n",
    "* **Segmentação de clientes:** Dividir os clientes em grupos com características semelhantes para uma análise mais detalhada.\n",
    "* **Modelagem preditiva:** Construir modelos para prever a probabilidade de um cliente aceitar a proposta."
   ]
  },
  {
   "cell_type": "markdown",
   "metadata": {},
   "source": [
    "### Exercício 6 ###"
   ]
  },
  {
   "cell_type": "markdown",
   "metadata": {},
   "source": [
    "**6)** Usando a tabela criada no exercício (5), qual o quadrante que possui menor saldo dentre os 8 da tabela dinâmica. Por qual motivo você acredita que o saldo dele é o menor de todos?\n",
    "\n",
    "O menor saldo, é o saldo negativo de -172.958042 e pertence ao grupo que não aceitou a proposta do banco, mas possuem empréstimos. Uma justificativa plausível, é que se trata de um grupo de pessoas inadiplentes com problemas financeiros e que buscou empréstimos para regularizar sua situação financeira ou tentar realizar mais investimentos, mas que atualmente enfrenta problemas para arcar com compromissos, uma vez que também fazem parte do grupo que também já realizaram algum empréstimo anteriormente."
   ]
  },
  {
   "cell_type": "markdown",
   "metadata": {},
   "source": [
    "### Exercício 7 ##"
   ]
  },
  {
   "cell_type": "markdown",
   "metadata": {},
   "source": [
    "**7)** Você trabalha numa empresa de bicicletas e precisa fazer uma clusterização separando marcas caras de baratas. Para isso, você precisará saber a média de preços das bicicletas de cada marca.\n",
    "\n",
    "Dica: No dataset brands, você encontra as marcas e no products você possui o preço de cada bicicleta. Traga a informação de preço de products para brands usando a coluna brand_id, e, em seguida, faça o agrupamento de preço médio por cada brand."
   ]
  },
  {
   "cell_type": "markdown",
   "metadata": {},
   "source": [
    "**São 2 datasets diferentes, por isso precisaremos utilzar join**"
   ]
  },
  {
   "cell_type": "code",
   "execution_count": 14,
   "metadata": {},
   "outputs": [
    {
     "data": {
      "text/html": [
       "<style type=\"text/css\">\n",
       "#T_6630b_row5_col1 {\n",
       "  background-color: red;\n",
       "}\n",
       "#T_6630b_row8_col1 {\n",
       "  background-color: yellow;\n",
       "}\n",
       "</style>\n",
       "<table id=\"T_6630b\">\n",
       "  <thead>\n",
       "    <tr>\n",
       "      <th class=\"blank level0\" >&nbsp;</th>\n",
       "      <th id=\"T_6630b_level0_col0\" class=\"col_heading level0 col0\" >brand_name</th>\n",
       "      <th id=\"T_6630b_level0_col1\" class=\"col_heading level0 col1\" >list_price</th>\n",
       "    </tr>\n",
       "  </thead>\n",
       "  <tbody>\n",
       "    <tr>\n",
       "      <th id=\"T_6630b_level0_row0\" class=\"row_heading level0 row0\" >0</th>\n",
       "      <td id=\"T_6630b_row0_col0\" class=\"data row0 col0\" >Electra</td>\n",
       "      <td id=\"T_6630b_row0_col1\" class=\"data row0 col1\" >89798.730000</td>\n",
       "    </tr>\n",
       "    <tr>\n",
       "      <th id=\"T_6630b_level0_row1\" class=\"row_heading level0 row1\" >1</th>\n",
       "      <td id=\"T_6630b_row1_col0\" class=\"data row1 col0\" >Haro</td>\n",
       "      <td id=\"T_6630b_row1_col1\" class=\"data row1 col1\" >6219.900000</td>\n",
       "    </tr>\n",
       "    <tr>\n",
       "      <th id=\"T_6630b_level0_row2\" class=\"row_heading level0 row2\" >2</th>\n",
       "      <td id=\"T_6630b_row2_col0\" class=\"data row2 col0\" >Heller</td>\n",
       "      <td id=\"T_6630b_row2_col1\" class=\"data row2 col1\" >6518.990000</td>\n",
       "    </tr>\n",
       "    <tr>\n",
       "      <th id=\"T_6630b_level0_row3\" class=\"row_heading level0 row3\" >3</th>\n",
       "      <td id=\"T_6630b_row3_col0\" class=\"data row3 col0\" >Pure Cycles</td>\n",
       "      <td id=\"T_6630b_row3_col1\" class=\"data row3 col1\" >1327.000000</td>\n",
       "    </tr>\n",
       "    <tr>\n",
       "      <th id=\"T_6630b_level0_row4\" class=\"row_heading level0 row4\" >4</th>\n",
       "      <td id=\"T_6630b_row4_col0\" class=\"data row4 col0\" >Ritchey</td>\n",
       "      <td id=\"T_6630b_row4_col1\" class=\"data row4 col1\" >749.990000</td>\n",
       "    </tr>\n",
       "    <tr>\n",
       "      <th id=\"T_6630b_level0_row5\" class=\"row_heading level0 row5\" >5</th>\n",
       "      <td id=\"T_6630b_row5_col0\" class=\"data row5 col0\" >Strider</td>\n",
       "      <td id=\"T_6630b_row5_col1\" class=\"data row5 col1\" >629.970000</td>\n",
       "    </tr>\n",
       "    <tr>\n",
       "      <th id=\"T_6630b_level0_row6\" class=\"row_heading level0 row6\" >6</th>\n",
       "      <td id=\"T_6630b_row6_col0\" class=\"data row6 col0\" >Sun Bicycles</td>\n",
       "      <td id=\"T_6630b_row6_col1\" class=\"data row6 col1\" >12062.770000</td>\n",
       "    </tr>\n",
       "    <tr>\n",
       "      <th id=\"T_6630b_level0_row7\" class=\"row_heading level0 row7\" >7</th>\n",
       "      <td id=\"T_6630b_row7_col0\" class=\"data row7 col0\" >Surly</td>\n",
       "      <td id=\"T_6630b_row7_col1\" class=\"data row7 col1\" >33293.840000</td>\n",
       "    </tr>\n",
       "    <tr>\n",
       "      <th id=\"T_6630b_level0_row8\" class=\"row_heading level0 row8\" >8</th>\n",
       "      <td id=\"T_6630b_row8_col0\" class=\"data row8 col0\" >Trek</td>\n",
       "      <td id=\"T_6630b_row8_col1\" class=\"data row8 col1\" >337508.650000</td>\n",
       "    </tr>\n",
       "  </tbody>\n",
       "</table>\n"
      ],
      "text/plain": [
       "<pandas.io.formats.style.Styler at 0x16314ab2020>"
      ]
     },
     "execution_count": 14,
     "metadata": {},
     "output_type": "execute_result"
    }
   ],
   "source": [
    "# 1 data set brands\n",
    "#2 dataset products\n",
    "# on or id = brand ID\n",
    "\n",
    "brands_df=pd.read_csv('brands.csv')\n",
    "brands_df.info\n",
    "\n",
    "products_df= pd.read_csv('products.csv')\n",
    "products_df\n",
    "\n",
    "#juntando os dois datasets\n",
    "analise_brand= brands_df.merge(products_df, on='brand_id', how='left')\n",
    "analise_brand\n",
    "\n",
    "#agrupando preço por brand\n",
    "analise_groupbrand= analise_brand.groupby('brand_name')['list_price'].sum().reset_index()\n",
    "analise_groupbrand\n",
    "\n",
    "#aplicando função de max e min\n",
    "# Função para aplicar cores aos valores máximos e mínimos na coluna 'duration'\n",
    "def highlight_max_min(data):\n",
    "    styles = pd.DataFrame('', index=data.index, columns=data.columns)\n",
    "    max_val = data['list_price'].max()\n",
    "    min_val = data['list_price'].min()\n",
    "    \n",
    "    # Aplicando o estilo\n",
    "    styles['list_price'] = ['background-color: yellow' if v == max_val else 'background-color: red' if v == min_val else '' for v in data['list_price']]\n",
    "    \n",
    "    return styles\n",
    "\n",
    "# Aplicando a função ao DataFrame\n",
    "styled_df = analise_groupbrand.style.apply(highlight_max_min, axis=None)\n",
    "\n",
    "# Exibindo o DataFrame estilizado\n",
    "styled_df\n"
   ]
  },
  {
   "cell_type": "markdown",
   "metadata": {},
   "source": [
    "## Exercício 8 ##"
   ]
  },
  {
   "cell_type": "markdown",
   "metadata": {},
   "source": [
    "**8)** Agora que você já possui o preço médio de cada marca, você deve separar os valores em 3 grupos, sendo que os nomes de cada agrupamento será a partir dessa lista: [\"Barato\", \"Médio\", \"Caro\"].\n",
    "\n",
    "Dica: Será que cut ou qcut podem resolver este problema para você?"
   ]
  },
  {
   "cell_type": "code",
   "execution_count": 17,
   "metadata": {},
   "outputs": [
    {
     "name": "stdout",
     "output_type": "stream",
     "text": [
      "     brand_name  list_price categoria_vendas\n",
      "0       Electra    89798.73             Alto\n",
      "1          Haro     6219.90            Médio\n",
      "2        Heller     6518.99            Médio\n",
      "3   Pure Cycles     1327.00            Baixo\n",
      "4       Ritchey      749.99            Baixo\n",
      "5       Strider      629.97            Baixo\n",
      "6  Sun Bicycles    12062.77            Médio\n",
      "7         Surly    33293.84             Alto\n",
      "8          Trek   337508.65             Alto\n"
     ]
    }
   ],
   "source": [
    "# 1 data set brands\n",
    "#2 dataset products\n",
    "# on or id = brand ID\n",
    "\n",
    "brands_df=pd.read_csv('brands.csv')\n",
    "brands_df.info\n",
    "\n",
    "products_df= pd.read_csv('products.csv')\n",
    "products_df\n",
    "\n",
    "#juntando os dois datasets\n",
    "analise_brand= brands_df.merge(products_df, on='brand_id', how='left')\n",
    "analise_brand\n",
    "\n",
    "#agrupando preço por brand\n",
    "analise_groupbrand= analise_brand.groupby('brand_name')['list_price'].sum().reset_index()\n",
    "analise_groupbrand\n",
    "\n",
    "#divindo em grupos com qcut\n",
    "\n",
    "analise_groupbrand['categoria_vendas']= pd.qcut(analise_groupbrand['list_price'], q=3, labels=['Baixo', 'Médio', 'Alto'])\n",
    "print(analise_groupbrand)\n",
    "\n"
   ]
  },
  {
   "cell_type": "markdown",
   "metadata": {},
   "source": [
    "## Exercício 9 ##\n",
    "**9)** Outra demanda chegou, dessa vez precisamos entender se o preço tem alguma relação com as vendas. Bicicletas mais caras são mais vendidas que as mais baratas? Qual a diferença nas vendas entre cada um dos grupos que levantamos na última pergunta?\n",
    "\n",
    "**Dica:** Agora, você precisará partir do DataFrame brands, trazer informações de produtos de cada marca e depois ir na order_items para trazer a quantidade de cada produto vendido. O primeiro join será com a coluna brand_id que é comum ao dataFrame brands e ao products. Na sequência, você consegue ver qual coluna existe em products e em order_items para fazermos mais um join? E o último agrupamento, como será feito? A pergunta é quanto cada marca vende, ou seja, o último agrupamento só pode ser com a coluna br..."
   ]
  },
  {
   "cell_type": "markdown",
   "metadata": {},
   "source": [
    "**Observação**: Pensar em uma solução mais tarde, pois a principio não parece ter colunas em comum em todos os datasets."
   ]
  },
  {
   "cell_type": "code",
   "execution_count": 42,
   "metadata": {},
   "outputs": [
    {
     "name": "stdout",
     "output_type": "stream",
     "text": [
      "<bound method Series.reset_index of brand_name\n",
      "Electra          520.365237\n",
      "Haro             629.262727\n",
      "Heller          1400.042165\n",
      "Pure Cycles      441.945736\n",
      "Ritchey          749.990000\n",
      "Strider          194.990000\n",
      "Sun Bicycles     529.408557\n",
      "Surly           1168.135611\n",
      "Trek            2762.359478\n",
      "Name: list_price_x, dtype: float64>\n"
     ]
    }
   ],
   "source": [
    "#importando data set ordes\n",
    "orders_itensdf= pd.read_csv('order_items.csv')\n",
    "#juntando os dois primeiros datasets\n",
    "analise_sale= brands_df.merge(products_df, on='brand_id', how='left')\n",
    "\n",
    "#juntando o último dataframe\n",
    "analise_sale_final= analise_sale.merge(orders_itensdf, on= 'product_id', how= 'left')\n",
    "analise_sale_final\n",
    "\n",
    "#group by vendas por marcas\n",
    "resultado= analise_sale_final.groupby('brand_name')['list_price_x'].mean().reset_index\n",
    "print(resultado)\n"
   ]
  },
  {
   "cell_type": "markdown",
   "metadata": {},
   "source": [
    "## Exercício 10 ##"
   ]
  },
  {
   "cell_type": "markdown",
   "metadata": {},
   "source": [
    "**10)** Uma das coisas mais importantes para sua marca é expandir pelo maior número de estados possíveis. Para isso, precisamos entender quais estados consomem pouco e quais estados consomem muitos produtos. Em outras palavras, precisamos entender de onde vem a receita e onde precisamos gastar mais com marketing, ou entender se seria melhor simplesmente desligar a operação no local. Crie uma tabela sumarizando os gastos por estado, verifique qual a diferença do estado que mais consome para o estado que menos consome.\n",
    "\n",
    "Sem dica para a última tarefa!"
   ]
  },
  {
   "cell_type": "code",
   "execution_count": 35,
   "metadata": {},
   "outputs": [
    {
     "data": {
      "text/plain": [
       "Index(['brand_id', 'brand_name'], dtype='object')"
      ]
     },
     "metadata": {},
     "output_type": "display_data"
    },
    {
     "data": {
      "text/plain": [
       "Index(['product_id', 'product_name', 'brand_id', 'category_id', 'model_year',\n",
       "       'list_price'],\n",
       "      dtype='object')"
      ]
     },
     "metadata": {},
     "output_type": "display_data"
    },
    {
     "data": {
      "text/plain": [
       "Index(['order_id', 'item_id', 'product_id', 'quantity', 'list_price',\n",
       "       'discount'],\n",
       "      dtype='object')"
      ]
     },
     "metadata": {},
     "output_type": "display_data"
    },
    {
     "data": {
      "text/plain": [
       "Index(['order_id', 'customer_id', 'order_status', 'order_date',\n",
       "       'required_date', 'shipped_date', 'store_id', 'staff_id'],\n",
       "      dtype='object')"
      ]
     },
     "metadata": {},
     "output_type": "display_data"
    },
    {
     "data": {
      "text/plain": [
       "Index(['staff_id', 'first_name', 'last_name', 'email', 'phone', 'active',\n",
       "       'store_id', 'manager_id'],\n",
       "      dtype='object')"
      ]
     },
     "metadata": {},
     "output_type": "display_data"
    },
    {
     "data": {
      "text/plain": [
       "Index(['store_id', 'product_id', 'quantity'], dtype='object')"
      ]
     },
     "metadata": {},
     "output_type": "display_data"
    },
    {
     "data": {
      "text/plain": [
       "Index(['store_id', 'store_name', 'phone', 'email', 'street', 'city', 'state',\n",
       "       'zip_code'],\n",
       "      dtype='object')"
      ]
     },
     "metadata": {},
     "output_type": "display_data"
    }
   ],
   "source": [
    "#primeiro carregando todas os dataframes e analisando os nomes de coluna\n",
    "\n",
    "categories_df= pd.read_csv('categories.csv')\n",
    "orders_itensdf= pd.read_csv('order_items.csv')\n",
    "orders_df=pd.read_csv('orders.csv')\n",
    "staff_df= pd.read_csv('staffs.csv')\n",
    "stocks_df= pd.read_csv('stocks.csv')\n",
    "stores_df=pd.read_csv('stores.csv')\n",
    "\n",
    "\n",
    "display(brands_df.columns)\n",
    "display(products_df.columns)\n",
    "display(orders_itensdf.columns)\n",
    "display(orders_df.columns)\n",
    "display(staff_df.columns)\n",
    "display(stocks_df.columns)\n",
    "display(stores_df.columns)\n",
    "\n",
    "#iremos utilizar o products + stocks+ stores df"
   ]
  },
  {
   "cell_type": "code",
   "execution_count": 53,
   "metadata": {},
   "outputs": [
    {
     "name": "stdout",
     "output_type": "stream",
     "text": [
      "  state  total_de_vendas\n",
      "2    TX       6859214.21\n",
      "0    CA       6487242.16\n",
      "1    NY       6473126.28\n"
     ]
    }
   ],
   "source": [
    "\n",
    "\n",
    "# Merge para obter preço, quantidade e id da loja\n",
    "analise_state = products_df.merge(stocks_df, on='product_id', how='left')\n",
    "\n",
    "# Merge para sabermos de qual estado é a loja\n",
    "analise_state_final = analise_state.merge(stores_df, on='store_id', how='left')\n",
    "\n",
    "# Nova coluna total de vendas\n",
    "analise_state_final['total_de_vendas'] = analise_state_final['list_price'] * analise_state_final['quantity']\n",
    "\n",
    "# Agrupando os estados e somando as vendas totais\n",
    "sales_by_state = analise_state_final.groupby('state')['total_de_vendas'].sum().reset_index()\n",
    "\n",
    "# Ordenar resultados por ordem decrescente\n",
    "sales_by_state = sales_by_state.sort_values(by='total_de_vendas', ascending=False)\n",
    "\n",
    "print(sales_by_state)\n"
   ]
  }
 ],
 "metadata": {
  "kernelspec": {
   "display_name": "base",
   "language": "python",
   "name": "python3"
  },
  "language_info": {
   "codemirror_mode": {
    "name": "ipython",
    "version": 3
   },
   "file_extension": ".py",
   "mimetype": "text/x-python",
   "name": "python",
   "nbconvert_exporter": "python",
   "pygments_lexer": "ipython3",
   "version": "3.10.9"
  }
 },
 "nbformat": 4,
 "nbformat_minor": 2
}
