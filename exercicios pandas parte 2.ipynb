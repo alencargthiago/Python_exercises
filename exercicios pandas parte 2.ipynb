{
 "cells": [
  {
   "cell_type": "markdown",
   "metadata": {},
   "source": [
    "# Exercícios Pandas Parte 2 # "
   ]
  },
  {
   "cell_type": "code",
   "execution_count": 8,
   "metadata": {},
   "outputs": [],
   "source": [
    "import pandas as pd\n",
    "import numpy as np"
   ]
  },
  {
   "cell_type": "markdown",
   "metadata": {},
   "source": [
    "\n",
    "## Exercício 1 ##\n",
    "Olhando apenas para o grupo de divorciados, qual o percentual deles que é empreendedor (entrepreneur)? E estudantes?.</p>\n"
   ]
  },
  {
   "cell_type": "code",
   "execution_count": 9,
   "metadata": {},
   "outputs": [
    {
     "data": {
      "text/html": [
       "<div>\n",
       "<style scoped>\n",
       "    .dataframe tbody tr th:only-of-type {\n",
       "        vertical-align: middle;\n",
       "    }\n",
       "\n",
       "    .dataframe tbody tr th {\n",
       "        vertical-align: top;\n",
       "    }\n",
       "\n",
       "    .dataframe thead th {\n",
       "        text-align: right;\n",
       "    }\n",
       "</style>\n",
       "<table border=\"1\" class=\"dataframe\">\n",
       "  <thead>\n",
       "    <tr style=\"text-align: right;\">\n",
       "      <th></th>\n",
       "      <th>age</th>\n",
       "      <th>job</th>\n",
       "      <th>marital</th>\n",
       "      <th>education</th>\n",
       "      <th>default</th>\n",
       "      <th>balance</th>\n",
       "      <th>housing</th>\n",
       "      <th>loan</th>\n",
       "      <th>contact</th>\n",
       "      <th>day</th>\n",
       "      <th>month</th>\n",
       "      <th>duration</th>\n",
       "      <th>campaign</th>\n",
       "      <th>pdays</th>\n",
       "      <th>previous</th>\n",
       "      <th>poutcome</th>\n",
       "      <th>y</th>\n",
       "    </tr>\n",
       "  </thead>\n",
       "  <tbody>\n",
       "    <tr>\n",
       "      <th>0</th>\n",
       "      <td>58</td>\n",
       "      <td>management</td>\n",
       "      <td>married</td>\n",
       "      <td>tertiary</td>\n",
       "      <td>no</td>\n",
       "      <td>2143</td>\n",
       "      <td>yes</td>\n",
       "      <td>no</td>\n",
       "      <td>unknown</td>\n",
       "      <td>5</td>\n",
       "      <td>may</td>\n",
       "      <td>261</td>\n",
       "      <td>1</td>\n",
       "      <td>-1</td>\n",
       "      <td>0</td>\n",
       "      <td>unknown</td>\n",
       "      <td>no</td>\n",
       "    </tr>\n",
       "    <tr>\n",
       "      <th>1</th>\n",
       "      <td>44</td>\n",
       "      <td>technician</td>\n",
       "      <td>single</td>\n",
       "      <td>secondary</td>\n",
       "      <td>no</td>\n",
       "      <td>29</td>\n",
       "      <td>yes</td>\n",
       "      <td>no</td>\n",
       "      <td>unknown</td>\n",
       "      <td>5</td>\n",
       "      <td>may</td>\n",
       "      <td>151</td>\n",
       "      <td>1</td>\n",
       "      <td>-1</td>\n",
       "      <td>0</td>\n",
       "      <td>unknown</td>\n",
       "      <td>no</td>\n",
       "    </tr>\n",
       "    <tr>\n",
       "      <th>2</th>\n",
       "      <td>33</td>\n",
       "      <td>entrepreneur</td>\n",
       "      <td>married</td>\n",
       "      <td>secondary</td>\n",
       "      <td>no</td>\n",
       "      <td>2</td>\n",
       "      <td>yes</td>\n",
       "      <td>yes</td>\n",
       "      <td>unknown</td>\n",
       "      <td>5</td>\n",
       "      <td>may</td>\n",
       "      <td>76</td>\n",
       "      <td>1</td>\n",
       "      <td>-1</td>\n",
       "      <td>0</td>\n",
       "      <td>unknown</td>\n",
       "      <td>no</td>\n",
       "    </tr>\n",
       "    <tr>\n",
       "      <th>3</th>\n",
       "      <td>47</td>\n",
       "      <td>blue-collar</td>\n",
       "      <td>married</td>\n",
       "      <td>unknown</td>\n",
       "      <td>no</td>\n",
       "      <td>1506</td>\n",
       "      <td>yes</td>\n",
       "      <td>no</td>\n",
       "      <td>unknown</td>\n",
       "      <td>5</td>\n",
       "      <td>may</td>\n",
       "      <td>92</td>\n",
       "      <td>1</td>\n",
       "      <td>-1</td>\n",
       "      <td>0</td>\n",
       "      <td>unknown</td>\n",
       "      <td>no</td>\n",
       "    </tr>\n",
       "    <tr>\n",
       "      <th>4</th>\n",
       "      <td>33</td>\n",
       "      <td>unknown</td>\n",
       "      <td>single</td>\n",
       "      <td>unknown</td>\n",
       "      <td>no</td>\n",
       "      <td>1</td>\n",
       "      <td>no</td>\n",
       "      <td>no</td>\n",
       "      <td>unknown</td>\n",
       "      <td>5</td>\n",
       "      <td>may</td>\n",
       "      <td>198</td>\n",
       "      <td>1</td>\n",
       "      <td>-1</td>\n",
       "      <td>0</td>\n",
       "      <td>unknown</td>\n",
       "      <td>no</td>\n",
       "    </tr>\n",
       "  </tbody>\n",
       "</table>\n",
       "</div>"
      ],
      "text/plain": [
       "   age           job  marital  education default  balance housing loan  \\\n",
       "0   58    management  married   tertiary      no     2143     yes   no   \n",
       "1   44    technician   single  secondary      no       29     yes   no   \n",
       "2   33  entrepreneur  married  secondary      no        2     yes  yes   \n",
       "3   47   blue-collar  married    unknown      no     1506     yes   no   \n",
       "4   33       unknown   single    unknown      no        1      no   no   \n",
       "\n",
       "   contact  day month  duration  campaign  pdays  previous poutcome   y  \n",
       "0  unknown    5   may       261         1     -1         0  unknown  no  \n",
       "1  unknown    5   may       151         1     -1         0  unknown  no  \n",
       "2  unknown    5   may        76         1     -1         0  unknown  no  \n",
       "3  unknown    5   may        92         1     -1         0  unknown  no  \n",
       "4  unknown    5   may       198         1     -1         0  unknown  no  "
      ]
     },
     "execution_count": 9,
     "metadata": {},
     "output_type": "execute_result"
    }
   ],
   "source": [
    "bank_df= pd.read_csv('bank-full.csv', sep=';')\n",
    "bank_df.head()"
   ]
  },
  {
   "cell_type": "markdown",
   "metadata": {},
   "source": [
    "Resolução\n",
    "\n",
    "<p> Primeiro, vou verificar quantos tipos únicos temos de jobs e estados cívis.</p>"
   ]
  },
  {
   "cell_type": "code",
   "execution_count": 10,
   "metadata": {},
   "outputs": [
    {
     "data": {
      "text/plain": [
       "array(['married', 'single', 'divorced'], dtype=object)"
      ]
     },
     "execution_count": 10,
     "metadata": {},
     "output_type": "execute_result"
    }
   ],
   "source": [
    "#verificando tipos únicos\n",
    "bank_df.job.unique()\n",
    "bank_df.marital.unique()"
   ]
  },
  {
   "cell_type": "markdown",
   "metadata": {},
   "source": [
    "<p> Para job temos as seguintes categorias: </p>\n",
    "<ul> management', 'technician', 'entrepreneur', 'blue-collar',\n",
    "       'unknown', 'retired', 'admin.', 'services', 'self-employed',\n",
    "       'unemployed', 'housemaid', 'student </ul>\n",
    "<p> E para marital temos as seguintes categorias:\n",
    "<ul>['married', 'single', 'divorced'] </ul>"
   ]
  },
  {
   "cell_type": "code",
   "execution_count": 11,
   "metadata": {},
   "outputs": [
    {
     "name": "stdout",
     "output_type": "stream",
     "text": [
      "O número de pessoas que são divorciadas e são ou estudante ou empresários é de 185\n",
      " O total dos divorciados é de 5207\n",
      " E o percentual de divorciados que são divorciados e ao mesmo tempo empresários ou estudantes é de 3.55 %\n"
     ]
    }
   ],
   "source": [
    "#filtrando divorciados e estudantes que sao divorciados\n",
    "quantidade= bank_df.query('job in[ \"entrepreneur\", \"student\"] and marital == \"divorced\"')\n",
    "\n",
    "#contando a quantidade de pessoas que são divorciadas e ou estudantes ou empresarios\n",
    "qtd= quantidade.shape[0]\n",
    "\n",
    "#quantidade de divorciados\n",
    "divorciados= bank_df.query('marital == \"divorced\"')\n",
    "qtde_divorciados= divorciados.shape[0]\n",
    "\n",
    "#percentual de divorciados que são estudantes ou empresários\n",
    "percentual= (qtd/qtde_divorciados) *100\n",
    "\n",
    "print(f'O número de pessoas que são divorciadas e são ou estudante ou empresários é de {qtd}')\n",
    "print(f' O total dos divorciados é de {qtde_divorciados}')\n",
    "print(f' E o percentual de divorciados que são divorciados e ao mesmo tempo empresários ou estudantes é de {percentual:.2f} %')\n",
    "\n",
    "#obtendo o percentual"
   ]
  },
  {
   "cell_type": "markdown",
   "metadata": {},
   "source": [
    "Talvez tenha melhor forma de fazer isso, mas seguimos em frente. O importante é continuar.\n",
    "</details>"
   ]
  },
  {
   "cell_type": "markdown",
   "metadata": {},
   "source": []
  },
  {
   "cell_type": "markdown",
   "metadata": {},
   "source": [
    "## Exercício 2 ##\n",
    " O seu chefe decidiu criar duas categorias, Premium e Gold, para focar nos clientes mais promissores. Para a categoria Premium, entrarão os que possuem saldo (balance) nos top 10%. Ou seja, o grupo acima do percentil 90. Já o grupo Gold, ficarão os que possuem saldo nos top 20%, mas abaixo do grupo Premium. Ou seja, do p80 até o último do p90. Verifique quantos clientes possuem no grupo Premium e no Gold."
   ]
  },
  {
   "cell_type": "markdown",
   "metadata": {},
   "source": [
    "Primeiramente, iremos calcular o percentil de 90% e 80% do balance:\n",
    "\n",
    "grupo premium: 10 % com mais balance, percentil de 90% \n",
    "grupo gold: percentil de 80% até 90%\n",
    "\n",
    "categoria defina pelo balance"
   ]
  },
  {
   "cell_type": "code",
   "execution_count": 12,
   "metadata": {},
   "outputs": [
    {
     "name": "stdout",
     "output_type": "stream",
     "text": [
      "       age           job   marital  education default  balance housing loan  \\\n",
      "0       58    management   married   tertiary      no     2143     yes   no   \n",
      "1       44    technician    single  secondary      no       29     yes   no   \n",
      "2       33  entrepreneur   married  secondary      no        2     yes  yes   \n",
      "3       47   blue-collar   married    unknown      no     1506     yes   no   \n",
      "4       33       unknown    single    unknown      no        1      no   no   \n",
      "...    ...           ...       ...        ...     ...      ...     ...  ...   \n",
      "45206   51    technician   married   tertiary      no      825      no   no   \n",
      "45207   71       retired  divorced    primary      no     1729      no   no   \n",
      "45208   72       retired   married  secondary      no     5715      no   no   \n",
      "45209   57   blue-collar   married  secondary      no      668      no   no   \n",
      "45210   37  entrepreneur   married  secondary      no     2971      no   no   \n",
      "\n",
      "         contact  day month  duration  campaign  pdays  previous poutcome  \\\n",
      "0        unknown    5   may       261         1     -1         0  unknown   \n",
      "1        unknown    5   may       151         1     -1         0  unknown   \n",
      "2        unknown    5   may        76         1     -1         0  unknown   \n",
      "3        unknown    5   may        92         1     -1         0  unknown   \n",
      "4        unknown    5   may       198         1     -1         0  unknown   \n",
      "...          ...  ...   ...       ...       ...    ...       ...      ...   \n",
      "45206   cellular   17   nov       977         3     -1         0  unknown   \n",
      "45207   cellular   17   nov       456         2     -1         0  unknown   \n",
      "45208   cellular   17   nov      1127         5    184         3  success   \n",
      "45209  telephone   17   nov       508         4     -1         0  unknown   \n",
      "45210   cellular   17   nov       361         2    188        11    other   \n",
      "\n",
      "         y categoria  \n",
      "0       no   premium  \n",
      "1       no      gold  \n",
      "2       no      gold  \n",
      "3       no      gold  \n",
      "4       no      gold  \n",
      "...    ...       ...  \n",
      "45206  yes      gold  \n",
      "45207  yes      gold  \n",
      "45208  yes   top 10%  \n",
      "45209   no      gold  \n",
      "45210   no   premium  \n",
      "\n",
      "[45211 rows x 18 columns]\n",
      "O número de clientes na categoria Gold : 36169\n",
      "O número de clientes na categoria Premium: 4521\n"
     ]
    }
   ],
   "source": [
    "# definindo percentil de 80%\n",
    "percent_80= bank_df['balance'].quantile(0.80)\n",
    "\n",
    "#definindo percentil de 90%\n",
    "percent_90= bank_df['balance'].quantile(0.90)\n",
    "\n",
    "percent_80\n",
    "percent_90\n",
    "\n",
    "#definindo intervalos para o cut\n",
    "\n",
    "bins= [bank_df['balance'].min(), percent_80, percent_90, bank_df['balance'].max()]\n",
    "labels=['gold', 'premium', 'top 10%']\n",
    "\n",
    "#categorizando os dados\n",
    "\n",
    "bank_df['categoria']=pd.cut(bank_df['balance'], bins=bins, labels=labels, include_lowest= True)\n",
    "\n",
    "#contando quantos clientes estão em cada grupo\n",
    "contagem= bank_df['categoria'].value_counts()\n",
    "\n",
    "print(bank_df)\n",
    "print(f\"O número de clientes na categoria Gold : {contagem.get('gold',0)}\")\n",
    "print(f\"O número de clientes na categoria Premium: {contagem.get('premium',0)}\")"
   ]
  },
  {
   "cell_type": "markdown",
   "metadata": {},
   "source": [
    "Versão 2\n",
    "Primeiro, vamos calcular também o percentil de 90 e 80\n"
   ]
  },
  {
   "cell_type": "code",
   "execution_count": 13,
   "metadata": {},
   "outputs": [
    {
     "name": "stdout",
     "output_type": "stream",
     "text": [
      "Outros     36162\n",
      "Gold        4525\n",
      "Premium     4524\n",
      "Name: CATEGORIA, dtype: int64\n"
     ]
    }
   ],
   "source": [
    "#Calculando o percentil de 90 e 80\n",
    "\n",
    "percentiu_90= np.percentile(bank_df['balance'],90)\n",
    "percentiu_80= np.percentile(bank_df['balance'],80)\n",
    "\n",
    "#Criando coluna para categoria Premium\n",
    "\n",
    "bank_df['CATEGORIA']= np.where(bank_df['balance'] >= percentiu_90, 'Premium',\n",
    "                               np.where(bank_df['balance']>= percentiu_80, 'Gold', 'Outros'))\n",
    "\n",
    "#np Where cria novas tabelas com base nas condições\n",
    "\n",
    "#Contando os Clientes em cada categoria\n",
    "\n",
    "contagem_categoria= bank_df['CATEGORIA'].value_counts()\n",
    "print(contagem_categoria)"
   ]
  },
  {
   "cell_type": "markdown",
   "metadata": {},
   "source": [
    "A primeira solução é mais flexível e a segunda é mais fácil e intuitiva."
   ]
  },
  {
   "cell_type": "markdown",
   "metadata": {},
   "source": [
    "## Exercício 3 ##"
   ]
  },
  {
   "cell_type": "markdown",
   "metadata": {},
   "source": [
    "3) Seu chefe também quer saber se existe diferença nos percentuais vistos no exercício (1) para o grupo Premium. Verifique como a tabela cruzada da população se diferencia do grupo Premium. Existe diferença? Qual sua hipótese para que exista essa diferença?"
   ]
  },
  {
   "cell_type": "code",
   "execution_count": 20,
   "metadata": {},
   "outputs": [
    {
     "name": "stdout",
     "output_type": "stream",
     "text": [
      "marital        divorced   married    single\n",
      "job                                        \n",
      "admin.         0.145040  0.520789  0.334171\n",
      "blue-collar    0.077065  0.715988  0.206946\n",
      "entrepreneur   0.120377  0.719570  0.160054\n",
      "housemaid      0.148387  0.735484  0.116129\n",
      "management     0.117467  0.570945  0.311588\n",
      "retired        0.187721  0.764576  0.047703\n",
      "self-employed  0.088664  0.628879  0.282457\n",
      "services       0.132162  0.579442  0.288397\n",
      "student        0.006397  0.057569  0.936034\n",
      "technician     0.121759  0.533368  0.344873\n",
      "unemployed     0.131236  0.561013  0.307751\n",
      "unknown        0.059028  0.704861  0.236111\n",
      "marital        divorced   married    single\n",
      "job                                        \n",
      "admin.         0.100478  0.612440  0.287081\n",
      "blue-collar    0.056604  0.723720  0.219677\n",
      "entrepreneur   0.083916  0.825175  0.090909\n",
      "housemaid      0.171642  0.701493  0.126866\n",
      "management     0.104361  0.598131  0.297508\n",
      "retired        0.160237  0.818991  0.020772\n",
      "self-employed  0.134409  0.618280  0.247312\n",
      "services       0.112957  0.647841  0.239203\n",
      "student        0.000000  0.043956  0.956044\n",
      "technician     0.072238  0.586402  0.341360\n",
      "unemployed     0.118056  0.583333  0.298611\n",
      "unknown        0.078947  0.736842  0.184211\n"
     ]
    }
   ],
   "source": [
    "#Selecionando apenas os premium na coluna de categoria\n",
    "premium_df = bank_df[bank_df['CATEGORIA'] == 'Premium']\n",
    "premium_df\n",
    "\n",
    "#Tabela cruzada para população total\n",
    "crosstab_total= pd.crosstab(bank_df['job'], bank_df['marital'], normalize= 'index')\n",
    "\n",
    "#tabela cruzada de job apenas para categoria premium\n",
    "crosstab_premium= pd.crosstab(premium_df['job'], premium_df['marital'], normalize= 'index')\n",
    "\n",
    "#comparando percentuais\n",
    "print(crosstab_total)\n",
    "print(crosstab_premium)"
   ]
  },
  {
   "cell_type": "markdown",
   "metadata": {},
   "source": [
    "A diferença encontrada foi de que entre o grupo de premiuns, o percentual de empresários e que são casados, são bem superiores ao restante da população. Há também mais empresários casados do que solteiros. Acredito que isso seja esperado, por talvez serem homens com mais idade, já vivendo o matrimônio."
   ]
  },
  {
   "cell_type": "markdown",
   "metadata": {},
   "source": [
    "### exercício 4 ###\n",
    "\n",
    "4) Para a apresentação final, você decide criar uma tabela com os 10 clientes que possuem maior saldo (balance). Como a tabela é grande demais, você resolve apresentar apenas as informações relevantes: age, job, marital, education, default, loan, duration. Além disso, você decide destacar clientes que foram mais e menos atenciosos, pois são os que parecem ter maior e menor potencial, respectivamente. Para isso, destaque na tabela, de amarelo, o cliente de maior duration. Destaque, de vermelho, o que tem menor duration.\n"
   ]
  },
  {
   "cell_type": "code",
   "execution_count": 36,
   "metadata": {},
   "outputs": [
    {
     "name": "stdout",
     "output_type": "stream",
     "text": [
      "       balance  age           job   marital  education default loan  duration\n",
      "39989   102127   51    management    single   tertiary      no   no        90\n",
      "26227    98417   59    management   married   tertiary      no   no       145\n",
      "42558    81204   84       retired   married  secondary      no   no       679\n",
      "43393    81204   84       retired   married  secondary      no   no       390\n",
      "41693    71188   60       retired   married    primary      no   no       205\n",
      "19785    66721   56    management  divorced   tertiary      no   no       442\n",
      "21192    66653   52   blue-collar   married    primary      no   no       109\n",
      "19420    64343   59        admin.   married    unknown      no   no        45\n",
      "41374    59649   32  entrepreneur    single   tertiary      no   no        69\n",
      "12926    58932   56   blue-collar   married  secondary      no   no       339\n"
     ]
    },
    {
     "data": {
      "text/html": [
       "<style type=\"text/css\">\n",
       "#T_b9692_row2_col7 {\n",
       "  background-color: yellow;\n",
       "}\n",
       "#T_b9692_row7_col7 {\n",
       "  background-color: red;\n",
       "}\n",
       "</style>\n",
       "<table id=\"T_b9692\">\n",
       "  <thead>\n",
       "    <tr>\n",
       "      <th class=\"blank level0\" >&nbsp;</th>\n",
       "      <th id=\"T_b9692_level0_col0\" class=\"col_heading level0 col0\" >balance</th>\n",
       "      <th id=\"T_b9692_level0_col1\" class=\"col_heading level0 col1\" >age</th>\n",
       "      <th id=\"T_b9692_level0_col2\" class=\"col_heading level0 col2\" >job</th>\n",
       "      <th id=\"T_b9692_level0_col3\" class=\"col_heading level0 col3\" >marital</th>\n",
       "      <th id=\"T_b9692_level0_col4\" class=\"col_heading level0 col4\" >education</th>\n",
       "      <th id=\"T_b9692_level0_col5\" class=\"col_heading level0 col5\" >default</th>\n",
       "      <th id=\"T_b9692_level0_col6\" class=\"col_heading level0 col6\" >loan</th>\n",
       "      <th id=\"T_b9692_level0_col7\" class=\"col_heading level0 col7\" >duration</th>\n",
       "    </tr>\n",
       "  </thead>\n",
       "  <tbody>\n",
       "    <tr>\n",
       "      <th id=\"T_b9692_level0_row0\" class=\"row_heading level0 row0\" >39989</th>\n",
       "      <td id=\"T_b9692_row0_col0\" class=\"data row0 col0\" >102127</td>\n",
       "      <td id=\"T_b9692_row0_col1\" class=\"data row0 col1\" >51</td>\n",
       "      <td id=\"T_b9692_row0_col2\" class=\"data row0 col2\" >management</td>\n",
       "      <td id=\"T_b9692_row0_col3\" class=\"data row0 col3\" >single</td>\n",
       "      <td id=\"T_b9692_row0_col4\" class=\"data row0 col4\" >tertiary</td>\n",
       "      <td id=\"T_b9692_row0_col5\" class=\"data row0 col5\" >no</td>\n",
       "      <td id=\"T_b9692_row0_col6\" class=\"data row0 col6\" >no</td>\n",
       "      <td id=\"T_b9692_row0_col7\" class=\"data row0 col7\" >90</td>\n",
       "    </tr>\n",
       "    <tr>\n",
       "      <th id=\"T_b9692_level0_row1\" class=\"row_heading level0 row1\" >26227</th>\n",
       "      <td id=\"T_b9692_row1_col0\" class=\"data row1 col0\" >98417</td>\n",
       "      <td id=\"T_b9692_row1_col1\" class=\"data row1 col1\" >59</td>\n",
       "      <td id=\"T_b9692_row1_col2\" class=\"data row1 col2\" >management</td>\n",
       "      <td id=\"T_b9692_row1_col3\" class=\"data row1 col3\" >married</td>\n",
       "      <td id=\"T_b9692_row1_col4\" class=\"data row1 col4\" >tertiary</td>\n",
       "      <td id=\"T_b9692_row1_col5\" class=\"data row1 col5\" >no</td>\n",
       "      <td id=\"T_b9692_row1_col6\" class=\"data row1 col6\" >no</td>\n",
       "      <td id=\"T_b9692_row1_col7\" class=\"data row1 col7\" >145</td>\n",
       "    </tr>\n",
       "    <tr>\n",
       "      <th id=\"T_b9692_level0_row2\" class=\"row_heading level0 row2\" >42558</th>\n",
       "      <td id=\"T_b9692_row2_col0\" class=\"data row2 col0\" >81204</td>\n",
       "      <td id=\"T_b9692_row2_col1\" class=\"data row2 col1\" >84</td>\n",
       "      <td id=\"T_b9692_row2_col2\" class=\"data row2 col2\" >retired</td>\n",
       "      <td id=\"T_b9692_row2_col3\" class=\"data row2 col3\" >married</td>\n",
       "      <td id=\"T_b9692_row2_col4\" class=\"data row2 col4\" >secondary</td>\n",
       "      <td id=\"T_b9692_row2_col5\" class=\"data row2 col5\" >no</td>\n",
       "      <td id=\"T_b9692_row2_col6\" class=\"data row2 col6\" >no</td>\n",
       "      <td id=\"T_b9692_row2_col7\" class=\"data row2 col7\" >679</td>\n",
       "    </tr>\n",
       "    <tr>\n",
       "      <th id=\"T_b9692_level0_row3\" class=\"row_heading level0 row3\" >43393</th>\n",
       "      <td id=\"T_b9692_row3_col0\" class=\"data row3 col0\" >81204</td>\n",
       "      <td id=\"T_b9692_row3_col1\" class=\"data row3 col1\" >84</td>\n",
       "      <td id=\"T_b9692_row3_col2\" class=\"data row3 col2\" >retired</td>\n",
       "      <td id=\"T_b9692_row3_col3\" class=\"data row3 col3\" >married</td>\n",
       "      <td id=\"T_b9692_row3_col4\" class=\"data row3 col4\" >secondary</td>\n",
       "      <td id=\"T_b9692_row3_col5\" class=\"data row3 col5\" >no</td>\n",
       "      <td id=\"T_b9692_row3_col6\" class=\"data row3 col6\" >no</td>\n",
       "      <td id=\"T_b9692_row3_col7\" class=\"data row3 col7\" >390</td>\n",
       "    </tr>\n",
       "    <tr>\n",
       "      <th id=\"T_b9692_level0_row4\" class=\"row_heading level0 row4\" >41693</th>\n",
       "      <td id=\"T_b9692_row4_col0\" class=\"data row4 col0\" >71188</td>\n",
       "      <td id=\"T_b9692_row4_col1\" class=\"data row4 col1\" >60</td>\n",
       "      <td id=\"T_b9692_row4_col2\" class=\"data row4 col2\" >retired</td>\n",
       "      <td id=\"T_b9692_row4_col3\" class=\"data row4 col3\" >married</td>\n",
       "      <td id=\"T_b9692_row4_col4\" class=\"data row4 col4\" >primary</td>\n",
       "      <td id=\"T_b9692_row4_col5\" class=\"data row4 col5\" >no</td>\n",
       "      <td id=\"T_b9692_row4_col6\" class=\"data row4 col6\" >no</td>\n",
       "      <td id=\"T_b9692_row4_col7\" class=\"data row4 col7\" >205</td>\n",
       "    </tr>\n",
       "    <tr>\n",
       "      <th id=\"T_b9692_level0_row5\" class=\"row_heading level0 row5\" >19785</th>\n",
       "      <td id=\"T_b9692_row5_col0\" class=\"data row5 col0\" >66721</td>\n",
       "      <td id=\"T_b9692_row5_col1\" class=\"data row5 col1\" >56</td>\n",
       "      <td id=\"T_b9692_row5_col2\" class=\"data row5 col2\" >management</td>\n",
       "      <td id=\"T_b9692_row5_col3\" class=\"data row5 col3\" >divorced</td>\n",
       "      <td id=\"T_b9692_row5_col4\" class=\"data row5 col4\" >tertiary</td>\n",
       "      <td id=\"T_b9692_row5_col5\" class=\"data row5 col5\" >no</td>\n",
       "      <td id=\"T_b9692_row5_col6\" class=\"data row5 col6\" >no</td>\n",
       "      <td id=\"T_b9692_row5_col7\" class=\"data row5 col7\" >442</td>\n",
       "    </tr>\n",
       "    <tr>\n",
       "      <th id=\"T_b9692_level0_row6\" class=\"row_heading level0 row6\" >21192</th>\n",
       "      <td id=\"T_b9692_row6_col0\" class=\"data row6 col0\" >66653</td>\n",
       "      <td id=\"T_b9692_row6_col1\" class=\"data row6 col1\" >52</td>\n",
       "      <td id=\"T_b9692_row6_col2\" class=\"data row6 col2\" >blue-collar</td>\n",
       "      <td id=\"T_b9692_row6_col3\" class=\"data row6 col3\" >married</td>\n",
       "      <td id=\"T_b9692_row6_col4\" class=\"data row6 col4\" >primary</td>\n",
       "      <td id=\"T_b9692_row6_col5\" class=\"data row6 col5\" >no</td>\n",
       "      <td id=\"T_b9692_row6_col6\" class=\"data row6 col6\" >no</td>\n",
       "      <td id=\"T_b9692_row6_col7\" class=\"data row6 col7\" >109</td>\n",
       "    </tr>\n",
       "    <tr>\n",
       "      <th id=\"T_b9692_level0_row7\" class=\"row_heading level0 row7\" >19420</th>\n",
       "      <td id=\"T_b9692_row7_col0\" class=\"data row7 col0\" >64343</td>\n",
       "      <td id=\"T_b9692_row7_col1\" class=\"data row7 col1\" >59</td>\n",
       "      <td id=\"T_b9692_row7_col2\" class=\"data row7 col2\" >admin.</td>\n",
       "      <td id=\"T_b9692_row7_col3\" class=\"data row7 col3\" >married</td>\n",
       "      <td id=\"T_b9692_row7_col4\" class=\"data row7 col4\" >unknown</td>\n",
       "      <td id=\"T_b9692_row7_col5\" class=\"data row7 col5\" >no</td>\n",
       "      <td id=\"T_b9692_row7_col6\" class=\"data row7 col6\" >no</td>\n",
       "      <td id=\"T_b9692_row7_col7\" class=\"data row7 col7\" >45</td>\n",
       "    </tr>\n",
       "    <tr>\n",
       "      <th id=\"T_b9692_level0_row8\" class=\"row_heading level0 row8\" >41374</th>\n",
       "      <td id=\"T_b9692_row8_col0\" class=\"data row8 col0\" >59649</td>\n",
       "      <td id=\"T_b9692_row8_col1\" class=\"data row8 col1\" >32</td>\n",
       "      <td id=\"T_b9692_row8_col2\" class=\"data row8 col2\" >entrepreneur</td>\n",
       "      <td id=\"T_b9692_row8_col3\" class=\"data row8 col3\" >single</td>\n",
       "      <td id=\"T_b9692_row8_col4\" class=\"data row8 col4\" >tertiary</td>\n",
       "      <td id=\"T_b9692_row8_col5\" class=\"data row8 col5\" >no</td>\n",
       "      <td id=\"T_b9692_row8_col6\" class=\"data row8 col6\" >no</td>\n",
       "      <td id=\"T_b9692_row8_col7\" class=\"data row8 col7\" >69</td>\n",
       "    </tr>\n",
       "    <tr>\n",
       "      <th id=\"T_b9692_level0_row9\" class=\"row_heading level0 row9\" >12926</th>\n",
       "      <td id=\"T_b9692_row9_col0\" class=\"data row9 col0\" >58932</td>\n",
       "      <td id=\"T_b9692_row9_col1\" class=\"data row9 col1\" >56</td>\n",
       "      <td id=\"T_b9692_row9_col2\" class=\"data row9 col2\" >blue-collar</td>\n",
       "      <td id=\"T_b9692_row9_col3\" class=\"data row9 col3\" >married</td>\n",
       "      <td id=\"T_b9692_row9_col4\" class=\"data row9 col4\" >secondary</td>\n",
       "      <td id=\"T_b9692_row9_col5\" class=\"data row9 col5\" >no</td>\n",
       "      <td id=\"T_b9692_row9_col6\" class=\"data row9 col6\" >no</td>\n",
       "      <td id=\"T_b9692_row9_col7\" class=\"data row9 col7\" >339</td>\n",
       "    </tr>\n",
       "  </tbody>\n",
       "</table>\n"
      ],
      "text/plain": [
       "<pandas.io.formats.style.Styler at 0x1d78a543fa0>"
      ]
     },
     "execution_count": 36,
     "metadata": {},
     "output_type": "execute_result"
    }
   ],
   "source": [
    "#selecionando as tabelas que quero do dataframe\n",
    "select_tab= ['balance','age', 'job', 'marital', 'education', 'default', 'loan', 'duration']\n",
    "\n",
    "#criando um dataframe filtrado\n",
    "filtered_bankdf= bank_df[select_tab]\n",
    "\n",
    "#selecionando os top 10 com maiorees balances\n",
    "top_10balance= filtered_bankdf.nlargest(10, 'balance')\n",
    "print(top_10balance)\n",
    "\n",
    "# Função para aplicar cores aos valores máximos e mínimos na coluna 'duration'\n",
    "def highlight_max_min(data):\n",
    "    styles = pd.DataFrame('', index=data.index, columns=data.columns)\n",
    "    max_val = data['duration'].max()\n",
    "    min_val = data['duration'].min()\n",
    "    \n",
    "    # Aplicando o estilo\n",
    "    styles['duration'] = ['background-color: yellow' if v == max_val else 'background-color: red' if v == min_val else '' for v in data['duration']]\n",
    "    \n",
    "    return styles\n",
    "\n",
    "# Aplicando a função ao DataFrame\n",
    "styled_df = top_10balance.style.apply(highlight_max_min, axis=None)\n",
    "\n",
    "# Exibindo o DataFrame estilizado\n",
    "styled_df"
   ]
  },
  {
   "cell_type": "markdown",
   "metadata": {},
   "source": [
    "### Exercício 5 ###"
   ]
  },
  {
   "cell_type": "markdown",
   "metadata": {},
   "source": [
    "\n"
   ]
  }
 ],
 "metadata": {
  "kernelspec": {
   "display_name": "base",
   "language": "python",
   "name": "python3"
  },
  "language_info": {
   "codemirror_mode": {
    "name": "ipython",
    "version": 3
   },
   "file_extension": ".py",
   "mimetype": "text/x-python",
   "name": "python",
   "nbconvert_exporter": "python",
   "pygments_lexer": "ipython3",
   "version": "3.10.9"
  }
 },
 "nbformat": 4,
 "nbformat_minor": 2
}
