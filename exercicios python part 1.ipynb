{
 "cells": [
  {
   "cell_type": "markdown",
   "metadata": {},
   "source": [
    "## Exercícios de python\n",
    "1. Faça um programa que imprima \"Estou aprendendo Python!\" na tela."
   ]
  },
  {
   "cell_type": "code",
   "execution_count": 6,
   "metadata": {},
   "outputs": [
    {
     "name": "stdout",
     "output_type": "stream",
     "text": [
      "Estou aprendendo Python!\n"
     ]
    }
   ],
   "source": [
    "print('Estou aprendendo Python!')"
   ]
  },
  {
   "cell_type": "markdown",
   "metadata": {},
   "source": [
    "2. Faça um programa que peça ao usuário para digitar um número e, em seguida, imprima na tela a mensagem \"O número digitado foi <numero>\""
   ]
  },
  {
   "cell_type": "code",
   "execution_count": 7,
   "metadata": {},
   "outputs": [
    {
     "name": "stdout",
     "output_type": "stream",
     "text": [
      "Obrigado, o numero digitado foi 5.0\n"
     ]
    }
   ],
   "source": [
    "#pedindo ao usuário que digite um numero e estabelecendo que não seja uma string\n",
    "numero=float(input('Digite qualquer número?'))\n",
    "#exibindo o numero digitado pelo usuário\n",
    "print(f'Obrigado, o numero digitado foi {numero}')"
   ]
  },
  {
   "cell_type": "markdown",
   "metadata": {},
   "source": [
    "3. Faça um programa que peça ao usuário para digitar seu nome e, em seguida, imprima na tela a mensagem \"Olá, <nome>!\"\n"
   ]
  },
  {
   "cell_type": "code",
   "execution_count": 8,
   "metadata": {},
   "outputs": [
    {
     "name": "stdout",
     "output_type": "stream",
     "text": [
      "Olá, obrigado \n"
     ]
    }
   ],
   "source": [
    "#Pedindo ao usuario uma entradad e nome\n",
    "name_user= input('Olá, qual é o seu nome?')\n",
    "#exibindo o nome do usuário\n",
    "print(f'Olá, obrigado {name_user}') #print nao poode ser maiusculo"
   ]
  },
  {
   "cell_type": "markdown",
   "metadata": {},
   "source": [
    "4. Faça um programa que realize a soma e subtração de duas variáveis, sendo uma do tipo inteiro e outra do tipo decimal, exibindo o valor da soma e da subtração no seguinte formato"
   ]
  },
  {
   "cell_type": "code",
   "execution_count": 9,
   "metadata": {},
   "outputs": [
    {
     "name": "stdout",
     "output_type": "stream",
     "text": [
      "O primeiro valor é 200 e o segundo 0.10. Sendo assim, o resultado da soma é 200.1 e o resultado da subtração é 199.9\n"
     ]
    }
   ],
   "source": [
    "#definindo duas variaveis quaisquer, sendo uma inteira e outra decimal\n",
    "n1= 200\n",
    "n2= 0.10\n",
    "\n",
    "#soma das variaveis\n",
    "soma= n1+n2\n",
    "subtracao= n1-n2\n",
    "\n",
    "#exibindo a soma e a subtraçao\n",
    "\n",
    "print(f'O primeiro valor é 200 e o segundo 0.10. Sendo assim, o resultado da soma é {soma} e o resultado da subtração é {subtracao}')"
   ]
  },
  {
   "cell_type": "markdown",
   "metadata": {},
   "source": [
    "5. Faça um programa que receba a idade do usuário e retorne a idade dele somada em 10 anos no seguinte formato: Sua idade daqui a 10 anos será: <idade + 10 anos>."
   ]
  },
  {
   "cell_type": "code",
   "execution_count": 19,
   "metadata": {},
   "outputs": [
    {
     "name": "stdout",
     "output_type": "stream",
     "text": [
      "Sua idade daqui 10 anos será exatamente 22\n"
     ]
    }
   ],
   "source": [
    "# Pedindo ao usuário sua idade\n",
    "idade= int (input('Qual a sua idade?')) #garatindo que seja um numero inteiro\n",
    "# variavel para soma da idade\n",
    "idade_10= idade + 10\n",
    "\n",
    "#exibindo o resultado\n",
    "\n",
    "print(f'Sua idade daqui 10 anos será exatamente {idade_10}')"
   ]
  },
  {
   "cell_type": "markdown",
   "metadata": {},
   "source": [
    "6. Faça um programa que leia algo digitado pelo usuário, mostre seu tipo e tudo a respeito dele (dica: utiliza as funções is).\n"
   ]
  },
  {
   "cell_type": "code",
   "execution_count": null,
   "metadata": {},
   "outputs": [
    {
     "name": "stdout",
     "output_type": "stream",
     "text": [
      "A frase contém apenas letras?: False\n",
      "A frase contém apenas digitos?False\n",
      "Todos os caracteres sao alfanumericos? False\n",
      "O texto foi escrito sem utilizar letras maisculas?True\n",
      "O texto foi escrito em caixa alta?False\n",
      "o texto na verdade sao caracteres de espaço, tabulação ou quebra de linha?False\n",
      "O texto inserido foi çlsmqdjklq2whgdfm jfghjk2 r   128371289389213  ++_)(*&\n"
     ]
    }
   ],
   "source": [
    "#pedindo um input ao usuario\n",
    "pergunta1= input('Quantos anos voce tinha quando saiu do ensino medio, que ano era?')\n",
    "\n",
    "#exibindo o tipo de dado fornecido pela variavel pergunta 1\n",
    "print(f'A frase contém apenas letras?: {pergunta1.isalpha()}') #verificar se contem so letras\n",
    "print(f'A frase contém apenas digitos?{pergunta1.isdigit()}') #verificar se contem apenas digitos\n",
    "print(f'Todos os caracteres sao alfanumericos? {pergunta1.isalnum()}')\n",
    "print(f'O texto foi escrito sem utilizar letras maisculas?{pergunta1.islower()}')\n",
    "print(f'O texto foi escrito em caixa alta?{pergunta1.isupper()}')\n",
    "print(f'o texto na verdade sao caracteres de espaço, tabulação ou quebra de linha?{pergunta1.isspace()}')\n",
    "print(f'O texto inserido foi: {pergunta1}')"
   ]
  },
  {
   "cell_type": "markdown",
   "metadata": {},
   "source": [
    "7. Faça um programa receba algo digitado pelo usuário e verifique se ele digitou alguma coisa, retornando True caso tenha e False caso não tenha."
   ]
  },
  {
   "cell_type": "code",
   "execution_count": null,
   "metadata": {},
   "outputs": [
    {
     "name": "stdout",
     "output_type": "stream",
     "text": [
      "Você não digitou nada\n"
     ]
    }
   ],
   "source": [
    "#pedindo um input para o suario\n",
    "frase=input('Escreva qualquer coisa')\n",
    "\n",
    "#verificando se foi digitado algo\n",
    "\n",
    "if frase:\n",
    "    print('Você digitou algo')\n",
    "else:\n",
    "    print('Você não digitou nada')"
   ]
  },
  {
   "cell_type": "code",
   "execution_count": null,
   "metadata": {},
   "outputs": [
    {
     "name": "stdout",
     "output_type": "stream",
     "text": [
      "A verificação constatou True or False para o usuario ter digitado algo: False\n"
     ]
    }
   ],
   "source": [
    "#vamos definir uma função que irá verificar se algo foi digitado atraves do bool\n",
    "\n",
    "def verficacao():\n",
    "    frase_user=input('Digite algo: ')\n",
    "    return bool(frase_user) #vai verificar se é true or false\n",
    "\n",
    "#definimos a função, agora precisamos chama-lá, da seguinte forma:\n",
    "\n",
    "print(f'A verificação constatou True or False para o usuario ter digitado algo: {verficacao()}')"
   ]
  },
  {
   "cell_type": "markdown",
   "metadata": {},
   "source": [
    "8. Faça um programa que receba os seguintes dados de um funcionário: nome, idade e salario. Na empresa que esse funcionário trabalha, seu salário é aumentado de ano em ano em R$ 800,90.\n",
    "\n",
    "Sabendo disso, imprima o nome, idade e salário do funcionário daqui a 1 ano no seguinte formato: \"O funcionário <nome>, daqui a 1 ano, terá <idade> anos, recebendo um salário igual a R$<salario>."
   ]
  },
  {
   "cell_type": "code",
   "execution_count": null,
   "metadata": {},
   "outputs": [
    {
     "name": "stdout",
     "output_type": "stream",
     "text": [
      "O funcionário Hugo, daqui a 1 ano, terá 30, recebendo um salário igual a R$3300.9\n"
     ]
    }
   ],
   "source": [
    "#perguntando ao usuário qual o seu nome\n",
    "nome=input('Qual o seu nome?')\n",
    "\n",
    "#perguntando ao usuário qual sua idade\n",
    "\n",
    "idade=int(input('Qual a sua idade?'))\n",
    "\n",
    "#perguntando ao usuario seu salario\n",
    "\n",
    "salario=float(input('Qual o seu salario?'))\n",
    "\n",
    "#defindo o salario reajustado daqui um ano\n",
    "reajuste =salario + 800.90\n",
    "\n",
    "#defindo a idade reajustada daqui 1 ano\n",
    "reajuste_idade= idade + 1\n",
    "\n",
    "#exibindo os resultados\n",
    "print(f'O funcionário {nome}, daqui a 1 ano, terá {reajuste_idade}, recebendo um salário igual a R${reajuste}')"
   ]
  },
  {
   "cell_type": "markdown",
   "metadata": {},
   "source": [
    "9. Faça um programa que peça ao usuário para digitar dois números e mostre na tela o resultado da soma, subtração, multiplicação, divisão e resto da divisão desses números."
   ]
  },
  {
   "cell_type": "code",
   "execution_count": null,
   "metadata": {},
   "outputs": [
    {
     "name": "stdout",
     "output_type": "stream",
     "text": [
      " Operações entre 10.0 e 5.0:\n",
      "- Soma = 15.0\n",
      "- Subtração do (10.0 - 5.0) = 5.0\n",
      "- Subtração do (5.0 - 10.0) = -5.0\n",
      "- Multiplicacao do (10.0 * 5.0) = 50.0\n",
      "- Divisão do (10.0 / 5.0)= 2.0\n",
      "- Resto da divisão do (10.0 / 5.0) = 0.0\n",
      "- Divisao do (5.0 / 10.0) = 0.5\n",
      "- Resto da divisao do (5.0 / 10.0) = 5.0\n"
     ]
    }
   ],
   "source": [
    "#solicitando ao usuarios numeros\n",
    "digito_1= float(input('Digite um numero qualquer')) #convertidos a float para nao ser so inteiros\n",
    "digito_02= float(input('Digite outro numero qualquer'))\n",
    "\n",
    "#definindo todas as operacoes matematicas\n",
    "\n",
    "soma= digito_1 + digito_02\n",
    "\n",
    "subtracao1= digito_1 - digito_02\n",
    "\n",
    "subtracao2=  digito_02 - digito_1\n",
    "\n",
    "multicacao= digito_1 * digito_02\n",
    "\n",
    "divisao1= digito_1/digito_02\n",
    "\n",
    "divisao2= digito_02/digito_1\n",
    "\n",
    "divisao= digito_1 / digito_02\n",
    "\n",
    "resto_da_divisao1= digito_1 % digito_02\n",
    "\n",
    "resto_da_divisao2= digito_02 % digito_1\n",
    "\n",
    "#exibindo resultados\n",
    "\n",
    "print(f' Operações entre {digito_1} e {digito_02}:')\n",
    "print(f'- Soma = {soma}')\n",
    "print(f'- Subtração do ({digito_1} - {digito_02}) = {subtracao1}')\n",
    "print(f'- Subtração do ({digito_02} - {digito_1}) = {subtracao2}')\n",
    "print(f'- Multiplicacao do ({digito_1} * {digito_02}) = {multicacao}')\n",
    "print(f'- Divisão do ({digito_1} / {digito_02})= {divisao1}')\n",
    "print(f'- Resto da divisão do ({digito_1} / {digito_02}) = {resto_da_divisao1}')\n",
    "print(f'- Divisao do ({digito_02} / {digito_1}) = {divisao2}')\n",
    "print(f'- Resto da divisao do ({digito_02} / {digito_1}) = {resto_da_divisao2}')"
   ]
  },
  {
   "cell_type": "markdown",
   "metadata": {},
   "source": [
    "10. Faça um programa que peça ao usuário o raio de um círculo e exiba na tela a área e o perímetro desse círculo (considere pi = 3.14). Aproxime para 2 casas decimais.\n",
    "\n",
    "- O raio de um círculo é a distância entre o centro do círculo e qualquer ponto da sua extremidade. E é essêncial para o cálculo da área e do perímetro.\n",
    "\n",
    "- O perímetro é comprimento da linha que delimita o círculo, calculado por P=2πr.\n",
    "\n",
    "- A área de um círculo é a medida da superfície contido dentro da circunferência, medido por A=πr(ao r ao quadrado)"
   ]
  },
  {
   "cell_type": "code",
   "execution_count": null,
   "metadata": {},
   "outputs": [
    {
     "name": "stdout",
     "output_type": "stream",
     "text": [
      " Considerando o raio do círculo de 5.0, o perímetro é 31.40 e sua área é 78.5\n"
     ]
    }
   ],
   "source": [
    "#Solicitando comprimento do raio de um círculo qualquer\n",
    "\n",
    "r= float(input('Insira o raio de um círculo qualquer'))\n",
    "\n",
    "# definindo perimetro\n",
    "\n",
    "pi= 3.14\n",
    "P= 2 * (r * pi)\n",
    "\n",
    "#definindo a area\n",
    "\n",
    "A = pi * (r ** 2)\n",
    "\n",
    "#Exibindo resultados\n",
    "#para delimitar casa decimais utiliza {x: nf}, sendo x a variavel e n a quantidade de casas decimais\n",
    "\n",
    "print(f' Considerando o raio do círculo de {r}, o perímetro é {P:.2f} e sua área é {A}')"
   ]
  },
  {
   "cell_type": "markdown",
   "metadata": {},
   "source": [
    "11. Faça um programa que peça ao usuário o preço de um produto e exiba o preço com um desconto de 10%."
   ]
  },
  {
   "cell_type": "code",
   "execution_count": null,
   "metadata": {},
   "outputs": [
    {
     "name": "stdout",
     "output_type": "stream",
     "text": [
      " O preço da maça para você moço é  de R$ 20.75\n"
     ]
    }
   ],
   "source": [
    "#solicitar o preço de um produto qualquer\n",
    "\n",
    "preco_maca= float ( input (' Qual o preço da maça?'))\n",
    "\n",
    "#aplicando desconto de 10%\n",
    "\n",
    "preco_c_desconto= preco_maca * 0.902\n",
    "\n",
    "#Exibindo\n",
    "\n",
    "print (f' O preço da maça para você moço é  de R${preco_c_desconto: .2f}')"
   ]
  },
  {
   "cell_type": "markdown",
   "metadata": {},
   "source": [
    "12. Faça um programa que leia a temperatura em graus Celsius e exiba a temperatura em graus Fahrenheit. A fórmula para converter de Celsius para Fahrenheit é: F = (9/5)*C + 32."
   ]
  },
  {
   "cell_type": "code",
   "execution_count": null,
   "metadata": {},
   "outputs": [
    {
     "name": "stdout",
     "output_type": "stream",
     "text": [
      " A temperatura em Fahrenheit é de :  82.40 F\n"
     ]
    }
   ],
   "source": [
    "celsius= float (input ('Insira a temperatura em graus celsius'))\n",
    "\n",
    "#conversão em Fahrenheit\n",
    "\n",
    "Fahrenheit= (9/5) * celsius + 32\n",
    "\n",
    "#Exibindo a conversão\n",
    "\n",
    "print(f' A temperatura em Fahrenheit é de : {Fahrenheit: .2f} F')\n"
   ]
  },
  {
   "cell_type": "markdown",
   "metadata": {},
   "source": [
    "Faça um programa que peça ao usuário para digitar 3 números inteiros e exiba a média aritmética desses números. Aproxime para 1 casa decimal."
   ]
  },
  {
   "cell_type": "code",
   "execution_count": null,
   "metadata": {},
   "outputs": [
    {
     "name": "stdout",
     "output_type": "stream",
     "text": [
      "A média dos números é: 67.0\n"
     ]
    }
   ],
   "source": [
    "#solicitando 3 numeros inteiros\n",
    "n1= int (input('Digite um número qualquer'))\n",
    "n2= int (input('Digite um número qualquer'))\n",
    "n3= int (input('Digite um número qualquer'))\n",
    "\n",
    "#calculando a média\n",
    "\n",
    "media= (n1 + n2 + n3) / 3\n",
    "\n",
    "#exibindo\n",
    "\n",
    "print(f'A média dos números é: {media}')"
   ]
  },
  {
   "cell_type": "markdown",
   "metadata": {},
   "source": [
    "14. Faça um programa que leia o peso e a altura de uma pessoa e exiba o índice de massa corporal (IMC) dela. A fórmula para calcular o IMC é: IMC = peso/altura², com aproximação em 3 casas decimais."
   ]
  },
  {
   "cell_type": "code",
   "execution_count": null,
   "metadata": {},
   "outputs": [
    {
     "name": "stdout",
     "output_type": "stream",
     "text": [
      " O seu IMC é cerca de  0.005\n"
     ]
    }
   ],
   "source": [
    "#solicitar o peso\n",
    "peso= float (input('Qual o seu peso?'))\n",
    "\n",
    "#solicitar altura\n",
    "altura= float (input('Qual sua altura?'))\n",
    "\n",
    "#calculando o IMC\n",
    "\n",
    "imc= peso/ altura**2\n",
    "\n",
    "#Exibindo o IMC do usuário\n",
    "\n",
    "print(f' O seu IMC é cerca de {imc: .3f}')"
   ]
  },
  {
   "cell_type": "markdown",
   "metadata": {},
   "source": [
    "15. Faça um programa que leia dois números inteiros do usuário e troque seus valores, ou seja, se o primeiro número for 5 e o segundo número for 7, o programa deve fazer com que o primeiro número seja igual a 7 e o segundo número seja igual a 5\n"
   ]
  },
  {
   "cell_type": "code",
   "execution_count": null,
   "metadata": {},
   "outputs": [
    {
     "name": "stdout",
     "output_type": "stream",
     "text": [
      " O primeiro número agora é 7\n",
      " O número agora é 5\n"
     ]
    }
   ],
   "source": [
    "#quero que n1 = n2 e que n2 = n1\n",
    "#definir uma função para que retorne uma tupla\n",
    "\n",
    "def troca_n( n1, n2):\n",
    "    return n2, n1\n",
    "\n",
    "#solicitando dois numeros\n",
    "n1= int( input('Digite um número'))\n",
    "n2= int ( input ('Digite um número'))\n",
    "\n",
    "#trocando os valores das variaveis\n",
    "\n",
    "n1, n2= troca_n(n1, n2) # é igual a nossa funcao que esta retornando a ordem contraria\n",
    "\n",
    "#exibindo o resultado\n",
    "print(f' O primeiro número agora é {n1}')\n",
    "print(f' O número agora é {n2}')"
   ]
  },
  {
   "cell_type": "markdown",
   "metadata": {},
   "source": [
    "16. Escreva um programa Python que leia um número inteiro e verifique se ele é par ou ímpar.\n"
   ]
  },
  {
   "cell_type": "markdown",
   "metadata": {},
   "source": [
    "Primeiro vamos definir uma função que verifica se o número é par\n",
    "para isso, precisamos saber que para um número ser par na matemática ele responde a um critério\n",
    "O resto da divisão dele deve ser exatamente igual a zero\n",
    "\n",
    "Para descobrir o resto de um número no python utilizamos o módulo representado por %\n",
    "e equivalente ou exatamente igual representado por ==\n",
    "\n",
    "...\n",
    "\n",
    "sendo assim"
   ]
  },
  {
   "cell_type": "code",
   "execution_count": 18,
   "metadata": {},
   "outputs": [
    {
     "name": "stdout",
     "output_type": "stream",
     "text": [
      " o numero 7 é ímpar\n"
     ]
    }
   ],
   "source": [
    "def verificando_par(numero):\n",
    "    return numero % 2 == 0 # retorna truse caso o numero seja par\n",
    "\n",
    "#true para caso de ser par\n",
    "#false para casa de ser impar\n",
    "\n",
    "#solicitando um numero\n",
    "\n",
    "numero=int(input('Digite um numero'))\n",
    "\n",
    "#verificando se o numero eh par\n",
    "\n",
    "if verificando_par(numero): #verifica se o numero digitado é true para funcao verificando_par\n",
    "    print(f' O número {numero}  é par')\n",
    "else:\n",
    "    print(f' o numero {numero} é ímpar')\n"
   ]
  },
  {
   "cell_type": "markdown",
   "metadata": {},
   "source": [
    "17. Escreva um programa Python que leia um número e retorne seu quadrado, sua raíz quadrada e sua raíz cúbica, com aproximação em 2 casas decimais."
   ]
  },
  {
   "cell_type": "code",
   "execution_count": 23,
   "metadata": {},
   "outputs": [
    {
     "name": "stdout",
     "output_type": "stream",
     "text": [
      " O raiz quadrada do número 9 é  3.00\n",
      " A raiz cúbica do número 9 é  2.08\n"
     ]
    }
   ],
   "source": [
    "# solicitar o usuário um número\n",
    "\n",
    "numero= int(input('Digite um numero'))\n",
    "\n",
    "#definindo as raizes\n",
    "\n",
    "raiz_2= numero ** 0.5\n",
    "raiz_3= numero ** (1/3)\n",
    "\n",
    "#exibindo resultado\n",
    "\n",
    "print(f' O raiz quadrada do número {numero} é {raiz_2: .2f}')\n",
    "print(f' A raiz cúbica do número {numero} é {raiz_3: .2f}')"
   ]
  },
  {
   "cell_type": "markdown",
   "metadata": {},
   "source": [
    "18. Escreva um programa Python que leia o valor de dois catetos e retorne o valor da hipotenusa, assumindo que seja possível formar um triângulo.\n",
    "\n",
    "Lembre-se do Teorema de pítagoras onde diz que o quadrado da hipotenusa = a soma dos quadrados dos catetos\n",
    "\n",
    "logo, resolvendo a equação a hipotenusa é dada pela raiz quadrada dos catetos ( a ** 2) +(b **2) ** 0.5 \n",
    "lembre-se que 2 = 1/2 = 0.5"
   ]
  },
  {
   "cell_type": "code",
   "execution_count": 26,
   "metadata": {},
   "outputs": [
    {
     "name": "stdout",
     "output_type": "stream",
     "text": [
      " A hipotenusa do triângulo é igual a 112.0\n"
     ]
    }
   ],
   "source": [
    "#solicitando catetos\n",
    "\n",
    "cateto_1= int(input('Digite um valor para o cateto'))\n",
    "cateto_2= int(input('Digite um outro valor para o cateto'))\n",
    "\n",
    "#Calculando a hipotenusa\n",
    "\n",
    "hipotenusa = (cateto_1 ** 2) + (cateto_2**2) ** 0.5\n",
    "\n",
    "#exibindo\n",
    "\n",
    "print(f' A hipotenusa do triângulo é igual a {hipotenusa}')"
   ]
  }
 ],
 "metadata": {
  "kernelspec": {
   "display_name": "Python 3",
   "language": "python",
   "name": "python3"
  },
  "language_info": {
   "codemirror_mode": {
    "name": "ipython",
    "version": 3
   },
   "file_extension": ".py",
   "mimetype": "text/x-python",
   "name": "python",
   "nbconvert_exporter": "python",
   "pygments_lexer": "ipython3",
   "version": "3.12.3"
  }
 },
 "nbformat": 4,
 "nbformat_minor": 2
}
