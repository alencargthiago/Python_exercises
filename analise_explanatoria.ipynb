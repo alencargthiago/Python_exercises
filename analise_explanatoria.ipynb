{
 "cells": [
  {
   "cell_type": "markdown",
   "metadata": {},
   "source": [
    "## Ploty ##\n"
   ]
  },
  {
   "cell_type": "code",
   "execution_count": 2,
   "metadata": {},
   "outputs": [],
   "source": [
    "import pandas as pd\n",
    "import plotly.offline as py\n",
    "import plotly.graph_objs as go"
   ]
  },
  {
   "cell_type": "code",
   "execution_count": 3,
   "metadata": {},
   "outputs": [],
   "source": [
    "df= pd.read_csv('marketing_campaign.csv', sep='\\t')"
   ]
  },
  {
   "cell_type": "code",
   "execution_count": 4,
   "metadata": {},
   "outputs": [
    {
     "name": "stderr",
     "output_type": "stream",
     "text": [
      "C:\\Users\\Thiag\\AppData\\Local\\Temp\\ipykernel_5704\\4199434363.py:5: UserWarning:\n",
      "\n",
      "Parsing dates in DD/MM/YYYY format when dayfirst=False (the default) was specified. This may lead to inconsistently parsed dates! Specify a format to ensure consistent parsing.\n",
      "\n",
      "C:\\Users\\Thiag\\AppData\\Local\\Temp\\ipykernel_5704\\4199434363.py:14: FutureWarning:\n",
      "\n",
      "The default value of numeric_only in DataFrameGroupBy.mean is deprecated. In a future version, numeric_only will default to False. Either specify numeric_only or select only columns which should be valid for the function.\n",
      "\n"
     ]
    }
   ],
   "source": [
    "'''gráfico representa o salário médio dos clientes que chegaram\n",
    "na empresa em cada um dos meses de 2013'''\"desafios python.ipynb\"\n",
    "\n",
    "#tratando data\n",
    "df['Dt_Customer']=pd.to_datetime(df['Dt_Customer']) # nova tabela data\n",
    "\n",
    "#criando novas colunas para dia, mes e ano\n",
    "df['Year_Customer']= df['Dt_Customer'].dt.year\n",
    "df['Month_Customer']= df['Dt_Customer'].dt.month\n",
    "df['Day_Customer']= df['Dt_Customer'].dt.day\n",
    "\n",
    "#criando uma series onde o Index é o mes e o valor é o avg_income\n",
    "\n",
    "data=df[df['Year_Customer'] == 2013].groupby('Month_Customer').mean()['Income']\n",
    "\n",
    "#definindo as variáveis\n",
    "months= data.index\n",
    "avg_income = data.values"
   ]
  },
  {
   "cell_type": "markdown",
   "metadata": {},
   "source": [
    "## Gráfico 1 ##"
   ]
  },
  {
   "cell_type": "code",
   "execution_count": 5,
   "metadata": {},
   "outputs": [
    {
     "data": {
      "application/vnd.plotly.v1+json": {
       "config": {
        "linkText": "Export to plot.ly",
        "plotlyServerURL": "https://plot.ly",
        "showLink": false
       },
       "data": [
        {
         "mode": "lines",
         "name": "Ligado por linha",
         "type": "scatter",
         "x": [
          1,
          2,
          3,
          4,
          5,
          6,
          7,
          8,
          9,
          10,
          11,
          12
         ],
         "y": [
          51454.56842105263,
          57299.78571428572,
          52578.82178217822,
          53162.114583333336,
          53883.9,
          49449.7311827957,
          48486.62765957447,
          53226.83495145631,
          52391.137931034486,
          49179.817307692305,
          54491.083333333336,
          52849.63725490196
         ]
        }
       ],
       "layout": {
        "template": {
         "data": {
          "bar": [
           {
            "error_x": {
             "color": "#2a3f5f"
            },
            "error_y": {
             "color": "#2a3f5f"
            },
            "marker": {
             "line": {
              "color": "#E5ECF6",
              "width": 0.5
             },
             "pattern": {
              "fillmode": "overlay",
              "size": 10,
              "solidity": 0.2
             }
            },
            "type": "bar"
           }
          ],
          "barpolar": [
           {
            "marker": {
             "line": {
              "color": "#E5ECF6",
              "width": 0.5
             },
             "pattern": {
              "fillmode": "overlay",
              "size": 10,
              "solidity": 0.2
             }
            },
            "type": "barpolar"
           }
          ],
          "carpet": [
           {
            "aaxis": {
             "endlinecolor": "#2a3f5f",
             "gridcolor": "white",
             "linecolor": "white",
             "minorgridcolor": "white",
             "startlinecolor": "#2a3f5f"
            },
            "baxis": {
             "endlinecolor": "#2a3f5f",
             "gridcolor": "white",
             "linecolor": "white",
             "minorgridcolor": "white",
             "startlinecolor": "#2a3f5f"
            },
            "type": "carpet"
           }
          ],
          "choropleth": [
           {
            "colorbar": {
             "outlinewidth": 0,
             "ticks": ""
            },
            "type": "choropleth"
           }
          ],
          "contour": [
           {
            "colorbar": {
             "outlinewidth": 0,
             "ticks": ""
            },
            "colorscale": [
             [
              0,
              "#0d0887"
             ],
             [
              0.1111111111111111,
              "#46039f"
             ],
             [
              0.2222222222222222,
              "#7201a8"
             ],
             [
              0.3333333333333333,
              "#9c179e"
             ],
             [
              0.4444444444444444,
              "#bd3786"
             ],
             [
              0.5555555555555556,
              "#d8576b"
             ],
             [
              0.6666666666666666,
              "#ed7953"
             ],
             [
              0.7777777777777778,
              "#fb9f3a"
             ],
             [
              0.8888888888888888,
              "#fdca26"
             ],
             [
              1,
              "#f0f921"
             ]
            ],
            "type": "contour"
           }
          ],
          "contourcarpet": [
           {
            "colorbar": {
             "outlinewidth": 0,
             "ticks": ""
            },
            "type": "contourcarpet"
           }
          ],
          "heatmap": [
           {
            "colorbar": {
             "outlinewidth": 0,
             "ticks": ""
            },
            "colorscale": [
             [
              0,
              "#0d0887"
             ],
             [
              0.1111111111111111,
              "#46039f"
             ],
             [
              0.2222222222222222,
              "#7201a8"
             ],
             [
              0.3333333333333333,
              "#9c179e"
             ],
             [
              0.4444444444444444,
              "#bd3786"
             ],
             [
              0.5555555555555556,
              "#d8576b"
             ],
             [
              0.6666666666666666,
              "#ed7953"
             ],
             [
              0.7777777777777778,
              "#fb9f3a"
             ],
             [
              0.8888888888888888,
              "#fdca26"
             ],
             [
              1,
              "#f0f921"
             ]
            ],
            "type": "heatmap"
           }
          ],
          "heatmapgl": [
           {
            "colorbar": {
             "outlinewidth": 0,
             "ticks": ""
            },
            "colorscale": [
             [
              0,
              "#0d0887"
             ],
             [
              0.1111111111111111,
              "#46039f"
             ],
             [
              0.2222222222222222,
              "#7201a8"
             ],
             [
              0.3333333333333333,
              "#9c179e"
             ],
             [
              0.4444444444444444,
              "#bd3786"
             ],
             [
              0.5555555555555556,
              "#d8576b"
             ],
             [
              0.6666666666666666,
              "#ed7953"
             ],
             [
              0.7777777777777778,
              "#fb9f3a"
             ],
             [
              0.8888888888888888,
              "#fdca26"
             ],
             [
              1,
              "#f0f921"
             ]
            ],
            "type": "heatmapgl"
           }
          ],
          "histogram": [
           {
            "marker": {
             "pattern": {
              "fillmode": "overlay",
              "size": 10,
              "solidity": 0.2
             }
            },
            "type": "histogram"
           }
          ],
          "histogram2d": [
           {
            "colorbar": {
             "outlinewidth": 0,
             "ticks": ""
            },
            "colorscale": [
             [
              0,
              "#0d0887"
             ],
             [
              0.1111111111111111,
              "#46039f"
             ],
             [
              0.2222222222222222,
              "#7201a8"
             ],
             [
              0.3333333333333333,
              "#9c179e"
             ],
             [
              0.4444444444444444,
              "#bd3786"
             ],
             [
              0.5555555555555556,
              "#d8576b"
             ],
             [
              0.6666666666666666,
              "#ed7953"
             ],
             [
              0.7777777777777778,
              "#fb9f3a"
             ],
             [
              0.8888888888888888,
              "#fdca26"
             ],
             [
              1,
              "#f0f921"
             ]
            ],
            "type": "histogram2d"
           }
          ],
          "histogram2dcontour": [
           {
            "colorbar": {
             "outlinewidth": 0,
             "ticks": ""
            },
            "colorscale": [
             [
              0,
              "#0d0887"
             ],
             [
              0.1111111111111111,
              "#46039f"
             ],
             [
              0.2222222222222222,
              "#7201a8"
             ],
             [
              0.3333333333333333,
              "#9c179e"
             ],
             [
              0.4444444444444444,
              "#bd3786"
             ],
             [
              0.5555555555555556,
              "#d8576b"
             ],
             [
              0.6666666666666666,
              "#ed7953"
             ],
             [
              0.7777777777777778,
              "#fb9f3a"
             ],
             [
              0.8888888888888888,
              "#fdca26"
             ],
             [
              1,
              "#f0f921"
             ]
            ],
            "type": "histogram2dcontour"
           }
          ],
          "mesh3d": [
           {
            "colorbar": {
             "outlinewidth": 0,
             "ticks": ""
            },
            "type": "mesh3d"
           }
          ],
          "parcoords": [
           {
            "line": {
             "colorbar": {
              "outlinewidth": 0,
              "ticks": ""
             }
            },
            "type": "parcoords"
           }
          ],
          "pie": [
           {
            "automargin": true,
            "type": "pie"
           }
          ],
          "scatter": [
           {
            "fillpattern": {
             "fillmode": "overlay",
             "size": 10,
             "solidity": 0.2
            },
            "type": "scatter"
           }
          ],
          "scatter3d": [
           {
            "line": {
             "colorbar": {
              "outlinewidth": 0,
              "ticks": ""
             }
            },
            "marker": {
             "colorbar": {
              "outlinewidth": 0,
              "ticks": ""
             }
            },
            "type": "scatter3d"
           }
          ],
          "scattercarpet": [
           {
            "marker": {
             "colorbar": {
              "outlinewidth": 0,
              "ticks": ""
             }
            },
            "type": "scattercarpet"
           }
          ],
          "scattergeo": [
           {
            "marker": {
             "colorbar": {
              "outlinewidth": 0,
              "ticks": ""
             }
            },
            "type": "scattergeo"
           }
          ],
          "scattergl": [
           {
            "marker": {
             "colorbar": {
              "outlinewidth": 0,
              "ticks": ""
             }
            },
            "type": "scattergl"
           }
          ],
          "scattermapbox": [
           {
            "marker": {
             "colorbar": {
              "outlinewidth": 0,
              "ticks": ""
             }
            },
            "type": "scattermapbox"
           }
          ],
          "scatterpolar": [
           {
            "marker": {
             "colorbar": {
              "outlinewidth": 0,
              "ticks": ""
             }
            },
            "type": "scatterpolar"
           }
          ],
          "scatterpolargl": [
           {
            "marker": {
             "colorbar": {
              "outlinewidth": 0,
              "ticks": ""
             }
            },
            "type": "scatterpolargl"
           }
          ],
          "scatterternary": [
           {
            "marker": {
             "colorbar": {
              "outlinewidth": 0,
              "ticks": ""
             }
            },
            "type": "scatterternary"
           }
          ],
          "surface": [
           {
            "colorbar": {
             "outlinewidth": 0,
             "ticks": ""
            },
            "colorscale": [
             [
              0,
              "#0d0887"
             ],
             [
              0.1111111111111111,
              "#46039f"
             ],
             [
              0.2222222222222222,
              "#7201a8"
             ],
             [
              0.3333333333333333,
              "#9c179e"
             ],
             [
              0.4444444444444444,
              "#bd3786"
             ],
             [
              0.5555555555555556,
              "#d8576b"
             ],
             [
              0.6666666666666666,
              "#ed7953"
             ],
             [
              0.7777777777777778,
              "#fb9f3a"
             ],
             [
              0.8888888888888888,
              "#fdca26"
             ],
             [
              1,
              "#f0f921"
             ]
            ],
            "type": "surface"
           }
          ],
          "table": [
           {
            "cells": {
             "fill": {
              "color": "#EBF0F8"
             },
             "line": {
              "color": "white"
             }
            },
            "header": {
             "fill": {
              "color": "#C8D4E3"
             },
             "line": {
              "color": "white"
             }
            },
            "type": "table"
           }
          ]
         },
         "layout": {
          "annotationdefaults": {
           "arrowcolor": "#2a3f5f",
           "arrowhead": 0,
           "arrowwidth": 1
          },
          "autotypenumbers": "strict",
          "coloraxis": {
           "colorbar": {
            "outlinewidth": 0,
            "ticks": ""
           }
          },
          "colorscale": {
           "diverging": [
            [
             0,
             "#8e0152"
            ],
            [
             0.1,
             "#c51b7d"
            ],
            [
             0.2,
             "#de77ae"
            ],
            [
             0.3,
             "#f1b6da"
            ],
            [
             0.4,
             "#fde0ef"
            ],
            [
             0.5,
             "#f7f7f7"
            ],
            [
             0.6,
             "#e6f5d0"
            ],
            [
             0.7,
             "#b8e186"
            ],
            [
             0.8,
             "#7fbc41"
            ],
            [
             0.9,
             "#4d9221"
            ],
            [
             1,
             "#276419"
            ]
           ],
           "sequential": [
            [
             0,
             "#0d0887"
            ],
            [
             0.1111111111111111,
             "#46039f"
            ],
            [
             0.2222222222222222,
             "#7201a8"
            ],
            [
             0.3333333333333333,
             "#9c179e"
            ],
            [
             0.4444444444444444,
             "#bd3786"
            ],
            [
             0.5555555555555556,
             "#d8576b"
            ],
            [
             0.6666666666666666,
             "#ed7953"
            ],
            [
             0.7777777777777778,
             "#fb9f3a"
            ],
            [
             0.8888888888888888,
             "#fdca26"
            ],
            [
             1,
             "#f0f921"
            ]
           ],
           "sequentialminus": [
            [
             0,
             "#0d0887"
            ],
            [
             0.1111111111111111,
             "#46039f"
            ],
            [
             0.2222222222222222,
             "#7201a8"
            ],
            [
             0.3333333333333333,
             "#9c179e"
            ],
            [
             0.4444444444444444,
             "#bd3786"
            ],
            [
             0.5555555555555556,
             "#d8576b"
            ],
            [
             0.6666666666666666,
             "#ed7953"
            ],
            [
             0.7777777777777778,
             "#fb9f3a"
            ],
            [
             0.8888888888888888,
             "#fdca26"
            ],
            [
             1,
             "#f0f921"
            ]
           ]
          },
          "colorway": [
           "#636efa",
           "#EF553B",
           "#00cc96",
           "#ab63fa",
           "#FFA15A",
           "#19d3f3",
           "#FF6692",
           "#B6E880",
           "#FF97FF",
           "#FECB52"
          ],
          "font": {
           "color": "#2a3f5f"
          },
          "geo": {
           "bgcolor": "white",
           "lakecolor": "white",
           "landcolor": "#E5ECF6",
           "showlakes": true,
           "showland": true,
           "subunitcolor": "white"
          },
          "hoverlabel": {
           "align": "left"
          },
          "hovermode": "closest",
          "mapbox": {
           "style": "light"
          },
          "paper_bgcolor": "white",
          "plot_bgcolor": "#E5ECF6",
          "polar": {
           "angularaxis": {
            "gridcolor": "white",
            "linecolor": "white",
            "ticks": ""
           },
           "bgcolor": "#E5ECF6",
           "radialaxis": {
            "gridcolor": "white",
            "linecolor": "white",
            "ticks": ""
           }
          },
          "scene": {
           "xaxis": {
            "backgroundcolor": "#E5ECF6",
            "gridcolor": "white",
            "gridwidth": 2,
            "linecolor": "white",
            "showbackground": true,
            "ticks": "",
            "zerolinecolor": "white"
           },
           "yaxis": {
            "backgroundcolor": "#E5ECF6",
            "gridcolor": "white",
            "gridwidth": 2,
            "linecolor": "white",
            "showbackground": true,
            "ticks": "",
            "zerolinecolor": "white"
           },
           "zaxis": {
            "backgroundcolor": "#E5ECF6",
            "gridcolor": "white",
            "gridwidth": 2,
            "linecolor": "white",
            "showbackground": true,
            "ticks": "",
            "zerolinecolor": "white"
           }
          },
          "shapedefaults": {
           "line": {
            "color": "#2a3f5f"
           }
          },
          "ternary": {
           "aaxis": {
            "gridcolor": "white",
            "linecolor": "white",
            "ticks": ""
           },
           "baxis": {
            "gridcolor": "white",
            "linecolor": "white",
            "ticks": ""
           },
           "bgcolor": "#E5ECF6",
           "caxis": {
            "gridcolor": "white",
            "linecolor": "white",
            "ticks": ""
           }
          },
          "title": {
           "x": 0.05
          },
          "xaxis": {
           "automargin": true,
           "gridcolor": "white",
           "linecolor": "white",
           "ticks": "",
           "title": {
            "standoff": 15
           },
           "zerolinecolor": "white",
           "zerolinewidth": 2
          },
          "yaxis": {
           "automargin": true,
           "gridcolor": "white",
           "linecolor": "white",
           "ticks": "",
           "title": {
            "standoff": 15
           },
           "zerolinecolor": "white",
           "zerolinewidth": 2
          }
         }
        },
        "title": {
         "text": "Salário médio dos clientes que entraram nos meses de 2013"
        },
        "xaxis": {
         "title": {
          "text": "mês"
         }
        },
        "yaxis": {
         "title": {
          "text": "Salário Médio"
         }
        }
       }
      }
     },
     "metadata": {},
     "output_type": "display_data"
    }
   ],
   "source": [
    "#criando o gráfico com o graph_objs\n",
    "line1= go.Scatter(x= months, y= avg_income, mode= 'lines', name= 'Ligado por linha')\n",
    "\n",
    "#definindo layout\n",
    "layout= go.Layout(title= 'Salário médio dos clientes que entraram nos meses de 2013',\n",
    "                  xaxis= {'title': 'mês'},\n",
    "                  yaxis= {'title': 'Salário Médio'})\n",
    "\n",
    "#criando a figura\n",
    "fig= go.Figure(data= [line1], layout= layout)\n",
    "\n",
    "#plotando o gráfico\n",
    "py.iplot(fig)\n",
    "\n"
   ]
  },
  {
   "cell_type": "markdown",
   "metadata": {},
   "source": [
    "## gráfico 2 ##\n",
    "A diferença desse gráfico para o anterior, é apenas no mode, para demonstrar que o gráfico de linhas é o mesmo da dispersão.\n",
    "* **gráfico 1**: mode =  'lines'\n",
    "*  **gráfico 2**: mode = 'makers'"
   ]
  },
  {
   "cell_type": "code",
   "execution_count": 6,
   "metadata": {},
   "outputs": [
    {
     "data": {
      "application/vnd.plotly.v1+json": {
       "config": {
        "linkText": "Export to plot.ly",
        "plotlyServerURL": "https://plot.ly",
        "showLink": false
       },
       "data": [
        {
         "mode": "markers",
         "name": "Ligado por linha",
         "type": "scatter",
         "x": [
          1,
          2,
          3,
          4,
          5,
          6,
          7,
          8,
          9,
          10,
          11,
          12
         ],
         "y": [
          51454.56842105263,
          57299.78571428572,
          52578.82178217822,
          53162.114583333336,
          53883.9,
          49449.7311827957,
          48486.62765957447,
          53226.83495145631,
          52391.137931034486,
          49179.817307692305,
          54491.083333333336,
          52849.63725490196
         ]
        }
       ],
       "layout": {
        "template": {
         "data": {
          "bar": [
           {
            "error_x": {
             "color": "#2a3f5f"
            },
            "error_y": {
             "color": "#2a3f5f"
            },
            "marker": {
             "line": {
              "color": "#E5ECF6",
              "width": 0.5
             },
             "pattern": {
              "fillmode": "overlay",
              "size": 10,
              "solidity": 0.2
             }
            },
            "type": "bar"
           }
          ],
          "barpolar": [
           {
            "marker": {
             "line": {
              "color": "#E5ECF6",
              "width": 0.5
             },
             "pattern": {
              "fillmode": "overlay",
              "size": 10,
              "solidity": 0.2
             }
            },
            "type": "barpolar"
           }
          ],
          "carpet": [
           {
            "aaxis": {
             "endlinecolor": "#2a3f5f",
             "gridcolor": "white",
             "linecolor": "white",
             "minorgridcolor": "white",
             "startlinecolor": "#2a3f5f"
            },
            "baxis": {
             "endlinecolor": "#2a3f5f",
             "gridcolor": "white",
             "linecolor": "white",
             "minorgridcolor": "white",
             "startlinecolor": "#2a3f5f"
            },
            "type": "carpet"
           }
          ],
          "choropleth": [
           {
            "colorbar": {
             "outlinewidth": 0,
             "ticks": ""
            },
            "type": "choropleth"
           }
          ],
          "contour": [
           {
            "colorbar": {
             "outlinewidth": 0,
             "ticks": ""
            },
            "colorscale": [
             [
              0,
              "#0d0887"
             ],
             [
              0.1111111111111111,
              "#46039f"
             ],
             [
              0.2222222222222222,
              "#7201a8"
             ],
             [
              0.3333333333333333,
              "#9c179e"
             ],
             [
              0.4444444444444444,
              "#bd3786"
             ],
             [
              0.5555555555555556,
              "#d8576b"
             ],
             [
              0.6666666666666666,
              "#ed7953"
             ],
             [
              0.7777777777777778,
              "#fb9f3a"
             ],
             [
              0.8888888888888888,
              "#fdca26"
             ],
             [
              1,
              "#f0f921"
             ]
            ],
            "type": "contour"
           }
          ],
          "contourcarpet": [
           {
            "colorbar": {
             "outlinewidth": 0,
             "ticks": ""
            },
            "type": "contourcarpet"
           }
          ],
          "heatmap": [
           {
            "colorbar": {
             "outlinewidth": 0,
             "ticks": ""
            },
            "colorscale": [
             [
              0,
              "#0d0887"
             ],
             [
              0.1111111111111111,
              "#46039f"
             ],
             [
              0.2222222222222222,
              "#7201a8"
             ],
             [
              0.3333333333333333,
              "#9c179e"
             ],
             [
              0.4444444444444444,
              "#bd3786"
             ],
             [
              0.5555555555555556,
              "#d8576b"
             ],
             [
              0.6666666666666666,
              "#ed7953"
             ],
             [
              0.7777777777777778,
              "#fb9f3a"
             ],
             [
              0.8888888888888888,
              "#fdca26"
             ],
             [
              1,
              "#f0f921"
             ]
            ],
            "type": "heatmap"
           }
          ],
          "heatmapgl": [
           {
            "colorbar": {
             "outlinewidth": 0,
             "ticks": ""
            },
            "colorscale": [
             [
              0,
              "#0d0887"
             ],
             [
              0.1111111111111111,
              "#46039f"
             ],
             [
              0.2222222222222222,
              "#7201a8"
             ],
             [
              0.3333333333333333,
              "#9c179e"
             ],
             [
              0.4444444444444444,
              "#bd3786"
             ],
             [
              0.5555555555555556,
              "#d8576b"
             ],
             [
              0.6666666666666666,
              "#ed7953"
             ],
             [
              0.7777777777777778,
              "#fb9f3a"
             ],
             [
              0.8888888888888888,
              "#fdca26"
             ],
             [
              1,
              "#f0f921"
             ]
            ],
            "type": "heatmapgl"
           }
          ],
          "histogram": [
           {
            "marker": {
             "pattern": {
              "fillmode": "overlay",
              "size": 10,
              "solidity": 0.2
             }
            },
            "type": "histogram"
           }
          ],
          "histogram2d": [
           {
            "colorbar": {
             "outlinewidth": 0,
             "ticks": ""
            },
            "colorscale": [
             [
              0,
              "#0d0887"
             ],
             [
              0.1111111111111111,
              "#46039f"
             ],
             [
              0.2222222222222222,
              "#7201a8"
             ],
             [
              0.3333333333333333,
              "#9c179e"
             ],
             [
              0.4444444444444444,
              "#bd3786"
             ],
             [
              0.5555555555555556,
              "#d8576b"
             ],
             [
              0.6666666666666666,
              "#ed7953"
             ],
             [
              0.7777777777777778,
              "#fb9f3a"
             ],
             [
              0.8888888888888888,
              "#fdca26"
             ],
             [
              1,
              "#f0f921"
             ]
            ],
            "type": "histogram2d"
           }
          ],
          "histogram2dcontour": [
           {
            "colorbar": {
             "outlinewidth": 0,
             "ticks": ""
            },
            "colorscale": [
             [
              0,
              "#0d0887"
             ],
             [
              0.1111111111111111,
              "#46039f"
             ],
             [
              0.2222222222222222,
              "#7201a8"
             ],
             [
              0.3333333333333333,
              "#9c179e"
             ],
             [
              0.4444444444444444,
              "#bd3786"
             ],
             [
              0.5555555555555556,
              "#d8576b"
             ],
             [
              0.6666666666666666,
              "#ed7953"
             ],
             [
              0.7777777777777778,
              "#fb9f3a"
             ],
             [
              0.8888888888888888,
              "#fdca26"
             ],
             [
              1,
              "#f0f921"
             ]
            ],
            "type": "histogram2dcontour"
           }
          ],
          "mesh3d": [
           {
            "colorbar": {
             "outlinewidth": 0,
             "ticks": ""
            },
            "type": "mesh3d"
           }
          ],
          "parcoords": [
           {
            "line": {
             "colorbar": {
              "outlinewidth": 0,
              "ticks": ""
             }
            },
            "type": "parcoords"
           }
          ],
          "pie": [
           {
            "automargin": true,
            "type": "pie"
           }
          ],
          "scatter": [
           {
            "fillpattern": {
             "fillmode": "overlay",
             "size": 10,
             "solidity": 0.2
            },
            "type": "scatter"
           }
          ],
          "scatter3d": [
           {
            "line": {
             "colorbar": {
              "outlinewidth": 0,
              "ticks": ""
             }
            },
            "marker": {
             "colorbar": {
              "outlinewidth": 0,
              "ticks": ""
             }
            },
            "type": "scatter3d"
           }
          ],
          "scattercarpet": [
           {
            "marker": {
             "colorbar": {
              "outlinewidth": 0,
              "ticks": ""
             }
            },
            "type": "scattercarpet"
           }
          ],
          "scattergeo": [
           {
            "marker": {
             "colorbar": {
              "outlinewidth": 0,
              "ticks": ""
             }
            },
            "type": "scattergeo"
           }
          ],
          "scattergl": [
           {
            "marker": {
             "colorbar": {
              "outlinewidth": 0,
              "ticks": ""
             }
            },
            "type": "scattergl"
           }
          ],
          "scattermapbox": [
           {
            "marker": {
             "colorbar": {
              "outlinewidth": 0,
              "ticks": ""
             }
            },
            "type": "scattermapbox"
           }
          ],
          "scatterpolar": [
           {
            "marker": {
             "colorbar": {
              "outlinewidth": 0,
              "ticks": ""
             }
            },
            "type": "scatterpolar"
           }
          ],
          "scatterpolargl": [
           {
            "marker": {
             "colorbar": {
              "outlinewidth": 0,
              "ticks": ""
             }
            },
            "type": "scatterpolargl"
           }
          ],
          "scatterternary": [
           {
            "marker": {
             "colorbar": {
              "outlinewidth": 0,
              "ticks": ""
             }
            },
            "type": "scatterternary"
           }
          ],
          "surface": [
           {
            "colorbar": {
             "outlinewidth": 0,
             "ticks": ""
            },
            "colorscale": [
             [
              0,
              "#0d0887"
             ],
             [
              0.1111111111111111,
              "#46039f"
             ],
             [
              0.2222222222222222,
              "#7201a8"
             ],
             [
              0.3333333333333333,
              "#9c179e"
             ],
             [
              0.4444444444444444,
              "#bd3786"
             ],
             [
              0.5555555555555556,
              "#d8576b"
             ],
             [
              0.6666666666666666,
              "#ed7953"
             ],
             [
              0.7777777777777778,
              "#fb9f3a"
             ],
             [
              0.8888888888888888,
              "#fdca26"
             ],
             [
              1,
              "#f0f921"
             ]
            ],
            "type": "surface"
           }
          ],
          "table": [
           {
            "cells": {
             "fill": {
              "color": "#EBF0F8"
             },
             "line": {
              "color": "white"
             }
            },
            "header": {
             "fill": {
              "color": "#C8D4E3"
             },
             "line": {
              "color": "white"
             }
            },
            "type": "table"
           }
          ]
         },
         "layout": {
          "annotationdefaults": {
           "arrowcolor": "#2a3f5f",
           "arrowhead": 0,
           "arrowwidth": 1
          },
          "autotypenumbers": "strict",
          "coloraxis": {
           "colorbar": {
            "outlinewidth": 0,
            "ticks": ""
           }
          },
          "colorscale": {
           "diverging": [
            [
             0,
             "#8e0152"
            ],
            [
             0.1,
             "#c51b7d"
            ],
            [
             0.2,
             "#de77ae"
            ],
            [
             0.3,
             "#f1b6da"
            ],
            [
             0.4,
             "#fde0ef"
            ],
            [
             0.5,
             "#f7f7f7"
            ],
            [
             0.6,
             "#e6f5d0"
            ],
            [
             0.7,
             "#b8e186"
            ],
            [
             0.8,
             "#7fbc41"
            ],
            [
             0.9,
             "#4d9221"
            ],
            [
             1,
             "#276419"
            ]
           ],
           "sequential": [
            [
             0,
             "#0d0887"
            ],
            [
             0.1111111111111111,
             "#46039f"
            ],
            [
             0.2222222222222222,
             "#7201a8"
            ],
            [
             0.3333333333333333,
             "#9c179e"
            ],
            [
             0.4444444444444444,
             "#bd3786"
            ],
            [
             0.5555555555555556,
             "#d8576b"
            ],
            [
             0.6666666666666666,
             "#ed7953"
            ],
            [
             0.7777777777777778,
             "#fb9f3a"
            ],
            [
             0.8888888888888888,
             "#fdca26"
            ],
            [
             1,
             "#f0f921"
            ]
           ],
           "sequentialminus": [
            [
             0,
             "#0d0887"
            ],
            [
             0.1111111111111111,
             "#46039f"
            ],
            [
             0.2222222222222222,
             "#7201a8"
            ],
            [
             0.3333333333333333,
             "#9c179e"
            ],
            [
             0.4444444444444444,
             "#bd3786"
            ],
            [
             0.5555555555555556,
             "#d8576b"
            ],
            [
             0.6666666666666666,
             "#ed7953"
            ],
            [
             0.7777777777777778,
             "#fb9f3a"
            ],
            [
             0.8888888888888888,
             "#fdca26"
            ],
            [
             1,
             "#f0f921"
            ]
           ]
          },
          "colorway": [
           "#636efa",
           "#EF553B",
           "#00cc96",
           "#ab63fa",
           "#FFA15A",
           "#19d3f3",
           "#FF6692",
           "#B6E880",
           "#FF97FF",
           "#FECB52"
          ],
          "font": {
           "color": "#2a3f5f"
          },
          "geo": {
           "bgcolor": "white",
           "lakecolor": "white",
           "landcolor": "#E5ECF6",
           "showlakes": true,
           "showland": true,
           "subunitcolor": "white"
          },
          "hoverlabel": {
           "align": "left"
          },
          "hovermode": "closest",
          "mapbox": {
           "style": "light"
          },
          "paper_bgcolor": "white",
          "plot_bgcolor": "#E5ECF6",
          "polar": {
           "angularaxis": {
            "gridcolor": "white",
            "linecolor": "white",
            "ticks": ""
           },
           "bgcolor": "#E5ECF6",
           "radialaxis": {
            "gridcolor": "white",
            "linecolor": "white",
            "ticks": ""
           }
          },
          "scene": {
           "xaxis": {
            "backgroundcolor": "#E5ECF6",
            "gridcolor": "white",
            "gridwidth": 2,
            "linecolor": "white",
            "showbackground": true,
            "ticks": "",
            "zerolinecolor": "white"
           },
           "yaxis": {
            "backgroundcolor": "#E5ECF6",
            "gridcolor": "white",
            "gridwidth": 2,
            "linecolor": "white",
            "showbackground": true,
            "ticks": "",
            "zerolinecolor": "white"
           },
           "zaxis": {
            "backgroundcolor": "#E5ECF6",
            "gridcolor": "white",
            "gridwidth": 2,
            "linecolor": "white",
            "showbackground": true,
            "ticks": "",
            "zerolinecolor": "white"
           }
          },
          "shapedefaults": {
           "line": {
            "color": "#2a3f5f"
           }
          },
          "ternary": {
           "aaxis": {
            "gridcolor": "white",
            "linecolor": "white",
            "ticks": ""
           },
           "baxis": {
            "gridcolor": "white",
            "linecolor": "white",
            "ticks": ""
           },
           "bgcolor": "#E5ECF6",
           "caxis": {
            "gridcolor": "white",
            "linecolor": "white",
            "ticks": ""
           }
          },
          "title": {
           "x": 0.05
          },
          "xaxis": {
           "automargin": true,
           "gridcolor": "white",
           "linecolor": "white",
           "ticks": "",
           "title": {
            "standoff": 15
           },
           "zerolinecolor": "white",
           "zerolinewidth": 2
          },
          "yaxis": {
           "automargin": true,
           "gridcolor": "white",
           "linecolor": "white",
           "ticks": "",
           "title": {
            "standoff": 15
           },
           "zerolinecolor": "white",
           "zerolinewidth": 2
          }
         }
        },
        "title": {
         "text": "Salário médio dos clientes que entraram nos meses de 2013"
        },
        "xaxis": {
         "title": {
          "text": "mês"
         }
        },
        "yaxis": {
         "title": {
          "text": "Salário Médio"
         }
        }
       }
      }
     },
     "metadata": {},
     "output_type": "display_data"
    }
   ],
   "source": [
    "#criando o gráfico com o graph_objs\n",
    "line1= go.Scatter(x= months, y= avg_income, mode= 'markers', name= 'Ligado por linha')\n",
    "\n",
    "#definindo layout\n",
    "layout= go.Layout(title= 'Salário médio dos clientes que entraram nos meses de 2013',\n",
    "                  xaxis= {'title': 'mês'},\n",
    "                  yaxis= {'title': 'Salário Médio'})\n",
    "\n",
    "#criando a figura\n",
    "fig= go.Figure(data= [line1], layout= layout)\n",
    "\n",
    "#plotando o gráfico\n",
    "py.iplot(fig)\n",
    "\n"
   ]
  },
  {
   "cell_type": "markdown",
   "metadata": {},
   "source": [
    "## Gráfico 3 ##\n",
    "É um gráfico de 2 linhas"
   ]
  },
  {
   "cell_type": "code",
   "execution_count": 7,
   "metadata": {},
   "outputs": [
    {
     "data": {
      "application/vnd.plotly.v1+json": {
       "config": {
        "linkText": "Export to plot.ly",
        "plotlyServerURL": "https://plot.ly",
        "showLink": false
       },
       "data": [
        {
         "line": {
          "color": "#999932",
          "dash": "dot"
         },
         "mode": "lines",
         "name": "Pontilhado",
         "type": "scatter",
         "x": [
          2019,
          2020,
          2021,
          2022,
          2023
         ],
         "y": [
          600000,
          900000,
          1000000,
          800000,
          1010000
         ]
        },
        {
         "line": {
          "color": "#100032",
          "dash": "dash"
         },
         "mode": "lines",
         "name": "Tracejado",
         "type": "scatter",
         "x": [
          2019,
          2020,
          2021,
          2022,
          2023
         ],
         "y": [
          300000,
          500000,
          100000,
          350000,
          420000
         ]
        }
       ],
       "layout": {
        "template": {
         "data": {
          "bar": [
           {
            "error_x": {
             "color": "#2a3f5f"
            },
            "error_y": {
             "color": "#2a3f5f"
            },
            "marker": {
             "line": {
              "color": "#E5ECF6",
              "width": 0.5
             },
             "pattern": {
              "fillmode": "overlay",
              "size": 10,
              "solidity": 0.2
             }
            },
            "type": "bar"
           }
          ],
          "barpolar": [
           {
            "marker": {
             "line": {
              "color": "#E5ECF6",
              "width": 0.5
             },
             "pattern": {
              "fillmode": "overlay",
              "size": 10,
              "solidity": 0.2
             }
            },
            "type": "barpolar"
           }
          ],
          "carpet": [
           {
            "aaxis": {
             "endlinecolor": "#2a3f5f",
             "gridcolor": "white",
             "linecolor": "white",
             "minorgridcolor": "white",
             "startlinecolor": "#2a3f5f"
            },
            "baxis": {
             "endlinecolor": "#2a3f5f",
             "gridcolor": "white",
             "linecolor": "white",
             "minorgridcolor": "white",
             "startlinecolor": "#2a3f5f"
            },
            "type": "carpet"
           }
          ],
          "choropleth": [
           {
            "colorbar": {
             "outlinewidth": 0,
             "ticks": ""
            },
            "type": "choropleth"
           }
          ],
          "contour": [
           {
            "colorbar": {
             "outlinewidth": 0,
             "ticks": ""
            },
            "colorscale": [
             [
              0,
              "#0d0887"
             ],
             [
              0.1111111111111111,
              "#46039f"
             ],
             [
              0.2222222222222222,
              "#7201a8"
             ],
             [
              0.3333333333333333,
              "#9c179e"
             ],
             [
              0.4444444444444444,
              "#bd3786"
             ],
             [
              0.5555555555555556,
              "#d8576b"
             ],
             [
              0.6666666666666666,
              "#ed7953"
             ],
             [
              0.7777777777777778,
              "#fb9f3a"
             ],
             [
              0.8888888888888888,
              "#fdca26"
             ],
             [
              1,
              "#f0f921"
             ]
            ],
            "type": "contour"
           }
          ],
          "contourcarpet": [
           {
            "colorbar": {
             "outlinewidth": 0,
             "ticks": ""
            },
            "type": "contourcarpet"
           }
          ],
          "heatmap": [
           {
            "colorbar": {
             "outlinewidth": 0,
             "ticks": ""
            },
            "colorscale": [
             [
              0,
              "#0d0887"
             ],
             [
              0.1111111111111111,
              "#46039f"
             ],
             [
              0.2222222222222222,
              "#7201a8"
             ],
             [
              0.3333333333333333,
              "#9c179e"
             ],
             [
              0.4444444444444444,
              "#bd3786"
             ],
             [
              0.5555555555555556,
              "#d8576b"
             ],
             [
              0.6666666666666666,
              "#ed7953"
             ],
             [
              0.7777777777777778,
              "#fb9f3a"
             ],
             [
              0.8888888888888888,
              "#fdca26"
             ],
             [
              1,
              "#f0f921"
             ]
            ],
            "type": "heatmap"
           }
          ],
          "heatmapgl": [
           {
            "colorbar": {
             "outlinewidth": 0,
             "ticks": ""
            },
            "colorscale": [
             [
              0,
              "#0d0887"
             ],
             [
              0.1111111111111111,
              "#46039f"
             ],
             [
              0.2222222222222222,
              "#7201a8"
             ],
             [
              0.3333333333333333,
              "#9c179e"
             ],
             [
              0.4444444444444444,
              "#bd3786"
             ],
             [
              0.5555555555555556,
              "#d8576b"
             ],
             [
              0.6666666666666666,
              "#ed7953"
             ],
             [
              0.7777777777777778,
              "#fb9f3a"
             ],
             [
              0.8888888888888888,
              "#fdca26"
             ],
             [
              1,
              "#f0f921"
             ]
            ],
            "type": "heatmapgl"
           }
          ],
          "histogram": [
           {
            "marker": {
             "pattern": {
              "fillmode": "overlay",
              "size": 10,
              "solidity": 0.2
             }
            },
            "type": "histogram"
           }
          ],
          "histogram2d": [
           {
            "colorbar": {
             "outlinewidth": 0,
             "ticks": ""
            },
            "colorscale": [
             [
              0,
              "#0d0887"
             ],
             [
              0.1111111111111111,
              "#46039f"
             ],
             [
              0.2222222222222222,
              "#7201a8"
             ],
             [
              0.3333333333333333,
              "#9c179e"
             ],
             [
              0.4444444444444444,
              "#bd3786"
             ],
             [
              0.5555555555555556,
              "#d8576b"
             ],
             [
              0.6666666666666666,
              "#ed7953"
             ],
             [
              0.7777777777777778,
              "#fb9f3a"
             ],
             [
              0.8888888888888888,
              "#fdca26"
             ],
             [
              1,
              "#f0f921"
             ]
            ],
            "type": "histogram2d"
           }
          ],
          "histogram2dcontour": [
           {
            "colorbar": {
             "outlinewidth": 0,
             "ticks": ""
            },
            "colorscale": [
             [
              0,
              "#0d0887"
             ],
             [
              0.1111111111111111,
              "#46039f"
             ],
             [
              0.2222222222222222,
              "#7201a8"
             ],
             [
              0.3333333333333333,
              "#9c179e"
             ],
             [
              0.4444444444444444,
              "#bd3786"
             ],
             [
              0.5555555555555556,
              "#d8576b"
             ],
             [
              0.6666666666666666,
              "#ed7953"
             ],
             [
              0.7777777777777778,
              "#fb9f3a"
             ],
             [
              0.8888888888888888,
              "#fdca26"
             ],
             [
              1,
              "#f0f921"
             ]
            ],
            "type": "histogram2dcontour"
           }
          ],
          "mesh3d": [
           {
            "colorbar": {
             "outlinewidth": 0,
             "ticks": ""
            },
            "type": "mesh3d"
           }
          ],
          "parcoords": [
           {
            "line": {
             "colorbar": {
              "outlinewidth": 0,
              "ticks": ""
             }
            },
            "type": "parcoords"
           }
          ],
          "pie": [
           {
            "automargin": true,
            "type": "pie"
           }
          ],
          "scatter": [
           {
            "fillpattern": {
             "fillmode": "overlay",
             "size": 10,
             "solidity": 0.2
            },
            "type": "scatter"
           }
          ],
          "scatter3d": [
           {
            "line": {
             "colorbar": {
              "outlinewidth": 0,
              "ticks": ""
             }
            },
            "marker": {
             "colorbar": {
              "outlinewidth": 0,
              "ticks": ""
             }
            },
            "type": "scatter3d"
           }
          ],
          "scattercarpet": [
           {
            "marker": {
             "colorbar": {
              "outlinewidth": 0,
              "ticks": ""
             }
            },
            "type": "scattercarpet"
           }
          ],
          "scattergeo": [
           {
            "marker": {
             "colorbar": {
              "outlinewidth": 0,
              "ticks": ""
             }
            },
            "type": "scattergeo"
           }
          ],
          "scattergl": [
           {
            "marker": {
             "colorbar": {
              "outlinewidth": 0,
              "ticks": ""
             }
            },
            "type": "scattergl"
           }
          ],
          "scattermapbox": [
           {
            "marker": {
             "colorbar": {
              "outlinewidth": 0,
              "ticks": ""
             }
            },
            "type": "scattermapbox"
           }
          ],
          "scatterpolar": [
           {
            "marker": {
             "colorbar": {
              "outlinewidth": 0,
              "ticks": ""
             }
            },
            "type": "scatterpolar"
           }
          ],
          "scatterpolargl": [
           {
            "marker": {
             "colorbar": {
              "outlinewidth": 0,
              "ticks": ""
             }
            },
            "type": "scatterpolargl"
           }
          ],
          "scatterternary": [
           {
            "marker": {
             "colorbar": {
              "outlinewidth": 0,
              "ticks": ""
             }
            },
            "type": "scatterternary"
           }
          ],
          "surface": [
           {
            "colorbar": {
             "outlinewidth": 0,
             "ticks": ""
            },
            "colorscale": [
             [
              0,
              "#0d0887"
             ],
             [
              0.1111111111111111,
              "#46039f"
             ],
             [
              0.2222222222222222,
              "#7201a8"
             ],
             [
              0.3333333333333333,
              "#9c179e"
             ],
             [
              0.4444444444444444,
              "#bd3786"
             ],
             [
              0.5555555555555556,
              "#d8576b"
             ],
             [
              0.6666666666666666,
              "#ed7953"
             ],
             [
              0.7777777777777778,
              "#fb9f3a"
             ],
             [
              0.8888888888888888,
              "#fdca26"
             ],
             [
              1,
              "#f0f921"
             ]
            ],
            "type": "surface"
           }
          ],
          "table": [
           {
            "cells": {
             "fill": {
              "color": "#EBF0F8"
             },
             "line": {
              "color": "white"
             }
            },
            "header": {
             "fill": {
              "color": "#C8D4E3"
             },
             "line": {
              "color": "white"
             }
            },
            "type": "table"
           }
          ]
         },
         "layout": {
          "annotationdefaults": {
           "arrowcolor": "#2a3f5f",
           "arrowhead": 0,
           "arrowwidth": 1
          },
          "autotypenumbers": "strict",
          "coloraxis": {
           "colorbar": {
            "outlinewidth": 0,
            "ticks": ""
           }
          },
          "colorscale": {
           "diverging": [
            [
             0,
             "#8e0152"
            ],
            [
             0.1,
             "#c51b7d"
            ],
            [
             0.2,
             "#de77ae"
            ],
            [
             0.3,
             "#f1b6da"
            ],
            [
             0.4,
             "#fde0ef"
            ],
            [
             0.5,
             "#f7f7f7"
            ],
            [
             0.6,
             "#e6f5d0"
            ],
            [
             0.7,
             "#b8e186"
            ],
            [
             0.8,
             "#7fbc41"
            ],
            [
             0.9,
             "#4d9221"
            ],
            [
             1,
             "#276419"
            ]
           ],
           "sequential": [
            [
             0,
             "#0d0887"
            ],
            [
             0.1111111111111111,
             "#46039f"
            ],
            [
             0.2222222222222222,
             "#7201a8"
            ],
            [
             0.3333333333333333,
             "#9c179e"
            ],
            [
             0.4444444444444444,
             "#bd3786"
            ],
            [
             0.5555555555555556,
             "#d8576b"
            ],
            [
             0.6666666666666666,
             "#ed7953"
            ],
            [
             0.7777777777777778,
             "#fb9f3a"
            ],
            [
             0.8888888888888888,
             "#fdca26"
            ],
            [
             1,
             "#f0f921"
            ]
           ],
           "sequentialminus": [
            [
             0,
             "#0d0887"
            ],
            [
             0.1111111111111111,
             "#46039f"
            ],
            [
             0.2222222222222222,
             "#7201a8"
            ],
            [
             0.3333333333333333,
             "#9c179e"
            ],
            [
             0.4444444444444444,
             "#bd3786"
            ],
            [
             0.5555555555555556,
             "#d8576b"
            ],
            [
             0.6666666666666666,
             "#ed7953"
            ],
            [
             0.7777777777777778,
             "#fb9f3a"
            ],
            [
             0.8888888888888888,
             "#fdca26"
            ],
            [
             1,
             "#f0f921"
            ]
           ]
          },
          "colorway": [
           "#636efa",
           "#EF553B",
           "#00cc96",
           "#ab63fa",
           "#FFA15A",
           "#19d3f3",
           "#FF6692",
           "#B6E880",
           "#FF97FF",
           "#FECB52"
          ],
          "font": {
           "color": "#2a3f5f"
          },
          "geo": {
           "bgcolor": "white",
           "lakecolor": "white",
           "landcolor": "#E5ECF6",
           "showlakes": true,
           "showland": true,
           "subunitcolor": "white"
          },
          "hoverlabel": {
           "align": "left"
          },
          "hovermode": "closest",
          "mapbox": {
           "style": "light"
          },
          "paper_bgcolor": "white",
          "plot_bgcolor": "#E5ECF6",
          "polar": {
           "angularaxis": {
            "gridcolor": "white",
            "linecolor": "white",
            "ticks": ""
           },
           "bgcolor": "#E5ECF6",
           "radialaxis": {
            "gridcolor": "white",
            "linecolor": "white",
            "ticks": ""
           }
          },
          "scene": {
           "xaxis": {
            "backgroundcolor": "#E5ECF6",
            "gridcolor": "white",
            "gridwidth": 2,
            "linecolor": "white",
            "showbackground": true,
            "ticks": "",
            "zerolinecolor": "white"
           },
           "yaxis": {
            "backgroundcolor": "#E5ECF6",
            "gridcolor": "white",
            "gridwidth": 2,
            "linecolor": "white",
            "showbackground": true,
            "ticks": "",
            "zerolinecolor": "white"
           },
           "zaxis": {
            "backgroundcolor": "#E5ECF6",
            "gridcolor": "white",
            "gridwidth": 2,
            "linecolor": "white",
            "showbackground": true,
            "ticks": "",
            "zerolinecolor": "white"
           }
          },
          "shapedefaults": {
           "line": {
            "color": "#2a3f5f"
           }
          },
          "ternary": {
           "aaxis": {
            "gridcolor": "white",
            "linecolor": "white",
            "ticks": ""
           },
           "baxis": {
            "gridcolor": "white",
            "linecolor": "white",
            "ticks": ""
           },
           "bgcolor": "#E5ECF6",
           "caxis": {
            "gridcolor": "white",
            "linecolor": "white",
            "ticks": ""
           }
          },
          "title": {
           "x": 0.05
          },
          "xaxis": {
           "automargin": true,
           "gridcolor": "white",
           "linecolor": "white",
           "ticks": "",
           "title": {
            "standoff": 15
           },
           "zerolinecolor": "white",
           "zerolinewidth": 2
          },
          "yaxis": {
           "automargin": true,
           "gridcolor": "white",
           "linecolor": "white",
           "ticks": "",
           "title": {
            "standoff": 15
           },
           "zerolinecolor": "white",
           "zerolinewidth": 2
          }
         }
        },
        "title": {
         "text": "Faturamente por ano de empresa X"
        },
        "xaxis": {
         "title": {
          "text": "Ano"
         }
        },
        "yaxis": {
         "title": {
          "text": "Faturamento"
         }
        }
       }
      }
     },
     "metadata": {},
     "output_type": "display_data"
    }
   ],
   "source": [
    "# Criando o gráfico com o graph_objs - Pontilhado\n",
    "\n",
    "pontilhado = go.Scatter(x = [2019, 2020, 2021, 2022, 2023], y = [60e4, 90e4, 100e4, 80e4, 101e4], mode = 'lines',\n",
    "                        line = {'color': '#999932', 'dash': 'dot'}, name = 'Pontilhado')\n",
    "\n",
    "#criando o gráfico com o graph_obs - Tracejado\n",
    "\n",
    "tracejado = go.Scatter( x = [2019, 2020, 2021, 2022, 2023], y = [30e4, 50e4, 10e4, 35e4, 42e4], mode = 'lines',\n",
    "                       line = {'color': '#100032', 'dash': 'dash'}, name= 'Tracejado')\n",
    "\n",
    "#Definindo o Layout\n",
    "layout= go.Layout( title= 'Faturamente por ano de empresa X',\n",
    "                  xaxis= {'title': 'Ano'},\n",
    "                  yaxis = {'title': 'Faturamento'})\n",
    "\n",
    "#Criando a figura\n",
    "fig = go.Figure( data = [pontilhado, tracejado], layout = layout)\n",
    "\n",
    "#plotando o gráfico\n",
    "\n",
    "py.iplot(fig)"
   ]
  },
  {
   "cell_type": "markdown",
   "metadata": {},
   "source": [
    "## Gráfico de Dispersão ##\n",
    "\n",
    "O motivo do Plotly ser muito utilizado é porque quase tudo é customizável quando se trata de gráfico, você pode brincar bastante com isso e indo conhecendo os parametros aos poucos. O comando\n",
    "* **?go.Scatter** lista todos os parametros disponíveis."
   ]
  },
  {
   "cell_type": "code",
   "execution_count": 8,
   "metadata": {},
   "outputs": [
    {
     "data": {
      "application/vnd.plotly.v1+json": {
       "config": {
        "linkText": "Export to plot.ly",
        "plotlyServerURL": "https://plot.ly",
        "showLink": false
       },
       "data": [
        {
         "hovertemplate": "Salário: U$ %{y}",
         "marker": {
          "color": "#000053"
         },
         "mode": "markers",
         "opacity": 0.5,
         "type": "scatter",
         "x": [
          1957,
          1954,
          1965,
          1984,
          1981,
          1967,
          1971,
          1985,
          1974,
          1950,
          1983,
          1976,
          1959,
          1952,
          1987,
          1946,
          1980,
          1946,
          1949,
          1985,
          1982,
          1979,
          1949,
          1954,
          1951,
          1969,
          1976,
          1986,
          1989,
          1965,
          1989,
          1963,
          1970,
          1952,
          1946,
          1951,
          1970,
          1976,
          1973,
          1943,
          1980,
          1985,
          1957,
          1959,
          1975,
          1976,
          1996,
          1968,
          1951,
          1954,
          1957,
          1964,
          1977,
          1977,
          1978,
          1955,
          1966,
          1988,
          1982,
          1968,
          1982,
          1975,
          1952,
          1951,
          1948,
          1971,
          1967,
          1979,
          1958,
          1970,
          1954,
          1973,
          1959,
          1975,
          1952,
          1977,
          1972,
          1976,
          1976,
          1965,
          1985,
          1969,
          1973,
          1963,
          1987,
          1960,
          1970,
          1957,
          1973,
          1967,
          1957,
          1957,
          1973,
          1972,
          1970,
          1983,
          1960,
          1972,
          1951,
          1983,
          1960,
          1959,
          1979,
          1945,
          1959,
          1979,
          1964,
          1969,
          1978,
          1960,
          1979,
          1991,
          1963,
          1991,
          1980,
          1962,
          1970,
          1978,
          1967,
          1969,
          1953,
          1967,
          1985,
          1976,
          1983,
          1965,
          1984,
          1953,
          1961,
          1956,
          1952,
          1958,
          1969,
          1963,
          1964,
          1967,
          1976,
          1959,
          1973,
          1965,
          1992,
          1976,
          1962,
          1974,
          1988,
          1976,
          1975,
          1981,
          1973,
          1966,
          1953,
          1969,
          1972,
          1988,
          1952,
          1949,
          1958,
          1978,
          1977,
          1955,
          1958,
          1945,
          1984,
          1975,
          1973,
          1966,
          1953,
          1959,
          1988,
          1957,
          1965,
          1982,
          1970,
          1959,
          1967,
          1975,
          1948,
          1970,
          1959,
          1951,
          1976,
          1988,
          1946,
          1984,
          1961,
          1983,
          1970,
          1966,
          1976,
          1964,
          1978,
          1989,
          1900,
          1988,
          1973,
          1977,
          1980,
          1954,
          1954,
          1973,
          1952,
          1968,
          1978,
          1977,
          1965,
          1984,
          1988,
          1963,
          1966,
          1954,
          1956,
          1954,
          1968,
          1974,
          1985,
          1977,
          1978,
          1948,
          1954,
          1980,
          1988,
          1969,
          1970,
          1980,
          1962,
          1978,
          1976,
          1952,
          1972,
          1986,
          1966,
          1962,
          1971,
          1951,
          1965,
          1975,
          1982,
          1958,
          1973,
          1893,
          1968,
          1958,
          1971,
          1990,
          1958,
          1964,
          1972,
          1953,
          1988,
          1969,
          1975,
          1985,
          1974,
          1958,
          1967,
          1974,
          1961,
          1964,
          1964,
          1957,
          1979,
          1968,
          1970,
          1978,
          1952,
          1966,
          1963,
          1970,
          1970,
          1970,
          1953,
          1983,
          1975,
          1960,
          1963,
          1963,
          1956,
          1981,
          1986,
          1968,
          1981,
          1976,
          1946,
          1974,
          1975,
          1974,
          1952,
          1956,
          1966,
          1949,
          1984,
          1969,
          1980,
          1971,
          1965,
          1952,
          1988,
          1986,
          1982,
          1965,
          1958,
          1956,
          1978,
          1988,
          1984,
          1961,
          1966,
          1947,
          1964,
          1992,
          1976,
          1967,
          1989,
          1976,
          1966,
          1956,
          1972,
          1985,
          1951,
          1970,
          1971,
          1974,
          1965,
          1961,
          1953,
          1957,
          1976,
          1984,
          1950,
          1986,
          1983,
          1989,
          1956,
          1971,
          1983,
          1960,
          1968,
          1972,
          1965,
          1899,
          1988,
          1986,
          1969,
          1950,
          1973,
          1952,
          1965,
          1970,
          1971,
          1976,
          1957,
          1986,
          1966,
          1974,
          1976,
          1978,
          1955,
          1969,
          1943,
          1948,
          1957,
          1969,
          1978,
          1978,
          1967,
          1969,
          1960,
          1976,
          1962,
          1975,
          1984,
          1975,
          1970,
          1966,
          1972,
          1975,
          1970,
          1989,
          1961,
          1969,
          1969,
          1985,
          1954,
          1973,
          1981,
          1971,
          1968,
          1960,
          1949,
          1968,
          1979,
          1979,
          1993,
          1946,
          1968,
          1991,
          1971,
          1984,
          1987,
          1980,
          1956,
          1965,
          1974,
          1960,
          1955,
          1965,
          1972,
          1971,
          1974,
          1963,
          1982,
          1976,
          1955,
          1987,
          1962,
          1943,
          1975,
          1994,
          1981,
          1971,
          1973,
          1983,
          1982,
          1974,
          1941,
          1953,
          1986,
          1989,
          1989,
          1968,
          1961,
          1989,
          1967,
          1964,
          1970,
          1956,
          1966,
          1949,
          1971,
          1986,
          1989,
          1948,
          1946,
          1989,
          1974,
          1959,
          1972,
          1964,
          1976,
          1953,
          1955,
          1969,
          1971,
          1980,
          1976,
          1972,
          1966,
          1984,
          1952,
          1982,
          1964,
          1949,
          1958,
          1963,
          1975,
          1969,
          1955,
          1970,
          1951,
          1971,
          1975,
          1980,
          1981,
          1978,
          1988,
          1956,
          1972,
          1977,
          1972,
          1977,
          1973,
          1972,
          1974,
          1975,
          1960,
          1964,
          1976,
          1974,
          1969,
          1952,
          1958,
          1976,
          1955,
          1964,
          1944,
          1962,
          1978,
          1971,
          1949,
          1944,
          1950,
          1961,
          1990,
          1985,
          1956,
          1953,
          1976,
          1989,
          1992,
          1959,
          1981,
          1979,
          1964,
          1959,
          1946,
          1975,
          1961,
          1990,
          1959,
          1944,
          1965,
          1987,
          1991,
          1953,
          1987,
          1986,
          1958,
          1977,
          1964,
          1960,
          1975,
          1969,
          1977,
          1962,
          1982,
          1951,
          1967,
          1967,
          1952,
          1981,
          1977,
          1969,
          1984,
          1982,
          1976,
          1990,
          1964,
          1980,
          1968,
          1973,
          1963,
          1989,
          1971,
          1963,
          1949,
          1952,
          1978,
          1982,
          1970,
          1959,
          1978,
          1980,
          1971,
          1970,
          1963,
          1950,
          1962,
          1951,
          1979,
          1970,
          1974,
          1968,
          1978,
          1970,
          1981,
          1977,
          1968,
          1970,
          1966,
          1956,
          1974,
          1951,
          1967,
          1951,
          1983,
          1971,
          1955,
          1961,
          1955,
          1959,
          1984,
          1975,
          1965,
          1977,
          1972,
          1975,
          1969,
          1969,
          1978,
          1981,
          1961,
          1960,
          1955,
          1948,
          1966,
          1986,
          1973,
          1956,
          1975,
          1965,
          1969,
          1944,
          1973,
          1967,
          1969,
          1974,
          1965,
          1976,
          1978,
          1960,
          1961,
          1971,
          1949,
          1978,
          1955,
          1976,
          1975,
          1960,
          1977,
          1977,
          1970,
          1958,
          1970,
          1960,
          1973,
          1962,
          1952,
          1962,
          1950,
          1971,
          1960,
          1948,
          1959,
          1964,
          1947,
          1971,
          1970,
          1970,
          1977,
          1958,
          1960,
          1985,
          1974,
          1950,
          1955,
          1975,
          1953,
          1958,
          1947,
          1966,
          1963,
          1985,
          1975,
          1980,
          1956,
          1959,
          1974,
          1987,
          1968,
          1971,
          1964,
          1962,
          1970,
          1980,
          1975,
          1974,
          1963,
          1979,
          1985,
          1980,
          1963,
          1967,
          1982,
          1955,
          1967,
          1976,
          1972,
          1982,
          1989,
          1969,
          1960,
          1970,
          1958,
          1952,
          1949,
          1961,
          1995,
          1949,
          1961,
          1960,
          1973,
          1978,
          1978,
          1988,
          1968,
          1986,
          1970,
          1951,
          1948,
          1971,
          1986,
          1965,
          1975,
          1953,
          1982,
          1975,
          1960,
          1978,
          1970,
          1958,
          1965,
          1954,
          1984,
          1965,
          1976,
          1966,
          1955,
          1976,
          1965,
          1991,
          1949,
          1953,
          1978,
          1948,
          1973,
          1949,
          1973,
          1952,
          1989,
          1969,
          1953,
          1956,
          1950,
          1978,
          1964,
          1952,
          1975,
          1995,
          1970,
          1954,
          1972,
          1958,
          1975,
          1969,
          1979,
          1978,
          1972,
          1964,
          1979,
          1959,
          1981,
          1967,
          1988,
          1978,
          1952,
          1955,
          1977,
          1987,
          1965,
          1956,
          1979,
          1951,
          1965,
          1972,
          1957,
          1953,
          1965,
          1958,
          1955,
          1971,
          1974,
          1976,
          1970,
          1972,
          1972,
          1986,
          1960,
          1968,
          1978,
          1976,
          1945,
          1957,
          1950,
          1978,
          1961,
          1962,
          1954,
          1965,
          1973,
          1968,
          1970,
          1956,
          1951,
          1944,
          1958,
          1976,
          1971,
          1957,
          1972,
          1972,
          1981,
          1972,
          1975,
          1955,
          1986,
          1970,
          1976,
          1954,
          1972,
          1978,
          1980,
          1972,
          1961,
          1963,
          1959,
          1959,
          1954,
          1962,
          1958,
          1984,
          1976,
          1992,
          1967,
          1980,
          1967,
          1956,
          1972,
          1980,
          1980,
          1977,
          1950,
          1974,
          1988,
          1981,
          1960,
          1970,
          1991,
          1956,
          1963,
          1980,
          1974,
          1954,
          1957,
          1966,
          1974,
          1979,
          1973,
          1985,
          1966,
          1989,
          1969,
          1969,
          1987,
          1989,
          1975,
          1973,
          1966,
          1986,
          1978,
          1979,
          1983,
          1959,
          1976,
          1981,
          1978,
          1953,
          1971,
          1983,
          1956,
          1978,
          1972,
          1975,
          1975,
          1981,
          1972,
          1970,
          1953,
          1959,
          1962,
          1978,
          1973,
          1965,
          1983,
          1991,
          1943,
          1972,
          1956,
          1958,
          1974,
          1986,
          1958,
          1970,
          1967,
          1973,
          1969,
          1977,
          1961,
          1971,
          1974,
          1986,
          1966,
          1992,
          1963,
          1972,
          1994,
          1954,
          1960,
          1982,
          1954,
          1954,
          1955,
          1993,
          1969,
          1948,
          1986,
          1979,
          1978,
          1982,
          1993,
          1976,
          1974,
          1989,
          1951,
          1989,
          1952,
          1971,
          1971,
          1970,
          1971,
          1975,
          1952,
          1962,
          1983,
          1953,
          1986,
          1987,
          1982,
          1979,
          1977,
          1975,
          1979,
          1976,
          1973,
          1971,
          1976,
          1976,
          1965,
          1952,
          1973,
          1957,
          1967,
          1962,
          1969,
          1975,
          1980,
          1959,
          1973,
          1973,
          1974,
          1980,
          1988,
          1968,
          1988,
          1959,
          1971,
          1962,
          1959,
          1965,
          1952,
          1954,
          1960,
          1965,
          1979,
          1978,
          1950,
          1974,
          1978,
          1969,
          1976,
          1956,
          1954,
          1972,
          1981,
          1989,
          1954,
          1995,
          1978,
          1957,
          1973,
          1956,
          1956,
          1987,
          1981,
          1987,
          1954,
          1954,
          1953,
          1952,
          1968,
          1963,
          1979,
          1976,
          1978,
          1968,
          1971,
          1951,
          1965,
          1969,
          1973,
          1976,
          1973,
          1974,
          1953,
          1966,
          1978,
          1967,
          1978,
          1987,
          1958,
          1964,
          1971,
          1971,
          1969,
          1977,
          1973,
          1980,
          1958,
          1972,
          1971,
          1953,
          1959,
          1954,
          1991,
          1962,
          1986,
          1965,
          1966,
          1960,
          1984,
          1966,
          1965,
          1966,
          1949,
          1970,
          1983,
          1985,
          1974,
          1951,
          1952,
          1987,
          1949,
          1958,
          1987,
          1973,
          1964,
          1961,
          1992,
          1965,
          1956,
          1978,
          1971,
          1966,
          1955,
          1953,
          1958,
          1961,
          1981,
          1976,
          1968,
          1978,
          1965,
          1971,
          1956,
          1982,
          1970,
          1977,
          1970,
          1958,
          1983,
          1958,
          1973,
          1974,
          1959,
          1972,
          1965,
          1979,
          1958,
          1986,
          1982,
          1979,
          1975,
          1979,
          1986,
          1970,
          1972,
          1960,
          1952,
          1970,
          1974,
          1965,
          1954,
          1983,
          1973,
          1960,
          1984,
          1971,
          1983,
          1983,
          1966,
          1978,
          1968,
          1979,
          1973,
          1979,
          1954,
          1962,
          1966,
          1977,
          1985,
          1952,
          1951,
          1967,
          1978,
          1976,
          1985,
          1974,
          1968,
          1962,
          1989,
          1961,
          1953,
          1989,
          1978,
          1962,
          1945,
          1974,
          1981,
          1956,
          1954,
          1986,
          1943,
          1964,
          1979,
          1974,
          1960,
          1963,
          1976,
          1974,
          1961,
          1951,
          1965,
          1956,
          1965,
          1994,
          1974,
          1972,
          1968,
          1968,
          1948,
          1969,
          1996,
          1974,
          1990,
          1957,
          1979,
          1960,
          1952,
          1981,
          1981,
          1991,
          1950,
          1957,
          1961,
          1958,
          1971,
          1985,
          1965,
          1952,
          1962,
          1974,
          1970,
          1969,
          1960,
          1952,
          1969,
          1968,
          1965,
          1969,
          1972,
          1961,
          1977,
          1959,
          1958,
          1979,
          1957,
          1956,
          1965,
          1990,
          1957,
          1965,
          1957,
          1955,
          1972,
          1969,
          1972,
          1975,
          1965,
          1963,
          1991,
          1963,
          1986,
          1973,
          1957,
          1981,
          1958,
          1959,
          1955,
          1986,
          1975,
          1955,
          1971,
          1986,
          1978,
          1983,
          1976,
          1971,
          1956,
          1972,
          1989,
          1952,
          1984,
          1967,
          1962,
          1947,
          1978,
          1971,
          1992,
          1968,
          1973,
          1975,
          1965,
          1952,
          1967,
          1972,
          1963,
          1970,
          1955,
          1975,
          1976,
          1969,
          1973,
          1983,
          1982,
          1960,
          1952,
          1975,
          1963,
          1970,
          1948,
          1958,
          1944,
          1963,
          1972,
          1966,
          1968,
          1971,
          1975,
          1964,
          1978,
          1975,
          1983,
          1971,
          1957,
          1951,
          1951,
          1970,
          1972,
          1969,
          1972,
          1971,
          1956,
          1971,
          1973,
          1977,
          1963,
          1954,
          1978,
          1966,
          1946,
          1978,
          1971,
          1953,
          1985,
          1970,
          1979,
          1966,
          1976,
          1965,
          1982,
          1972,
          1960,
          1956,
          1965,
          1955,
          1989,
          1962,
          1965,
          1973,
          1972,
          1984,
          1960,
          1958,
          1968,
          1977,
          1974,
          1962,
          1982,
          1975,
          1982,
          1945,
          1979,
          1969,
          1962,
          1948,
          1978,
          1975,
          1982,
          1983,
          1952,
          1982,
          1962,
          1977,
          1949,
          1990,
          1982,
          1975,
          1959,
          1983,
          1976,
          1962,
          1956,
          1993,
          1987,
          1965,
          1982,
          1962,
          1978,
          1946,
          1963,
          1971,
          1968,
          1992,
          1974,
          1950,
          1977,
          1958,
          1976,
          1973,
          1968,
          1958,
          1975,
          1960,
          1965,
          1960,
          1969,
          1960,
          1975,
          1985,
          1971,
          1970,
          1955,
          1956,
          1958,
          1964,
          1973,
          1948,
          1972,
          1976,
          1980,
          1979,
          1972,
          1973,
          1972,
          1975,
          1972,
          1956,
          1974,
          1972,
          1968,
          1969,
          1961,
          1972,
          1953,
          1957,
          1970,
          1967,
          1951,
          1953,
          1950,
          1953,
          1977,
          1972,
          1969,
          1944,
          1990,
          1979,
          1966,
          1948,
          1972,
          1973,
          1972,
          1972,
          1966,
          1969,
          1959,
          1970,
          1974,
          1972,
          1958,
          1972,
          1983,
          1973,
          1985,
          1973,
          1967,
          1979,
          1961,
          1986,
          1964,
          1983,
          1952,
          1949,
          1979,
          1948,
          1946,
          1958,
          1971,
          1957,
          1982,
          1973,
          1972,
          1965,
          1953,
          1967,
          1965,
          1969,
          1971,
          1972,
          1970,
          1974,
          1950,
          1959,
          1955,
          1978,
          1986,
          1963,
          1953,
          1952,
          1950,
          1970,
          1970,
          1977,
          1966,
          1969,
          1958,
          1954,
          1956,
          1970,
          1987,
          1961,
          1979,
          1960,
          1981,
          1980,
          1976,
          1976,
          1970,
          1946,
          1955,
          1972,
          1971,
          1950,
          1988,
          1978,
          1990,
          1959,
          1977,
          1969,
          1959,
          1988,
          1975,
          1973,
          1977,
          1973,
          1955,
          1974,
          1972,
          1975,
          1971,
          1958,
          1988,
          1975,
          1965,
          1986,
          1977,
          1980,
          1962,
          1978,
          1972,
          1970,
          1983,
          1971,
          1976,
          1973,
          1973,
          1976,
          1948,
          1958,
          1987,
          1960,
          1975,
          1958,
          1975,
          1975,
          1988,
          1988,
          1989,
          1959,
          1971,
          1967,
          1989,
          1961,
          1978,
          1953,
          1964,
          1986,
          1987,
          1963,
          1957,
          1975,
          1951,
          1965,
          1956,
          1962,
          1974,
          1967,
          1962,
          1976,
          1961,
          1976,
          1983,
          1976,
          1988,
          1954,
          1985,
          1952,
          1964,
          1954,
          1950,
          1957,
          1946,
          1954,
          1991,
          1986,
          1977,
          1960,
          1982,
          1947,
          1992,
          1976,
          1956,
          1947,
          1950,
          1966,
          1987,
          1973,
          1952,
          1965,
          1980,
          1987,
          1962,
          1955,
          1988,
          1965,
          1967,
          1973,
          1960,
          1984,
          1971,
          1975,
          1965,
          1956,
          1955,
          1960,
          1961,
          1963,
          1977,
          1990,
          1973,
          1964,
          1988,
          1978,
          1990,
          1975,
          1977,
          1984,
          1983,
          1987,
          1965,
          1956,
          1965,
          1971,
          1982,
          1959,
          1963,
          1952,
          1971,
          1963,
          1982,
          1976,
          1947,
          1969,
          1959,
          1978,
          1948,
          1955,
          1954,
          1945,
          1969,
          1976,
          1969,
          1964,
          1981,
          1979,
          1981,
          1960,
          1974,
          1981,
          1967,
          1950,
          1982,
          1961,
          1963,
          1977,
          1947,
          1978,
          1954,
          1954,
          1972,
          1981,
          1958,
          1968,
          1976,
          1966,
          1989,
          1985,
          1967,
          1959,
          1970,
          1967,
          1985,
          1951,
          1986,
          1955,
          1970,
          1991,
          1975,
          1979,
          1976,
          1980,
          1978,
          1971,
          1955,
          1983,
          1952,
          1969,
          1980,
          1968,
          1971,
          1989,
          1951,
          1987,
          1985,
          1981,
          1990,
          1952,
          1971,
          1983,
          1957,
          1951,
          1976,
          1955,
          1989,
          1973,
          1973,
          1984,
          1956,
          1965,
          1978,
          1973,
          1986,
          1959,
          1978,
          1966,
          1992,
          1984,
          1956,
          1977,
          1974,
          1976,
          1979,
          1983,
          1991,
          1962,
          1982,
          1979,
          1955,
          1965,
          1961,
          1951,
          1964,
          1959,
          1955,
          1966,
          1958,
          1954,
          1967,
          1963,
          1959,
          1971,
          1964,
          1983,
          1945,
          1947,
          1969,
          1952,
          1947,
          1946,
          1969,
          1949,
          1961,
          1974,
          1980,
          1949,
          1971,
          1979,
          1968,
          1971,
          1955,
          1972,
          1964,
          1979,
          1975,
          1977,
          1986,
          1956,
          1980,
          1982,
          1961,
          1975,
          1974,
          1946,
          1985,
          1952,
          1967,
          1955,
          1985,
          1977,
          1973,
          1984,
          1979,
          1976,
          1968,
          1959,
          1971,
          1967,
          1973,
          1983,
          1979,
          1979,
          1950,
          1963,
          1962,
          1976,
          1952,
          1960,
          1955,
          1977,
          1964,
          1981,
          1976,
          1974,
          1951,
          1966,
          1951,
          1958,
          1966,
          1964,
          1956,
          1974,
          1966,
          1963,
          1969,
          1992,
          1954,
          1983,
          1982,
          1951,
          1956,
          1961,
          1962,
          1971,
          1971,
          1968,
          1978,
          1969,
          1965,
          1986,
          1958,
          1975,
          1987,
          1959,
          1962,
          1974,
          1977,
          1978,
          1970,
          1957,
          1955,
          1954,
          1982,
          1953,
          1968,
          1957,
          1965,
          1975,
          1963,
          1990,
          1966,
          1988,
          1995,
          1975,
          1978,
          1961,
          1984,
          1971,
          1951,
          1976,
          1972,
          1985,
          1966,
          1975,
          1979,
          1971,
          1982,
          1973,
          1968,
          1984,
          1971,
          1977,
          1967,
          1964,
          1972,
          1948,
          1952,
          1987,
          1959,
          1958,
          1951,
          1975,
          1984,
          1969,
          1968,
          1969,
          1985,
          1984,
          1957,
          1971,
          1975,
          1982,
          1988,
          1989,
          1985,
          1968,
          1974,
          1949,
          1978,
          1954,
          1945,
          1950,
          1964,
          1983,
          1987,
          1971,
          1968,
          1954,
          1971,
          1986,
          1959,
          1980,
          1960,
          1970,
          1971,
          1967,
          1963,
          1968,
          1990,
          1981,
          1976,
          1965,
          1977,
          1972,
          1956,
          1943,
          1959,
          1977,
          1969,
          1970,
          1957,
          1965,
          1974,
          1947,
          1982,
          1968,
          1951,
          1975,
          1956,
          1949,
          1959,
          1973,
          1984,
          1950,
          1977,
          1984,
          1976,
          1951,
          1982,
          1974,
          1968,
          1954,
          1940,
          1976,
          1951,
          1976,
          1964,
          1950,
          1976,
          1956,
          1990,
          1950,
          1965,
          1962,
          1978,
          1952,
          1966,
          1947,
          1972,
          1963,
          1949,
          1978,
          1966,
          1983,
          1971,
          1975,
          1971,
          1969,
          1963,
          1968,
          1979,
          1984,
          1984,
          1974,
          1951,
          1962,
          1975,
          1957,
          1978,
          1991,
          1986,
          1956,
          1963,
          1971,
          1947,
          1958,
          1960,
          1980,
          1975,
          1975,
          1973,
          1980,
          1970,
          1967,
          1970,
          1966,
          1972,
          1977,
          1970,
          1964,
          1959,
          1966,
          1958,
          1986,
          1977,
          1981,
          1958,
          1975,
          1983,
          1967,
          1951,
          1972,
          1978,
          1982,
          1956,
          1952,
          1965,
          1979,
          1965,
          1953,
          1949,
          1985,
          1947,
          1955,
          1976,
          1975,
          1984,
          1950,
          1977,
          1951,
          1984,
          1982,
          1991,
          1970,
          1981,
          1979,
          1971,
          1970,
          1959,
          1973,
          1970,
          1947,
          1951,
          1975,
          1959,
          1955,
          1953,
          1965,
          1973,
          1976,
          1950,
          1969,
          1969,
          1981,
          1982,
          1978,
          1974,
          1951,
          1948,
          1952,
          1984,
          1979,
          1949,
          1956,
          1969,
          1987,
          1983,
          1970,
          1977,
          1960,
          1971,
          1954,
          1973,
          1955,
          1960,
          1988,
          1943,
          1969,
          1992,
          1959,
          1980,
          1971,
          1974,
          1969,
          1976,
          1993,
          1949,
          1950,
          1975,
          1956,
          1976,
          1975,
          1976,
          1949,
          1984,
          1974,
          1972,
          1986,
          1962,
          1970,
          1949,
          1961,
          1955,
          1981,
          1953,
          1974,
          1954,
          1969,
          1981,
          1952,
          1962,
          1971,
          1976,
          1976,
          1980,
          1956,
          1957,
          1972,
          1966,
          1986,
          1965,
          1974,
          1976,
          1976,
          1949,
          1980,
          1957,
          1965,
          1969,
          1970,
          1954,
          1966,
          1974,
          1971,
          1968,
          1957,
          1973,
          1957,
          1971,
          1960,
          1973,
          1962,
          1958,
          1972,
          1976,
          1969,
          1976,
          1983,
          1964,
          1975,
          1955,
          1965,
          1964,
          1980,
          1957,
          1949,
          1992,
          1974,
          1954,
          1990,
          1984,
          1981,
          1965,
          1970,
          1975,
          1951,
          1955,
          1975,
          1967,
          1973,
          1971,
          1955,
          1974,
          1972,
          1964,
          1978,
          1957,
          1960,
          1972,
          1956,
          1957,
          1972,
          1983,
          1971,
          1947,
          1957,
          1957,
          1952,
          1974,
          1973,
          1954,
          1975,
          1990,
          1969,
          1973,
          1978,
          1990,
          1968,
          1980,
          1954,
          1963,
          1963,
          1955,
          1981,
          1950,
          1995,
          1976,
          1954,
          1983,
          1948,
          1978,
          1985,
          1979,
          1982,
          1979,
          1963,
          1970,
          1968,
          1979,
          1962,
          1978,
          1972,
          1984,
          1970,
          1986,
          1977,
          1974,
          1967,
          1946,
          1981,
          1956,
          1954
         ],
         "y": [
          58138,
          46344,
          71613,
          26646,
          58293,
          62513,
          55635,
          33454,
          30351,
          5648,
          null,
          7500,
          63033,
          59354,
          17323,
          82800,
          41850,
          37760,
          76995,
          33812,
          37040,
          2447,
          58607,
          65324,
          40689,
          18589,
          53359,
          null,
          38360,
          84618,
          10979,
          38620,
          40548,
          46610,
          68657,
          49389,
          67353,
          23718,
          42429,
          48948,
          80011,
          20559,
          21994,
          null,
          7500,
          79941,
          7500,
          41728,
          null,
          72550,
          65486,
          79143,
          35790,
          82582,
          66373,
          82384,
          70287,
          27938,
          null,
          55954,
          75777,
          66653,
          61823,
          67680,
          70666,
          25721,
          32474,
          88194,
          69096,
          74854,
          66991,
          null,
          65031,
          60631,
          28332,
          40246,
          75251,
          75825,
          26326,
          56046,
          29760,
          26304,
          23559,
          38620,
          81361,
          29440,
          36138,
          50388,
          79593,
          54178,
          null,
          null,
          null,
          42394,
          23626,
          30096,
          47916,
          51813,
          78497,
          50150,
          47823,
          34554,
          85693,
          65846,
          87195,
          24594,
          49096,
          52413,
          38557,
          89058,
          77298,
          68126,
          57288,
          86037,
          43974,
          50785,
          90765,
          36550,
          30753,
          21918,
          56129,
          32557,
          19510,
          30992,
          101970,
          71488,
          79607,
          54348,
          null,
          77376,
          62998,
          61331,
          73448,
          null,
          41551,
          62981,
          9548,
          33762,
          35860,
          36921,
          92859,
          65104,
          86111,
          68352,
          41883,
          59809,
          23957,
          38547,
          35688,
          49605,
          59354,
          65747,
          46344,
          34176,
          61010,
          69372,
          49967,
          60199,
          55375,
          80317,
          30523,
          70356,
          23228,
          74165,
          157243,
          43482,
          62551,
          52332,
          66951,
          26091,
          33456,
          28718,
          50447,
          53537,
          52074,
          80427,
          83837,
          38853,
          38285,
          78497,
          51650,
          16248,
          66835,
          30477,
          28249,
          25271,
          32303,
          61286,
          74068,
          45759,
          24882,
          66973,
          36640,
          38872,
          51148,
          31353,
          69661,
          80067,
          86718,
          46854,
          69142,
          75922,
          63693,
          102160,
          40637,
          18890,
          29604,
          48721,
          44794,
          64497,
          46097,
          77972,
          44377,
          46014,
          70951,
          41443,
          52195,
          83790,
          44551,
          69508,
          45204,
          72460,
          77622,
          30732,
          63887,
          42011,
          51369,
          51537,
          79930,
          34320,
          37070,
          81975,
          38590,
          15033,
          62745,
          22212,
          23661,
          79761,
          7500,
          60182,
          73455,
          64961,
          22804,
          73687,
          61074,
          31686,
          80134,
          75027,
          67546,
          65176,
          31160,
          29938,
          102692,
          26490,
          75702,
          30899,
          63342,
          45989,
          18701,
          40737,
          15287,
          69674,
          44159,
          37717,
          43776,
          38179,
          80124,
          38097,
          72940,
          22070,
          69267,
          31788,
          61905,
          29315,
          33378,
          66313,
          60714,
          77882,
          69867,
          63841,
          24480,
          51369,
          37760,
          65640,
          44319,
          30631,
          75278,
          50898,
          79946,
          35416,
          32414,
          38361,
          82497,
          16626,
          29672,
          55951,
          35388,
          42386,
          68627,
          57912,
          35246,
          58821,
          46377,
          39747,
          23976,
          80950,
          27038,
          77457,
          64100,
          42670,
          12571,
          22574,
          null,
          70893,
          54198,
          28839,
          40321,
          66503,
          30833,
          null,
          64795,
          34421,
          47025,
          64325,
          40464,
          62187,
          14849,
          27255,
          54432,
          29999,
          24072,
          33996,
          66334,
          35178,
          22010,
          62204,
          75693,
          30675,
          83003,
          83532,
          68655,
          41411,
          55212,
          59292,
          27190,
          82623,
          44300,
          84835,
          30372,
          33181,
          71113,
          71952,
          69759,
          72099,
          60000,
          38643,
          50737,
          68462,
          65073,
          46681,
          78618,
          62187,
          28442,
          37717,
          51479,
          54803,
          79530,
          31615,
          72025,
          52614,
          35684,
          48178,
          29548,
          63810,
          38578,
          46098,
          22585,
          30279,
          66426,
          30822,
          33581,
          19986,
          27421,
          35688,
          36143,
          10245,
          43795,
          63381,
          38823,
          83664,
          90300,
          62499,
          74293,
          51012,
          70777,
          68682,
          43824,
          15345,
          23442,
          14515,
          31395,
          75276,
          42373,
          30507,
          55521,
          48006,
          27213,
          65808,
          30351,
          50437,
          23616,
          53858,
          66465,
          46923,
          75072,
          75865,
          19789,
          80134,
          91065,
          49505,
          37401,
          30096,
          18492,
          82584,
          93027,
          48686,
          92910,
          75433,
          10404,
          61314,
          84865,
          42387,
          67309,
          75236,
          30015,
          50943,
          67272,
          51529,
          32011,
          7500,
          28691,
          56223,
          18100,
          30279,
          20130,
          23295,
          42618,
          81246,
          24027,
          55707,
          57959,
          56796,
          36230,
          70829,
          65991,
          38988,
          89572,
          42207,
          50300,
          66664,
          60597,
          70165,
          50520,
          80124,
          33183,
          66582,
          75261,
          31880,
          53790,
          49269,
          61456,
          37406,
          56937,
          38415,
          20518,
          62503,
          41644,
          55842,
          62010,
          41124,
          38961,
          37760,
          32233,
          43057,
          83151,
          78825,
          65104,
          60093,
          14045,
          28457,
          78952,
          46310,
          76005,
          58308,
          55614,
          59432,
          55563,
          78642,
          67911,
          65275,
          27203,
          48330,
          24279,
          64355,
          50943,
          53653,
          65665,
          81217,
          34935,
          61250,
          39665,
          60152,
          48920,
          89120,
          44124,
          81169,
          36443,
          26095,
          71367,
          80184,
          30630,
          73454,
          42691,
          70503,
          25545,
          32880,
          77863,
          50353,
          61839,
          49154,
          47682,
          72679,
          57954,
          65316,
          28567,
          47352,
          44931,
          76982,
          57247,
          22944,
          25315,
          43638,
          42710,
          84169,
          54058,
          24683,
          85620,
          47850,
          19514,
          27159,
          39548,
          21474,
          60504,
          22419,
          81698,
          43462,
          54880,
          79908,
          15315,
          87771,
          33039,
          81741,
          71499,
          62466,
          48799,
          52157,
          66565,
          29298,
          47691,
          38200,
          44989,
          38443,
          38593,
          64413,
          36959,
          61996,
          51287,
          13260,
          47472,
          54603,
          45207,
          40689,
          47821,
          27450,
          39453,
          26850,
          79800,
          61794,
          53863,
          24221,
          39684,
          92163,
          69882,
          33178,
          59973,
          17459,
          23910,
          42169,
          26224,
          31089,
          30081,
          62807,
          72906,
          61467,
          49618,
          21888,
          42429,
          26150,
          30801,
          81168,
          26877,
          45006,
          18978,
          22574,
          48240,
          45837,
          35791,
          162397,
          54162,
          30522,
          54456,
          31632,
          72298,
          36975,
          72635,
          13624,
          84196,
          70971,
          34487,
          28769,
          69084,
          65488,
          62466,
          32218,
          83917,
          46102,
          84574,
          56181,
          63120,
          73691,
          63381,
          76140,
          62859,
          45906,
          77632,
          46463,
          105471,
          55282,
          78710,
          66886,
          98777,
          29103,
          67445,
          50616,
          49431,
          153924,
          61278,
          26490,
          73059,
          46734,
          56253,
          19986,
          58330,
          25965,
          14661,
          18690,
          45068,
          21063,
          29187,
          54690,
          59304,
          59247,
          66731,
          77353,
          52614,
          26751,
          81300,
          70337,
          36145,
          65295,
          68118,
          68743,
          41039,
          38946,
          65777,
          66476,
          86857,
          160803,
          77845,
          69476,
          50611,
          61209,
          42315,
          13084,
          47570,
          61923,
          34824,
          26518,
          45938,
          78468,
          78901,
          71427,
          71022,
          90247,
          41335,
          71952,
          35682,
          43185,
          66375,
          35178,
          25252,
          55250,
          33249,
          58398,
          50272,
          76618,
          87305,
          25851,
          58710,
          45160,
          74806,
          59111,
          18988,
          72190,
          7500,
          44794,
          80395,
          75012,
          56962,
          89891,
          35946,
          53593,
          66373,
          45072,
          89694,
          72025,
          67432,
          70545,
          17487,
          62882,
          64108,
          34941,
          48767,
          38702,
          82224,
          83844,
          17003,
          71163,
          33697,
          63564,
          83443,
          51518,
          58330,
          80952,
          75507,
          63855,
          62220,
          58512,
          40662,
          38829,
          35523,
          79146,
          78285,
          31626,
          75127,
          48726,
          74985,
          67430,
          46891,
          62058,
          72063,
          78939,
          42720,
          33622,
          6835,
          41452,
          40760,
          74250,
          51124,
          72258,
          71466,
          36283,
          20587,
          30467,
          31590,
          20425,
          17144,
          42564,
          43783,
          40780,
          62847,
          82017,
          16813,
          51267,
          46524,
          45183,
          70421,
          60161,
          73926,
          19329,
          61872,
          46984,
          34838,
          82716,
          48192,
          49681,
          56850,
          55267,
          59666,
          72504,
          26872,
          21359,
          73170,
          52750,
          91820,
          65968,
          30772,
          22507,
          65685,
          25804,
          76412,
          22063,
          57091,
          22419,
          87771,
          78353,
          93404,
          37859,
          80995,
          16529,
          55412,
          48789,
          56575,
          25130,
          35441,
          71391,
          49494,
          81702,
          45889,
          56628,
          34026,
          40049,
          34176,
          19419,
          82504,
          81205,
          61618,
          55284,
          49980,
          15072,
          49166,
          65324,
          82347,
          30843,
          46374,
          60474,
          38576,
          55357,
          37758,
          85710,
          23228,
          44602,
          7500,
          38683,
          49514,
          57906,
          43456,
          19485,
          53172,
          30545,
          70123,
          62450,
          21675,
          42395,
          61346,
          80812,
          42835,
          39922,
          86424,
          17117,
          24762,
          35797,
          36627,
          51111,
          86857,
          82072,
          46231,
          42243,
          51195,
          68092,
          31814,
          51390,
          76630,
          26868,
          48948,
          55260,
          64090,
          78331,
          37087,
          21846,
          81320,
          54137,
          66825,
          57100,
          58917,
          85072,
          86429,
          45684,
          47889,
          45921,
          78420,
          75114,
          52278,
          35641,
          95529,
          62820,
          73113,
          84169,
          42607,
          74637,
          46015,
          72354,
          39858,
          34469,
          83033,
          24401,
          77583,
          74116,
          74293,
          68397,
          79632,
          46107,
          64950,
          25443,
          75127,
          32892,
          71796,
          67536,
          55239,
          60554,
          64831,
          56067,
          82025,
          94384,
          14906,
          51563,
          57937,
          68274,
          39771,
          67893,
          27922,
          52190,
          44051,
          42767,
          46106,
          16927,
          59754,
          53700,
          59041,
          54237,
          70647,
          52597,
          41021,
          40233,
          50183,
          54753,
          92955,
          33471,
          34596,
          44010,
          84219,
          40706,
          15716,
          59052,
          80573,
          83715,
          82576,
          56962,
          35704,
          53103,
          46779,
          4861,
          33462,
          63693,
          80763,
          65352,
          82170,
          75759,
          79689,
          35340,
          85683,
          24884,
          42021,
          64449,
          64587,
          34824,
          75437,
          26091,
          52845,
          46086,
          78028,
          95169,
          56337,
          22434,
          36930,
          36130,
          65569,
          83844,
          19514,
          36736,
          77568,
          49187,
          30168,
          34053,
          38196,
          59412,
          70924,
          54165,
          32300,
          20180,
          34961,
          28440,
          64504,
          33564,
          17345,
          56320,
          28647,
          15038,
          32173,
          68316,
          74538,
          91700,
          68695,
          31056,
          79593,
          28071,
          37334,
          46423,
          37126,
          47703,
          61180,
          38998,
          8028,
          76081,
          34728,
          33168,
          33585,
          77037,
          35196,
          44529,
          70924,
          28764,
          69098,
          25959,
          27100,
          70596,
          42557,
          53312,
          72228,
          67605,
          62845,
          65196,
          42000,
          35860,
          65526,
          16860,
          83528,
          64176,
          22304,
          67023,
          32892,
          70713,
          59925,
          39722,
          46610,
          88347,
          87171,
          26907,
          50014,
          41014,
          66294,
          36715,
          79456,
          40479,
          75345,
          54233,
          24163,
          84460,
          43776,
          71691,
          85844,
          39190,
          71367,
          38578,
          57236,
          61825,
          79803,
          80910,
          27590,
          56775,
          83829,
          54210,
          38508,
          53187,
          30023,
          76045,
          50870,
          15315,
          65463,
          66480,
          76773,
          81698,
          54466,
          98777,
          16269,
          71819,
          33569,
          36262,
          22634,
          47025,
          70566,
          31605,
          52034,
          48526,
          46734,
          39552,
          86358,
          46931,
          16581,
          63998,
          67381,
          25930,
          42693,
          85606,
          72903,
          49669,
          36778,
          85696,
          10979,
          49678,
          56129,
          37155,
          21282,
          33419,
          63285,
          21255,
          42162,
          54450,
          57744,
          26576,
          57513,
          68142,
          7500,
          83145,
          54197,
          23091,
          46049,
          56715,
          79410,
          57304,
          44375,
          54450,
          59594,
          80685,
          40344,
          62710,
          48985,
          35322,
          77142,
          81657,
          14421,
          20130,
          74214,
          66726,
          23724,
          47353,
          33444,
          54386,
          28510,
          90638,
          48070,
          43140,
          54959,
          15056,
          26954,
          22327,
          44393,
          62000,
          31497,
          45894,
          78579,
          67369,
          58401,
          62307,
          43641,
          63841,
          46891,
          70091,
          78075,
          59184,
          54809,
          58113,
          51412,
          15287,
          66636,
          50965,
          84618,
          18351,
          40451,
          36317,
          42213,
          65748,
          77044,
          74918,
          56721,
          42160,
          61559,
          33629,
          68682,
          34377,
          8940,
          26228,
          77297,
          40211,
          33438,
          75032,
          61284,
          22518,
          54730,
          38452,
          44421,
          38197,
          41986,
          28427,
          37395,
          64722,
          55249,
          84906,
          28691,
          44213,
          25707,
          59062,
          76624,
          66000,
          27683,
          1730,
          7500,
          40521,
          20427,
          65106,
          69969,
          67433,
          77766,
          74716,
          68118,
          55158,
          62972,
          74190,
          39356,
          76653,
          35860,
          90687,
          73450,
          31454,
          47139,
          83829,
          53378,
          19656,
          45579,
          85485,
          55956,
          64191,
          38808,
          57183,
          23748,
          66303,
          37368,
          40800,
          71847,
          46149,
          78687,
          49118,
          37633,
          39767,
          26997,
          33986,
          57091,
          46831,
          83151,
          52531,
          15759,
          22804,
          43050,
          42997,
          48918,
          60033,
          34043,
          57811,
          78569,
          7500,
          157733,
          94384,
          23148,
          44267,
          71626,
          60894,
          50200,
          81051,
          65169,
          59868,
          65695,
          64857,
          45143,
          74805,
          59060,
          27238,
          47009,
          46094,
          40321,
          37235,
          81843,
          46692,
          77382,
          37774,
          18393,
          72828,
          24711,
          45503,
          6560,
          71604,
          27244,
          48752,
          71434,
          90842,
          88097,
          51948,
          71853,
          35876,
          40049,
          39660,
          50127,
          43263,
          62845,
          18929,
          24367,
          33249,
          26887,
          50150,
          62061,
          85696,
          76542,
          70515,
          18227,
          69139,
          69109,
          69627,
          38136,
          62159,
          80695,
          33316,
          58554,
          17256,
          53034,
          52203,
          59601,
          75154,
          47025,
          37971,
          41335,
          67267,
          57338,
          50523,
          35791,
          50611,
          56242,
          48904,
          56243,
          21355,
          57420,
          null,
          46390,
          54342,
          null,
          null,
          20895,
          92344,
          null,
          26907,
          44964,
          75507,
          53761,
          22682,
          38887,
          41658,
          29791,
          63915,
          39996,
          26759,
          63841,
          51039,
          60544,
          65685,
          37716,
          36864,
          44511,
          36947,
          47352,
          67087,
          57045,
          36957,
          69389,
          80134,
          43142,
          80589,
          34412,
          57537,
          22634,
          51315,
          36026,
          24639,
          34578,
          65704,
          63810,
          54132,
          18690,
          28164,
          34596,
          43269,
          38741,
          31907,
          27100,
          31163,
          92533,
          34853,
          70844,
          31086,
          60544,
          20491,
          42523,
          39922,
          33402,
          36408,
          21645,
          78427,
          82657,
          51876,
          78041,
          52852,
          70038,
          69401,
          46053,
          77343,
          73892,
          40304,
          32727,
          68695,
          43300,
          26290,
          93790,
          38410,
          64866,
          57957,
          46015,
          16531,
          28072,
          49476,
          50725,
          83844,
          41145,
          67419,
          23162,
          34380,
          34704,
          94871,
          65148,
          39898,
          64857,
          59892,
          41020,
          57072,
          60474,
          62807,
          19414,
          19107,
          75484,
          70379,
          79419,
          64014,
          76998,
          49854,
          60585,
          42873,
          87679,
          57867,
          35765,
          65492,
          32952,
          53374,
          71706,
          68487,
          53253,
          31163,
          42014,
          54108,
          49667,
          63206,
          57136,
          46772,
          78931,
          53977,
          84219,
          46098,
          73538,
          79529,
          20981,
          51766,
          55759,
          33039,
          37787,
          27242,
          87188,
          69930,
          37697,
          37401,
          3502,
          58597,
          82032,
          28087,
          74004,
          19740,
          57036,
          53083,
          69283,
          46098,
          23331,
          23331,
          9255,
          67786,
          71969,
          59235,
          31928,
          74881,
          65819,
          51411,
          51983,
          42386,
          30390,
          30983,
          66033,
          37284,
          57530,
          76800,
          63943,
          76081,
          67445,
          37054,
          47175,
          31859,
          27215,
          70179,
          39922,
          49681,
          24645,
          79865,
          44322,
          47958,
          63972,
          75315,
          55517,
          75283,
          82800,
          38998,
          90638,
          27161,
          42014,
          38201,
          45203,
          81574,
          34935,
          60482,
          34633,
          78093,
          82460,
          45903,
          81361,
          35860,
          40442,
          61482,
          34968,
          75794,
          31497,
          74268,
          13724,
          45143,
          52569,
          48432,
          17144,
          36108,
          76445,
          36663,
          53843,
          90226,
          70638,
          44512,
          27116,
          54072,
          71855,
          51250,
          60432,
          65526,
          68655,
          12393,
          64509,
          33955,
          31353,
          55434,
          28359,
          57100,
          69139,
          52973,
          51717,
          18793,
          66664,
          50664,
          54414,
          54549,
          47111,
          41003,
          19444,
          36301,
          73059,
          42731,
          52854,
          22775,
          46681,
          59821,
          50002,
          69755,
          44078,
          30560,
          35924,
          64140,
          56386,
          24594,
          75774,
          39228,
          58494,
          58684,
          57136,
          56551,
          22448,
          82014,
          34213,
          157146,
          25358,
          35544,
          36634,
          62670,
          50334,
          72066,
          50729,
          34916,
          64892,
          43602,
          33996,
          41473,
          63246,
          36732,
          69084,
          77766,
          37929,
          86610,
          80141,
          72635,
          69016,
          20193,
          27573,
          15862,
          49544,
          33228,
          70440,
          38232,
          22554,
          23536,
          49413,
          42231,
          78789,
          56534,
          58350,
          81217,
          49090,
          61787,
          18169,
          24336,
          18222,
          62335,
          42033,
          86580,
          41437,
          73705,
          61064,
          38452,
          18358,
          55012,
          9722,
          38175,
          58656,
          52117,
          64813,
          54222,
          83512,
          77520,
          41154,
          80398,
          18746,
          35196,
          60230,
          22108,
          44392,
          55424,
          17688,
          92491,
          90273,
          82571,
          38513,
          16653,
          42586,
          23529,
          74881,
          71107,
          46910,
          18690,
          37244,
          82427,
          75342,
          70044,
          79146,
          77437,
          54984,
          42403,
          55761,
          37292,
          45576,
          70321,
          58086,
          81795,
          28389,
          66835,
          69901,
          80360,
          63342,
          44989,
          31859,
          51569,
          30372,
          16014,
          41120,
          39763,
          38725,
          77981,
          62905,
          13533,
          59481,
          72117,
          21955,
          67131,
          36802,
          71853,
          28249,
          47808,
          25509,
          51012,
          70596,
          85431,
          42664,
          42586,
          29760,
          28973,
          39435,
          65370,
          20194,
          42473,
          64590,
          71232,
          34600,
          46904,
          49094,
          36075,
          60839,
          77298,
          34026,
          48918,
          82122,
          37697,
          34074,
          28520,
          62535,
          36273,
          63404,
          75774,
          78416,
          75702,
          59385,
          37070,
          44689,
          53977,
          7144,
          18701,
          90369,
          63159,
          37758,
          46757,
          79734,
          63207,
          72071,
          21840,
          58582,
          72282,
          50387,
          32583,
          62568,
          44635,
          33316,
          63967,
          52513,
          25293,
          54111,
          78394,
          80739,
          22669,
          29236,
          44911,
          54693,
          48186,
          54809,
          41580,
          80336,
          47743,
          62972,
          57333,
          32313,
          84953,
          27071,
          68148,
          65735,
          86836,
          4023,
          30093,
          57705,
          25008,
          83257,
          22280,
          72159,
          64260,
          82733,
          74290,
          58217,
          21024,
          70116,
          54006,
          69063,
          11448,
          61825,
          70886,
          69109,
          60208,
          32889,
          34738,
          30538,
          82326,
          26642,
          69932,
          44503,
          60200,
          49638,
          23830,
          33051,
          72905,
          69702,
          70300,
          70643,
          30396,
          50616,
          62772,
          30298,
          52413,
          44155,
          86979,
          76532,
          42081,
          67546,
          88420,
          31158,
          61671,
          69719,
          49160,
          24882,
          90933,
          113734,
          59292,
          45759,
          22148,
          73395,
          29819,
          45688,
          62820,
          60491,
          33235,
          35701,
          31535,
          92556,
          67384,
          80573,
          77870,
          52278,
          57107,
          18929,
          36038,
          20180,
          34230,
          31878,
          70932,
          91249,
          77598,
          80982,
          22701,
          55212,
          70617,
          64849,
          62694,
          61917,
          67472,
          21059,
          29543,
          75903,
          34984,
          54998,
          54356,
          34242,
          25410,
          73356,
          28320,
          23763,
          72570,
          34529,
          70792,
          63211,
          83891,
          36065,
          39898,
          51141,
          56939,
          80872,
          72335,
          61798,
          76842,
          29478,
          46998,
          96843,
          56551,
          70053,
          71670,
          44359,
          40887,
          48877,
          74485,
          64474,
          77226,
          72643,
          85738,
          55686,
          39062,
          34600,
          40794,
          54690,
          4428,
          32632,
          38236,
          36781,
          31385,
          24570,
          25509,
          94642,
          58646,
          53201,
          21994,
          57113,
          51373,
          23477,
          58116,
          72968,
          39791,
          91712,
          94472,
          13672,
          96547,
          79205,
          56559,
          32644,
          67506,
          24206,
          28420,
          22979,
          33279,
          46423,
          30368,
          63684,
          41638,
          68805,
          65814,
          71964,
          39146,
          96876,
          34445,
          68281,
          37284,
          36790,
          27943,
          22263,
          30261,
          28587,
          43815,
          48195,
          77027,
          71322,
          32765,
          29672,
          23272,
          49912,
          7500,
          68117,
          67225,
          17649,
          55914,
          40059,
          60905,
          75330,
          60689,
          38680,
          61416,
          49767,
          83273,
          29009,
          45057,
          37150,
          43020,
          53154,
          65308,
          76467,
          81044,
          32871,
          55801,
          76320,
          36927,
          48794,
          23478,
          71128,
          70179,
          59462,
          null,
          38361,
          null,
          70038,
          42554,
          67445,
          67046,
          42192,
          77610,
          31761,
          34350,
          54591,
          71866,
          25293,
          42000,
          69520,
          64713,
          27889,
          22123,
          null,
          null,
          27803,
          null,
          51651,
          68487,
          null,
          56796,
          87000,
          79823,
          30828,
          34109,
          53367,
          22390,
          71322,
          79244,
          49912,
          48699,
          80144,
          54252,
          81929,
          76068,
          53204,
          67911,
          14796,
          78128,
          14188,
          20425,
          58646,
          72967,
          48150,
          82332,
          58275,
          44953,
          34587,
          43018,
          45736,
          66476,
          27733,
          69805,
          72217,
          25818,
          37509,
          25176,
          43586,
          53230,
          50116,
          84906,
          61286,
          82333,
          65220,
          33590,
          30992,
          72309,
          156924,
          16005,
          65487,
          58692,
          40590,
          20587,
          62637,
          29435,
          19346,
          35788,
          36997,
          23539,
          65333,
          78499,
          29732,
          41275,
          63516,
          42769,
          49572,
          69209,
          17148,
          40590,
          30560,
          32146,
          41713,
          34176,
          58482,
          59686,
          60896,
          62994,
          47320,
          74859,
          15253,
          31560,
          72071,
          91172,
          90000,
          41967,
          69263,
          65706,
          60934,
          71965,
          65210,
          79174,
          81380,
          48432,
          52914,
          38946,
          26067,
          44325,
          42523,
          26487,
          53233,
          67716,
          76234,
          84117,
          65487,
          25224,
          89616,
          40851,
          27469,
          82347,
          73803,
          8820,
          43322,
          55593,
          50501,
          37085,
          16185,
          57731,
          48432,
          73807,
          18929,
          35893,
          61014,
          32144,
          14918,
          45146,
          41769,
          88325,
          38054,
          80617,
          5305,
          36807,
          28427,
          82032,
          22775,
          40101,
          58025,
          75777,
          7500,
          33562,
          57642,
          58554,
          63777,
          57967,
          null,
          24434,
          11012,
          44802,
          26816,
          666666,
          34421,
          61223,
          64014,
          56981,
          69245,
          52869
         ]
        }
       ],
       "layout": {
        "template": {
         "data": {
          "bar": [
           {
            "error_x": {
             "color": "#2a3f5f"
            },
            "error_y": {
             "color": "#2a3f5f"
            },
            "marker": {
             "line": {
              "color": "#E5ECF6",
              "width": 0.5
             },
             "pattern": {
              "fillmode": "overlay",
              "size": 10,
              "solidity": 0.2
             }
            },
            "type": "bar"
           }
          ],
          "barpolar": [
           {
            "marker": {
             "line": {
              "color": "#E5ECF6",
              "width": 0.5
             },
             "pattern": {
              "fillmode": "overlay",
              "size": 10,
              "solidity": 0.2
             }
            },
            "type": "barpolar"
           }
          ],
          "carpet": [
           {
            "aaxis": {
             "endlinecolor": "#2a3f5f",
             "gridcolor": "white",
             "linecolor": "white",
             "minorgridcolor": "white",
             "startlinecolor": "#2a3f5f"
            },
            "baxis": {
             "endlinecolor": "#2a3f5f",
             "gridcolor": "white",
             "linecolor": "white",
             "minorgridcolor": "white",
             "startlinecolor": "#2a3f5f"
            },
            "type": "carpet"
           }
          ],
          "choropleth": [
           {
            "colorbar": {
             "outlinewidth": 0,
             "ticks": ""
            },
            "type": "choropleth"
           }
          ],
          "contour": [
           {
            "colorbar": {
             "outlinewidth": 0,
             "ticks": ""
            },
            "colorscale": [
             [
              0,
              "#0d0887"
             ],
             [
              0.1111111111111111,
              "#46039f"
             ],
             [
              0.2222222222222222,
              "#7201a8"
             ],
             [
              0.3333333333333333,
              "#9c179e"
             ],
             [
              0.4444444444444444,
              "#bd3786"
             ],
             [
              0.5555555555555556,
              "#d8576b"
             ],
             [
              0.6666666666666666,
              "#ed7953"
             ],
             [
              0.7777777777777778,
              "#fb9f3a"
             ],
             [
              0.8888888888888888,
              "#fdca26"
             ],
             [
              1,
              "#f0f921"
             ]
            ],
            "type": "contour"
           }
          ],
          "contourcarpet": [
           {
            "colorbar": {
             "outlinewidth": 0,
             "ticks": ""
            },
            "type": "contourcarpet"
           }
          ],
          "heatmap": [
           {
            "colorbar": {
             "outlinewidth": 0,
             "ticks": ""
            },
            "colorscale": [
             [
              0,
              "#0d0887"
             ],
             [
              0.1111111111111111,
              "#46039f"
             ],
             [
              0.2222222222222222,
              "#7201a8"
             ],
             [
              0.3333333333333333,
              "#9c179e"
             ],
             [
              0.4444444444444444,
              "#bd3786"
             ],
             [
              0.5555555555555556,
              "#d8576b"
             ],
             [
              0.6666666666666666,
              "#ed7953"
             ],
             [
              0.7777777777777778,
              "#fb9f3a"
             ],
             [
              0.8888888888888888,
              "#fdca26"
             ],
             [
              1,
              "#f0f921"
             ]
            ],
            "type": "heatmap"
           }
          ],
          "heatmapgl": [
           {
            "colorbar": {
             "outlinewidth": 0,
             "ticks": ""
            },
            "colorscale": [
             [
              0,
              "#0d0887"
             ],
             [
              0.1111111111111111,
              "#46039f"
             ],
             [
              0.2222222222222222,
              "#7201a8"
             ],
             [
              0.3333333333333333,
              "#9c179e"
             ],
             [
              0.4444444444444444,
              "#bd3786"
             ],
             [
              0.5555555555555556,
              "#d8576b"
             ],
             [
              0.6666666666666666,
              "#ed7953"
             ],
             [
              0.7777777777777778,
              "#fb9f3a"
             ],
             [
              0.8888888888888888,
              "#fdca26"
             ],
             [
              1,
              "#f0f921"
             ]
            ],
            "type": "heatmapgl"
           }
          ],
          "histogram": [
           {
            "marker": {
             "pattern": {
              "fillmode": "overlay",
              "size": 10,
              "solidity": 0.2
             }
            },
            "type": "histogram"
           }
          ],
          "histogram2d": [
           {
            "colorbar": {
             "outlinewidth": 0,
             "ticks": ""
            },
            "colorscale": [
             [
              0,
              "#0d0887"
             ],
             [
              0.1111111111111111,
              "#46039f"
             ],
             [
              0.2222222222222222,
              "#7201a8"
             ],
             [
              0.3333333333333333,
              "#9c179e"
             ],
             [
              0.4444444444444444,
              "#bd3786"
             ],
             [
              0.5555555555555556,
              "#d8576b"
             ],
             [
              0.6666666666666666,
              "#ed7953"
             ],
             [
              0.7777777777777778,
              "#fb9f3a"
             ],
             [
              0.8888888888888888,
              "#fdca26"
             ],
             [
              1,
              "#f0f921"
             ]
            ],
            "type": "histogram2d"
           }
          ],
          "histogram2dcontour": [
           {
            "colorbar": {
             "outlinewidth": 0,
             "ticks": ""
            },
            "colorscale": [
             [
              0,
              "#0d0887"
             ],
             [
              0.1111111111111111,
              "#46039f"
             ],
             [
              0.2222222222222222,
              "#7201a8"
             ],
             [
              0.3333333333333333,
              "#9c179e"
             ],
             [
              0.4444444444444444,
              "#bd3786"
             ],
             [
              0.5555555555555556,
              "#d8576b"
             ],
             [
              0.6666666666666666,
              "#ed7953"
             ],
             [
              0.7777777777777778,
              "#fb9f3a"
             ],
             [
              0.8888888888888888,
              "#fdca26"
             ],
             [
              1,
              "#f0f921"
             ]
            ],
            "type": "histogram2dcontour"
           }
          ],
          "mesh3d": [
           {
            "colorbar": {
             "outlinewidth": 0,
             "ticks": ""
            },
            "type": "mesh3d"
           }
          ],
          "parcoords": [
           {
            "line": {
             "colorbar": {
              "outlinewidth": 0,
              "ticks": ""
             }
            },
            "type": "parcoords"
           }
          ],
          "pie": [
           {
            "automargin": true,
            "type": "pie"
           }
          ],
          "scatter": [
           {
            "fillpattern": {
             "fillmode": "overlay",
             "size": 10,
             "solidity": 0.2
            },
            "type": "scatter"
           }
          ],
          "scatter3d": [
           {
            "line": {
             "colorbar": {
              "outlinewidth": 0,
              "ticks": ""
             }
            },
            "marker": {
             "colorbar": {
              "outlinewidth": 0,
              "ticks": ""
             }
            },
            "type": "scatter3d"
           }
          ],
          "scattercarpet": [
           {
            "marker": {
             "colorbar": {
              "outlinewidth": 0,
              "ticks": ""
             }
            },
            "type": "scattercarpet"
           }
          ],
          "scattergeo": [
           {
            "marker": {
             "colorbar": {
              "outlinewidth": 0,
              "ticks": ""
             }
            },
            "type": "scattergeo"
           }
          ],
          "scattergl": [
           {
            "marker": {
             "colorbar": {
              "outlinewidth": 0,
              "ticks": ""
             }
            },
            "type": "scattergl"
           }
          ],
          "scattermapbox": [
           {
            "marker": {
             "colorbar": {
              "outlinewidth": 0,
              "ticks": ""
             }
            },
            "type": "scattermapbox"
           }
          ],
          "scatterpolar": [
           {
            "marker": {
             "colorbar": {
              "outlinewidth": 0,
              "ticks": ""
             }
            },
            "type": "scatterpolar"
           }
          ],
          "scatterpolargl": [
           {
            "marker": {
             "colorbar": {
              "outlinewidth": 0,
              "ticks": ""
             }
            },
            "type": "scatterpolargl"
           }
          ],
          "scatterternary": [
           {
            "marker": {
             "colorbar": {
              "outlinewidth": 0,
              "ticks": ""
             }
            },
            "type": "scatterternary"
           }
          ],
          "surface": [
           {
            "colorbar": {
             "outlinewidth": 0,
             "ticks": ""
            },
            "colorscale": [
             [
              0,
              "#0d0887"
             ],
             [
              0.1111111111111111,
              "#46039f"
             ],
             [
              0.2222222222222222,
              "#7201a8"
             ],
             [
              0.3333333333333333,
              "#9c179e"
             ],
             [
              0.4444444444444444,
              "#bd3786"
             ],
             [
              0.5555555555555556,
              "#d8576b"
             ],
             [
              0.6666666666666666,
              "#ed7953"
             ],
             [
              0.7777777777777778,
              "#fb9f3a"
             ],
             [
              0.8888888888888888,
              "#fdca26"
             ],
             [
              1,
              "#f0f921"
             ]
            ],
            "type": "surface"
           }
          ],
          "table": [
           {
            "cells": {
             "fill": {
              "color": "#EBF0F8"
             },
             "line": {
              "color": "white"
             }
            },
            "header": {
             "fill": {
              "color": "#C8D4E3"
             },
             "line": {
              "color": "white"
             }
            },
            "type": "table"
           }
          ]
         },
         "layout": {
          "annotationdefaults": {
           "arrowcolor": "#2a3f5f",
           "arrowhead": 0,
           "arrowwidth": 1
          },
          "autotypenumbers": "strict",
          "coloraxis": {
           "colorbar": {
            "outlinewidth": 0,
            "ticks": ""
           }
          },
          "colorscale": {
           "diverging": [
            [
             0,
             "#8e0152"
            ],
            [
             0.1,
             "#c51b7d"
            ],
            [
             0.2,
             "#de77ae"
            ],
            [
             0.3,
             "#f1b6da"
            ],
            [
             0.4,
             "#fde0ef"
            ],
            [
             0.5,
             "#f7f7f7"
            ],
            [
             0.6,
             "#e6f5d0"
            ],
            [
             0.7,
             "#b8e186"
            ],
            [
             0.8,
             "#7fbc41"
            ],
            [
             0.9,
             "#4d9221"
            ],
            [
             1,
             "#276419"
            ]
           ],
           "sequential": [
            [
             0,
             "#0d0887"
            ],
            [
             0.1111111111111111,
             "#46039f"
            ],
            [
             0.2222222222222222,
             "#7201a8"
            ],
            [
             0.3333333333333333,
             "#9c179e"
            ],
            [
             0.4444444444444444,
             "#bd3786"
            ],
            [
             0.5555555555555556,
             "#d8576b"
            ],
            [
             0.6666666666666666,
             "#ed7953"
            ],
            [
             0.7777777777777778,
             "#fb9f3a"
            ],
            [
             0.8888888888888888,
             "#fdca26"
            ],
            [
             1,
             "#f0f921"
            ]
           ],
           "sequentialminus": [
            [
             0,
             "#0d0887"
            ],
            [
             0.1111111111111111,
             "#46039f"
            ],
            [
             0.2222222222222222,
             "#7201a8"
            ],
            [
             0.3333333333333333,
             "#9c179e"
            ],
            [
             0.4444444444444444,
             "#bd3786"
            ],
            [
             0.5555555555555556,
             "#d8576b"
            ],
            [
             0.6666666666666666,
             "#ed7953"
            ],
            [
             0.7777777777777778,
             "#fb9f3a"
            ],
            [
             0.8888888888888888,
             "#fdca26"
            ],
            [
             1,
             "#f0f921"
            ]
           ]
          },
          "colorway": [
           "#636efa",
           "#EF553B",
           "#00cc96",
           "#ab63fa",
           "#FFA15A",
           "#19d3f3",
           "#FF6692",
           "#B6E880",
           "#FF97FF",
           "#FECB52"
          ],
          "font": {
           "color": "#2a3f5f"
          },
          "geo": {
           "bgcolor": "white",
           "lakecolor": "white",
           "landcolor": "#E5ECF6",
           "showlakes": true,
           "showland": true,
           "subunitcolor": "white"
          },
          "hoverlabel": {
           "align": "left"
          },
          "hovermode": "closest",
          "mapbox": {
           "style": "light"
          },
          "paper_bgcolor": "white",
          "plot_bgcolor": "#E5ECF6",
          "polar": {
           "angularaxis": {
            "gridcolor": "white",
            "linecolor": "white",
            "ticks": ""
           },
           "bgcolor": "#E5ECF6",
           "radialaxis": {
            "gridcolor": "white",
            "linecolor": "white",
            "ticks": ""
           }
          },
          "scene": {
           "xaxis": {
            "backgroundcolor": "#E5ECF6",
            "gridcolor": "white",
            "gridwidth": 2,
            "linecolor": "white",
            "showbackground": true,
            "ticks": "",
            "zerolinecolor": "white"
           },
           "yaxis": {
            "backgroundcolor": "#E5ECF6",
            "gridcolor": "white",
            "gridwidth": 2,
            "linecolor": "white",
            "showbackground": true,
            "ticks": "",
            "zerolinecolor": "white"
           },
           "zaxis": {
            "backgroundcolor": "#E5ECF6",
            "gridcolor": "white",
            "gridwidth": 2,
            "linecolor": "white",
            "showbackground": true,
            "ticks": "",
            "zerolinecolor": "white"
           }
          },
          "shapedefaults": {
           "line": {
            "color": "#2a3f5f"
           }
          },
          "ternary": {
           "aaxis": {
            "gridcolor": "white",
            "linecolor": "white",
            "ticks": ""
           },
           "baxis": {
            "gridcolor": "white",
            "linecolor": "white",
            "ticks": ""
           },
           "bgcolor": "#E5ECF6",
           "caxis": {
            "gridcolor": "white",
            "linecolor": "white",
            "ticks": ""
           }
          },
          "title": {
           "x": 0.05
          },
          "xaxis": {
           "automargin": true,
           "gridcolor": "white",
           "linecolor": "white",
           "ticks": "",
           "title": {
            "standoff": 15
           },
           "zerolinecolor": "white",
           "zerolinewidth": 2
          },
          "yaxis": {
           "automargin": true,
           "gridcolor": "white",
           "linecolor": "white",
           "ticks": "",
           "title": {
            "standoff": 15
           },
           "zerolinecolor": "white",
           "zerolinewidth": 2
          }
         }
        },
        "title": {
         "font": {
          "color": "#0e78a3",
          "family": "Gotham",
          "size": 25
         },
         "text": "Salários por ano de nascimento"
        },
        "xaxis": {
         "title": {
          "text": "Ano de Nascimento"
         }
        },
        "yaxis": {
         "title": {
          "text": "Salário"
         }
        }
       }
      }
     },
     "metadata": {},
     "output_type": "display_data"
    }
   ],
   "source": [
    "# Criando gráfico com o graph_obs\n",
    "\n",
    "scatter = go.Scatter( x = df.Year_Birth, y = df.Income, mode= 'markers',\n",
    "                     #configurações do marker\n",
    "                     marker = { 'color': '#000053'}, opacity = 0.5, hovertemplate = 'Salário: U$ %{y}')\n",
    "\n",
    "# Definindo o Layout\n",
    "layout = go.Layout(title = 'Salários por ano de nascimento',\n",
    "                   # Configurações do título\n",
    "                   title_font = { 'family': 'Gotham', 'size':25, 'color': '#0e78a3'},\n",
    "                   xaxis= { 'title': 'Ano de Nascimento'},\n",
    "                   yaxis= {'title': 'Salário'})\n",
    "\n",
    "# Criando a Figura\n",
    "\n",
    "fig =  go.Figure( data = [scatter], layout = layout)\n",
    "\n",
    "# Plotando o Gráfico\n",
    "py.iplot(fig)"
   ]
  },
  {
   "cell_type": "markdown",
   "metadata": {},
   "source": [
    "### Gráfico de Barras ###"
   ]
  },
  {
   "cell_type": "code",
   "execution_count": 9,
   "metadata": {},
   "outputs": [
    {
     "data": {
      "application/vnd.plotly.v1+json": {
       "config": {
        "linkText": "Export to plot.ly",
        "plotlyServerURL": "https://plot.ly",
        "showLink": false
       },
       "data": [
        {
         "marker": {
          "color": "#ff9f43"
         },
         "type": "bar",
         "x": [
          "Basic",
          "2n Cycle",
          "Master",
          "PhD",
          "Graduation"
         ],
         "y": [
          54,
          203,
          370,
          486,
          1127
         ]
        }
       ],
       "layout": {
        "template": {
         "data": {
          "bar": [
           {
            "error_x": {
             "color": "#2a3f5f"
            },
            "error_y": {
             "color": "#2a3f5f"
            },
            "marker": {
             "line": {
              "color": "#E5ECF6",
              "width": 0.5
             },
             "pattern": {
              "fillmode": "overlay",
              "size": 10,
              "solidity": 0.2
             }
            },
            "type": "bar"
           }
          ],
          "barpolar": [
           {
            "marker": {
             "line": {
              "color": "#E5ECF6",
              "width": 0.5
             },
             "pattern": {
              "fillmode": "overlay",
              "size": 10,
              "solidity": 0.2
             }
            },
            "type": "barpolar"
           }
          ],
          "carpet": [
           {
            "aaxis": {
             "endlinecolor": "#2a3f5f",
             "gridcolor": "white",
             "linecolor": "white",
             "minorgridcolor": "white",
             "startlinecolor": "#2a3f5f"
            },
            "baxis": {
             "endlinecolor": "#2a3f5f",
             "gridcolor": "white",
             "linecolor": "white",
             "minorgridcolor": "white",
             "startlinecolor": "#2a3f5f"
            },
            "type": "carpet"
           }
          ],
          "choropleth": [
           {
            "colorbar": {
             "outlinewidth": 0,
             "ticks": ""
            },
            "type": "choropleth"
           }
          ],
          "contour": [
           {
            "colorbar": {
             "outlinewidth": 0,
             "ticks": ""
            },
            "colorscale": [
             [
              0,
              "#0d0887"
             ],
             [
              0.1111111111111111,
              "#46039f"
             ],
             [
              0.2222222222222222,
              "#7201a8"
             ],
             [
              0.3333333333333333,
              "#9c179e"
             ],
             [
              0.4444444444444444,
              "#bd3786"
             ],
             [
              0.5555555555555556,
              "#d8576b"
             ],
             [
              0.6666666666666666,
              "#ed7953"
             ],
             [
              0.7777777777777778,
              "#fb9f3a"
             ],
             [
              0.8888888888888888,
              "#fdca26"
             ],
             [
              1,
              "#f0f921"
             ]
            ],
            "type": "contour"
           }
          ],
          "contourcarpet": [
           {
            "colorbar": {
             "outlinewidth": 0,
             "ticks": ""
            },
            "type": "contourcarpet"
           }
          ],
          "heatmap": [
           {
            "colorbar": {
             "outlinewidth": 0,
             "ticks": ""
            },
            "colorscale": [
             [
              0,
              "#0d0887"
             ],
             [
              0.1111111111111111,
              "#46039f"
             ],
             [
              0.2222222222222222,
              "#7201a8"
             ],
             [
              0.3333333333333333,
              "#9c179e"
             ],
             [
              0.4444444444444444,
              "#bd3786"
             ],
             [
              0.5555555555555556,
              "#d8576b"
             ],
             [
              0.6666666666666666,
              "#ed7953"
             ],
             [
              0.7777777777777778,
              "#fb9f3a"
             ],
             [
              0.8888888888888888,
              "#fdca26"
             ],
             [
              1,
              "#f0f921"
             ]
            ],
            "type": "heatmap"
           }
          ],
          "heatmapgl": [
           {
            "colorbar": {
             "outlinewidth": 0,
             "ticks": ""
            },
            "colorscale": [
             [
              0,
              "#0d0887"
             ],
             [
              0.1111111111111111,
              "#46039f"
             ],
             [
              0.2222222222222222,
              "#7201a8"
             ],
             [
              0.3333333333333333,
              "#9c179e"
             ],
             [
              0.4444444444444444,
              "#bd3786"
             ],
             [
              0.5555555555555556,
              "#d8576b"
             ],
             [
              0.6666666666666666,
              "#ed7953"
             ],
             [
              0.7777777777777778,
              "#fb9f3a"
             ],
             [
              0.8888888888888888,
              "#fdca26"
             ],
             [
              1,
              "#f0f921"
             ]
            ],
            "type": "heatmapgl"
           }
          ],
          "histogram": [
           {
            "marker": {
             "pattern": {
              "fillmode": "overlay",
              "size": 10,
              "solidity": 0.2
             }
            },
            "type": "histogram"
           }
          ],
          "histogram2d": [
           {
            "colorbar": {
             "outlinewidth": 0,
             "ticks": ""
            },
            "colorscale": [
             [
              0,
              "#0d0887"
             ],
             [
              0.1111111111111111,
              "#46039f"
             ],
             [
              0.2222222222222222,
              "#7201a8"
             ],
             [
              0.3333333333333333,
              "#9c179e"
             ],
             [
              0.4444444444444444,
              "#bd3786"
             ],
             [
              0.5555555555555556,
              "#d8576b"
             ],
             [
              0.6666666666666666,
              "#ed7953"
             ],
             [
              0.7777777777777778,
              "#fb9f3a"
             ],
             [
              0.8888888888888888,
              "#fdca26"
             ],
             [
              1,
              "#f0f921"
             ]
            ],
            "type": "histogram2d"
           }
          ],
          "histogram2dcontour": [
           {
            "colorbar": {
             "outlinewidth": 0,
             "ticks": ""
            },
            "colorscale": [
             [
              0,
              "#0d0887"
             ],
             [
              0.1111111111111111,
              "#46039f"
             ],
             [
              0.2222222222222222,
              "#7201a8"
             ],
             [
              0.3333333333333333,
              "#9c179e"
             ],
             [
              0.4444444444444444,
              "#bd3786"
             ],
             [
              0.5555555555555556,
              "#d8576b"
             ],
             [
              0.6666666666666666,
              "#ed7953"
             ],
             [
              0.7777777777777778,
              "#fb9f3a"
             ],
             [
              0.8888888888888888,
              "#fdca26"
             ],
             [
              1,
              "#f0f921"
             ]
            ],
            "type": "histogram2dcontour"
           }
          ],
          "mesh3d": [
           {
            "colorbar": {
             "outlinewidth": 0,
             "ticks": ""
            },
            "type": "mesh3d"
           }
          ],
          "parcoords": [
           {
            "line": {
             "colorbar": {
              "outlinewidth": 0,
              "ticks": ""
             }
            },
            "type": "parcoords"
           }
          ],
          "pie": [
           {
            "automargin": true,
            "type": "pie"
           }
          ],
          "scatter": [
           {
            "fillpattern": {
             "fillmode": "overlay",
             "size": 10,
             "solidity": 0.2
            },
            "type": "scatter"
           }
          ],
          "scatter3d": [
           {
            "line": {
             "colorbar": {
              "outlinewidth": 0,
              "ticks": ""
             }
            },
            "marker": {
             "colorbar": {
              "outlinewidth": 0,
              "ticks": ""
             }
            },
            "type": "scatter3d"
           }
          ],
          "scattercarpet": [
           {
            "marker": {
             "colorbar": {
              "outlinewidth": 0,
              "ticks": ""
             }
            },
            "type": "scattercarpet"
           }
          ],
          "scattergeo": [
           {
            "marker": {
             "colorbar": {
              "outlinewidth": 0,
              "ticks": ""
             }
            },
            "type": "scattergeo"
           }
          ],
          "scattergl": [
           {
            "marker": {
             "colorbar": {
              "outlinewidth": 0,
              "ticks": ""
             }
            },
            "type": "scattergl"
           }
          ],
          "scattermapbox": [
           {
            "marker": {
             "colorbar": {
              "outlinewidth": 0,
              "ticks": ""
             }
            },
            "type": "scattermapbox"
           }
          ],
          "scatterpolar": [
           {
            "marker": {
             "colorbar": {
              "outlinewidth": 0,
              "ticks": ""
             }
            },
            "type": "scatterpolar"
           }
          ],
          "scatterpolargl": [
           {
            "marker": {
             "colorbar": {
              "outlinewidth": 0,
              "ticks": ""
             }
            },
            "type": "scatterpolargl"
           }
          ],
          "scatterternary": [
           {
            "marker": {
             "colorbar": {
              "outlinewidth": 0,
              "ticks": ""
             }
            },
            "type": "scatterternary"
           }
          ],
          "surface": [
           {
            "colorbar": {
             "outlinewidth": 0,
             "ticks": ""
            },
            "colorscale": [
             [
              0,
              "#0d0887"
             ],
             [
              0.1111111111111111,
              "#46039f"
             ],
             [
              0.2222222222222222,
              "#7201a8"
             ],
             [
              0.3333333333333333,
              "#9c179e"
             ],
             [
              0.4444444444444444,
              "#bd3786"
             ],
             [
              0.5555555555555556,
              "#d8576b"
             ],
             [
              0.6666666666666666,
              "#ed7953"
             ],
             [
              0.7777777777777778,
              "#fb9f3a"
             ],
             [
              0.8888888888888888,
              "#fdca26"
             ],
             [
              1,
              "#f0f921"
             ]
            ],
            "type": "surface"
           }
          ],
          "table": [
           {
            "cells": {
             "fill": {
              "color": "#EBF0F8"
             },
             "line": {
              "color": "white"
             }
            },
            "header": {
             "fill": {
              "color": "#C8D4E3"
             },
             "line": {
              "color": "white"
             }
            },
            "type": "table"
           }
          ]
         },
         "layout": {
          "annotationdefaults": {
           "arrowcolor": "#2a3f5f",
           "arrowhead": 0,
           "arrowwidth": 1
          },
          "autotypenumbers": "strict",
          "coloraxis": {
           "colorbar": {
            "outlinewidth": 0,
            "ticks": ""
           }
          },
          "colorscale": {
           "diverging": [
            [
             0,
             "#8e0152"
            ],
            [
             0.1,
             "#c51b7d"
            ],
            [
             0.2,
             "#de77ae"
            ],
            [
             0.3,
             "#f1b6da"
            ],
            [
             0.4,
             "#fde0ef"
            ],
            [
             0.5,
             "#f7f7f7"
            ],
            [
             0.6,
             "#e6f5d0"
            ],
            [
             0.7,
             "#b8e186"
            ],
            [
             0.8,
             "#7fbc41"
            ],
            [
             0.9,
             "#4d9221"
            ],
            [
             1,
             "#276419"
            ]
           ],
           "sequential": [
            [
             0,
             "#0d0887"
            ],
            [
             0.1111111111111111,
             "#46039f"
            ],
            [
             0.2222222222222222,
             "#7201a8"
            ],
            [
             0.3333333333333333,
             "#9c179e"
            ],
            [
             0.4444444444444444,
             "#bd3786"
            ],
            [
             0.5555555555555556,
             "#d8576b"
            ],
            [
             0.6666666666666666,
             "#ed7953"
            ],
            [
             0.7777777777777778,
             "#fb9f3a"
            ],
            [
             0.8888888888888888,
             "#fdca26"
            ],
            [
             1,
             "#f0f921"
            ]
           ],
           "sequentialminus": [
            [
             0,
             "#0d0887"
            ],
            [
             0.1111111111111111,
             "#46039f"
            ],
            [
             0.2222222222222222,
             "#7201a8"
            ],
            [
             0.3333333333333333,
             "#9c179e"
            ],
            [
             0.4444444444444444,
             "#bd3786"
            ],
            [
             0.5555555555555556,
             "#d8576b"
            ],
            [
             0.6666666666666666,
             "#ed7953"
            ],
            [
             0.7777777777777778,
             "#fb9f3a"
            ],
            [
             0.8888888888888888,
             "#fdca26"
            ],
            [
             1,
             "#f0f921"
            ]
           ]
          },
          "colorway": [
           "#636efa",
           "#EF553B",
           "#00cc96",
           "#ab63fa",
           "#FFA15A",
           "#19d3f3",
           "#FF6692",
           "#B6E880",
           "#FF97FF",
           "#FECB52"
          ],
          "font": {
           "color": "#2a3f5f"
          },
          "geo": {
           "bgcolor": "white",
           "lakecolor": "white",
           "landcolor": "#E5ECF6",
           "showlakes": true,
           "showland": true,
           "subunitcolor": "white"
          },
          "hoverlabel": {
           "align": "left"
          },
          "hovermode": "closest",
          "mapbox": {
           "style": "light"
          },
          "paper_bgcolor": "white",
          "plot_bgcolor": "#E5ECF6",
          "polar": {
           "angularaxis": {
            "gridcolor": "white",
            "linecolor": "white",
            "ticks": ""
           },
           "bgcolor": "#E5ECF6",
           "radialaxis": {
            "gridcolor": "white",
            "linecolor": "white",
            "ticks": ""
           }
          },
          "scene": {
           "xaxis": {
            "backgroundcolor": "#E5ECF6",
            "gridcolor": "white",
            "gridwidth": 2,
            "linecolor": "white",
            "showbackground": true,
            "ticks": "",
            "zerolinecolor": "white"
           },
           "yaxis": {
            "backgroundcolor": "#E5ECF6",
            "gridcolor": "white",
            "gridwidth": 2,
            "linecolor": "white",
            "showbackground": true,
            "ticks": "",
            "zerolinecolor": "white"
           },
           "zaxis": {
            "backgroundcolor": "#E5ECF6",
            "gridcolor": "white",
            "gridwidth": 2,
            "linecolor": "white",
            "showbackground": true,
            "ticks": "",
            "zerolinecolor": "white"
           }
          },
          "shapedefaults": {
           "line": {
            "color": "#2a3f5f"
           }
          },
          "ternary": {
           "aaxis": {
            "gridcolor": "white",
            "linecolor": "white",
            "ticks": ""
           },
           "baxis": {
            "gridcolor": "white",
            "linecolor": "white",
            "ticks": ""
           },
           "bgcolor": "#E5ECF6",
           "caxis": {
            "gridcolor": "white",
            "linecolor": "white",
            "ticks": ""
           }
          },
          "title": {
           "x": 0.05
          },
          "xaxis": {
           "automargin": true,
           "gridcolor": "white",
           "linecolor": "white",
           "ticks": "",
           "title": {
            "standoff": 15
           },
           "zerolinecolor": "white",
           "zerolinewidth": 2
          },
          "yaxis": {
           "automargin": true,
           "gridcolor": "white",
           "linecolor": "white",
           "ticks": "",
           "title": {
            "standoff": 15
           },
           "zerolinecolor": "white",
           "zerolinewidth": 2
          }
         }
        },
        "title": {
         "font": {
          "color": "#0e78a3",
          "family": "Gotham",
          "size": 25
         },
         "text": "Quantidade de pessoas por nível educacional"
        },
        "xaxis": {
         "title": {
          "text": "Nivel Educacional"
         }
        },
        "yaxis": {
         "title": {
          "text": "Quantidade de pessoas"
         }
        }
       }
      }
     },
     "metadata": {},
     "output_type": "display_data"
    }
   ],
   "source": [
    "# Definindo as variáveis\n",
    "educational_level = df['Education'].value_counts().sort_values( ascending = True ).index\n",
    "\n",
    "quantity= df['Education'].value_counts().sort_values( ascending = True ).values\n",
    "\n",
    "# Criando o Gráfico com Graph_Objs\n",
    "barra= go.Bar( x= educational_level,\n",
    "              y = quantity,\n",
    "              marker = {'color' : '#ff9f43'})\n",
    "\n",
    "# Definindo o Layout\n",
    "\n",
    "layout = go.Layout(title = 'Quantidade de pessoas por nível educacional',\n",
    "                   # configurações do título\n",
    "                   title_font = { 'family': 'Gotham', 'size': 25, 'color' : \"#0e78a3\"},\n",
    "                   xaxis = { 'title' : 'Nivel Educacional'},\n",
    "                   yaxis = { 'title' : 'Quantidade de pessoas'})\n",
    "\n",
    "# criando a figura\n",
    "fig = go.Figure( data = [barra], layout = layout)\n",
    "\n",
    "# plotando o gráfico\n",
    "\n",
    "py.iplot(fig)"
   ]
  },
  {
   "cell_type": "markdown",
   "metadata": {},
   "source": [
    "## Gráfico com duas Barras ##\n"
   ]
  },
  {
   "cell_type": "code",
   "execution_count": 18,
   "metadata": {},
   "outputs": [],
   "source": [
    "# Definindo as variáveis - Solteiros\n",
    "educational_level_single = (\n",
    "df [ df[ 'Marital_Status'] == ' Single']\n",
    "[ 'Education'].value_counts(1).sort_values( ascending = True).index\n",
    ")\n",
    "\n",
    "quantity_single = (\n",
    "df [ df [ 'Marital_Status'] == 'Single']\n",
    "[ 'Education'].value_counts(1).sort_values( ascending = True).values\n",
    ")\n",
    "\n",
    "# Definindo as variáveis - Não Solteiros\n",
    "educational_level_notsingle = ( \n",
    "df [ df[ 'Marital_Status'] != 'Single']\n",
    "[ 'Education' ].value_counts(1).sort_values ( ascending = True ). index\n",
    ")\n",
    "\n",
    "quantity_notsingle = (\n",
    "df [ df[ 'Marital_Status'] != 'Single']\n",
    "[ 'Education'].value_counts(1).sort_values( ascending = True).values\n",
    ")"
   ]
  },
  {
   "cell_type": "markdown",
   "metadata": {},
   "source": [
    "criando o gráfico"
   ]
  },
  {
   "cell_type": "code",
   "execution_count": 33,
   "metadata": {},
   "outputs": [
    {
     "data": {
      "application/vnd.plotly.v1+json": {
       "config": {
        "linkText": "Export to plot.ly",
        "plotlyServerURL": "https://plot.ly",
        "showLink": false
       },
       "data": [
        {
         "hovertemplate": "Porcentagem: %{y: .3f}%",
         "marker": {
          "color": "#ff9f43"
         },
         "name": "Solteiros",
         "type": "bar",
         "x": [],
         "y": [
          0.0375,
          0.07708333333333334,
          0.15625,
          0.20416666666666666,
          0.525
         ]
        },
        {
         "hovertemplate": "Porcentagem: %{y: .3f}%",
         "marker": {
          "color": "#feca57"
         },
         "name": " Não solteiros",
         "type": "bar",
         "x": [
          "Basic",
          "2n Cycle",
          "Master",
          "PhD",
          "Graduation"
         ],
         "y": [
          0.020454545454545454,
          0.09431818181818181,
          0.16761363636363635,
          0.22045454545454546,
          0.4971590909090909
         ]
        }
       ],
       "layout": {
        "template": {
         "data": {
          "bar": [
           {
            "error_x": {
             "color": "#2a3f5f"
            },
            "error_y": {
             "color": "#2a3f5f"
            },
            "marker": {
             "line": {
              "color": "#E5ECF6",
              "width": 0.5
             },
             "pattern": {
              "fillmode": "overlay",
              "size": 10,
              "solidity": 0.2
             }
            },
            "type": "bar"
           }
          ],
          "barpolar": [
           {
            "marker": {
             "line": {
              "color": "#E5ECF6",
              "width": 0.5
             },
             "pattern": {
              "fillmode": "overlay",
              "size": 10,
              "solidity": 0.2
             }
            },
            "type": "barpolar"
           }
          ],
          "carpet": [
           {
            "aaxis": {
             "endlinecolor": "#2a3f5f",
             "gridcolor": "white",
             "linecolor": "white",
             "minorgridcolor": "white",
             "startlinecolor": "#2a3f5f"
            },
            "baxis": {
             "endlinecolor": "#2a3f5f",
             "gridcolor": "white",
             "linecolor": "white",
             "minorgridcolor": "white",
             "startlinecolor": "#2a3f5f"
            },
            "type": "carpet"
           }
          ],
          "choropleth": [
           {
            "colorbar": {
             "outlinewidth": 0,
             "ticks": ""
            },
            "type": "choropleth"
           }
          ],
          "contour": [
           {
            "colorbar": {
             "outlinewidth": 0,
             "ticks": ""
            },
            "colorscale": [
             [
              0,
              "#0d0887"
             ],
             [
              0.1111111111111111,
              "#46039f"
             ],
             [
              0.2222222222222222,
              "#7201a8"
             ],
             [
              0.3333333333333333,
              "#9c179e"
             ],
             [
              0.4444444444444444,
              "#bd3786"
             ],
             [
              0.5555555555555556,
              "#d8576b"
             ],
             [
              0.6666666666666666,
              "#ed7953"
             ],
             [
              0.7777777777777778,
              "#fb9f3a"
             ],
             [
              0.8888888888888888,
              "#fdca26"
             ],
             [
              1,
              "#f0f921"
             ]
            ],
            "type": "contour"
           }
          ],
          "contourcarpet": [
           {
            "colorbar": {
             "outlinewidth": 0,
             "ticks": ""
            },
            "type": "contourcarpet"
           }
          ],
          "heatmap": [
           {
            "colorbar": {
             "outlinewidth": 0,
             "ticks": ""
            },
            "colorscale": [
             [
              0,
              "#0d0887"
             ],
             [
              0.1111111111111111,
              "#46039f"
             ],
             [
              0.2222222222222222,
              "#7201a8"
             ],
             [
              0.3333333333333333,
              "#9c179e"
             ],
             [
              0.4444444444444444,
              "#bd3786"
             ],
             [
              0.5555555555555556,
              "#d8576b"
             ],
             [
              0.6666666666666666,
              "#ed7953"
             ],
             [
              0.7777777777777778,
              "#fb9f3a"
             ],
             [
              0.8888888888888888,
              "#fdca26"
             ],
             [
              1,
              "#f0f921"
             ]
            ],
            "type": "heatmap"
           }
          ],
          "heatmapgl": [
           {
            "colorbar": {
             "outlinewidth": 0,
             "ticks": ""
            },
            "colorscale": [
             [
              0,
              "#0d0887"
             ],
             [
              0.1111111111111111,
              "#46039f"
             ],
             [
              0.2222222222222222,
              "#7201a8"
             ],
             [
              0.3333333333333333,
              "#9c179e"
             ],
             [
              0.4444444444444444,
              "#bd3786"
             ],
             [
              0.5555555555555556,
              "#d8576b"
             ],
             [
              0.6666666666666666,
              "#ed7953"
             ],
             [
              0.7777777777777778,
              "#fb9f3a"
             ],
             [
              0.8888888888888888,
              "#fdca26"
             ],
             [
              1,
              "#f0f921"
             ]
            ],
            "type": "heatmapgl"
           }
          ],
          "histogram": [
           {
            "marker": {
             "pattern": {
              "fillmode": "overlay",
              "size": 10,
              "solidity": 0.2
             }
            },
            "type": "histogram"
           }
          ],
          "histogram2d": [
           {
            "colorbar": {
             "outlinewidth": 0,
             "ticks": ""
            },
            "colorscale": [
             [
              0,
              "#0d0887"
             ],
             [
              0.1111111111111111,
              "#46039f"
             ],
             [
              0.2222222222222222,
              "#7201a8"
             ],
             [
              0.3333333333333333,
              "#9c179e"
             ],
             [
              0.4444444444444444,
              "#bd3786"
             ],
             [
              0.5555555555555556,
              "#d8576b"
             ],
             [
              0.6666666666666666,
              "#ed7953"
             ],
             [
              0.7777777777777778,
              "#fb9f3a"
             ],
             [
              0.8888888888888888,
              "#fdca26"
             ],
             [
              1,
              "#f0f921"
             ]
            ],
            "type": "histogram2d"
           }
          ],
          "histogram2dcontour": [
           {
            "colorbar": {
             "outlinewidth": 0,
             "ticks": ""
            },
            "colorscale": [
             [
              0,
              "#0d0887"
             ],
             [
              0.1111111111111111,
              "#46039f"
             ],
             [
              0.2222222222222222,
              "#7201a8"
             ],
             [
              0.3333333333333333,
              "#9c179e"
             ],
             [
              0.4444444444444444,
              "#bd3786"
             ],
             [
              0.5555555555555556,
              "#d8576b"
             ],
             [
              0.6666666666666666,
              "#ed7953"
             ],
             [
              0.7777777777777778,
              "#fb9f3a"
             ],
             [
              0.8888888888888888,
              "#fdca26"
             ],
             [
              1,
              "#f0f921"
             ]
            ],
            "type": "histogram2dcontour"
           }
          ],
          "mesh3d": [
           {
            "colorbar": {
             "outlinewidth": 0,
             "ticks": ""
            },
            "type": "mesh3d"
           }
          ],
          "parcoords": [
           {
            "line": {
             "colorbar": {
              "outlinewidth": 0,
              "ticks": ""
             }
            },
            "type": "parcoords"
           }
          ],
          "pie": [
           {
            "automargin": true,
            "type": "pie"
           }
          ],
          "scatter": [
           {
            "fillpattern": {
             "fillmode": "overlay",
             "size": 10,
             "solidity": 0.2
            },
            "type": "scatter"
           }
          ],
          "scatter3d": [
           {
            "line": {
             "colorbar": {
              "outlinewidth": 0,
              "ticks": ""
             }
            },
            "marker": {
             "colorbar": {
              "outlinewidth": 0,
              "ticks": ""
             }
            },
            "type": "scatter3d"
           }
          ],
          "scattercarpet": [
           {
            "marker": {
             "colorbar": {
              "outlinewidth": 0,
              "ticks": ""
             }
            },
            "type": "scattercarpet"
           }
          ],
          "scattergeo": [
           {
            "marker": {
             "colorbar": {
              "outlinewidth": 0,
              "ticks": ""
             }
            },
            "type": "scattergeo"
           }
          ],
          "scattergl": [
           {
            "marker": {
             "colorbar": {
              "outlinewidth": 0,
              "ticks": ""
             }
            },
            "type": "scattergl"
           }
          ],
          "scattermapbox": [
           {
            "marker": {
             "colorbar": {
              "outlinewidth": 0,
              "ticks": ""
             }
            },
            "type": "scattermapbox"
           }
          ],
          "scatterpolar": [
           {
            "marker": {
             "colorbar": {
              "outlinewidth": 0,
              "ticks": ""
             }
            },
            "type": "scatterpolar"
           }
          ],
          "scatterpolargl": [
           {
            "marker": {
             "colorbar": {
              "outlinewidth": 0,
              "ticks": ""
             }
            },
            "type": "scatterpolargl"
           }
          ],
          "scatterternary": [
           {
            "marker": {
             "colorbar": {
              "outlinewidth": 0,
              "ticks": ""
             }
            },
            "type": "scatterternary"
           }
          ],
          "surface": [
           {
            "colorbar": {
             "outlinewidth": 0,
             "ticks": ""
            },
            "colorscale": [
             [
              0,
              "#0d0887"
             ],
             [
              0.1111111111111111,
              "#46039f"
             ],
             [
              0.2222222222222222,
              "#7201a8"
             ],
             [
              0.3333333333333333,
              "#9c179e"
             ],
             [
              0.4444444444444444,
              "#bd3786"
             ],
             [
              0.5555555555555556,
              "#d8576b"
             ],
             [
              0.6666666666666666,
              "#ed7953"
             ],
             [
              0.7777777777777778,
              "#fb9f3a"
             ],
             [
              0.8888888888888888,
              "#fdca26"
             ],
             [
              1,
              "#f0f921"
             ]
            ],
            "type": "surface"
           }
          ],
          "table": [
           {
            "cells": {
             "fill": {
              "color": "#EBF0F8"
             },
             "line": {
              "color": "white"
             }
            },
            "header": {
             "fill": {
              "color": "#C8D4E3"
             },
             "line": {
              "color": "white"
             }
            },
            "type": "table"
           }
          ]
         },
         "layout": {
          "annotationdefaults": {
           "arrowcolor": "#2a3f5f",
           "arrowhead": 0,
           "arrowwidth": 1
          },
          "autotypenumbers": "strict",
          "coloraxis": {
           "colorbar": {
            "outlinewidth": 0,
            "ticks": ""
           }
          },
          "colorscale": {
           "diverging": [
            [
             0,
             "#8e0152"
            ],
            [
             0.1,
             "#c51b7d"
            ],
            [
             0.2,
             "#de77ae"
            ],
            [
             0.3,
             "#f1b6da"
            ],
            [
             0.4,
             "#fde0ef"
            ],
            [
             0.5,
             "#f7f7f7"
            ],
            [
             0.6,
             "#e6f5d0"
            ],
            [
             0.7,
             "#b8e186"
            ],
            [
             0.8,
             "#7fbc41"
            ],
            [
             0.9,
             "#4d9221"
            ],
            [
             1,
             "#276419"
            ]
           ],
           "sequential": [
            [
             0,
             "#0d0887"
            ],
            [
             0.1111111111111111,
             "#46039f"
            ],
            [
             0.2222222222222222,
             "#7201a8"
            ],
            [
             0.3333333333333333,
             "#9c179e"
            ],
            [
             0.4444444444444444,
             "#bd3786"
            ],
            [
             0.5555555555555556,
             "#d8576b"
            ],
            [
             0.6666666666666666,
             "#ed7953"
            ],
            [
             0.7777777777777778,
             "#fb9f3a"
            ],
            [
             0.8888888888888888,
             "#fdca26"
            ],
            [
             1,
             "#f0f921"
            ]
           ],
           "sequentialminus": [
            [
             0,
             "#0d0887"
            ],
            [
             0.1111111111111111,
             "#46039f"
            ],
            [
             0.2222222222222222,
             "#7201a8"
            ],
            [
             0.3333333333333333,
             "#9c179e"
            ],
            [
             0.4444444444444444,
             "#bd3786"
            ],
            [
             0.5555555555555556,
             "#d8576b"
            ],
            [
             0.6666666666666666,
             "#ed7953"
            ],
            [
             0.7777777777777778,
             "#fb9f3a"
            ],
            [
             0.8888888888888888,
             "#fdca26"
            ],
            [
             1,
             "#f0f921"
            ]
           ]
          },
          "colorway": [
           "#636efa",
           "#EF553B",
           "#00cc96",
           "#ab63fa",
           "#FFA15A",
           "#19d3f3",
           "#FF6692",
           "#B6E880",
           "#FF97FF",
           "#FECB52"
          ],
          "font": {
           "color": "#2a3f5f"
          },
          "geo": {
           "bgcolor": "white",
           "lakecolor": "white",
           "landcolor": "#E5ECF6",
           "showlakes": true,
           "showland": true,
           "subunitcolor": "white"
          },
          "hoverlabel": {
           "align": "left"
          },
          "hovermode": "closest",
          "mapbox": {
           "style": "light"
          },
          "paper_bgcolor": "white",
          "plot_bgcolor": "#E5ECF6",
          "polar": {
           "angularaxis": {
            "gridcolor": "white",
            "linecolor": "white",
            "ticks": ""
           },
           "bgcolor": "#E5ECF6",
           "radialaxis": {
            "gridcolor": "white",
            "linecolor": "white",
            "ticks": ""
           }
          },
          "scene": {
           "xaxis": {
            "backgroundcolor": "#E5ECF6",
            "gridcolor": "white",
            "gridwidth": 2,
            "linecolor": "white",
            "showbackground": true,
            "ticks": "",
            "zerolinecolor": "white"
           },
           "yaxis": {
            "backgroundcolor": "#E5ECF6",
            "gridcolor": "white",
            "gridwidth": 2,
            "linecolor": "white",
            "showbackground": true,
            "ticks": "",
            "zerolinecolor": "white"
           },
           "zaxis": {
            "backgroundcolor": "#E5ECF6",
            "gridcolor": "white",
            "gridwidth": 2,
            "linecolor": "white",
            "showbackground": true,
            "ticks": "",
            "zerolinecolor": "white"
           }
          },
          "shapedefaults": {
           "line": {
            "color": "#2a3f5f"
           }
          },
          "ternary": {
           "aaxis": {
            "gridcolor": "white",
            "linecolor": "white",
            "ticks": ""
           },
           "baxis": {
            "gridcolor": "white",
            "linecolor": "white",
            "ticks": ""
           },
           "bgcolor": "#E5ECF6",
           "caxis": {
            "gridcolor": "white",
            "linecolor": "white",
            "ticks": ""
           }
          },
          "title": {
           "x": 0.05
          },
          "xaxis": {
           "automargin": true,
           "gridcolor": "white",
           "linecolor": "white",
           "ticks": "",
           "title": {
            "standoff": 15
           },
           "zerolinecolor": "white",
           "zerolinewidth": 2
          },
          "yaxis": {
           "automargin": true,
           "gridcolor": "white",
           "linecolor": "white",
           "ticks": "",
           "title": {
            "standoff": 15
           },
           "zerolinecolor": "white",
           "zerolinewidth": 2
          }
         }
        },
        "title": {
         "font": {
          "color": "#0e78a3",
          "family": "Gotham",
          "size": 25
         },
         "text": " Quantidade de pessoas por nível educacional"
        },
        "xaxis": {
         "title": {
          "text": "Nível Educacional"
         }
        },
        "yaxis": {
         "title": {
          "text": "Quantidade de pessoas (%)"
         }
        }
       }
      }
     },
     "metadata": {},
     "output_type": "display_data"
    }
   ],
   "source": [
    "# Criando o gráfico com o graph_objs - Single\n",
    "barra_single = go.Bar(\n",
    "    x = educational_level_single,\n",
    "    y = quantity_single,\n",
    "    marker = {'color': '#ff9f43'},\n",
    "    name = 'Solteiros',\n",
    "    hovertemplate= 'Porcentagem: %{y: .3f}%'\n",
    "    )\n",
    "\n",
    "#Criando o Gráfico com graph_objs - Not Single\n",
    "barra_notsingle = go.Bar(\n",
    "    x = educational_level_notsingle,\n",
    "    y = quantity_notsingle,\n",
    "    marker = {'color': '#feca57'},\n",
    "    name = ' Não solteiros',\n",
    "    hovertemplate = 'Porcentagem: %{y: .3f}%'\n",
    "    )\n",
    "\n",
    "# Definindo o Layout\n",
    "layout = go.Layout(\n",
    "    title = ' Quantidade de pessoas por nível educacional',\n",
    "    # Configurções de título\n",
    "    title_font = {'family': 'Gotham', 'size':25, 'color': '#0e78a3'},\n",
    "    xaxis = {'title' : 'Nível Educacional'},\n",
    "    yaxis = {'title': 'Quantidade de pessoas (%)'}\n",
    "    )\n",
    "              \n",
    "# Criando a Figura\n",
    "fig = go.Figure(data = [barra_single, barra_notsingle], layout = layout)\n",
    "\n",
    "# Plotando o gráfico\n",
    "py.iplot(fig)"
   ]
  },
  {
   "cell_type": "markdown",
   "metadata": {},
   "source": [
    "O inferno da barar de solteiros não apareceu no gráfico, é como se estivesse vázia. Mas assim, procurei solução, exercício não tem solução nem pelo chat gpt e gemini. bola pra frente, se no futuro quiser aprender um grafico de duas barras vou ter que aprender do zero novamente de novo mesmo. Bola pra frente!"
   ]
  },
  {
   "cell_type": "markdown",
   "metadata": {},
   "source": [
    "## boxplot ##"
   ]
  },
  {
   "cell_type": "markdown",
   "metadata": {},
   "source": [
    "Por fim, vamos falar sobre o Boxplot! Esse gráfico tão importante quando falamos de análise de outliers e da distribuição dos dados, no sentido de percentis.\n",
    "\n",
    "Para exemplificar, vamos utilizar a variável Income, que representa o salário das pessoas. Na verdade, vou plotar o boxplot do salário das pessoas por nível educacional!"
   ]
  },
  {
   "cell_type": "code",
   "execution_count": 41,
   "metadata": {},
   "outputs": [
    {
     "data": {
      "application/vnd.plotly.v1+json": {
       "config": {
        "linkText": "Export to plot.ly",
        "plotlyServerURL": "https://plot.ly",
        "showLink": false
       },
       "data": [
        {
         "marker": {
          "color": "#00CED1"
         },
         "name": "2n Cycle",
         "type": "box",
         "y": [
          33812,
          23718,
          7500,
          88194,
          null,
          26326,
          23559,
          78497,
          47823,
          36550,
          30753,
          71488,
          35688,
          46344,
          78497,
          16248,
          36640,
          52195,
          45204,
          81975,
          22212,
          60182,
          26490,
          32414,
          35388,
          58821,
          35684,
          35688,
          14515,
          31395,
          23616,
          19789,
          10404,
          67309,
          7500,
          20130,
          70829,
          89572,
          66664,
          28457,
          47682,
          57247,
          25315,
          24683,
          39548,
          15315,
          62466,
          38593,
          47821,
          26850,
          26224,
          36975,
          72635,
          62466,
          32218,
          26490,
          54690,
          36145,
          41039,
          87305,
          38702,
          17003,
          63564,
          63855,
          35523,
          46891,
          60161,
          25804,
          78353,
          25130,
          45889,
          82504,
          61618,
          82347,
          85710,
          38683,
          49514,
          42395,
          17117,
          51111,
          42607,
          74116,
          64831,
          57937,
          67893,
          15716,
          59052,
          46779,
          79689,
          24884,
          56337,
          70924,
          68316,
          31056,
          70924,
          25959,
          64176,
          26907,
          80910,
          54210,
          15315,
          65463,
          81698,
          47025,
          63998,
          49669,
          21282,
          48985,
          20130,
          45894,
          46891,
          59184,
          77297,
          62972,
          85485,
          49118,
          46831,
          43050,
          23148,
          74805,
          59060,
          46094,
          26887,
          52203,
          59601,
          50523,
          54342,
          null,
          26907,
          41658,
          65704,
          38741,
          31163,
          31086,
          20491,
          78041,
          69401,
          23162,
          19414,
          75484,
          31163,
          46772,
          20981,
          57036,
          53083,
          23331,
          23331,
          30390,
          37284,
          76800,
          51250,
          12393,
          66664,
          36301,
          75774,
          50334,
          41473,
          72635,
          20193,
          24336,
          42033,
          75342,
          31859,
          62905,
          13533,
          21955,
          65370,
          60839,
          82122,
          75774,
          58582,
          52513,
          62972,
          83257,
          11448,
          82326,
          23830,
          92556,
          31878,
          70932,
          34984,
          54690,
          32632,
          96547,
          67506,
          37284,
          7500,
          81044,
          87000,
          14796,
          27733,
          25176,
          53230,
          32146,
          41713,
          74859,
          65706,
          53233,
          82347,
          41769,
          80617,
          7500,
          null
         ]
        },
        {
         "marker": {
          "color": "#FF6F61"
         },
         "name": "Basic",
         "type": "box",
         "y": [
          58138,
          46344,
          71613,
          26646,
          55635,
          null,
          63033,
          17323,
          41850,
          37760,
          37040,
          2447,
          40689,
          18589,
          53359,
          null,
          38360,
          40548,
          42429,
          80011,
          21994,
          79941,
          41728,
          null,
          65486,
          35790,
          82582,
          66373,
          70287,
          27938,
          null,
          66653,
          61823,
          70666,
          25721,
          32474,
          69096,
          74854,
          65031,
          28332,
          40246,
          75825,
          56046,
          29760,
          26304,
          81361,
          29440,
          50388,
          79593,
          54178,
          null,
          30096,
          47916,
          51813,
          85693,
          87195,
          49096,
          52413,
          38557,
          77298,
          86037,
          50785,
          90765,
          21918,
          30992,
          101970,
          79607,
          62998,
          73448,
          null,
          86111,
          41883,
          59809,
          23957,
          38547,
          65747,
          34176,
          69372,
          49967,
          60199,
          55375,
          80317,
          23228,
          43482,
          62551,
          52332,
          66951,
          26091,
          33456,
          28718,
          50447,
          52074,
          38285,
          25271,
          61286,
          74068,
          38872,
          51148,
          31353,
          80067,
          86718,
          69142,
          75922,
          63693,
          29604,
          44794,
          64497,
          46097,
          77972,
          70951,
          41443,
          69508,
          72460,
          63887,
          42011,
          51369,
          51537,
          37070,
          38590,
          15033,
          7500,
          73455,
          64961,
          22804,
          73687,
          61074,
          80134,
          75027,
          29938,
          102692,
          75702,
          45989,
          18701,
          15287,
          80124,
          72940,
          22070,
          69267,
          29315,
          33378,
          60714,
          51369,
          37760,
          30631,
          75278,
          79946,
          38361,
          82497,
          16626,
          29672,
          68627,
          35246,
          39747,
          23976,
          27038,
          77457,
          12571,
          22574,
          null,
          54198,
          40321,
          66503,
          30833,
          null,
          64795,
          34421,
          40464,
          62187,
          27255,
          24072,
          22010,
          62204,
          75693,
          30675,
          83003,
          68655,
          41411,
          82623,
          44300,
          84835,
          30372,
          71113,
          71952,
          72099,
          38643,
          50737,
          78618,
          28442,
          51479,
          54803,
          79530,
          31615,
          72025,
          48178,
          63810,
          22585,
          30279,
          30822,
          19986,
          27421,
          10245,
          63381,
          38823,
          90300,
          74293,
          43824,
          15345,
          23442,
          75276,
          42373,
          30507,
          48006,
          50437,
          53858,
          46923,
          75072,
          80134,
          91065,
          30096,
          48686,
          92910,
          75433,
          61314,
          42387,
          75236,
          30015,
          67272,
          28691,
          18100,
          30279,
          23295,
          81246,
          24027,
          57959,
          56796,
          65991,
          38988,
          50300,
          60597,
          70165,
          80124,
          33183,
          31880,
          53790,
          61456,
          37406,
          38415,
          20518,
          62503,
          41124,
          32233,
          43057,
          60093,
          14045,
          46310,
          76005,
          55563,
          65275,
          27203,
          53653,
          65665,
          81217,
          34935,
          61250,
          60152,
          48920,
          36443,
          26095,
          71367,
          30630,
          42691,
          70503,
          25545,
          32880,
          61839,
          72679,
          65316,
          28567,
          44931,
          76982,
          43638,
          54058,
          85620,
          47850,
          19514,
          21474,
          22419,
          43462,
          79908,
          87771,
          33039,
          81741,
          66565,
          47691,
          38200,
          44989,
          51287,
          13260,
          40689,
          39453,
          79800,
          53863,
          24221,
          33178,
          23910,
          31089,
          30081,
          62807,
          72906,
          42429,
          26150,
          81168,
          22574,
          45837,
          54162,
          31632,
          72298,
          13624,
          84196,
          70971,
          28769,
          83917,
          46102,
          84574,
          56181,
          73691,
          63381,
          45906,
          105471,
          66886,
          29103,
          67445,
          49431,
          153924,
          61278,
          56253,
          19986,
          58330,
          18690,
          66731,
          77353,
          26751,
          70337,
          68118,
          68743,
          38946,
          65777,
          61209,
          34824,
          45938,
          78468,
          78901,
          71427,
          71022,
          71952,
          43185,
          25252,
          33249,
          58398,
          50272,
          25851,
          58710,
          45160,
          59111,
          72190,
          7500,
          44794,
          80395,
          89891,
          66373,
          89694,
          72025,
          67432,
          62882,
          82224,
          83844,
          71163,
          33697,
          58330,
          80952,
          75507,
          58512,
          79146,
          75127,
          48726,
          74985,
          67430,
          72063,
          42720,
          33622,
          41452,
          72258,
          36283,
          20587,
          30467,
          31590,
          40780,
          16813,
          51267,
          46524,
          73926,
          19329,
          46984,
          34838,
          48192,
          55267,
          59666,
          72504,
          26872,
          21359,
          73170,
          30772,
          22507,
          65685,
          22063,
          57091,
          22419,
          87771,
          93404,
          37859,
          16529,
          48789,
          35441,
          71391,
          81702,
          56628,
          34026,
          40049,
          34176,
          19419,
          81205,
          49980,
          15072,
          49166,
          60474,
          55357,
          37758,
          23228,
          7500,
          53172,
          30545,
          62450,
          21675,
          80812,
          39922,
          24762,
          35797,
          36627,
          42243,
          51195,
          31814,
          76630,
          64090,
          78331,
          21846,
          81320,
          54137,
          66825,
          57100,
          58917,
          85072,
          86429,
          45684,
          47889,
          75114,
          95529,
          62820,
          72354,
          83033,
          77583,
          74293,
          46107,
          75127,
          71796,
          55239,
          82025,
          94384,
          68274,
          39771,
          59754,
          53700,
          59041,
          70647,
          50183,
          54753,
          92955,
          33471,
          44010,
          84219,
          83715,
          35704,
          53103,
          4861,
          63693,
          80763,
          75759,
          85683,
          64449,
          64587,
          34824,
          75437,
          26091,
          52845,
          46086,
          22434,
          36130,
          83844,
          19514,
          77568,
          30168,
          54165,
          32300,
          20180,
          34961,
          17345,
          28647,
          74538,
          91700,
          68695,
          79593,
          28071,
          47703,
          61180,
          38998,
          8028,
          76081,
          34728,
          35196,
          44529,
          70596,
          42557,
          72228,
          67605,
          65196,
          16860,
          83528,
          22304,
          67023,
          70713,
          59925,
          39722,
          46610,
          88347,
          66294,
          36715,
          79456,
          40479,
          54233,
          24163,
          43776,
          71367,
          61825,
          79803,
          56775,
          83829,
          38508,
          53187,
          30023,
          66480,
          76773,
          71819,
          70566,
          48526,
          46734,
          39552,
          86358,
          46931,
          25930,
          42693,
          85606,
          72903,
          49678,
          37155,
          63285,
          42162,
          54450,
          26576,
          68142,
          7500,
          83145,
          46049,
          56715,
          79410,
          57304,
          44375,
          54450,
          59594,
          80685,
          62710,
          35322,
          77142,
          81657,
          54386,
          28510,
          48070,
          43140,
          26954,
          22327,
          44393,
          58401,
          62307,
          54809,
          58113,
          15287,
          18351,
          36317,
          42213,
          65748,
          77044,
          74918,
          56721,
          42160,
          61559,
          34377,
          26228,
          40211,
          22518,
          44421,
          41986,
          28427,
          64722,
          84906,
          28691,
          44213,
          76624,
          1730,
          40521,
          65106,
          67433,
          74716,
          68118,
          74190,
          39356,
          76653,
          31454,
          47139,
          83829,
          19656,
          55956,
          38808,
          66303,
          40800,
          71847,
          46149,
          78687,
          33986,
          52531,
          15759,
          22804,
          57811,
          78569,
          7500,
          94384,
          44267,
          71626,
          60894,
          50200,
          65169,
          59868,
          47009,
          40321,
          37235,
          77382,
          37774,
          24711,
          27244,
          48752,
          71434,
          90842,
          51948,
          71853,
          40049,
          39660,
          50127,
          18929,
          33249,
          62061,
          70515,
          18227,
          69139,
          69109,
          69627,
          38136,
          80695,
          58554,
          53034,
          47025,
          37971,
          67267,
          57338,
          48904,
          56243,
          21355,
          null,
          20895,
          92344,
          44964,
          75507,
          22682,
          39996,
          26759,
          60544,
          65685,
          37716,
          36864,
          57045,
          80134,
          80589,
          34412,
          57537,
          51315,
          36026,
          24639,
          63810,
          18690,
          28164,
          31907,
          92533,
          34853,
          70844,
          60544,
          42523,
          39922,
          33402,
          21645,
          82657,
          51876,
          52852,
          46053,
          77343,
          73892,
          68695,
          43300,
          26290,
          93790,
          57957,
          16531,
          50725,
          83844,
          67419,
          34380,
          34704,
          65148,
          39898,
          60474,
          62807,
          19107,
          76998,
          87679,
          57867,
          35765,
          65492,
          32952,
          71706,
          68487,
          42014,
          53977,
          84219,
          73538,
          79529,
          51766,
          55759,
          33039,
          27242,
          69930,
          37697,
          3502,
          58597,
          28087,
          19740,
          9255,
          31928,
          65819,
          51983,
          30983,
          66033,
          63943,
          76081,
          67445,
          31859,
          27215,
          39922,
          24645,
          79865,
          44322,
          47958,
          75315,
          38998,
          42014,
          45203,
          34935,
          34633,
          82460,
          81361,
          61482,
          34968,
          75794,
          74268,
          36108,
          76445,
          44512,
          27116,
          71855,
          68655,
          64509,
          33955,
          31353,
          55434,
          28359,
          57100,
          69139,
          18793,
          50664,
          54414,
          19444,
          22775,
          50002,
          69755,
          44078,
          56386,
          58684,
          57136,
          22448,
          82014,
          34213,
          157146,
          72066,
          34916,
          64892,
          43602,
          86610,
          69016,
          27573,
          33228,
          70440,
          38232,
          49413,
          42231,
          56534,
          58350,
          81217,
          49090,
          18222,
          62335,
          61064,
          18358,
          52117,
          64813,
          83512,
          41154,
          80398,
          35196,
          60230,
          22108,
          44392,
          17688,
          90273,
          42586,
          71107,
          18690,
          37244,
          82427,
          70044,
          79146,
          77437,
          54984,
          55761,
          37292,
          70321,
          81795,
          69901,
          44989,
          30372,
          41120,
          77981,
          59481,
          72117,
          67131,
          71853,
          70596,
          42664,
          42586,
          29760,
          64590,
          71232,
          34600,
          46904,
          49094,
          36075,
          77298,
          34026,
          37697,
          34074,
          62535,
          63404,
          78416,
          75702,
          37070,
          44689,
          53977,
          18701,
          90369,
          37758,
          63207,
          72071,
          72282,
          50387,
          62568,
          63967,
          25293,
          78394,
          29236,
          44911,
          48186,
          54809,
          41580,
          47743,
          30093,
          25008,
          22280,
          64260,
          54006,
          61825,
          70886,
          69109,
          60208,
          34738,
          69932,
          44503,
          49638,
          72905,
          70300,
          52413,
          76532,
          42081,
          31158,
          61671,
          69719,
          49160,
          22148,
          29819,
          45688,
          62820,
          33235,
          35701,
          67384,
          77870,
          57107,
          18929,
          20180,
          91249,
          80982,
          70617,
          64849,
          75903,
          25410,
          28320,
          23763,
          72570,
          70792,
          63211,
          36065,
          39898,
          56939,
          80872,
          29478,
          46998,
          96843,
          44359,
          40887,
          48877,
          74485,
          64474,
          77226,
          72643,
          55686,
          39062,
          34600,
          40794,
          4428,
          36781,
          24570,
          94642,
          53201,
          21994,
          57113,
          51373,
          23477,
          58116,
          94472,
          13672,
          79205,
          24206,
          22979,
          33279,
          30368,
          63684,
          41638,
          71964,
          39146,
          96876,
          68281,
          36790,
          27943,
          22263,
          30261,
          28587,
          48195,
          29672,
          23272,
          67225,
          17649,
          55914,
          40059,
          60905,
          75330,
          60689,
          38680,
          61416,
          49767,
          83273,
          29009,
          37150,
          43020,
          53154,
          65308,
          76467,
          32871,
          55801,
          76320,
          48794,
          23478,
          71128,
          59462,
          38361,
          42554,
          67445,
          67046,
          42192,
          31761,
          34350,
          54591,
          71866,
          25293,
          69520,
          64713,
          null,
          27803,
          null,
          51651,
          68487,
          56796,
          79823,
          30828,
          71322,
          79244,
          80144,
          54252,
          76068,
          72967,
          82332,
          58275,
          34587,
          25818,
          43586,
          50116,
          84906,
          61286,
          33590,
          30992,
          58692,
          40590,
          20587,
          19346,
          35788,
          36997,
          23539,
          65333,
          78499,
          69209,
          17148,
          40590,
          59686,
          62994,
          47320,
          72071,
          90000,
          41967,
          69263,
          60934,
          71965,
          65210,
          52914,
          38946,
          26067,
          42523,
          67716,
          40851,
          27469,
          73803,
          43322,
          55593,
          50501,
          37085,
          57731,
          73807,
          18929,
          35893,
          61014,
          32144,
          45146,
          88325,
          5305,
          36807,
          28427,
          22775,
          58025,
          58554,
          63777,
          57967,
          24434,
          11012,
          26816,
          666666,
          34421,
          61223,
          56981
         ]
        },
        {
         "marker": {
          "color": "#FFD700"
         },
         "name": "Graduation",
         "type": "box",
         "y": [
          58138,
          46344,
          71613,
          26646,
          55635,
          null,
          63033,
          17323,
          41850,
          37760,
          37040,
          2447,
          40689,
          18589,
          53359,
          null,
          38360,
          40548,
          42429,
          80011,
          21994,
          79941,
          41728,
          null,
          65486,
          35790,
          82582,
          66373,
          70287,
          27938,
          null,
          66653,
          61823,
          70666,
          25721,
          32474,
          69096,
          74854,
          65031,
          28332,
          40246,
          75825,
          56046,
          29760,
          26304,
          81361,
          29440,
          50388,
          79593,
          54178,
          null,
          30096,
          47916,
          51813,
          85693,
          87195,
          49096,
          52413,
          38557,
          77298,
          86037,
          50785,
          90765,
          21918,
          30992,
          101970,
          79607,
          62998,
          73448,
          null,
          86111,
          41883,
          59809,
          23957,
          38547,
          65747,
          34176,
          69372,
          49967,
          60199,
          55375,
          80317,
          23228,
          43482,
          62551,
          52332,
          66951,
          26091,
          33456,
          28718,
          50447,
          52074,
          38285,
          25271,
          61286,
          74068,
          38872,
          51148,
          31353,
          80067,
          86718,
          69142,
          75922,
          63693,
          29604,
          44794,
          64497,
          46097,
          77972,
          70951,
          41443,
          69508,
          72460,
          63887,
          42011,
          51369,
          51537,
          37070,
          38590,
          15033,
          7500,
          73455,
          64961,
          22804,
          73687,
          61074,
          80134,
          75027,
          29938,
          102692,
          75702,
          45989,
          18701,
          15287,
          80124,
          72940,
          22070,
          69267,
          29315,
          33378,
          60714,
          51369,
          37760,
          30631,
          75278,
          79946,
          38361,
          82497,
          16626,
          29672,
          68627,
          35246,
          39747,
          23976,
          27038,
          77457,
          12571,
          22574,
          null,
          54198,
          40321,
          66503,
          30833,
          null,
          64795,
          34421,
          40464,
          62187,
          27255,
          24072,
          22010,
          62204,
          75693,
          30675,
          83003,
          68655,
          41411,
          82623,
          44300,
          84835,
          30372,
          71113,
          71952,
          72099,
          38643,
          50737,
          78618,
          28442,
          51479,
          54803,
          79530,
          31615,
          72025,
          48178,
          63810,
          22585,
          30279,
          30822,
          19986,
          27421,
          10245,
          63381,
          38823,
          90300,
          74293,
          43824,
          15345,
          23442,
          75276,
          42373,
          30507,
          48006,
          50437,
          53858,
          46923,
          75072,
          80134,
          91065,
          30096,
          48686,
          92910,
          75433,
          61314,
          42387,
          75236,
          30015,
          67272,
          28691,
          18100,
          30279,
          23295,
          81246,
          24027,
          57959,
          56796,
          65991,
          38988,
          50300,
          60597,
          70165,
          80124,
          33183,
          31880,
          53790,
          61456,
          37406,
          38415,
          20518,
          62503,
          41124,
          32233,
          43057,
          60093,
          14045,
          46310,
          76005,
          55563,
          65275,
          27203,
          53653,
          65665,
          81217,
          34935,
          61250,
          60152,
          48920,
          36443,
          26095,
          71367,
          30630,
          42691,
          70503,
          25545,
          32880,
          61839,
          72679,
          65316,
          28567,
          44931,
          76982,
          43638,
          54058,
          85620,
          47850,
          19514,
          21474,
          22419,
          43462,
          79908,
          87771,
          33039,
          81741,
          66565,
          47691,
          38200,
          44989,
          51287,
          13260,
          40689,
          39453,
          79800,
          53863,
          24221,
          33178,
          23910,
          31089,
          30081,
          62807,
          72906,
          42429,
          26150,
          81168,
          22574,
          45837,
          54162,
          31632,
          72298,
          13624,
          84196,
          70971,
          28769,
          83917,
          46102,
          84574,
          56181,
          73691,
          63381,
          45906,
          105471,
          66886,
          29103,
          67445,
          49431,
          153924,
          61278,
          56253,
          19986,
          58330,
          18690,
          66731,
          77353,
          26751,
          70337,
          68118,
          68743,
          38946,
          65777,
          61209,
          34824,
          45938,
          78468,
          78901,
          71427,
          71022,
          71952,
          43185,
          25252,
          33249,
          58398,
          50272,
          25851,
          58710,
          45160,
          59111,
          72190,
          7500,
          44794,
          80395,
          89891,
          66373,
          89694,
          72025,
          67432,
          62882,
          82224,
          83844,
          71163,
          33697,
          58330,
          80952,
          75507,
          58512,
          79146,
          75127,
          48726,
          74985,
          67430,
          72063,
          42720,
          33622,
          41452,
          72258,
          36283,
          20587,
          30467,
          31590,
          40780,
          16813,
          51267,
          46524,
          73926,
          19329,
          46984,
          34838,
          48192,
          55267,
          59666,
          72504,
          26872,
          21359,
          73170,
          30772,
          22507,
          65685,
          22063,
          57091,
          22419,
          87771,
          93404,
          37859,
          16529,
          48789,
          35441,
          71391,
          81702,
          56628,
          34026,
          40049,
          34176,
          19419,
          81205,
          49980,
          15072,
          49166,
          60474,
          55357,
          37758,
          23228,
          7500,
          53172,
          30545,
          62450,
          21675,
          80812,
          39922,
          24762,
          35797,
          36627,
          42243,
          51195,
          31814,
          76630,
          64090,
          78331,
          21846,
          81320,
          54137,
          66825,
          57100,
          58917,
          85072,
          86429,
          45684,
          47889,
          75114,
          95529,
          62820,
          72354,
          83033,
          77583,
          74293,
          46107,
          75127,
          71796,
          55239,
          82025,
          94384,
          68274,
          39771,
          59754,
          53700,
          59041,
          70647,
          50183,
          54753,
          92955,
          33471,
          44010,
          84219,
          83715,
          35704,
          53103,
          4861,
          63693,
          80763,
          75759,
          85683,
          64449,
          64587,
          34824,
          75437,
          26091,
          52845,
          46086,
          22434,
          36130,
          83844,
          19514,
          77568,
          30168,
          54165,
          32300,
          20180,
          34961,
          17345,
          28647,
          74538,
          91700,
          68695,
          79593,
          28071,
          47703,
          61180,
          38998,
          8028,
          76081,
          34728,
          35196,
          44529,
          70596,
          42557,
          72228,
          67605,
          65196,
          16860,
          83528,
          22304,
          67023,
          70713,
          59925,
          39722,
          46610,
          88347,
          66294,
          36715,
          79456,
          40479,
          54233,
          24163,
          43776,
          71367,
          61825,
          79803,
          56775,
          83829,
          38508,
          53187,
          30023,
          66480,
          76773,
          71819,
          70566,
          48526,
          46734,
          39552,
          86358,
          46931,
          25930,
          42693,
          85606,
          72903,
          49678,
          37155,
          63285,
          42162,
          54450,
          26576,
          68142,
          7500,
          83145,
          46049,
          56715,
          79410,
          57304,
          44375,
          54450,
          59594,
          80685,
          62710,
          35322,
          77142,
          81657,
          54386,
          28510,
          48070,
          43140,
          26954,
          22327,
          44393,
          58401,
          62307,
          54809,
          58113,
          15287,
          18351,
          36317,
          42213,
          65748,
          77044,
          74918,
          56721,
          42160,
          61559,
          34377,
          26228,
          40211,
          22518,
          44421,
          41986,
          28427,
          64722,
          84906,
          28691,
          44213,
          76624,
          1730,
          40521,
          65106,
          67433,
          74716,
          68118,
          74190,
          39356,
          76653,
          31454,
          47139,
          83829,
          19656,
          55956,
          38808,
          66303,
          40800,
          71847,
          46149,
          78687,
          33986,
          52531,
          15759,
          22804,
          57811,
          78569,
          7500,
          94384,
          44267,
          71626,
          60894,
          50200,
          65169,
          59868,
          47009,
          40321,
          37235,
          77382,
          37774,
          24711,
          27244,
          48752,
          71434,
          90842,
          51948,
          71853,
          40049,
          39660,
          50127,
          18929,
          33249,
          62061,
          70515,
          18227,
          69139,
          69109,
          69627,
          38136,
          80695,
          58554,
          53034,
          47025,
          37971,
          67267,
          57338,
          48904,
          56243,
          21355,
          null,
          20895,
          92344,
          44964,
          75507,
          22682,
          39996,
          26759,
          60544,
          65685,
          37716,
          36864,
          57045,
          80134,
          80589,
          34412,
          57537,
          51315,
          36026,
          24639,
          63810,
          18690,
          28164,
          31907,
          92533,
          34853,
          70844,
          60544,
          42523,
          39922,
          33402,
          21645,
          82657,
          51876,
          52852,
          46053,
          77343,
          73892,
          68695,
          43300,
          26290,
          93790,
          57957,
          16531,
          50725,
          83844,
          67419,
          34380,
          34704,
          65148,
          39898,
          60474,
          62807,
          19107,
          76998,
          87679,
          57867,
          35765,
          65492,
          32952,
          71706,
          68487,
          42014,
          53977,
          84219,
          73538,
          79529,
          51766,
          55759,
          33039,
          27242,
          69930,
          37697,
          3502,
          58597,
          28087,
          19740,
          9255,
          31928,
          65819,
          51983,
          30983,
          66033,
          63943,
          76081,
          67445,
          31859,
          27215,
          39922,
          24645,
          79865,
          44322,
          47958,
          75315,
          38998,
          42014,
          45203,
          34935,
          34633,
          82460,
          81361,
          61482,
          34968,
          75794,
          74268,
          36108,
          76445,
          44512,
          27116,
          71855,
          68655,
          64509,
          33955,
          31353,
          55434,
          28359,
          57100,
          69139,
          18793,
          50664,
          54414,
          19444,
          22775,
          50002,
          69755,
          44078,
          56386,
          58684,
          57136,
          22448,
          82014,
          34213,
          157146,
          72066,
          34916,
          64892,
          43602,
          86610,
          69016,
          27573,
          33228,
          70440,
          38232,
          49413,
          42231,
          56534,
          58350,
          81217,
          49090,
          18222,
          62335,
          61064,
          18358,
          52117,
          64813,
          83512,
          41154,
          80398,
          35196,
          60230,
          22108,
          44392,
          17688,
          90273,
          42586,
          71107,
          18690,
          37244,
          82427,
          70044,
          79146,
          77437,
          54984,
          55761,
          37292,
          70321,
          81795,
          69901,
          44989,
          30372,
          41120,
          77981,
          59481,
          72117,
          67131,
          71853,
          70596,
          42664,
          42586,
          29760,
          64590,
          71232,
          34600,
          46904,
          49094,
          36075,
          77298,
          34026,
          37697,
          34074,
          62535,
          63404,
          78416,
          75702,
          37070,
          44689,
          53977,
          18701,
          90369,
          37758,
          63207,
          72071,
          72282,
          50387,
          62568,
          63967,
          25293,
          78394,
          29236,
          44911,
          48186,
          54809,
          41580,
          47743,
          30093,
          25008,
          22280,
          64260,
          54006,
          61825,
          70886,
          69109,
          60208,
          34738,
          69932,
          44503,
          49638,
          72905,
          70300,
          52413,
          76532,
          42081,
          31158,
          61671,
          69719,
          49160,
          22148,
          29819,
          45688,
          62820,
          33235,
          35701,
          67384,
          77870,
          57107,
          18929,
          20180,
          91249,
          80982,
          70617,
          64849,
          75903,
          25410,
          28320,
          23763,
          72570,
          70792,
          63211,
          36065,
          39898,
          56939,
          80872,
          29478,
          46998,
          96843,
          44359,
          40887,
          48877,
          74485,
          64474,
          77226,
          72643,
          55686,
          39062,
          34600,
          40794,
          4428,
          36781,
          24570,
          94642,
          53201,
          21994,
          57113,
          51373,
          23477,
          58116,
          94472,
          13672,
          79205,
          24206,
          22979,
          33279,
          30368,
          63684,
          41638,
          71964,
          39146,
          96876,
          68281,
          36790,
          27943,
          22263,
          30261,
          28587,
          48195,
          29672,
          23272,
          67225,
          17649,
          55914,
          40059,
          60905,
          75330,
          60689,
          38680,
          61416,
          49767,
          83273,
          29009,
          37150,
          43020,
          53154,
          65308,
          76467,
          32871,
          55801,
          76320,
          48794,
          23478,
          71128,
          59462,
          38361,
          42554,
          67445,
          67046,
          42192,
          31761,
          34350,
          54591,
          71866,
          25293,
          69520,
          64713,
          null,
          27803,
          null,
          51651,
          68487,
          56796,
          79823,
          30828,
          71322,
          79244,
          80144,
          54252,
          76068,
          72967,
          82332,
          58275,
          34587,
          25818,
          43586,
          50116,
          84906,
          61286,
          33590,
          30992,
          58692,
          40590,
          20587,
          19346,
          35788,
          36997,
          23539,
          65333,
          78499,
          69209,
          17148,
          40590,
          59686,
          62994,
          47320,
          72071,
          90000,
          41967,
          69263,
          60934,
          71965,
          65210,
          52914,
          38946,
          26067,
          42523,
          67716,
          40851,
          27469,
          73803,
          43322,
          55593,
          50501,
          37085,
          57731,
          73807,
          18929,
          35893,
          61014,
          32144,
          45146,
          88325,
          5305,
          36807,
          28427,
          22775,
          58025,
          58554,
          63777,
          57967,
          24434,
          11012,
          26816,
          666666,
          34421,
          61223,
          56981
         ]
        },
        {
         "marker": {
          "color": "#778899"
         },
         "name": "Master",
         "type": "box",
         "y": [
          62513,
          59354,
          76995,
          10979,
          38620,
          68657,
          49389,
          20559,
          7500,
          79143,
          82384,
          75777,
          66991,
          75251,
          38620,
          36138,
          null,
          42394,
          89058,
          57288,
          56129,
          32557,
          19510,
          54348,
          61331,
          92859,
          65104,
          49605,
          59354,
          30523,
          66835,
          30477,
          69661,
          18890,
          48721,
          46014,
          83790,
          44551,
          23661,
          65176,
          31160,
          44159,
          43776,
          38179,
          31788,
          77882,
          63841,
          44319,
          50898,
          35416,
          55951,
          42386,
          80950,
          64100,
          42670,
          70893,
          28839,
          35178,
          33181,
          65073,
          29548,
          46098,
          36143,
          43795,
          62499,
          70777,
          49505,
          18492,
          82584,
          50943,
          51529,
          42618,
          36230,
          42207,
          55842,
          38961,
          37760,
          83151,
          65104,
          58308,
          59432,
          48330,
          50943,
          89120,
          81169,
          80184,
          73454,
          50353,
          57954,
          47352,
          22944,
          27159,
          81698,
          71499,
          29298,
          36959,
          54603,
          27450,
          61794,
          92163,
          69882,
          17459,
          42169,
          49618,
          21888,
          26877,
          45006,
          35791,
          30522,
          63120,
          77632,
          55282,
          78710,
          98777,
          14661,
          59247,
          42315,
          47570,
          61923,
          90247,
          41335,
          35178,
          55250,
          74806,
          75012,
          56962,
          70545,
          34941,
          40662,
          78285,
          62058,
          51124,
          17144,
          43783,
          62847,
          45183,
          61872,
          49681,
          56850,
          52750,
          49494,
          55284,
          38576,
          44602,
          43456,
          19485,
          61346,
          42835,
          86424,
          68092,
          51390,
          35641,
          73113,
          39858,
          24401,
          44051,
          46106,
          41021,
          80573,
          82576,
          56962,
          33462,
          42021,
          65569,
          34053,
          38196,
          59412,
          33564,
          46423,
          33168,
          33585,
          27100,
          62845,
          50014,
          75345,
          27590,
          98777,
          36262,
          52034,
          67381,
          10979,
          56129,
          21255,
          54197,
          66726,
          47353,
          33444,
          90638,
          78579,
          67369,
          43641,
          63841,
          70091,
          51412,
          66636,
          50965,
          54730,
          38452,
          55249,
          66000,
          73450,
          64191,
          57183,
          23748,
          37368,
          39767,
          83151,
          60033,
          157733,
          64857,
          45143,
          81843,
          46692,
          72828,
          6560,
          88097,
          35876,
          43263,
          62845,
          33316,
          75154,
          41335,
          35791,
          57420,
          null,
          46390,
          53761,
          63915,
          63841,
          44511,
          47352,
          67087,
          43142,
          27100,
          36408,
          78427,
          64866,
          28072,
          49476,
          64857,
          41020,
          70379,
          79419,
          49854,
          53253,
          54108,
          63206,
          57136,
          46098,
          37787,
          46098,
          59235,
          74881,
          42386,
          57530,
          37054,
          47175,
          49681,
          63972,
          90638,
          27161,
          60482,
          78093,
          45903,
          40442,
          45143,
          17144,
          53843,
          90226,
          70638,
          60432,
          52973,
          30560,
          35924,
          39228,
          58494,
          35544,
          36634,
          80141,
          78789,
          61787,
          73705,
          38452,
          58656,
          77520,
          16653,
          74881,
          66835,
          39763,
          47808,
          28520,
          36273,
          59385,
          79734,
          44635,
          33316,
          80739,
          22669,
          84953,
          27071,
          68148,
          65735,
          74290,
          58217,
          21024,
          32889,
          30538,
          33051,
          62772,
          88420,
          73395,
          31535,
          80573,
          77598,
          22701,
          62694,
          21059,
          29543,
          34242,
          34529,
          83891,
          70053,
          85738,
          31385,
          58646,
          39791,
          91712,
          46423,
          43815,
          77027,
          32765,
          49912,
          45057,
          36927,
          null,
          27889,
          null,
          null,
          34109,
          53367,
          49912,
          81929,
          53204,
          58646,
          48150,
          43018,
          45736,
          66476,
          72217,
          37509,
          72309,
          65487,
          62637,
          29435,
          41275,
          49572,
          30560,
          34176,
          91172,
          81380,
          76234,
          65487,
          89616,
          8820,
          38054,
          40101,
          75777,
          33562,
          44802,
          69245
         ]
        },
        {
         "marker": {
          "color": "#778899"
         },
         "name": "PhD",
         "type": "box",
         "y": [
          58293,
          33454,
          30351,
          5648,
          82800,
          58607,
          65324,
          84618,
          46610,
          67353,
          48948,
          null,
          72550,
          55954,
          67680,
          60631,
          null,
          23626,
          50150,
          34554,
          65846,
          68126,
          43974,
          null,
          77376,
          41551,
          62981,
          33762,
          35860,
          36921,
          68352,
          61010,
          70356,
          74165,
          157243,
          53537,
          80427,
          83837,
          38853,
          51650,
          32303,
          45759,
          66973,
          46854,
          102160,
          40637,
          44377,
          77622,
          30732,
          79930,
          34320,
          62745,
          79761,
          31686,
          67546,
          30899,
          63342,
          40737,
          69674,
          37717,
          38097,
          61905,
          66313,
          69867,
          65640,
          57912,
          46377,
          47025,
          64325,
          14849,
          54432,
          29999,
          33996,
          66334,
          83532,
          55212,
          59292,
          69759,
          60000,
          68462,
          46681,
          62187,
          37717,
          52614,
          38578,
          66426,
          33581,
          83664,
          51012,
          68682,
          55521,
          27213,
          65808,
          30351,
          66465,
          75865,
          37401,
          93027,
          84865,
          32011,
          56223,
          55707,
          50520,
          66582,
          75261,
          49269,
          56937,
          41644,
          62010,
          78825,
          78952,
          55614,
          78642,
          67911,
          64355,
          39665,
          44124,
          77863,
          49154,
          42710,
          84169,
          60504,
          54880,
          48799,
          52157,
          38443,
          64413,
          61996,
          47472,
          45207,
          39684,
          59973,
          61467,
          48240,
          162397,
          54456,
          34487,
          69084,
          65488,
          76140,
          62859,
          46463,
          50616,
          73059,
          46734,
          45068,
          29187,
          59304,
          52614,
          81300,
          65295,
          66476,
          86857,
          160803,
          77845,
          69476,
          50611,
          26518,
          35682,
          66375,
          76618,
          18988,
          35946,
          53593,
          45072,
          64108,
          48767,
          83443,
          51518,
          62220,
          38829,
          31626,
          78939,
          6835,
          40760,
          74250,
          71466,
          42564,
          82017,
          70421,
          82716,
          91820,
          65968,
          76412,
          80995,
          55412,
          56575,
          65324,
          30843,
          46374,
          57906,
          70123,
          86857,
          82072,
          46231,
          48948,
          55260,
          37087,
          45921,
          78420,
          52278,
          84169,
          74637,
          46015,
          34469,
          68397,
          79632,
          64950,
          32892,
          67536,
          60554,
          56067,
          51563,
          27922,
          52190,
          42767,
          16927,
          54237,
          52597,
          40233,
          34596,
          40706,
          65352,
          82170,
          35340,
          78028,
          95169,
          36930,
          36736,
          49187,
          28440,
          64504,
          56320,
          32173,
          37334,
          37126,
          77037,
          28764,
          69098,
          53312,
          42000,
          35860,
          65526,
          32892,
          87171,
          41014,
          84460,
          71691,
          85844,
          39190,
          38578,
          57236,
          76045,
          50870,
          54466,
          16269,
          33569,
          31605,
          36778,
          85696,
          33419,
          57744,
          57513,
          23091,
          40344,
          74214,
          54959,
          62000,
          31497,
          78075,
          84618,
          40451,
          33629,
          68682,
          33438,
          75032,
          61284,
          38197,
          37395,
          59062,
          27683,
          20427,
          69969,
          77766,
          55158,
          35860,
          90687,
          53378,
          45579,
          37633,
          57091,
          42997,
          48918,
          34043,
          81051,
          65695,
          27238,
          45503,
          71604,
          50150,
          85696,
          76542,
          62159,
          50611,
          56242,
          null,
          38887,
          29791,
          51039,
          36947,
          36957,
          69389,
          34578,
          54132,
          34596,
          43269,
          70038,
          40304,
          32727,
          38410,
          46015,
          41145,
          94871,
          59892,
          57072,
          64014,
          60585,
          42873,
          53374,
          49667,
          78931,
          87188,
          37401,
          82032,
          74004,
          69283,
          67786,
          71969,
          51411,
          70179,
          55517,
          75283,
          82800,
          38201,
          81574,
          35860,
          31497,
          52569,
          48432,
          36663,
          54072,
          65526,
          51717,
          54549,
          47111,
          41003,
          73059,
          42731,
          52854,
          46681,
          59821,
          64140,
          56551,
          25358,
          62670,
          50729,
          33996,
          63246,
          36732,
          69084,
          77766,
          37929,
          49544,
          22554,
          23536,
          18169,
          86580,
          41437,
          55012,
          38175,
          54222,
          55424,
          92491,
          82571,
          38513,
          46910,
          42403,
          45576,
          58086,
          80360,
          63342,
          51569,
          38725,
          36802,
          25509,
          51012,
          85431,
          28973,
          39435,
          42473,
          48918,
          7144,
          63159,
          46757,
          21840,
          32583,
          54111,
          54693,
          80336,
          57333,
          32313,
          86836,
          4023,
          57705,
          72159,
          82733,
          70116,
          69063,
          26642,
          60200,
          69702,
          70643,
          30396,
          50616,
          30298,
          44155,
          86979,
          67546,
          90933,
          113734,
          59292,
          45759,
          60491,
          52278,
          36038,
          34230,
          55212,
          61917,
          67472,
          54998,
          54356,
          73356,
          51141,
          72335,
          61798,
          76842,
          56551,
          71670,
          38236,
          25509,
          72968,
          56559,
          32644,
          28420,
          68805,
          65814,
          71322,
          68117,
          70179,
          null,
          70038,
          77610,
          42000,
          48699,
          67911,
          78128,
          44953,
          69805,
          82333,
          65220,
          156924,
          29732,
          63516,
          42769,
          58482,
          60896,
          31560,
          79174,
          48432,
          44325,
          84117,
          48432,
          82032,
          57642,
          64014,
          52869
         ]
        }
       ],
       "layout": {
        "barmode": "stack",
        "template": {
         "data": {
          "bar": [
           {
            "error_x": {
             "color": "#2a3f5f"
            },
            "error_y": {
             "color": "#2a3f5f"
            },
            "marker": {
             "line": {
              "color": "#E5ECF6",
              "width": 0.5
             },
             "pattern": {
              "fillmode": "overlay",
              "size": 10,
              "solidity": 0.2
             }
            },
            "type": "bar"
           }
          ],
          "barpolar": [
           {
            "marker": {
             "line": {
              "color": "#E5ECF6",
              "width": 0.5
             },
             "pattern": {
              "fillmode": "overlay",
              "size": 10,
              "solidity": 0.2
             }
            },
            "type": "barpolar"
           }
          ],
          "carpet": [
           {
            "aaxis": {
             "endlinecolor": "#2a3f5f",
             "gridcolor": "white",
             "linecolor": "white",
             "minorgridcolor": "white",
             "startlinecolor": "#2a3f5f"
            },
            "baxis": {
             "endlinecolor": "#2a3f5f",
             "gridcolor": "white",
             "linecolor": "white",
             "minorgridcolor": "white",
             "startlinecolor": "#2a3f5f"
            },
            "type": "carpet"
           }
          ],
          "choropleth": [
           {
            "colorbar": {
             "outlinewidth": 0,
             "ticks": ""
            },
            "type": "choropleth"
           }
          ],
          "contour": [
           {
            "colorbar": {
             "outlinewidth": 0,
             "ticks": ""
            },
            "colorscale": [
             [
              0,
              "#0d0887"
             ],
             [
              0.1111111111111111,
              "#46039f"
             ],
             [
              0.2222222222222222,
              "#7201a8"
             ],
             [
              0.3333333333333333,
              "#9c179e"
             ],
             [
              0.4444444444444444,
              "#bd3786"
             ],
             [
              0.5555555555555556,
              "#d8576b"
             ],
             [
              0.6666666666666666,
              "#ed7953"
             ],
             [
              0.7777777777777778,
              "#fb9f3a"
             ],
             [
              0.8888888888888888,
              "#fdca26"
             ],
             [
              1,
              "#f0f921"
             ]
            ],
            "type": "contour"
           }
          ],
          "contourcarpet": [
           {
            "colorbar": {
             "outlinewidth": 0,
             "ticks": ""
            },
            "type": "contourcarpet"
           }
          ],
          "heatmap": [
           {
            "colorbar": {
             "outlinewidth": 0,
             "ticks": ""
            },
            "colorscale": [
             [
              0,
              "#0d0887"
             ],
             [
              0.1111111111111111,
              "#46039f"
             ],
             [
              0.2222222222222222,
              "#7201a8"
             ],
             [
              0.3333333333333333,
              "#9c179e"
             ],
             [
              0.4444444444444444,
              "#bd3786"
             ],
             [
              0.5555555555555556,
              "#d8576b"
             ],
             [
              0.6666666666666666,
              "#ed7953"
             ],
             [
              0.7777777777777778,
              "#fb9f3a"
             ],
             [
              0.8888888888888888,
              "#fdca26"
             ],
             [
              1,
              "#f0f921"
             ]
            ],
            "type": "heatmap"
           }
          ],
          "heatmapgl": [
           {
            "colorbar": {
             "outlinewidth": 0,
             "ticks": ""
            },
            "colorscale": [
             [
              0,
              "#0d0887"
             ],
             [
              0.1111111111111111,
              "#46039f"
             ],
             [
              0.2222222222222222,
              "#7201a8"
             ],
             [
              0.3333333333333333,
              "#9c179e"
             ],
             [
              0.4444444444444444,
              "#bd3786"
             ],
             [
              0.5555555555555556,
              "#d8576b"
             ],
             [
              0.6666666666666666,
              "#ed7953"
             ],
             [
              0.7777777777777778,
              "#fb9f3a"
             ],
             [
              0.8888888888888888,
              "#fdca26"
             ],
             [
              1,
              "#f0f921"
             ]
            ],
            "type": "heatmapgl"
           }
          ],
          "histogram": [
           {
            "marker": {
             "pattern": {
              "fillmode": "overlay",
              "size": 10,
              "solidity": 0.2
             }
            },
            "type": "histogram"
           }
          ],
          "histogram2d": [
           {
            "colorbar": {
             "outlinewidth": 0,
             "ticks": ""
            },
            "colorscale": [
             [
              0,
              "#0d0887"
             ],
             [
              0.1111111111111111,
              "#46039f"
             ],
             [
              0.2222222222222222,
              "#7201a8"
             ],
             [
              0.3333333333333333,
              "#9c179e"
             ],
             [
              0.4444444444444444,
              "#bd3786"
             ],
             [
              0.5555555555555556,
              "#d8576b"
             ],
             [
              0.6666666666666666,
              "#ed7953"
             ],
             [
              0.7777777777777778,
              "#fb9f3a"
             ],
             [
              0.8888888888888888,
              "#fdca26"
             ],
             [
              1,
              "#f0f921"
             ]
            ],
            "type": "histogram2d"
           }
          ],
          "histogram2dcontour": [
           {
            "colorbar": {
             "outlinewidth": 0,
             "ticks": ""
            },
            "colorscale": [
             [
              0,
              "#0d0887"
             ],
             [
              0.1111111111111111,
              "#46039f"
             ],
             [
              0.2222222222222222,
              "#7201a8"
             ],
             [
              0.3333333333333333,
              "#9c179e"
             ],
             [
              0.4444444444444444,
              "#bd3786"
             ],
             [
              0.5555555555555556,
              "#d8576b"
             ],
             [
              0.6666666666666666,
              "#ed7953"
             ],
             [
              0.7777777777777778,
              "#fb9f3a"
             ],
             [
              0.8888888888888888,
              "#fdca26"
             ],
             [
              1,
              "#f0f921"
             ]
            ],
            "type": "histogram2dcontour"
           }
          ],
          "mesh3d": [
           {
            "colorbar": {
             "outlinewidth": 0,
             "ticks": ""
            },
            "type": "mesh3d"
           }
          ],
          "parcoords": [
           {
            "line": {
             "colorbar": {
              "outlinewidth": 0,
              "ticks": ""
             }
            },
            "type": "parcoords"
           }
          ],
          "pie": [
           {
            "automargin": true,
            "type": "pie"
           }
          ],
          "scatter": [
           {
            "fillpattern": {
             "fillmode": "overlay",
             "size": 10,
             "solidity": 0.2
            },
            "type": "scatter"
           }
          ],
          "scatter3d": [
           {
            "line": {
             "colorbar": {
              "outlinewidth": 0,
              "ticks": ""
             }
            },
            "marker": {
             "colorbar": {
              "outlinewidth": 0,
              "ticks": ""
             }
            },
            "type": "scatter3d"
           }
          ],
          "scattercarpet": [
           {
            "marker": {
             "colorbar": {
              "outlinewidth": 0,
              "ticks": ""
             }
            },
            "type": "scattercarpet"
           }
          ],
          "scattergeo": [
           {
            "marker": {
             "colorbar": {
              "outlinewidth": 0,
              "ticks": ""
             }
            },
            "type": "scattergeo"
           }
          ],
          "scattergl": [
           {
            "marker": {
             "colorbar": {
              "outlinewidth": 0,
              "ticks": ""
             }
            },
            "type": "scattergl"
           }
          ],
          "scattermapbox": [
           {
            "marker": {
             "colorbar": {
              "outlinewidth": 0,
              "ticks": ""
             }
            },
            "type": "scattermapbox"
           }
          ],
          "scatterpolar": [
           {
            "marker": {
             "colorbar": {
              "outlinewidth": 0,
              "ticks": ""
             }
            },
            "type": "scatterpolar"
           }
          ],
          "scatterpolargl": [
           {
            "marker": {
             "colorbar": {
              "outlinewidth": 0,
              "ticks": ""
             }
            },
            "type": "scatterpolargl"
           }
          ],
          "scatterternary": [
           {
            "marker": {
             "colorbar": {
              "outlinewidth": 0,
              "ticks": ""
             }
            },
            "type": "scatterternary"
           }
          ],
          "surface": [
           {
            "colorbar": {
             "outlinewidth": 0,
             "ticks": ""
            },
            "colorscale": [
             [
              0,
              "#0d0887"
             ],
             [
              0.1111111111111111,
              "#46039f"
             ],
             [
              0.2222222222222222,
              "#7201a8"
             ],
             [
              0.3333333333333333,
              "#9c179e"
             ],
             [
              0.4444444444444444,
              "#bd3786"
             ],
             [
              0.5555555555555556,
              "#d8576b"
             ],
             [
              0.6666666666666666,
              "#ed7953"
             ],
             [
              0.7777777777777778,
              "#fb9f3a"
             ],
             [
              0.8888888888888888,
              "#fdca26"
             ],
             [
              1,
              "#f0f921"
             ]
            ],
            "type": "surface"
           }
          ],
          "table": [
           {
            "cells": {
             "fill": {
              "color": "#EBF0F8"
             },
             "line": {
              "color": "white"
             }
            },
            "header": {
             "fill": {
              "color": "#C8D4E3"
             },
             "line": {
              "color": "white"
             }
            },
            "type": "table"
           }
          ]
         },
         "layout": {
          "annotationdefaults": {
           "arrowcolor": "#2a3f5f",
           "arrowhead": 0,
           "arrowwidth": 1
          },
          "autotypenumbers": "strict",
          "coloraxis": {
           "colorbar": {
            "outlinewidth": 0,
            "ticks": ""
           }
          },
          "colorscale": {
           "diverging": [
            [
             0,
             "#8e0152"
            ],
            [
             0.1,
             "#c51b7d"
            ],
            [
             0.2,
             "#de77ae"
            ],
            [
             0.3,
             "#f1b6da"
            ],
            [
             0.4,
             "#fde0ef"
            ],
            [
             0.5,
             "#f7f7f7"
            ],
            [
             0.6,
             "#e6f5d0"
            ],
            [
             0.7,
             "#b8e186"
            ],
            [
             0.8,
             "#7fbc41"
            ],
            [
             0.9,
             "#4d9221"
            ],
            [
             1,
             "#276419"
            ]
           ],
           "sequential": [
            [
             0,
             "#0d0887"
            ],
            [
             0.1111111111111111,
             "#46039f"
            ],
            [
             0.2222222222222222,
             "#7201a8"
            ],
            [
             0.3333333333333333,
             "#9c179e"
            ],
            [
             0.4444444444444444,
             "#bd3786"
            ],
            [
             0.5555555555555556,
             "#d8576b"
            ],
            [
             0.6666666666666666,
             "#ed7953"
            ],
            [
             0.7777777777777778,
             "#fb9f3a"
            ],
            [
             0.8888888888888888,
             "#fdca26"
            ],
            [
             1,
             "#f0f921"
            ]
           ],
           "sequentialminus": [
            [
             0,
             "#0d0887"
            ],
            [
             0.1111111111111111,
             "#46039f"
            ],
            [
             0.2222222222222222,
             "#7201a8"
            ],
            [
             0.3333333333333333,
             "#9c179e"
            ],
            [
             0.4444444444444444,
             "#bd3786"
            ],
            [
             0.5555555555555556,
             "#d8576b"
            ],
            [
             0.6666666666666666,
             "#ed7953"
            ],
            [
             0.7777777777777778,
             "#fb9f3a"
            ],
            [
             0.8888888888888888,
             "#fdca26"
            ],
            [
             1,
             "#f0f921"
            ]
           ]
          },
          "colorway": [
           "#636efa",
           "#EF553B",
           "#00cc96",
           "#ab63fa",
           "#FFA15A",
           "#19d3f3",
           "#FF6692",
           "#B6E880",
           "#FF97FF",
           "#FECB52"
          ],
          "font": {
           "color": "#2a3f5f"
          },
          "geo": {
           "bgcolor": "white",
           "lakecolor": "white",
           "landcolor": "#E5ECF6",
           "showlakes": true,
           "showland": true,
           "subunitcolor": "white"
          },
          "hoverlabel": {
           "align": "left"
          },
          "hovermode": "closest",
          "mapbox": {
           "style": "light"
          },
          "paper_bgcolor": "white",
          "plot_bgcolor": "#E5ECF6",
          "polar": {
           "angularaxis": {
            "gridcolor": "white",
            "linecolor": "white",
            "ticks": ""
           },
           "bgcolor": "#E5ECF6",
           "radialaxis": {
            "gridcolor": "white",
            "linecolor": "white",
            "ticks": ""
           }
          },
          "scene": {
           "xaxis": {
            "backgroundcolor": "#E5ECF6",
            "gridcolor": "white",
            "gridwidth": 2,
            "linecolor": "white",
            "showbackground": true,
            "ticks": "",
            "zerolinecolor": "white"
           },
           "yaxis": {
            "backgroundcolor": "#E5ECF6",
            "gridcolor": "white",
            "gridwidth": 2,
            "linecolor": "white",
            "showbackground": true,
            "ticks": "",
            "zerolinecolor": "white"
           },
           "zaxis": {
            "backgroundcolor": "#E5ECF6",
            "gridcolor": "white",
            "gridwidth": 2,
            "linecolor": "white",
            "showbackground": true,
            "ticks": "",
            "zerolinecolor": "white"
           }
          },
          "shapedefaults": {
           "line": {
            "color": "#2a3f5f"
           }
          },
          "ternary": {
           "aaxis": {
            "gridcolor": "white",
            "linecolor": "white",
            "ticks": ""
           },
           "baxis": {
            "gridcolor": "white",
            "linecolor": "white",
            "ticks": ""
           },
           "bgcolor": "#E5ECF6",
           "caxis": {
            "gridcolor": "white",
            "linecolor": "white",
            "ticks": ""
           }
          },
          "title": {
           "x": 0.05
          },
          "xaxis": {
           "automargin": true,
           "gridcolor": "white",
           "linecolor": "white",
           "ticks": "",
           "title": {
            "standoff": 15
           },
           "zerolinecolor": "white",
           "zerolinewidth": 2
          },
          "yaxis": {
           "automargin": true,
           "gridcolor": "white",
           "linecolor": "white",
           "ticks": "",
           "title": {
            "standoff": 15
           },
           "zerolinecolor": "white",
           "zerolinewidth": 2
          }
         }
        },
        "title": {
         "font": {
          "color": "#0e78a3",
          "family": "Gotham",
          "size": 25
         },
         "text": " Quantidade de pessoas por nível educacional"
        },
        "xaxis": {
         "title": {
          "text": "Nivel Educacional"
         }
        },
        "yaxis": {
         "title": {
          "text": "Quantidade de pessoas (%)"
         }
        }
       }
      }
     },
     "metadata": {},
     "output_type": "display_data"
    }
   ],
   "source": [
    "# Criando o Gráfico com o graph_objs\n",
    "boxplot_2ncycle = go.Box(\n",
    "    y= df.loc[df['Education'] == '2n Cycle', 'Income'],\n",
    "    marker = {'color': '#00CED1'}, name = '2n Cycle'\n",
    ")\n",
    "\n",
    "boxplot_basic = go.Box(\n",
    "    y= df.loc[df['Education'] == 'Graduation', 'Income'],\n",
    "    marker = {'color': '#FF6F61'}, name = 'Basic'\n",
    ")\n",
    "\n",
    "boxplot_graduation = go.Box(\n",
    "    y = df.loc [df['Education'] == 'Graduation', 'Income'],\n",
    "    marker = { 'color': '#FFD700'}, name = 'Graduation'\n",
    ")\n",
    "\n",
    "boxplot_master = go.Box(\n",
    "    y = df.loc[df['Education'] == 'Master', 'Income'],\n",
    "    marker= {'color': '#778899'}, name = 'Master'\n",
    ")\n",
    "\n",
    "boxplot_pdh = go.Box (\n",
    "    y= df.loc[df['Education'] == 'PhD', 'Income'],\n",
    "    marker = {'color': '#778899'}, name = 'PhD'\n",
    ")\n",
    "\n",
    "#definindo Layout\n",
    "\n",
    "layout = go.Layout (\n",
    "    title = ' Quantidade de pessoas por nível educacional',\n",
    "    #configurações do título\n",
    "    title_font= {'family':'Gotham', 'size':25, 'color': '#0e78a3'},\n",
    "    xaxis = { 'title': 'Nivel Educacional'},\n",
    "    yaxis = { 'title': 'Quantidade de pessoas (%)'},\n",
    "    barmode = 'stack'\n",
    ")\n",
    "\n",
    "# Criando a figura\n",
    "fig =  go.Figure(\n",
    "    data = [ boxplot_2ncycle, boxplot_basic, boxplot_graduation, boxplot_master, boxplot_pdh],\n",
    "    layout= layout\n",
    ")\n",
    "\n",
    "#plotando o gráfico\n",
    "py.iplot(fig)"
   ]
  },
  {
   "cell_type": "code",
   "execution_count": null,
   "metadata": {},
   "outputs": [],
   "source": []
  }
 ],
 "metadata": {
  "kernelspec": {
   "display_name": "base",
   "language": "python",
   "name": "python3"
  },
  "language_info": {
   "codemirror_mode": {
    "name": "ipython",
    "version": 3
   },
   "file_extension": ".py",
   "mimetype": "text/x-python",
   "name": "python",
   "nbconvert_exporter": "python",
   "pygments_lexer": "ipython3",
   "version": "3.10.9"
  }
 },
 "nbformat": 4,
 "nbformat_minor": 2
}
