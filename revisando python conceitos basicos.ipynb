{
 "cells": [
  {
   "cell_type": "markdown",
   "metadata": {},
   "source": [
    "Exercitando o básico de Python.\n",
    "Criando uma variável para receber um valor qualquer, lembrando que a variável pode ser int, float, none, bool e strings."
   ]
  },
  {
   "cell_type": "code",
   "execution_count": 18,
   "metadata": {},
   "outputs": [
    {
     "name": "stdout",
     "output_type": "stream",
     "text": [
      "Seja bem vindo: Thiago\n"
     ]
    }
   ],
   "source": [
    "name = 'Thiago'\n",
    "\n",
    "print(f'Seja bem vindo: {name}')"
   ]
  },
  {
   "cell_type": "markdown",
   "metadata": {},
   "source": [
    "Testando função input "
   ]
  },
  {
   "cell_type": "code",
   "execution_count": 12,
   "metadata": {},
   "outputs": [
    {
     "name": "stdout",
     "output_type": "stream",
     "text": [
      "Seu nome é: , sua idade é: . Você confirma?\n"
     ]
    }
   ],
   "source": [
    "#criando inoput nome\n",
    "nome= input('Qual o seu nome?')\n",
    "#colocando input idade\n",
    "idade= input('Qual a sua idade?')\n",
    "#exibindo o nome e a idade do usuário\n",
    "print(f'Seu nome é: {nome}, sua idade é: {idade}. Você confirma?')"
   ]
  },
  {
   "cell_type": "code",
   "execution_count": 13,
   "metadata": {},
   "outputs": [
    {
     "name": "stdout",
     "output_type": "stream",
     "text": [
      "7\n",
      "3\n",
      "10\n",
      "2.5\n"
     ]
    }
   ],
   "source": [
    "x=5\n",
    "y=2\n",
    "\n",
    "print(x+y)\n",
    "print(x-y)\n",
    "print(x*y)\n",
    "print(x/y)"
   ]
  },
  {
   "cell_type": "code",
   "execution_count": 14,
   "metadata": {},
   "outputs": [
    {
     "name": "stdout",
     "output_type": "stream",
     "text": [
      "O valor de z é: 7\n"
     ]
    }
   ],
   "source": [
    "z= x+y\n",
    "x= 2\n",
    "y=3\n",
    "\n",
    "print(f'O valor de z é: {z}')"
   ]
  },
  {
   "cell_type": "code",
   "execution_count": 15,
   "metadata": {},
   "outputs": [
    {
     "name": "stdout",
     "output_type": "stream",
     "text": [
      "Entendeste?:  \n",
      "voce pode usar para quando sua frase contem citações tipo, fulana disse: \"nao vai a praia fulana\"\n",
      "\n"
     ]
    }
   ],
   "source": [
    "frase1= ''' \n",
    "voce pode usar para quando sua frase contem citações tipo, fulana disse: \"nao vai a praia fulana\"\n",
    "'''\n",
    "print(f'Entendeste?: {frase1}')"
   ]
  },
  {
   "cell_type": "code",
   "execution_count": 16,
   "metadata": {},
   "outputs": [
    {
     "name": "stdout",
     "output_type": "stream",
     "text": [
      "Seja bem vinda,, você tem , você ganha em média \n"
     ]
    }
   ],
   "source": [
    "nome=input('Qual o seu nome?') #quero que o user me retorna uma string\n",
    "idade=input('Qual sua idade?') # quero que o user me retorne um int\n",
    "salario= input('Qual seu salario?') # quero que o user me retorne um float\n",
    "\n",
    "print(f'Seja bem vinda,{nome}, você tem {idade}, você ganha em média {salario}')\n",
    "\n",
    "#vai ser exibido por que são strings, o maior problema vai ser na hora de fazer calculos tipo\n",
    "\n",
    "\n"
   ]
  },
  {
   "cell_type": "markdown",
   "metadata": {},
   "source": [
    "Você pode converter de várias formas, usando format, type etc... mas nesse caso você pode simplesmente delimitar no input o tipo de dado que o usuário irá inserir, e já trabalhar com todas variaveis dos calculos separadamente, e dai não será necessário fazer tudo isso como está descrito no passo do curso de python do clube de assinatura de ciencia de dados."
   ]
  },
  {
   "cell_type": "code",
   "execution_count": 19,
   "metadata": {},
   "outputs": [
    {
     "name": "stdout",
     "output_type": "stream",
     "text": [
      "seu salario por hora é: 58.8235294117647\n"
     ]
    }
   ],
   "source": [
    "salario= float(input('Qual seu salario?')) # quero que o user me retorne um float\n",
    "carga_horaria= int(input(' Quantas horas você trabalha por semana?')) \n",
    "\n",
    "#calcular salario por hora12\n",
    "salario_hora= salario / carga_horaria\n",
    "\n",
    "print(f'seu salario por hora é: {salario_hora}')"
   ]
  },
  {
   "cell_type": "markdown",
   "metadata": {},
   "source": []
  }
 ],
 "metadata": {
  "kernelspec": {
   "display_name": "Python 3",
   "language": "python",
   "name": "python3"
  },
  "language_info": {
   "codemirror_mode": {
    "name": "ipython",
    "version": 3
   },
   "file_extension": ".py",
   "mimetype": "text/x-python",
   "name": "python",
   "nbconvert_exporter": "python",
   "pygments_lexer": "ipython3",
   "version": "3.12.undefined"
  }
 },
 "nbformat": 4,
 "nbformat_minor": 2
}
